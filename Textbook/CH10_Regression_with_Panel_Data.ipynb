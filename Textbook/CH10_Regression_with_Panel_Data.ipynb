{
  "nbformat": 4,
  "nbformat_minor": 0,
  "metadata": {
    "colab": {
      "name": "CH10_Regression with Panel Data.ipynb",
      "provenance": [],
      "collapsed_sections": [],
      "toc_visible": true,
      "authorship_tag": "ABX9TyMDa8nWmwZRVRLwVNwysxwT",
      "include_colab_link": true
    },
    "kernelspec": {
      "name": "python3",
      "display_name": "Python 3"
    },
    "language_info": {
      "name": "python"
    }
  },
  "cells": [
    {
      "cell_type": "markdown",
      "metadata": {
        "id": "view-in-github",
        "colab_type": "text"
      },
      "source": [
        "<a href=\"https://colab.research.google.com/github/p09323028/2020f_NTU_Econometrics_I/blob/main/Textbook/CH10_Regression_with_Panel_Data.ipynb\" target=\"_parent\"><img src=\"https://colab.research.google.com/assets/colab-badge.svg\" alt=\"Open In Colab\"/></a>"
      ]
    },
    {
      "cell_type": "markdown",
      "metadata": {
        "id": "OEZ9uHRhDDXd"
      },
      "source": [
        "# **Chapter 10: Regression with Panel Data**\n",
        "Author: Jinze Wu\n",
        "\n",
        "Student Number: p09323028"
      ]
    },
    {
      "cell_type": "markdown",
      "metadata": {
        "id": "-vCXJ85JP7rT"
      },
      "source": [
        "前置作業:\n",
        "- import 套件\n",
        "- 載入資料\n",
        "- 讀取資料\n",
        "- 設置變數"
      ]
    },
    {
      "cell_type": "code",
      "metadata": {
        "id": "a4-mzhjhDbLE"
      },
      "source": [
        "import pandas as pd\n",
        "import numpy as np\n",
        "import scipy.stats\n",
        "import matplotlib.pyplot as plt\n",
        "import statsmodels.formula.api as smf"
      ],
      "execution_count": null,
      "outputs": []
    },
    {
      "cell_type": "code",
      "metadata": {
        "id": "amKSZTlxEMof"
      },
      "source": [
        "!gdown --id '12vDxU458QwhxiXHL_c60InwH-DiJR7jL' --output fatality.xlsx\n",
        "!gdown --id '1rG7gAPSyNigLhyavwfb9Hj9Th647ZSuG' --output fatality.pdf"
      ],
      "execution_count": null,
      "outputs": []
    },
    {
      "cell_type": "code",
      "metadata": {
        "id": "SxklyeJ_EYBk"
      },
      "source": [
        "fatality = pd.read_excel('fatality.xlsx')"
      ],
      "execution_count": null,
      "outputs": []
    },
    {
      "cell_type": "code",
      "metadata": {
        "colab": {
          "base_uri": "https://localhost:8080/"
        },
        "id": "VVlp7Fx1aBJD",
        "outputId": "7057ef10-fe92-4726-bcc5-061719e58212"
      },
      "source": [
        "fatality.year.describe()"
      ],
      "execution_count": null,
      "outputs": [
        {
          "output_type": "execute_result",
          "data": {
            "text/plain": [
              "count     336.000000\n",
              "mean     1985.000000\n",
              "std         2.002983\n",
              "min      1982.000000\n",
              "25%      1983.000000\n",
              "50%      1985.000000\n",
              "75%      1987.000000\n",
              "max      1988.000000\n",
              "Name: year, dtype: float64"
            ]
          },
          "metadata": {
            "tags": []
          },
          "execution_count": 329
        }
      ]
    },
    {
      "cell_type": "code",
      "metadata": {
        "colab": {
          "base_uri": "https://localhost:8080/"
        },
        "id": "H9NTUVOiaIDF",
        "outputId": "aed2f1b3-a8e7-4f1a-b621-fdd602c3ba1d"
      },
      "source": [
        "fatality.state.describe()"
      ],
      "execution_count": null,
      "outputs": [
        {
          "output_type": "execute_result",
          "data": {
            "text/plain": [
              "count    336.000000\n",
              "mean      30.187500\n",
              "std       15.309853\n",
              "min        1.000000\n",
              "25%       18.750000\n",
              "50%       30.500000\n",
              "75%       42.500000\n",
              "max       56.000000\n",
              "Name: state, dtype: float64"
            ]
          },
          "metadata": {
            "tags": []
          },
          "execution_count": 330
        }
      ]
    },
    {
      "cell_type": "code",
      "metadata": {
        "id": "sp5pzg_VaPTj"
      },
      "source": [
        "# year dummies\n",
        "fatality['y82'] = fatality.year.apply(lambda x: 1 if x == 1982 else 0)\n",
        "fatality['y83'] = fatality.year.apply(lambda x: 1 if x == 1983 else 0)\n",
        "fatality['y84'] = fatality.year.apply(lambda x: 1 if x == 1984 else 0)\n",
        "fatality['y85'] = fatality.year.apply(lambda x: 1 if x == 1985 else 0)\n",
        "fatality['y86'] = fatality.year.apply(lambda x: 1 if x == 1986 else 0)\n",
        "fatality['y87'] = fatality.year.apply(lambda x: 1 if x == 1987 else 0)\n",
        "fatality['y88'] = fatality.year.apply(lambda x: 1 if x == 1988 else 0)\n",
        "# minimum legal drinking age\n",
        "fatality['da18'] = fatality.mlda.apply(lambda x: 1 if x<19 else 0)\n",
        "fatality['da19'] = fatality.mlda.apply(lambda x: 1 if (x>=19)&(x<20) else 0)\n",
        "fatality['da20'] = fatality.mlda.apply(lambda x: 1 if (x>=20)&(x<21) else 0)\n",
        "fatality['da21'] = fatality.mlda.apply(lambda x: 1 if x>21 else 0)\n",
        "# fatality rate per 10,000 in the population\n",
        "fatality['vfrall'] = fatality.mrall * 10000\n",
        "\n",
        "fatality['incperc'] = fatality.perinc / 1000\n",
        "fatality['lincperc'] = np.log(fatality.incperc)\n",
        "fatality['vmilespd'] = fatality.vmiles / 1000\n",
        "fatality['frmall'] = fatality.mrall / (fatality.vmiles / 100000)\n",
        "\n",
        "fatality['jailcom'] = fatality.jaild + fatality.comserd\n",
        "fatality['jailcom'] = fatality.jailcom.apply(lambda x: 1 if x>0 else 0)\n",
        "# fatality['mjailcom'] = fatality.jaild * fatality.comserd\n",
        "# fatality['jailcom'] = fatality.jailcom + fatality.mjailcom"
      ],
      "execution_count": null,
      "outputs": []
    },
    {
      "cell_type": "markdown",
      "metadata": {
        "id": "z9-GATbUFC_c"
      },
      "source": [
        "## **10.1 Panel Data**"
      ]
    },
    {
      "cell_type": "markdown",
      "metadata": {
        "id": "aDF_JNsO8Usj"
      },
      "source": [
        "### Equation 10.2\n",
        "$\\widehat{FatalityRate} = \\underset{(0.15)}{2.01} + \\underset{(0.13)}{0.15} BeerTax $  (1982 data)"
      ]
    },
    {
      "cell_type": "code",
      "metadata": {
        "colab": {
          "base_uri": "https://localhost:8080/"
        },
        "id": "ZgeSrTCvpC8n",
        "outputId": "96dd79c3-fe65-40d1-a084-60949bf2c4b3"
      },
      "source": [
        "reg_10_2 = smf.ols(formula='vfrall~beertax', data=fatality[fatality.year==1982])\n",
        "results_10_2 = reg_10_2.fit(cov_type='HC1', use_t=True)\n",
        "print(results_10_2.summary())"
      ],
      "execution_count": null,
      "outputs": [
        {
          "output_type": "stream",
          "text": [
            "                            OLS Regression Results                            \n",
            "==============================================================================\n",
            "Dep. Variable:                 vfrall   R-squared:                       0.013\n",
            "Model:                            OLS   Adj. R-squared:                 -0.008\n",
            "Method:                 Least Squares   F-statistic:                     1.253\n",
            "Date:                Wed, 14 Apr 2021   Prob (F-statistic):              0.269\n",
            "Time:                        08:17:46   Log-Likelihood:                -47.899\n",
            "No. Observations:                  48   AIC:                             99.80\n",
            "Df Residuals:                      46   BIC:                             103.5\n",
            "Df Model:                           1                                         \n",
            "Covariance Type:                  HC1                                         \n",
            "==============================================================================\n",
            "                 coef    std err          t      P>|t|      [0.025      0.975]\n",
            "------------------------------------------------------------------------------\n",
            "Intercept      2.0104      0.150     13.441      0.000       1.709       2.311\n",
            "beertax        0.1485      0.133      1.120      0.269      -0.118       0.415\n",
            "==============================================================================\n",
            "Omnibus:                       17.902   Durbin-Watson:                   2.272\n",
            "Prob(Omnibus):                  0.000   Jarque-Bera (JB):               22.354\n",
            "Skew:                           1.346   Prob(JB):                     1.40e-05\n",
            "Kurtosis:                       4.983   Cond. No.                         2.63\n",
            "==============================================================================\n",
            "\n",
            "Warnings:\n",
            "[1] Standard Errors are heteroscedasticity robust (HC1)\n"
          ],
          "name": "stdout"
        }
      ]
    },
    {
      "cell_type": "markdown",
      "metadata": {
        "id": "ZoLsLfFW8pd0"
      },
      "source": [
        "### Equation 10.3\n",
        "$\\widehat{FatalityRate} = \\underset{(0.11)}{1.86} + \\underset{(0.13)}{0.44} BeerTax $  (1988 data)"
      ]
    },
    {
      "cell_type": "code",
      "metadata": {
        "colab": {
          "base_uri": "https://localhost:8080/"
        },
        "id": "nDg_kSRNpkeR",
        "outputId": "2f139a49-8916-441f-ba36-e76c68cc83b8"
      },
      "source": [
        "reg_10_3 = smf.ols(formula='vfrall~beertax', data=fatality[fatality.year==1988])\n",
        "results_10_3 = reg_10_3.fit(cov_type='HC1', use_t=True)\n",
        "print(results_10_3.summary())"
      ],
      "execution_count": null,
      "outputs": [
        {
          "output_type": "stream",
          "text": [
            "                            OLS Regression Results                            \n",
            "==============================================================================\n",
            "Dep. Variable:                 vfrall   R-squared:                       0.134\n",
            "Model:                            OLS   Adj. R-squared:                  0.115\n",
            "Method:                 Least Squares   F-statistic:                     11.77\n",
            "Date:                Wed, 14 Apr 2021   Prob (F-statistic):            0.00128\n",
            "Time:                        08:17:46   Log-Likelihood:                -32.871\n",
            "No. Observations:                  48   AIC:                             69.74\n",
            "Df Residuals:                      46   BIC:                             73.49\n",
            "Df Model:                           1                                         \n",
            "Covariance Type:                  HC1                                         \n",
            "==============================================================================\n",
            "                 coef    std err          t      P>|t|      [0.025      0.975]\n",
            "------------------------------------------------------------------------------\n",
            "Intercept      1.8591      0.115     16.221      0.000       1.628       2.090\n",
            "beertax        0.4388      0.128      3.431      0.001       0.181       0.696\n",
            "==============================================================================\n",
            "Omnibus:                        5.076   Durbin-Watson:                   2.311\n",
            "Prob(Omnibus):                  0.079   Jarque-Bera (JB):                4.414\n",
            "Skew:                           0.741   Prob(JB):                        0.110\n",
            "Kurtosis:                       3.112   Cond. No.                         2.95\n",
            "==============================================================================\n",
            "\n",
            "Warnings:\n",
            "[1] Standard Errors are heteroscedasticity robust (HC1)\n"
          ],
          "name": "stdout"
        }
      ]
    },
    {
      "cell_type": "markdown",
      "metadata": {
        "id": "aDi_219XWS-E"
      },
      "source": [
        "## **10.2 Panel Data with Two Time Periods: “Before and After” Comparisons**"
      ]
    },
    {
      "cell_type": "code",
      "metadata": {
        "id": "QxkYNDMEpvef"
      },
      "source": [
        "fatality['dvfrall'] = fatality.vfrall - fatality.vfrall.shift(6)\n",
        "fatality['dbtax'] = fatality.beertax - fatality.beertax.shift(6)\n",
        "fatality['dbda18'] = fatality.da18 - fatality.da18.shift(6)\n",
        "fatality['dbda19'] = fatality.da19 - fatality.da19.shift(6)\n",
        "fatality['dbda20'] = fatality.da20 - fatality.da20.shift(6)\n",
        "fatality['dbjailcom'] = fatality.jailcom - fatality.jailcom.shift(6)\n",
        "fatality['dbvmilespd'] = fatality.vmilespd - fatality.vmilespd.shift(6)\n",
        "fatality['dbunrate'] = fatality.unrate - fatality.unrate.shift(6)\n",
        "fatality['dblincperc'] = fatality.lincperc - fatality.lincperc.shift(6)"
      ],
      "execution_count": null,
      "outputs": []
    },
    {
      "cell_type": "markdown",
      "metadata": {
        "id": "nQXF5sR79EwC"
      },
      "source": [
        "### Equation 10.8\n",
        "$\\widehat{Diff}_{fatality} = \\underset{(0.065)}{-0.072} - \\underset{(0.36)}{1.04} \\widehat{Diff}_{beertax} $"
      ]
    },
    {
      "cell_type": "code",
      "metadata": {
        "colab": {
          "base_uri": "https://localhost:8080/"
        },
        "id": "BvQbdTptqLGo",
        "outputId": "a29c4a52-c163-44fd-bb47-4790e28c6d81"
      },
      "source": [
        "reg_10_8 = smf.ols(formula='dvfrall~dbtax', data=fatality[fatality.year==1988])\n",
        "results_10_8 = reg_10_8.fit(cov_type='HC1', use_t=True)\n",
        "print(results_10_8.summary())"
      ],
      "execution_count": null,
      "outputs": [
        {
          "output_type": "stream",
          "text": [
            "                            OLS Regression Results                            \n",
            "==============================================================================\n",
            "Dep. Variable:                dvfrall   R-squared:                       0.119\n",
            "Model:                            OLS   Adj. R-squared:                  0.100\n",
            "Method:                 Least Squares   F-statistic:                     8.598\n",
            "Date:                Wed, 14 Apr 2021   Prob (F-statistic):            0.00523\n",
            "Time:                        08:17:46   Log-Likelihood:                -22.383\n",
            "No. Observations:                  48   AIC:                             48.77\n",
            "Df Residuals:                      46   BIC:                             52.51\n",
            "Df Model:                           1                                         \n",
            "Covariance Type:                  HC1                                         \n",
            "==============================================================================\n",
            "                 coef    std err          t      P>|t|      [0.025      0.975]\n",
            "------------------------------------------------------------------------------\n",
            "Intercept     -0.0720      0.065     -1.102      0.276      -0.204       0.060\n",
            "dbtax         -1.0410      0.355     -2.932      0.005      -1.756      -0.326\n",
            "==============================================================================\n",
            "Omnibus:                       10.295   Durbin-Watson:                   2.408\n",
            "Prob(Omnibus):                  0.006   Jarque-Bera (JB):                9.784\n",
            "Skew:                          -1.017   Prob(JB):                      0.00751\n",
            "Kurtosis:                       3.867   Cond. No.                         7.36\n",
            "==============================================================================\n",
            "\n",
            "Warnings:\n",
            "[1] Standard Errors are heteroscedasticity robust (HC1)\n"
          ],
          "name": "stdout"
        }
      ]
    },
    {
      "cell_type": "markdown",
      "metadata": {
        "id": "YDFqVSg4WX7Z"
      },
      "source": [
        "## **10.3 Fixed Effects Regression**"
      ]
    },
    {
      "cell_type": "markdown",
      "metadata": {
        "id": "9AdYb_tT-Ztp"
      },
      "source": [
        "### Equation 10.15\n",
        "$\\widehat{FatalityRate} = \\underset{(0.29)}{-0.66} BeerTax + State\\_Fiexed\\_Effects$ "
      ]
    },
    {
      "cell_type": "code",
      "metadata": {
        "colab": {
          "base_uri": "https://localhost:8080/"
        },
        "id": "B-xtu3D-rt_e",
        "outputId": "756e24ce-1bbe-4c8e-a965-34bfad874a19"
      },
      "source": [
        "reg_10_15 = smf.ols(formula='vfrall~beertax+C(state)', data=fatality)\n",
        "results_10_15 = reg_10_15.fit(cov_type='cluster', use_t=True, cov_kwds={'groups':fatality['state'], 'use_correction':False})\n",
        "# print(results_10_15.summary())\n",
        "results_10_15t = results_10_15.t_test('beertax=0')\n",
        "print(results_10_15t.summary(xname=['beertax']))"
      ],
      "execution_count": null,
      "outputs": [
        {
          "output_type": "stream",
          "text": [
            "                             Test for Constraints                             \n",
            "==============================================================================\n",
            "                 coef    std err          t      P>|t|      [0.025      0.975]\n",
            "------------------------------------------------------------------------------\n",
            "beertax       -0.6559      0.288     -2.274      0.028      -1.236      -0.076\n",
            "==============================================================================\n"
          ],
          "name": "stdout"
        }
      ]
    },
    {
      "cell_type": "markdown",
      "metadata": {
        "id": "5M3zG8DbXCan"
      },
      "source": [
        "## **10.4 Regression with Time Fixed Effects**"
      ]
    },
    {
      "cell_type": "markdown",
      "metadata": {
        "id": "41GzM6EwFRHu"
      },
      "source": [
        "### Equation 10.21\n",
        "$\\widehat{FatalityRate} = \\underset{(0.35)}{-0.64} BeerTax + State\\_Fiexed\\_Effects + Time\\_Fiexed\\_Effects$ "
      ]
    },
    {
      "cell_type": "code",
      "metadata": {
        "colab": {
          "base_uri": "https://localhost:8080/"
        },
        "id": "nQMvoJB1_Izp",
        "outputId": "b88b2492-b70a-4cdd-d4c1-6d5a22f50b7b"
      },
      "source": [
        "reg_10_21 = smf.ols(formula='vfrall~beertax+C(state)+y82+y83+y84+y85+y86+y87', data=fatality)\n",
        "results_10_21 = reg_10_21.fit(cov_type='cluster', use_t=True, cov_kwds={'groups':fatality['state'], 'use_correction':False})\n",
        "# print(results_10_21.summary())\n",
        "results_10_21t = results_10_21.t_test('beertax=0')\n",
        "print(results_10_21t.summary(xname=['beertax']))"
      ],
      "execution_count": null,
      "outputs": [
        {
          "output_type": "stream",
          "text": [
            "                             Test for Constraints                             \n",
            "==============================================================================\n",
            "                 coef    std err          t      P>|t|      [0.025      0.975]\n",
            "------------------------------------------------------------------------------\n",
            "beertax       -0.6400      0.350     -1.830      0.074      -1.343       0.063\n",
            "==============================================================================\n"
          ],
          "name": "stdout"
        }
      ]
    },
    {
      "cell_type": "markdown",
      "metadata": {
        "id": "XIHiof8IG5xz"
      },
      "source": [
        "## **10.5 The Fixed Effects Regression Assumptions and Standard Errors for Fixed Effects Regression**"
      ]
    },
    {
      "cell_type": "markdown",
      "metadata": {
        "id": "ttY4fzRYL2Ze"
      },
      "source": [
        "### Table 10.1"
      ]
    },
    {
      "cell_type": "code",
      "metadata": {
        "colab": {
          "base_uri": "https://localhost:8080/"
        },
        "id": "xGCouFlVFxmq",
        "outputId": "c7cdf723-bb04-43b8-c45d-d076f2a99402"
      },
      "source": [
        "# Column(1)\n",
        "reg_t10_1_1 = smf.ols(formula='vfrall~beertax', data=fatality)\n",
        "results_t10_1_1 = reg_t10_1_1.fit(cov_type='HC1', use_t=True)\n",
        "results_t10_1_1t = results_t10_1_1.t_test('beertax=0')\n",
        "print(results_t10_1_1t.summary(xname=['beertax']))"
      ],
      "execution_count": null,
      "outputs": [
        {
          "output_type": "stream",
          "text": [
            "                             Test for Constraints                             \n",
            "==============================================================================\n",
            "                 coef    std err          t      P>|t|      [0.025      0.975]\n",
            "------------------------------------------------------------------------------\n",
            "beertax        0.3646      0.053      6.899      0.000       0.261       0.469\n",
            "==============================================================================\n"
          ],
          "name": "stdout"
        }
      ]
    },
    {
      "cell_type": "code",
      "metadata": {
        "colab": {
          "base_uri": "https://localhost:8080/"
        },
        "id": "pNzUCSLGGC5T",
        "outputId": "c0dba9a2-1aee-4a18-e1da-29a91e48f973"
      },
      "source": [
        "# Column(2)\n",
        "reg_t10_1_2 = smf.ols(formula='vfrall~beertax+C(state)', data=fatality)\n",
        "results_t10_1_2 = reg_t10_1_2.fit(cov_type='cluster', use_t=True, cov_kwds={'groups':fatality.state, 'use_correction':False})\n",
        "# print(results_t10_1_2.summary())\n",
        "results_t10_1_2t = results_t10_1_2.t_test('beertax=0')\n",
        "print(results_t10_1_2t.summary(xname=['beertax']))"
      ],
      "execution_count": null,
      "outputs": [
        {
          "output_type": "stream",
          "text": [
            "                             Test for Constraints                             \n",
            "==============================================================================\n",
            "                 coef    std err          t      P>|t|      [0.025      0.975]\n",
            "------------------------------------------------------------------------------\n",
            "beertax       -0.6559      0.288     -2.274      0.028      -1.236      -0.076\n",
            "==============================================================================\n"
          ],
          "name": "stdout"
        }
      ]
    },
    {
      "cell_type": "code",
      "metadata": {
        "colab": {
          "base_uri": "https://localhost:8080/"
        },
        "id": "fCEZzREpGUWv",
        "outputId": "58514fca-b814-422f-c814-a7058465dae4"
      },
      "source": [
        "# Column(3)\n",
        "reg_t10_1_3 = smf.ols(formula='vfrall~beertax+C(state)+y82+y83+y84+y85+y86+y87', data=fatality)\n",
        "results_t10_1_3 = reg_t10_1_3.fit(cov_type='cluster', use_t=True, cov_kwds={'groups':fatality.state, 'use_correction':False})\n",
        "# print(results_t10_1_3.summary())\n",
        "results_t10_1_3t = results_t10_1_3.t_test('beertax=0')\n",
        "print(results_t10_1_3t.summary(xname=['beertax']))"
      ],
      "execution_count": null,
      "outputs": [
        {
          "output_type": "stream",
          "text": [
            "                             Test for Constraints                             \n",
            "==============================================================================\n",
            "                 coef    std err          t      P>|t|      [0.025      0.975]\n",
            "------------------------------------------------------------------------------\n",
            "beertax       -0.6400      0.350     -1.830      0.074      -1.343       0.063\n",
            "==============================================================================\n"
          ],
          "name": "stdout"
        }
      ]
    },
    {
      "cell_type": "code",
      "metadata": {
        "colab": {
          "base_uri": "https://localhost:8080/"
        },
        "id": "Bvgum54yJ7Sq",
        "outputId": "76be3a35-c883-41ed-cb3f-3b06260f87ab"
      },
      "source": [
        "print('Time Effrcts = 0', results_t10_1_3.f_test(['y82=y83=y84=y85=y86=y87=0']))"
      ],
      "execution_count": null,
      "outputs": [
        {
          "output_type": "stream",
          "text": [
            "Time Effrcts = 0 <F test: F=array([[4.40037244]]), p=0.0013165178545498433, df_denom=47, df_num=6>\n"
          ],
          "name": "stdout"
        }
      ]
    },
    {
      "cell_type": "code",
      "metadata": {
        "colab": {
          "base_uri": "https://localhost:8080/"
        },
        "id": "hAFSAopaJldi",
        "outputId": "024cf53e-a350-4475-882d-868f550a0061"
      },
      "source": [
        "# Column(4)\n",
        "fatality.dropna(subset=['jailcom'], inplace=True)\n",
        "\n",
        "reg_t10_1_4 = smf.ols(formula='vfrall~beertax+C(state)+da18+da19+da20+jailcom+vmilespd+unrate+lincperc+y82+y83+y84+y85+y86+y87', data=fatality)\n",
        "results_t10_1_4 = reg_t10_1_4.fit(cov_type='cluster', use_t=True, cov_kwds={'groups':fatality.state, 'use_correction':False})\n",
        "# print(results_t10_1_4.summary())\n",
        "results_t10_1_4t = results_t10_1_4.t_test(['beertax=0','da18=0','da19=0','da20=0','jailcom=0','vmilespd=0','unrate=0','lincperc=0'])\n",
        "print(results_t10_1_4t.summary(xname=['beertax','Drinking age 18','Drinking age 19','Drinking age 20','Mandatory jail or community service?','Average vehicle miles per driver','Unemployment rate','Real income per capita (logarithm)']))"
      ],
      "execution_count": null,
      "outputs": [
        {
          "output_type": "stream",
          "text": [
            "                                          Test for Constraints                                          \n",
            "========================================================================================================\n",
            "                                           coef    std err          t      P>|t|      [0.025      0.975]\n",
            "--------------------------------------------------------------------------------------------------------\n",
            "beertax                                 -0.4466      0.288     -1.552      0.127      -1.025       0.132\n",
            "Drinking age 18                          0.0278      0.067      0.412      0.682      -0.108       0.163\n",
            "Drinking age 19                         -0.0185      0.048     -0.383      0.703      -0.116       0.079\n",
            "Drinking age 20                          0.0315      0.049      0.644      0.522      -0.067       0.130\n",
            "Mandatory jail or community service?     0.0384      0.100      0.385      0.702      -0.162       0.239\n",
            "Average vehicle miles per driver         0.0082      0.007      1.242      0.220      -0.005       0.022\n",
            "Unemployment rate                       -0.0632      0.013     -4.942      0.000      -0.089      -0.037\n",
            "Real income per capita (logarithm)       1.8161      0.616      2.950      0.005       0.578       3.055\n",
            "========================================================================================================\n"
          ],
          "name": "stdout"
        }
      ]
    },
    {
      "cell_type": "code",
      "metadata": {
        "colab": {
          "base_uri": "https://localhost:8080/"
        },
        "id": "dHNYa3OKKuNe",
        "outputId": "eb78e6fd-70e0-4ba6-e5ed-fbccca2c40e6"
      },
      "source": [
        "print('Time Effrcts = 0', results_t10_1_4.f_test(['y82=y83=y84=y85=y86=y87=0']))\n",
        "print('Drinking age coefficients = 0', results_t10_1_4.f_test(['da18=da19=da20=0']))\n",
        "print('Unemployment rate, income per capita = 0', results_t10_1_4.f_test(['unrate=lincperc=0']))"
      ],
      "execution_count": null,
      "outputs": [
        {
          "output_type": "stream",
          "text": [
            "Time Effrcts = 0 <F test: F=array([[10.79416841]]), p=1.6052501328402644e-07, df_denom=47, df_num=6>\n",
            "Drinking age coefficients = 0 <F test: F=array([[0.37648715]]), p=0.7703556566572782, df_denom=47, df_num=3>\n",
            "Unemployment rate, income per capita = 0 <F test: F=array([[31.57835564]]), p=2.0278791238613143e-09, df_denom=47, df_num=2>\n"
          ],
          "name": "stdout"
        }
      ]
    },
    {
      "cell_type": "code",
      "metadata": {
        "colab": {
          "base_uri": "https://localhost:8080/"
        },
        "id": "9hsySxMXR2Kj",
        "outputId": "b9b2d6c5-efb1-4f57-dabc-0499c536ced6"
      },
      "source": [
        "# Column(5)\n",
        "reg_t10_1_5 = smf.ols(formula='vfrall~beertax+C(state)+da18+da19+da20+jailcom+vmilespd+y82+y83+y84+y85+y86+y87', data=fatality)\n",
        "results_t10_1_5 = reg_t10_1_5.fit(cov_type='cluster', use_t=True, cov_kwds={'groups':fatality.state, 'use_correction':False})\n",
        "# print(results_t10_1_5.summary())\n",
        "results_t10_1_5t = results_t10_1_5.t_test(['beertax=0','da18=0','da19=0','da20=0','jailcom=0','vmilespd=0'])\n",
        "print(results_t10_1_5t.summary(xname=['beertax','Drinking age 18','Drinking age 19','Drinking age 20','Mandatory jail or community service?','Average vehicle miles per driver']))"
      ],
      "execution_count": null,
      "outputs": [
        {
          "output_type": "stream",
          "text": [
            "                                          Test for Constraints                                          \n",
            "========================================================================================================\n",
            "                                           coef    std err          t      P>|t|      [0.025      0.975]\n",
            "--------------------------------------------------------------------------------------------------------\n",
            "beertax                                 -0.6897      0.342     -2.018      0.049      -1.377      -0.002\n",
            "Drinking age 18                         -0.0102      0.080     -0.128      0.899      -0.171       0.150\n",
            "Drinking age 19                         -0.0756      0.066     -1.153      0.255      -0.207       0.056\n",
            "Drinking age 20                         -0.1000      0.054     -1.847      0.071      -0.209       0.009\n",
            "Mandatory jail or community service?     0.0853      0.108      0.787      0.435      -0.133       0.303\n",
            "Average vehicle miles per driver         0.0174      0.010      1.706      0.095      -0.003       0.038\n",
            "========================================================================================================\n"
          ],
          "name": "stdout"
        }
      ]
    },
    {
      "cell_type": "code",
      "metadata": {
        "colab": {
          "base_uri": "https://localhost:8080/"
        },
        "id": "8oIMoOm0SNJl",
        "outputId": "c76fb576-e84e-44d4-e30b-4c73a578b807"
      },
      "source": [
        "print('Time Effrcts = 0', results_t10_1_5.f_test(['y82=y83=y84=y85=y86=y87=0']))\n",
        "print('Drinking age coefficients = 0', results_t10_1_5.f_test(['da18=da19=da20=0']))"
      ],
      "execution_count": null,
      "outputs": [
        {
          "output_type": "stream",
          "text": [
            "Time Effrcts = 0 <F test: F=array([[3.69131516]]), p=0.004364814613814753, df_denom=47, df_num=6>\n",
            "Drinking age coefficients = 0 <F test: F=array([[1.49190782]]), p=0.22892030375174618, df_denom=47, df_num=3>\n"
          ],
          "name": "stdout"
        }
      ]
    },
    {
      "cell_type": "code",
      "metadata": {
        "colab": {
          "base_uri": "https://localhost:8080/"
        },
        "id": "PWgbWtt2SNAZ",
        "outputId": "975b6449-6296-44c1-b445-d991472d7282"
      },
      "source": [
        "# Column(6)\n",
        "reg_t10_1_6 = smf.ols(formula='vfrall~beertax+C(state)+mlda+jailcom+vmilespd+unrate+lincperc+y82+y83+y84+y85+y86+y87', data=fatality)\n",
        "results_t10_1_6 = reg_t10_1_6.fit(cov_type='cluster', use_t=True, cov_kwds={'groups':fatality.state, 'use_correction':False})\n",
        "# print(results_t10_1_6.summary())\n",
        "results_t10_1_6t = results_t10_1_6.t_test(['beertax=0','mlda=0','jailcom=0','vmilespd=0','unrate=0','lincperc=0'])\n",
        "print(results_t10_1_6t.summary(xname=['beertax','Drinking age','Mandatory jail or community service?','Average vehicle miles per driver','Unemployment rate','Real income per capita (logarithm)']))"
      ],
      "execution_count": null,
      "outputs": [
        {
          "output_type": "stream",
          "text": [
            "                                          Test for Constraints                                          \n",
            "========================================================================================================\n",
            "                                           coef    std err          t      P>|t|      [0.025      0.975]\n",
            "--------------------------------------------------------------------------------------------------------\n",
            "beertax                                 -0.4575      0.298     -1.536      0.131      -1.057       0.142\n",
            "Drinking age                            -0.0019      0.021     -0.091      0.928      -0.044       0.040\n",
            "Mandatory jail or community service?     0.0391      0.100      0.390      0.698      -0.163       0.241\n",
            "Average vehicle miles per driver         0.0090      0.007      1.301      0.200      -0.005       0.023\n",
            "Unemployment rate                       -0.0626      0.013     -4.876      0.000      -0.088      -0.037\n",
            "Real income per capita (logarithm)       1.7876      0.625      2.862      0.006       0.531       3.044\n",
            "========================================================================================================\n"
          ],
          "name": "stdout"
        }
      ]
    },
    {
      "cell_type": "code",
      "metadata": {
        "colab": {
          "base_uri": "https://localhost:8080/"
        },
        "id": "nowGHgIqSJcJ",
        "outputId": "890875c5-cf7a-44bf-a3d8-f0602dd0f4e9"
      },
      "source": [
        "print('Time Effrcts = 0', results_t10_1_6.f_test(['y82=y83=y84=y85=y86=y87=0']))\n",
        "print('Unemployment rate, income per capita = 0', results_t10_1_6.f_test(['unrate=lincperc=0']))"
      ],
      "execution_count": null,
      "outputs": [
        {
          "output_type": "stream",
          "text": [
            "Time Effrcts = 0 <F test: F=array([[10.89898078]]), p=1.4175903060169326e-07, df_denom=47, df_num=6>\n",
            "Unemployment rate, income per capita = 0 <F test: F=array([[33.86187051]]), p=7.806333499449792e-10, df_denom=47, df_num=2>\n"
          ],
          "name": "stdout"
        }
      ]
    },
    {
      "cell_type": "code",
      "metadata": {
        "colab": {
          "base_uri": "https://localhost:8080/"
        },
        "id": "-tG0zhmrVaH6",
        "outputId": "2efe285f-e654-4360-eb1c-e7e5f23cd043"
      },
      "source": [
        "# Column(7)\n",
        "did = fatality[fatality.year.isin([1982,1988])]\n",
        "\n",
        "reg_t10_1_7 = smf.ols(formula='vfrall~beertax+C(state)+da18+da19+da20+jailcom+vmilespd+unrate+lincperc+y82', data=did)\n",
        "results_t10_1_7 = reg_t10_1_7.fit(cov_type='cluster', use_t=True, cov_kwds={'groups':did.state, 'use_correction':False})\n",
        "# print(results_t10_1_7.summary())\n",
        "results_t10_1_7t = results_t10_1_7.t_test(['beertax=0','da18=0','da19=0','da20=0','jailcom=0','vmilespd=0','unrate=0','lincperc=0'])\n",
        "print(results_t10_1_7t.summary(xname=['beertax','Drinking age 18','Drinking age 19','Drinking age 20','Mandatory jail or community service?','Average vehicle miles per driver','Unemployment rate','Real income per capita (logarithm)']))"
      ],
      "execution_count": null,
      "outputs": [
        {
          "output_type": "stream",
          "text": [
            "                                          Test for Constraints                                          \n",
            "========================================================================================================\n",
            "                                           coef    std err          t      P>|t|      [0.025      0.975]\n",
            "--------------------------------------------------------------------------------------------------------\n",
            "beertax                                 -0.9243      0.320     -2.886      0.006      -1.569      -0.280\n",
            "Drinking age 18                          0.0381      0.095      0.401      0.690      -0.153       0.229\n",
            "Drinking age 19                         -0.0641      0.091     -0.703      0.485      -0.247       0.119\n",
            "Drinking age 20                         -0.1116      0.116     -0.962      0.341      -0.345       0.122\n",
            "Mandatory jail or community service?     0.0882      0.154      0.574      0.569      -0.221       0.398\n",
            "Average vehicle miles per driver         0.1246      0.046      2.723      0.009       0.033       0.217\n",
            "Unemployment rate                       -0.0908      0.020     -4.606      0.000      -0.131      -0.051\n",
            "Real income per capita (logarithm)       0.9966      0.636      1.566      0.124      -0.284       2.277\n",
            "========================================================================================================\n"
          ],
          "name": "stdout"
        }
      ]
    },
    {
      "cell_type": "code",
      "metadata": {
        "colab": {
          "base_uri": "https://localhost:8080/"
        },
        "id": "AQaLxve7Wzrd",
        "outputId": "1c313cd4-444b-44a4-cdff-30b8c7def9c3"
      },
      "source": [
        "print('Time Effrcts = 0', results_t10_1_7.f_test(['y82=0']))\n",
        "print('Drinking age coefficients = 0', results_t10_1_7.f_test(['da18=da19=da20=0']))\n",
        "print('Unemployment rate, income per capita = 0', results_t10_1_7.f_test(['unrate=lincperc=0']))"
      ],
      "execution_count": null,
      "outputs": [
        {
          "output_type": "stream",
          "text": [
            "Time Effrcts = 0 <F test: F=array([[42.53763607]]), p=4.345611309786781e-08, df_denom=47, df_num=1>\n",
            "Drinking age coefficients = 0 <F test: F=array([[0.47809789]]), p=0.6990536526400825, df_denom=47, df_num=3>\n",
            "Unemployment rate, income per capita = 0 <F test: F=array([[28.3258141]]), p=8.477360285941342e-09, df_denom=47, df_num=2>\n"
          ],
          "name": "stdout"
        }
      ]
    },
    {
      "cell_type": "markdown",
      "metadata": {
        "id": "YHiyhXC9W0Cz"
      },
      "source": [
        "## Supplement"
      ]
    },
    {
      "cell_type": "code",
      "metadata": {
        "id": "cIU0VXz-adW-"
      },
      "source": [
        "!pip install linearmodels\n",
        "import linearmodels as plm"
      ],
      "execution_count": null,
      "outputs": []
    },
    {
      "cell_type": "code",
      "metadata": {
        "id": "hJrV9JgkaiF9"
      },
      "source": [
        "did = did.set_index(['state','year'])"
      ],
      "execution_count": null,
      "outputs": []
    },
    {
      "cell_type": "code",
      "metadata": {
        "colab": {
          "base_uri": "https://localhost:8080/"
        },
        "id": "aNkOCgSWawPC",
        "outputId": "fbd4d465-38eb-484b-f83a-490c034acb78"
      },
      "source": [
        "y = did.vfrall\n",
        "x = did[['beertax','da18','da19','da20','jailcom','vmilespd','unrate','lincperc','y82']]\n",
        "reg = plm.PanelOLS(dependent=y,exog=x,entity_effects=True,time_effects=True, drop_absorbed=True)\n",
        "results = reg.fit(cov_type='clustered', cluster_entity=True)\n",
        "print(results.summary)"
      ],
      "execution_count": null,
      "outputs": [
        {
          "output_type": "stream",
          "text": [
            "                          PanelOLS Estimation Summary                           \n",
            "================================================================================\n",
            "Dep. Variable:                 vfrall   R-squared:                        0.6595\n",
            "Estimator:                   PanelOLS   R-squared (Between):              0.8035\n",
            "No. Observations:                  96   R-squared (Within):              -2.6684\n",
            "Date:                Wed, Apr 14 2021   R-squared (Overall):              0.7721\n",
            "Time:                        08:17:50   Log-likelihood                    67.393\n",
            "Cov. Estimator:             Clustered                                           \n",
            "                                        F-statistic:                      9.4414\n",
            "Entities:                          48   P-value                           0.0000\n",
            "Avg Obs:                       2.0000   Distribution:                    F(8,39)\n",
            "Min Obs:                       2.0000                                           \n",
            "Max Obs:                       2.0000   F-statistic (robust):             4.1200\n",
            "                                        P-value                           0.0012\n",
            "Time periods:                       2   Distribution:                    F(8,39)\n",
            "Avg Obs:                       48.000                                           \n",
            "Min Obs:                       48.000                                           \n",
            "Max Obs:                       48.000                                           \n",
            "                                                                                \n",
            "                             Parameter Estimates                              \n",
            "==============================================================================\n",
            "            Parameter  Std. Err.     T-stat    P-value    Lower CI    Upper CI\n",
            "------------------------------------------------------------------------------\n",
            "beertax       -0.9243     0.5025    -1.8394     0.0735     -1.9407      0.0921\n",
            "da18           0.0381     0.1493     0.2554     0.7997     -0.2638      0.3400\n",
            "da19          -0.0641     0.1430    -0.4482     0.6565     -0.3533      0.2251\n",
            "da20          -0.1116     0.1820    -0.6134     0.5431     -0.4798      0.2565\n",
            "jailcom        0.0882     0.2413     0.3656     0.7166     -0.3998      0.5763\n",
            "vmilespd       0.1246     0.0718     1.7354     0.0906     -0.0206      0.2698\n",
            "unrate        -0.0908     0.0309    -2.9357     0.0056     -0.1534     -0.0283\n",
            "lincperc       0.9966     0.9984     0.9982     0.3244     -1.0229      3.0160\n",
            "==============================================================================\n",
            "\n",
            "F-test for Poolability: 8.4507\n",
            "P-value: 0.0000\n",
            "Distribution: F(48,39)\n",
            "\n",
            "Included effects: Entity, Time\n"
          ],
          "name": "stdout"
        },
        {
          "output_type": "stream",
          "text": [
            "AbsorbingEffectWarning: \n",
            "Variables have been fully absorbed and have removed from the regression:\n",
            "\n",
            "y82\n",
            " [model.py:1798]\n"
          ],
          "name": "stderr"
        }
      ]
    },
    {
      "cell_type": "code",
      "metadata": {
        "colab": {
          "base_uri": "https://localhost:8080/"
        },
        "id": "rHg4-t0IcgcZ",
        "outputId": "c23d6d97-16ff-4e26-b517-41a4f2bf8f97"
      },
      "source": [
        "reg = plm.PanelOLS.from_formula('vfrall~1+beertax+da18+da19+da20+jailcom+vmilespd+unrate+lincperc+y82+EntityEffects+TimeEffects', data=did, drop_absorbed=True)\n",
        "results = reg.fit(cov_type='clustered', cluster_entity=True)\n",
        "print(results.summary)"
      ],
      "execution_count": null,
      "outputs": [
        {
          "output_type": "stream",
          "text": [
            "                          PanelOLS Estimation Summary                           \n",
            "================================================================================\n",
            "Dep. Variable:                 vfrall   R-squared:                        0.6595\n",
            "Estimator:                   PanelOLS   R-squared (Between):             -1.4408\n",
            "No. Observations:                  96   R-squared (Within):              -2.6684\n",
            "Date:                Wed, Apr 14 2021   R-squared (Overall):             -1.5886\n",
            "Time:                        08:17:50   Log-likelihood                    67.393\n",
            "Cov. Estimator:             Clustered                                           \n",
            "                                        F-statistic:                      9.4414\n",
            "Entities:                          48   P-value                           0.0000\n",
            "Avg Obs:                       2.0000   Distribution:                    F(8,39)\n",
            "Min Obs:                       2.0000                                           \n",
            "Max Obs:                       2.0000   F-statistic (robust):             4.1200\n",
            "                                        P-value                           0.0012\n",
            "Time periods:                       2   Distribution:                    F(8,39)\n",
            "Avg Obs:                       48.000                                           \n",
            "Min Obs:                       48.000                                           \n",
            "Max Obs:                       48.000                                           \n",
            "                                                                                \n",
            "                             Parameter Estimates                              \n",
            "==============================================================================\n",
            "            Parameter  Std. Err.     T-stat    P-value    Lower CI    Upper CI\n",
            "------------------------------------------------------------------------------\n",
            "Intercept     -0.3947     2.8219    -0.1399     0.8895     -6.1025      5.3131\n",
            "beertax       -0.9243     0.5025    -1.8394     0.0735     -1.9407      0.0921\n",
            "da18           0.0381     0.1493     0.2554     0.7997     -0.2638      0.3400\n",
            "da19          -0.0641     0.1430    -0.4482     0.6565     -0.3533      0.2251\n",
            "da20          -0.1116     0.1820    -0.6134     0.5431     -0.4798      0.2565\n",
            "jailcom        0.0882     0.2413     0.3656     0.7166     -0.3998      0.5763\n",
            "vmilespd       0.1246     0.0718     1.7354     0.0906     -0.0206      0.2698\n",
            "unrate        -0.0908     0.0309    -2.9357     0.0056     -0.1534     -0.0283\n",
            "lincperc       0.9966     0.9984     0.9982     0.3244     -1.0229      3.0160\n",
            "==============================================================================\n",
            "\n",
            "F-test for Poolability: 8.4507\n",
            "P-value: 0.0000\n",
            "Distribution: F(48,39)\n",
            "\n",
            "Included effects: Entity, Time\n"
          ],
          "name": "stdout"
        },
        {
          "output_type": "stream",
          "text": [
            "AbsorbingEffectWarning: \n",
            "Variables have been fully absorbed and have removed from the regression:\n",
            "\n",
            "y82\n",
            " [model.py:1798]\n"
          ],
          "name": "stderr"
        }
      ]
    },
    {
      "cell_type": "code",
      "metadata": {
        "id": "sq83KhStbOGs"
      },
      "source": [
        ""
      ],
      "execution_count": null,
      "outputs": []
    }
  ]
}