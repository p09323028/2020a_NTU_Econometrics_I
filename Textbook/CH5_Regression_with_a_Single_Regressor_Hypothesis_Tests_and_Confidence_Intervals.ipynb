{
  "nbformat": 4,
  "nbformat_minor": 0,
  "metadata": {
    "colab": {
      "name": "CH5_Regression with a Single Regressor: Hypothesis Tests and Confidence Intervals.ipynb",
      "provenance": [],
      "collapsed_sections": [],
      "authorship_tag": "ABX9TyPhYZOzfXA5yqlRZNAaXoUT",
      "include_colab_link": true
    },
    "kernelspec": {
      "name": "python3",
      "display_name": "Python 3"
    },
    "language_info": {
      "name": "python"
    }
  },
  "cells": [
    {
      "cell_type": "markdown",
      "metadata": {
        "id": "view-in-github",
        "colab_type": "text"
      },
      "source": [
        "<a href=\"https://colab.research.google.com/github/p09323028/2020f_NTU_Econometrics_I/blob/main/Textbook/CH5_Regression_with_a_Single_Regressor_Hypothesis_Tests_and_Confidence_Intervals.ipynb\" target=\"_parent\"><img src=\"https://colab.research.google.com/assets/colab-badge.svg\" alt=\"Open In Colab\"/></a>"
      ]
    },
    {
      "cell_type": "markdown",
      "metadata": {
        "id": "OEZ9uHRhDDXd"
      },
      "source": [
        "# **Chapter 5: Regression with a Single Regressor: Hypothesis Tests and Confidence Intervals**\n",
        "Author: Jinze Wu\n",
        "\n",
        "Student Number: p09323028"
      ]
    },
    {
      "cell_type": "markdown",
      "metadata": {
        "id": "zmUOrp4xPtuC"
      },
      "source": [
        "前置作業:\n",
        "- import 套件\n",
        "- 載入資料\n",
        "- 讀取資料"
      ]
    },
    {
      "cell_type": "code",
      "metadata": {
        "id": "a4-mzhjhDbLE"
      },
      "source": [
        "import pandas as pd\n",
        "import numpy as np\n",
        "import matplotlib.pyplot as plt\n",
        "import statsmodels.formula.api as smf"
      ],
      "execution_count": null,
      "outputs": []
    },
    {
      "cell_type": "code",
      "metadata": {
        "id": "amKSZTlxEMof"
      },
      "source": [
        "!gdown --id '10Q4-t5L8KZjaxUqR8iGnmXx_lY9JYgSL' --output caschool.xlsx\n",
        "!gdown --id '180juXX_GMJiXpo-bWy9MibYUl_S2R3kf' --output figure_5_3.xlsx"
      ],
      "execution_count": null,
      "outputs": []
    },
    {
      "cell_type": "code",
      "metadata": {
        "id": "SxklyeJ_EYBk"
      },
      "source": [
        "caschool = pd.read_excel('caschool.xlsx')"
      ],
      "execution_count": null,
      "outputs": []
    },
    {
      "cell_type": "markdown",
      "metadata": {
        "id": "mkImzJtNEcIj"
      },
      "source": [
        "**Decription of Data;**\n",
        "\n",
        "dist_code -- district Code;\n",
        "\n",
        "Read_scr  -- avg Reading Score;\n",
        "\n",
        "Math_scr  -- avg Math Score;\n",
        "\n",
        "County   --  county;\n",
        "\n",
        "District -- District;\n",
        "\n",
        "gr_span -- grade span of district;\n",
        "\n",
        "enrl_tot -- total enrollment;\n",
        "\n",
        "teachers -- number of teachers;\n",
        "\n",
        "computer -- number of computers;\n",
        "\n",
        "testscr -- avg test score (= (read_scr+math_scr)/2 );\n",
        "\n",
        "comp_stu -- computers per student ( = computer/enrl_tot);\n",
        "\n",
        "expn_stu -- expentitures per student;\n",
        "\n",
        "str -- student teacher ration (teachers/enrl_tot);\n",
        "\n",
        "el_pct -- percent of English Learners;\n",
        "\n",
        "Meal_pct -- Percent qualifying for reduced-price lunch;\n",
        "\n",
        "clw_pct -- Percent qualifying for CalWorks;\n",
        "\n",
        "aving -- district average income (in $1000's);"
      ]
    },
    {
      "cell_type": "code",
      "metadata": {
        "id": "XFprx_UxZ-70"
      },
      "source": [
        "fig = pd.read_excel('figure_5_3.xlsx')"
      ],
      "execution_count": null,
      "outputs": []
    },
    {
      "cell_type": "markdown",
      "metadata": {
        "id": "z9-GATbUFC_c"
      },
      "source": [
        "## **5.1 Testing Hypotheses About One of the Regression Coefficients**"
      ]
    },
    {
      "cell_type": "markdown",
      "metadata": {
        "id": "mdT_szaJHoPO"
      },
      "source": [
        "### Equation 5.8"
      ]
    },
    {
      "cell_type": "markdown",
      "metadata": {
        "id": "YCYrqPQETyts"
      },
      "source": [
        "$\\widehat{TestScore} = 698.9 - 2.28 \\times STR, R^2 = 0.051, SER = 18.6$"
      ]
    },
    {
      "cell_type": "code",
      "metadata": {
        "colab": {
          "base_uri": "https://localhost:8080/"
        },
        "id": "88XLt_eOK7Qf",
        "outputId": "e48517bf-ea01-4b02-e7be-0ee20d6cc7bf"
      },
      "source": [
        "reg_5_8 = smf.ols(formula='testscr~str', data=caschool)\n",
        "results_5_8 = reg_5_8.fit(cov_type='HC1')  # robust\n",
        "print(results_5_8.summary())\n",
        "print('SER: {:.1f}'.format(results_5_8.mse_resid**0.5))"
      ],
      "execution_count": null,
      "outputs": [
        {
          "output_type": "stream",
          "text": [
            "                            OLS Regression Results                            \n",
            "==============================================================================\n",
            "Dep. Variable:                testscr   R-squared:                       0.051\n",
            "Model:                            OLS   Adj. R-squared:                  0.049\n",
            "Method:                 Least Squares   F-statistic:                     19.26\n",
            "Date:                Thu, 08 Apr 2021   Prob (F-statistic):           1.45e-05\n",
            "Time:                        07:18:19   Log-Likelihood:                -1822.2\n",
            "No. Observations:                 420   AIC:                             3648.\n",
            "Df Residuals:                     418   BIC:                             3657.\n",
            "Df Model:                           1                                         \n",
            "Covariance Type:                  HC1                                         \n",
            "==============================================================================\n",
            "                 coef    std err          z      P>|z|      [0.025      0.975]\n",
            "------------------------------------------------------------------------------\n",
            "Intercept    698.9330     10.364     67.436      0.000     678.619     719.247\n",
            "str           -2.2798      0.519     -4.389      0.000      -3.298      -1.262\n",
            "==============================================================================\n",
            "Omnibus:                        5.390   Durbin-Watson:                   0.129\n",
            "Prob(Omnibus):                  0.068   Jarque-Bera (JB):                3.589\n",
            "Skew:                          -0.012   Prob(JB):                        0.166\n",
            "Kurtosis:                       2.548   Cond. No.                         207.\n",
            "==============================================================================\n",
            "\n",
            "Warnings:\n",
            "[1] Standard Errors are heteroscedasticity robust (HC1)\n",
            "SER: 18.6\n"
          ],
          "name": "stdout"
        }
      ]
    },
    {
      "cell_type": "markdown",
      "metadata": {
        "id": "aDi_219XWS-E"
      },
      "source": [
        "## **5.2 Confidence Intervals for a Regression Coefficient**"
      ]
    },
    {
      "cell_type": "markdown",
      "metadata": {
        "id": "YDFqVSg4WX7Z"
      },
      "source": [
        "## **5.3 Regression When X Is a Binary Variable**"
      ]
    },
    {
      "cell_type": "markdown",
      "metadata": {
        "id": "BIJ-4OaHXN5U"
      },
      "source": [
        "### Equation 5.18"
      ]
    },
    {
      "cell_type": "markdown",
      "metadata": {
        "id": "4SJ-waPMXLZ_"
      },
      "source": [
        "$\\widehat{TestScore} = 650.0 - 7.4D \\times STR, R^2 = 0.037, SER = 18.7$"
      ]
    },
    {
      "cell_type": "code",
      "metadata": {
        "id": "AbQH5FP-WjpD"
      },
      "source": [
        "caschool['d'] = caschool.str.apply(lambda x: 1 if x < 20 else 0)"
      ],
      "execution_count": null,
      "outputs": []
    },
    {
      "cell_type": "code",
      "metadata": {
        "colab": {
          "base_uri": "https://localhost:8080/"
        },
        "id": "ZUGL3FEBWdyb",
        "outputId": "384bbf9f-011e-4979-b7c7-79c6ebd644ad"
      },
      "source": [
        "reg_5_18 = smf.ols(formula='testscr~d', data=caschool)\n",
        "results_5_18 = reg_5_18.fit(cov_type='HC1')  # robust\n",
        "print(results_5_18.summary())\n",
        "print('SER: {:.1f}'.format(results_5_18.mse_resid**0.5))"
      ],
      "execution_count": null,
      "outputs": [
        {
          "output_type": "stream",
          "text": [
            "                            OLS Regression Results                            \n",
            "==============================================================================\n",
            "Dep. Variable:                testscr   R-squared:                       0.037\n",
            "Model:                            OLS   Adj. R-squared:                  0.035\n",
            "Method:                 Least Squares   F-statistic:                     16.34\n",
            "Date:                Thu, 08 Apr 2021   Prob (F-statistic):           6.29e-05\n",
            "Time:                        07:25:11   Log-Likelihood:                -1825.4\n",
            "No. Observations:                 420   AIC:                             3655.\n",
            "Df Residuals:                     418   BIC:                             3663.\n",
            "Df Model:                           1                                         \n",
            "Covariance Type:                  HC1                                         \n",
            "==============================================================================\n",
            "                 coef    std err          z      P>|z|      [0.025      0.975]\n",
            "------------------------------------------------------------------------------\n",
            "Intercept    649.9788      1.323    491.332      0.000     647.386     652.572\n",
            "d              7.3724      1.824      4.043      0.000       3.798      10.947\n",
            "==============================================================================\n",
            "Omnibus:                        3.061   Durbin-Watson:                   0.110\n",
            "Prob(Omnibus):                  0.216   Jarque-Bera (JB):                2.448\n",
            "Skew:                           0.052   Prob(JB):                        0.294\n",
            "Kurtosis:                       2.641   Cond. No.                         2.81\n",
            "==============================================================================\n",
            "\n",
            "Warnings:\n",
            "[1] Standard Errors are heteroscedasticity robust (HC1)\n",
            "SER: 18.7\n"
          ],
          "name": "stdout"
        }
      ]
    },
    {
      "cell_type": "markdown",
      "metadata": {
        "id": "5M3zG8DbXCan"
      },
      "source": [
        "## **5.4 Heteroskedasticity and Homoskedasticity**"
      ]
    },
    {
      "cell_type": "markdown",
      "metadata": {
        "id": "D5Wjc4JTbeIP"
      },
      "source": [
        "### Equation 5.23"
      ]
    },
    {
      "cell_type": "code",
      "metadata": {
        "colab": {
          "base_uri": "https://localhost:8080/"
        },
        "id": "NhOik6hbaJxJ",
        "outputId": "11d4b2d2-b316-4ee3-a835-b9ab4efb7581"
      },
      "source": [
        "reg_5_23 = smf.ols(formula='ahe~yrseduc', data=fig)\n",
        "results_5_23 = reg_5_23.fit(cov_type='HC1')\n",
        "print(results_5_23.summary())"
      ],
      "execution_count": null,
      "outputs": [
        {
          "output_type": "stream",
          "text": [
            "                            OLS Regression Results                            \n",
            "==============================================================================\n",
            "Dep. Variable:                    ahe   R-squared:                       0.185\n",
            "Model:                            OLS   Adj. R-squared:                  0.184\n",
            "Method:                 Least Squares   F-statistic:                     537.1\n",
            "Date:                Thu, 08 Apr 2021   Prob (F-statistic):          1.31e-108\n",
            "Time:                        07:37:59   Log-Likelihood:                -10481.\n",
            "No. Observations:                2731   AIC:                         2.097e+04\n",
            "Df Residuals:                    2729   BIC:                         2.098e+04\n",
            "Df Model:                           1                                         \n",
            "Covariance Type:                  HC1                                         \n",
            "==============================================================================\n",
            "                 coef    std err          z      P>|z|      [0.025      0.975]\n",
            "------------------------------------------------------------------------------\n",
            "Intercept    -12.1163      1.356     -8.938      0.000     -14.773      -9.459\n",
            "yrseduc        2.3740      0.102     23.174      0.000       2.173       2.575\n",
            "==============================================================================\n",
            "Omnibus:                     1108.329   Durbin-Watson:                   1.893\n",
            "Prob(Omnibus):                  0.000   Jarque-Bera (JB):             6286.406\n",
            "Skew:                           1.843   Prob(JB):                         0.00\n",
            "Kurtosis:                       9.454   Cond. No.                         89.8\n",
            "==============================================================================\n",
            "\n",
            "Warnings:\n",
            "[1] Standard Errors are heteroscedasticity robust (HC1)\n"
          ],
          "name": "stdout"
        }
      ]
    },
    {
      "cell_type": "markdown",
      "metadata": {
        "id": "vbbP82jiaJeR"
      },
      "source": [
        "### FIGURE 5.3"
      ]
    },
    {
      "cell_type": "code",
      "metadata": {
        "colab": {
          "base_uri": "https://localhost:8080/",
          "height": 283
        },
        "id": "CD0zLZN3adVo",
        "outputId": "174beb91-f396-4275-98c3-368ab4661403"
      },
      "source": [
        "b0, b1 = results_5_23.params[0], results_5_23.params[1]\n",
        "\n",
        "plt.scatter(x=fig['yrseduc'], y=fig['ahe'], color='dimgrey', s=15)\n",
        "\n",
        "plt.xlabel('Years of education', size=14)\n",
        "plt.ylabel('Average hourly earnings', size=14)\n",
        "\n",
        "x = np.linspace(8,18,100)\n",
        "plt.plot(x, b0+b1*x, color='cornflowerblue')\n",
        "\n",
        "plt.show()"
      ],
      "execution_count": null,
      "outputs": [
        {
          "output_type": "display_data",
          "data": {
            "image/png": "[encoded data removed]",
            "text/plain": [
              "<Figure size 432x288 with 1 Axes>"
            ]
          },
          "metadata": {
            "tags": [],
            "needs_background": "light"
          }
        }
      ]
    }
  ]
}