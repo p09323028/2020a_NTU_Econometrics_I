{
  "nbformat": 4,
  "nbformat_minor": 0,
  "metadata": {
    "colab": {
      "name": "CH9_Assessing Studies Based on Multiple Regression.ipynb",
      "provenance": [],
      "collapsed_sections": [],
      "authorship_tag": "ABX9TyN3WvPxMxfhTs37BVOJxL5p",
      "include_colab_link": true
    },
    "kernelspec": {
      "name": "python3",
      "display_name": "Python 3"
    },
    "language_info": {
      "name": "python"
    }
  },
  "cells": [
    {
      "cell_type": "markdown",
      "metadata": {
        "id": "view-in-github",
        "colab_type": "text"
      },
      "source": [
        "<a href=\"https://colab.research.google.com/github/p09323028/2020f_NTU_Econometrics_I/blob/main/Textbook/CH9_Assessing_Studies_Based_on_Multiple_Regression.ipynb\" target=\"_parent\"><img src=\"https://colab.research.google.com/assets/colab-badge.svg\" alt=\"Open In Colab\"/></a>"
      ]
    },
    {
      "cell_type": "markdown",
      "metadata": {
        "id": "OEZ9uHRhDDXd"
      },
      "source": [
        "# **Chapter 9: Assessing Studies Based on Multiple Regression**\n",
        "Author: Jinze Wu\n",
        "\n",
        "Student Number: p09323028"
      ]
    },
    {
      "cell_type": "markdown",
      "metadata": {
        "id": "-vCXJ85JP7rT"
      },
      "source": [
        "前置作業:\n",
        "- import 套件\n",
        "- 載入資料\n",
        "- 讀取資料\n",
        "- 設置變數"
      ]
    },
    {
      "cell_type": "code",
      "metadata": {
        "id": "a4-mzhjhDbLE"
      },
      "source": [
        "import pandas as pd\n",
        "import numpy as np\n",
        "import scipy.stats\n",
        "import matplotlib.pyplot as plt\n",
        "import statsmodels.formula.api as smf"
      ],
      "execution_count": null,
      "outputs": []
    },
    {
      "cell_type": "code",
      "metadata": {
        "id": "amKSZTlxEMof"
      },
      "source": [
        "!gdown --id '1MArK8I9qrygzH1MkupLmS41sdo4_JFOW' --output mcas.xlsx"
      ],
      "execution_count": null,
      "outputs": []
    },
    {
      "cell_type": "code",
      "metadata": {
        "id": "SxklyeJ_EYBk"
      },
      "source": [
        "mcas = pd.read_excel('mcas.xlsx')"
      ],
      "execution_count": null,
      "outputs": []
    },
    {
      "cell_type": "markdown",
      "metadata": {
        "id": "mkImzJtNEcIj"
      },
      "source": [
        "**Decription of Data;**\n",
        "\n",
        "selected variable definitions:\n",
        "\n",
        "code: District Code (numerical)\n",
        "\n",
        "municipa: Municipality (name)\n",
        "\n",
        "district: District Name\n",
        "\n",
        "totsc4: 4th grade score (math+english+science) \n",
        "\n",
        "totsc8: 8th grade score (math+english+science) \n",
        "\n",
        "regday: Spending per pupil, regular\n",
        "\n",
        "specneed: Spending per pupil, special needs\n",
        "\n",
        "bilingua: Spending per pupil, bilingual\n",
        "\n",
        "occupday: Spending per pupil, occupational\n",
        "\n",
        "tot_day: Spending per pupil, Total\n",
        "\n",
        "tchratio: Students per Teacher\n",
        "\n",
        "s_p_c: Students per Computer\n",
        "\n",
        "spec_ed: % Special Education Students\n",
        "\n",
        "lnch_pct: % Eligible for free/reduced price lunch\n",
        "\n",
        "avgsalry: Average Teacher Salary\n",
        "\n",
        "percap: Per Capita Income\n",
        "\n",
        "pctel: Percent English Learners"
      ]
    },
    {
      "cell_type": "markdown",
      "metadata": {
        "id": "z9-GATbUFC_c"
      },
      "source": [
        "## **9.1 Internal and External Validity**"
      ]
    },
    {
      "cell_type": "markdown",
      "metadata": {
        "id": "SSMGGxKE9kWl"
      },
      "source": [
        "### Threats to Internal Validity"
      ]
    },
    {
      "cell_type": "markdown",
      "metadata": {
        "id": "Yuh93G4g9tS-"
      },
      "source": [
        "### Threats to External Validity\n",
        "- Differences in populations.\n",
        "- Differences in settings."
      ]
    },
    {
      "cell_type": "markdown",
      "metadata": {
        "id": "aDi_219XWS-E"
      },
      "source": [
        "## **9.2 Threats to Internal Validity of Multiple Regression Analysis**\n",
        "- Omitted Variable Bias\n",
        "- Misspecification of the Functional Form of the Regression Function\n",
        "- Measurement Error and Errors-in-Variables Bias\n",
        "- Missing Data and Sample Selection\n",
        "- Simultaneous Causality"
      ]
    },
    {
      "cell_type": "markdown",
      "metadata": {
        "id": "YDFqVSg4WX7Z"
      },
      "source": [
        "## **9.3 Internal and External Validity When the Regression Is Used for Prediction**"
      ]
    },
    {
      "cell_type": "markdown",
      "metadata": {
        "id": "5M3zG8DbXCan"
      },
      "source": [
        "## **9.4 Example: Test Scores and Class Size**"
      ]
    },
    {
      "cell_type": "markdown",
      "metadata": {
        "id": "vjcHg22oFbOV"
      },
      "source": [
        "### Table 9.1"
      ]
    },
    {
      "cell_type": "code",
      "metadata": {
        "id": "EIfXR3z8RfiT"
      },
      "source": [
        "mcas = mcas.rename(columns={\n",
        "    'tchratio':'str',\n",
        "    'totsc4':'testscr',\n",
        "    'pctel':'el_pct',\n",
        "    'percap':'avginc',\n",
        "    'lnch_pct':'meal_pct'\n",
        "    })"
      ],
      "execution_count": null,
      "outputs": []
    },
    {
      "cell_type": "code",
      "metadata": {
        "colab": {
          "base_uri": "https://localhost:8080/",
          "height": 204
        },
        "id": "qTEd-Q--BvSd",
        "outputId": "3b9af283-083b-4e9a-f44a-6ac5fde3a482"
      },
      "source": [
        "mcas[['testscr','str','el_pct','meal_pct','avginc']].describe().T"
      ],
      "execution_count": null,
      "outputs": [
        {
          "output_type": "execute_result",
          "data": {
            "text/html": [
              "<div>\n",
              "<style scoped>\n",
              "    .dataframe tbody tr th:only-of-type {\n",
              "        vertical-align: middle;\n",
              "    }\n",
              "\n",
              "    .dataframe tbody tr th {\n",
              "        vertical-align: top;\n",
              "    }\n",
              "\n",
              "    .dataframe thead th {\n",
              "        text-align: right;\n",
              "    }\n",
              "</style>\n",
              "<table border=\"1\" class=\"dataframe\">\n",
              "  <thead>\n",
              "    <tr style=\"text-align: right;\">\n",
              "      <th></th>\n",
              "      <th>count</th>\n",
              "      <th>mean</th>\n",
              "      <th>std</th>\n",
              "      <th>min</th>\n",
              "      <th>25%</th>\n",
              "      <th>50%</th>\n",
              "      <th>75%</th>\n",
              "      <th>max</th>\n",
              "    </tr>\n",
              "  </thead>\n",
              "  <tbody>\n",
              "    <tr>\n",
              "      <th>testscr</th>\n",
              "      <td>220.0</td>\n",
              "      <td>709.827273</td>\n",
              "      <td>15.126474</td>\n",
              "      <td>658.000</td>\n",
              "      <td>701.000</td>\n",
              "      <td>711.000</td>\n",
              "      <td>720.000000</td>\n",
              "      <td>740.000000</td>\n",
              "    </tr>\n",
              "    <tr>\n",
              "      <th>str</th>\n",
              "      <td>220.0</td>\n",
              "      <td>17.344091</td>\n",
              "      <td>2.276666</td>\n",
              "      <td>11.400</td>\n",
              "      <td>15.800</td>\n",
              "      <td>17.100</td>\n",
              "      <td>19.025000</td>\n",
              "      <td>27.000000</td>\n",
              "    </tr>\n",
              "    <tr>\n",
              "      <th>el_pct</th>\n",
              "      <td>220.0</td>\n",
              "      <td>1.117676</td>\n",
              "      <td>2.900940</td>\n",
              "      <td>0.000</td>\n",
              "      <td>0.000</td>\n",
              "      <td>0.000</td>\n",
              "      <td>0.885939</td>\n",
              "      <td>24.493927</td>\n",
              "    </tr>\n",
              "    <tr>\n",
              "      <th>meal_pct</th>\n",
              "      <td>220.0</td>\n",
              "      <td>15.315909</td>\n",
              "      <td>15.060068</td>\n",
              "      <td>0.400</td>\n",
              "      <td>5.300</td>\n",
              "      <td>10.550</td>\n",
              "      <td>20.025000</td>\n",
              "      <td>76.199997</td>\n",
              "    </tr>\n",
              "    <tr>\n",
              "      <th>avginc</th>\n",
              "      <td>220.0</td>\n",
              "      <td>18.746764</td>\n",
              "      <td>5.807637</td>\n",
              "      <td>9.686</td>\n",
              "      <td>15.223</td>\n",
              "      <td>17.128</td>\n",
              "      <td>20.376000</td>\n",
              "      <td>46.855000</td>\n",
              "    </tr>\n",
              "  </tbody>\n",
              "</table>\n",
              "</div>"
            ],
            "text/plain": [
              "          count        mean        std  ...      50%         75%         max\n",
              "testscr   220.0  709.827273  15.126474  ...  711.000  720.000000  740.000000\n",
              "str       220.0   17.344091   2.276666  ...   17.100   19.025000   27.000000\n",
              "el_pct    220.0    1.117676   2.900940  ...    0.000    0.885939   24.493927\n",
              "meal_pct  220.0   15.315909  15.060068  ...   10.550   20.025000   76.199997\n",
              "avginc    220.0   18.746764   5.807637  ...   17.128   20.376000   46.855000\n",
              "\n",
              "[5 rows x 8 columns]"
            ]
          },
          "metadata": {
            "tags": []
          },
          "execution_count": 38
        }
      ]
    },
    {
      "cell_type": "code",
      "metadata": {
        "colab": {
          "base_uri": "https://localhost:8080/"
        },
        "id": "rGVm_qmyBwVn",
        "outputId": "029befab-c27b-43c1-e0ac-2098b338c117"
      },
      "source": [
        "print(mcas.el_pct.describe())\n",
        "print('Skewness: {:.4f}'.format((mcas.el_pct.skew())))\n",
        "print('Kurtosis: {:.4f}'.format(mcas.el_pct.kurt()))"
      ],
      "execution_count": null,
      "outputs": [
        {
          "output_type": "stream",
          "text": [
            "count    220.000000\n",
            "mean       1.117676\n",
            "std        2.900940\n",
            "min        0.000000\n",
            "25%        0.000000\n",
            "50%        0.000000\n",
            "75%        0.885939\n",
            "max       24.493927\n",
            "Name: el_pct, dtype: float64\n",
            "Skewness: 4.5892\n",
            "Kurtosis: 25.9631\n"
          ],
          "name": "stdout"
        }
      ]
    },
    {
      "cell_type": "markdown",
      "metadata": {
        "id": "HxlGvG9nFoLX"
      },
      "source": [
        "### Table 9.2"
      ]
    },
    {
      "cell_type": "code",
      "metadata": {
        "id": "5J5ZUIOfFrdU"
      },
      "source": [
        "mcas['avginc2'] = mcas.avginc * mcas.avginc\n",
        "mcas['avginc3'] = mcas.avginc2 * mcas.avginc\n",
        "mcas['loginc'] = np.log(mcas.avginc)\n",
        "mcas['hiel'] = mcas.el_pct.apply(lambda x: 1 if x>0 else 0)\n",
        "mcas['strxhiel'] = mcas.str * mcas.hiel\n",
        "mcas['sttr2'] = mcas.str * mcas.str\n",
        "mcas['sttr3'] = mcas.sttr2 * mcas.str"
      ],
      "execution_count": null,
      "outputs": []
    },
    {
      "cell_type": "code",
      "metadata": {
        "colab": {
          "base_uri": "https://localhost:8080/"
        },
        "id": "DABPwlosGpuY",
        "outputId": "d5af87c7-a561-49dd-9e21-80eb23e30f43"
      },
      "source": [
        "# column(1)\n",
        "reg_t9_2_1 = smf.ols(formula='testscr~str', data=mcas)\n",
        "results_t9_2_1 = reg_t9_2_1.fit(cov_type='HC1')  # robust\n",
        "print(results_t9_2_1.summary())"
      ],
      "execution_count": null,
      "outputs": [
        {
          "output_type": "stream",
          "text": [
            "                            OLS Regression Results                            \n",
            "==============================================================================\n",
            "Dep. Variable:                testscr   R-squared:                       0.067\n",
            "Model:                            OLS   Adj. R-squared:                  0.063\n",
            "Method:                 Least Squares   F-statistic:                     11.85\n",
            "Date:                Mon, 12 Apr 2021   Prob (F-statistic):           0.000692\n",
            "Time:                        08:03:17   Log-Likelihood:                -901.67\n",
            "No. Observations:                 220   AIC:                             1807.\n",
            "Df Residuals:                     218   BIC:                             1814.\n",
            "Df Model:                           1                                         \n",
            "Covariance Type:                  HC1                                         \n",
            "==============================================================================\n",
            "                 coef    std err          z      P>|z|      [0.025      0.975]\n",
            "------------------------------------------------------------------------------\n",
            "Intercept    739.6211      8.607     85.930      0.000     722.751     756.491\n",
            "str           -1.7178      0.499     -3.442      0.001      -2.696      -0.740\n",
            "==============================================================================\n",
            "Omnibus:                        7.165   Durbin-Watson:                   2.157\n",
            "Prob(Omnibus):                  0.028   Jarque-Bera (JB):                6.908\n",
            "Skew:                          -0.412   Prob(JB):                       0.0316\n",
            "Kurtosis:                       3.272   Cond. No.                         135.\n",
            "==============================================================================\n",
            "\n",
            "Warnings:\n",
            "[1] Standard Errors are heteroscedasticity robust (HC1)\n"
          ],
          "name": "stdout"
        }
      ]
    },
    {
      "cell_type": "code",
      "metadata": {
        "colab": {
          "base_uri": "https://localhost:8080/"
        },
        "id": "fIKa1eqwG1IM",
        "outputId": "a28027bc-e6e1-4f5b-ae1f-72fbdd1c0a27"
      },
      "source": [
        "# column(2)\n",
        "reg_t9_2_2 = smf.ols(formula='testscr~str+el_pct+meal_pct+loginc', data=mcas)\n",
        "results_t9_2_2 = reg_t9_2_2.fit(cov_type='HC1')  # robust\n",
        "print(results_t9_2_2.summary())"
      ],
      "execution_count": null,
      "outputs": [
        {
          "output_type": "stream",
          "text": [
            "                            OLS Regression Results                            \n",
            "==============================================================================\n",
            "Dep. Variable:                testscr   R-squared:                       0.676\n",
            "Model:                            OLS   Adj. R-squared:                  0.670\n",
            "Method:                 Least Squares   F-statistic:                     144.4\n",
            "Date:                Mon, 12 Apr 2021   Prob (F-statistic):           9.93e-60\n",
            "Time:                        08:03:47   Log-Likelihood:                -785.22\n",
            "No. Observations:                 220   AIC:                             1580.\n",
            "Df Residuals:                     215   BIC:                             1597.\n",
            "Df Model:                           4                                         \n",
            "Covariance Type:                  HC1                                         \n",
            "==============================================================================\n",
            "                 coef    std err          z      P>|z|      [0.025      0.975]\n",
            "------------------------------------------------------------------------------\n",
            "Intercept    682.4316     11.497     59.356      0.000     659.897     704.966\n",
            "str           -0.6892      0.270     -2.553      0.011      -1.218      -0.160\n",
            "el_pct        -0.4107      0.306     -1.341      0.180      -1.011       0.190\n",
            "meal_pct      -0.5215      0.078     -6.715      0.000      -0.674      -0.369\n",
            "loginc        16.5294      3.146      5.255      0.000      10.364      22.695\n",
            "==============================================================================\n",
            "Omnibus:                        0.886   Durbin-Watson:                   2.167\n",
            "Prob(Omnibus):                  0.642   Jarque-Bera (JB):                0.797\n",
            "Skew:                           0.147   Prob(JB):                        0.671\n",
            "Kurtosis:                       2.995   Cond. No.                         481.\n",
            "==============================================================================\n",
            "\n",
            "Warnings:\n",
            "[1] Standard Errors are heteroscedasticity robust (HC1)\n"
          ],
          "name": "stdout"
        }
      ]
    },
    {
      "cell_type": "code",
      "metadata": {
        "colab": {
          "base_uri": "https://localhost:8080/"
        },
        "id": "L7O_FgbwG9mg",
        "outputId": "9b84b2b8-b26d-4db8-b4d2-4c1c7f7090ec"
      },
      "source": [
        "# column(3)\n",
        "reg_t9_2_3 = smf.ols(formula='testscr~str+el_pct+meal_pct+avginc+avginc2+avginc3', data=mcas)\n",
        "results_t9_2_3 = reg_t9_2_3.fit(cov_type='HC1')  # robust\n",
        "print(results_t9_2_3.summary())"
      ],
      "execution_count": null,
      "outputs": [
        {
          "output_type": "stream",
          "text": [
            "                            OLS Regression Results                            \n",
            "==============================================================================\n",
            "Dep. Variable:                testscr   R-squared:                       0.685\n",
            "Model:                            OLS   Adj. R-squared:                  0.676\n",
            "Method:                 Least Squares   F-statistic:                     110.2\n",
            "Date:                Mon, 12 Apr 2021   Prob (F-statistic):           1.62e-62\n",
            "Time:                        08:04:25   Log-Likelihood:                -782.18\n",
            "No. Observations:                 220   AIC:                             1578.\n",
            "Df Residuals:                     213   BIC:                             1602.\n",
            "Df Model:                           6                                         \n",
            "Covariance Type:                  HC1                                         \n",
            "==============================================================================\n",
            "                 coef    std err          z      P>|z|      [0.025      0.975]\n",
            "------------------------------------------------------------------------------\n",
            "Intercept    744.0250     21.318     34.902      0.000     702.243     785.807\n",
            "str           -0.6409      0.268     -2.387      0.017      -1.167      -0.115\n",
            "el_pct        -0.4371      0.303     -1.441      0.150      -1.032       0.157\n",
            "meal_pct      -0.5818      0.097     -5.976      0.000      -0.773      -0.391\n",
            "avginc        -3.0667      2.353     -1.304      0.192      -7.678       1.544\n",
            "avginc2        0.1637      0.085      1.918      0.055      -0.004       0.331\n",
            "avginc3       -0.0022      0.001     -2.246      0.025      -0.004      -0.000\n",
            "==============================================================================\n",
            "Omnibus:                        1.231   Durbin-Watson:                   2.220\n",
            "Prob(Omnibus):                  0.540   Jarque-Bera (JB):                1.084\n",
            "Skew:                           0.171   Prob(JB):                        0.582\n",
            "Kurtosis:                       3.027   Cond. No.                     4.93e+05\n",
            "==============================================================================\n",
            "\n",
            "Warnings:\n",
            "[1] Standard Errors are heteroscedasticity robust (HC1)\n",
            "[2] The condition number is large, 4.93e+05. This might indicate that there are\n",
            "strong multicollinearity or other numerical problems.\n"
          ],
          "name": "stdout"
        }
      ]
    },
    {
      "cell_type": "code",
      "metadata": {
        "colab": {
          "base_uri": "https://localhost:8080/"
        },
        "id": "AjyLUQIkHHUy",
        "outputId": "a9ffe0dd-a204-4479-ee7b-fdf30b8b5d26"
      },
      "source": [
        "print(results_t9_2_3.f_test(['avginc2=0','avginc3=0']))"
      ],
      "execution_count": null,
      "outputs": [
        {
          "output_type": "stream",
          "text": [
            "<F test: F=array([[7.74479922]]), p=0.0005664381585479322, df_denom=213, df_num=2>\n"
          ],
          "name": "stdout"
        }
      ]
    },
    {
      "cell_type": "code",
      "metadata": {
        "colab": {
          "base_uri": "https://localhost:8080/"
        },
        "id": "uO3UrTbOHRz2",
        "outputId": "58dc779b-cb04-4d7b-8c00-7a9ee94ff85b"
      },
      "source": [
        "# column(4)\n",
        "reg_t9_2_4 = smf.ols(formula='testscr~str+sttr2+sttr3+el_pct+meal_pct+avginc+avginc2+avginc3', data=mcas)\n",
        "results_t9_2_4 = reg_t9_2_4.fit(cov_type='HC1')  # robust\n",
        "print(results_t9_2_4.summary())"
      ],
      "execution_count": null,
      "outputs": [
        {
          "output_type": "stream",
          "text": [
            "                            OLS Regression Results                            \n",
            "==============================================================================\n",
            "Dep. Variable:                testscr   R-squared:                       0.687\n",
            "Model:                            OLS   Adj. R-squared:                  0.675\n",
            "Method:                 Least Squares   F-statistic:                     105.7\n",
            "Date:                Mon, 12 Apr 2021   Prob (F-statistic):           1.62e-69\n",
            "Time:                        08:19:14   Log-Likelihood:                -781.63\n",
            "No. Observations:                 220   AIC:                             1581.\n",
            "Df Residuals:                     211   BIC:                             1612.\n",
            "Df Model:                           8                                         \n",
            "Covariance Type:                  HC1                                         \n",
            "==============================================================================\n",
            "                 coef    std err          z      P>|z|      [0.025      0.975]\n",
            "------------------------------------------------------------------------------\n",
            "Intercept    665.4961     81.332      8.182      0.000     506.089     824.903\n",
            "str           12.4260     14.010      0.887      0.375     -15.033      39.885\n",
            "sttr2         -0.6803      0.737     -0.924      0.356      -2.124       0.763\n",
            "sttr3          0.0115      0.013      0.906      0.365      -0.013       0.036\n",
            "el_pct        -0.4342      0.300     -1.448      0.148      -1.022       0.153\n",
            "meal_pct      -0.5872      0.104     -5.645      0.000      -0.791      -0.383\n",
            "avginc        -3.3815      2.491     -1.358      0.175      -8.263       1.500\n",
            "avginc2        0.1741      0.089      1.951      0.051      -0.001       0.349\n",
            "avginc3       -0.0023      0.001     -2.271      0.023      -0.004      -0.000\n",
            "==============================================================================\n",
            "Omnibus:                        1.277   Durbin-Watson:                   2.226\n",
            "Prob(Omnibus):                  0.528   Jarque-Bera (JB):                1.200\n",
            "Skew:                           0.181   Prob(JB):                        0.549\n",
            "Kurtosis:                       2.976   Cond. No.                     2.20e+06\n",
            "==============================================================================\n",
            "\n",
            "Warnings:\n",
            "[1] Standard Errors are heteroscedasticity robust (HC1)\n",
            "[2] The condition number is large, 2.2e+06. This might indicate that there are\n",
            "strong multicollinearity or other numerical problems.\n"
          ],
          "name": "stdout"
        }
      ]
    },
    {
      "cell_type": "code",
      "metadata": {
        "colab": {
          "base_uri": "https://localhost:8080/"
        },
        "id": "TNovuByHKhEZ",
        "outputId": "d5338fe9-5e7f-42db-9ae2-33f1a38df2fa"
      },
      "source": [
        "print(results_t9_2_4.f_test(['str=0','sttr2=0','sttr3=0']))\n",
        "print(results_t9_2_4.f_test(['sttr2=0','sttr3=0']))\n",
        "print(results_t9_2_4.f_test(['avginc2=0','avginc3=0']))"
      ],
      "execution_count": null,
      "outputs": [
        {
          "output_type": "stream",
          "text": [
            "<F test: F=array([[2.85645131]]), p=0.03808901452166653, df_denom=211, df_num=3>\n",
            "<F test: F=array([[0.4462781]]), p=0.6406084508384267, df_denom=211, df_num=2>\n",
            "<F test: F=array([[7.74871824]]), p=0.0005657464462124524, df_denom=211, df_num=2>\n"
          ],
          "name": "stdout"
        }
      ]
    },
    {
      "cell_type": "code",
      "metadata": {
        "colab": {
          "base_uri": "https://localhost:8080/"
        },
        "id": "Aj1wyUn7K5Gh",
        "outputId": "2f9efb42-60c6-4994-b1b0-9b6d8fb25c1a"
      },
      "source": [
        "# column(5)\n",
        "reg_t9_2_5 = smf.ols(formula='testscr~str+hiel+strxhiel+meal_pct+avginc+avginc2+avginc3', data=mcas)\n",
        "results_t9_2_5 = reg_t9_2_5.fit(cov_type='HC1')  # robust\n",
        "print(results_t9_2_5.summary())"
      ],
      "execution_count": null,
      "outputs": [
        {
          "output_type": "stream",
          "text": [
            "                            OLS Regression Results                            \n",
            "==============================================================================\n",
            "Dep. Variable:                testscr   R-squared:                       0.686\n",
            "Model:                            OLS   Adj. R-squared:                  0.675\n",
            "Method:                 Least Squares   F-statistic:                     73.02\n",
            "Date:                Mon, 12 Apr 2021   Prob (F-statistic):           5.02e-53\n",
            "Time:                        08:21:37   Log-Likelihood:                -782.03\n",
            "No. Observations:                 220   AIC:                             1580.\n",
            "Df Residuals:                     212   BIC:                             1607.\n",
            "Df Model:                           7                                         \n",
            "Covariance Type:                  HC1                                         \n",
            "==============================================================================\n",
            "                 coef    std err          z      P>|z|      [0.025      0.975]\n",
            "------------------------------------------------------------------------------\n",
            "Intercept    759.9142     23.233     32.708      0.000     714.378     805.450\n",
            "str           -1.0177      0.370     -2.748      0.006      -1.744      -0.292\n",
            "hiel         -12.5607      9.793     -1.283      0.200     -31.756       6.634\n",
            "strxhiel       0.7986      0.555      1.438      0.150      -0.290       1.887\n",
            "meal_pct      -0.7085      0.091     -7.799      0.000      -0.887      -0.530\n",
            "avginc        -3.8665      2.488     -1.554      0.120      -8.744       1.011\n",
            "avginc2        0.1841      0.090      2.050      0.040       0.008       0.360\n",
            "avginc3       -0.0023      0.001     -2.301      0.021      -0.004      -0.000\n",
            "==============================================================================\n",
            "Omnibus:                        1.315   Durbin-Watson:                   2.212\n",
            "Prob(Omnibus):                  0.518   Jarque-Bera (JB):                1.172\n",
            "Skew:                           0.178   Prob(JB):                        0.557\n",
            "Kurtosis:                       3.022   Cond. No.                     5.31e+05\n",
            "==============================================================================\n",
            "\n",
            "Warnings:\n",
            "[1] Standard Errors are heteroscedasticity robust (HC1)\n",
            "[2] The condition number is large, 5.31e+05. This might indicate that there are\n",
            "strong multicollinearity or other numerical problems.\n"
          ],
          "name": "stdout"
        }
      ]
    },
    {
      "cell_type": "code",
      "metadata": {
        "colab": {
          "base_uri": "https://localhost:8080/"
        },
        "id": "LanUsVEtLDE7",
        "outputId": "987900f4-2858-4358-85c7-168c72c07bf6"
      },
      "source": [
        "print(results_t9_2_5.f_test(['str=0','strxhiel=0']))\n",
        "print(results_t9_2_5.f_test(['avginc2=0','avginc3=0']))\n",
        "print(results_t9_2_5.f_test(['hiel=0','strxhiel=0']))"
      ],
      "execution_count": null,
      "outputs": [
        {
          "output_type": "stream",
          "text": [
            "<F test: F=array([[4.00619057]]), p=0.019597758297922596, df_denom=212, df_num=2>\n",
            "<F test: F=array([[5.84677007]]), p=0.003375486213571273, df_denom=212, df_num=2>\n",
            "<F test: F=array([[1.58347292]]), p=0.20767890663973093, df_denom=212, df_num=2>\n"
          ],
          "name": "stdout"
        }
      ]
    },
    {
      "cell_type": "code",
      "metadata": {
        "colab": {
          "base_uri": "https://localhost:8080/"
        },
        "id": "3r5p767ALQOP",
        "outputId": "0d631622-5c35-4df0-862d-1f2af3f45efc"
      },
      "source": [
        "# column(6)\n",
        "reg_t9_2_6 = smf.ols(formula='testscr~str+meal_pct+avginc+avginc2+avginc3', data=mcas)\n",
        "results_t9_2_6 = reg_t9_2_6.fit(cov_type='HC1')  # robust\n",
        "print(results_t9_2_6.summary())"
      ],
      "execution_count": null,
      "outputs": [
        {
          "output_type": "stream",
          "text": [
            "                            OLS Regression Results                            \n",
            "==============================================================================\n",
            "Dep. Variable:                testscr   R-squared:                       0.681\n",
            "Model:                            OLS   Adj. R-squared:                  0.674\n",
            "Method:                 Least Squares   F-statistic:                     109.1\n",
            "Date:                Mon, 12 Apr 2021   Prob (F-statistic):           7.36e-57\n",
            "Time:                        08:23:04   Log-Likelihood:                -783.45\n",
            "No. Observations:                 220   AIC:                             1579.\n",
            "Df Residuals:                     214   BIC:                             1599.\n",
            "Df Model:                           5                                         \n",
            "Covariance Type:                  HC1                                         \n",
            "==============================================================================\n",
            "                 coef    std err          z      P>|z|      [0.025      0.975]\n",
            "------------------------------------------------------------------------------\n",
            "Intercept    747.3639     20.278     36.856      0.000     707.620     787.108\n",
            "str           -0.6719      0.271     -2.477      0.013      -1.204      -0.140\n",
            "meal_pct      -0.6531      0.073     -8.949      0.000      -0.796      -0.510\n",
            "avginc        -3.2180      2.306     -1.396      0.163      -7.737       1.301\n",
            "avginc2        0.1648      0.085      1.947      0.052      -0.001       0.331\n",
            "avginc3       -0.0022      0.001     -2.222      0.026      -0.004      -0.000\n",
            "==============================================================================\n",
            "Omnibus:                        1.078   Durbin-Watson:                   2.208\n",
            "Prob(Omnibus):                  0.583   Jarque-Bera (JB):                0.918\n",
            "Skew:                           0.157   Prob(JB):                        0.632\n",
            "Kurtosis:                       3.041   Cond. No.                     4.90e+05\n",
            "==============================================================================\n",
            "\n",
            "Warnings:\n",
            "[1] Standard Errors are heteroscedasticity robust (HC1)\n",
            "[2] The condition number is large, 4.9e+05. This might indicate that there are\n",
            "strong multicollinearity or other numerical problems.\n"
          ],
          "name": "stdout"
        }
      ]
    },
    {
      "cell_type": "code",
      "metadata": {
        "colab": {
          "base_uri": "https://localhost:8080/"
        },
        "id": "b4kQg0xsLXK-",
        "outputId": "a7840227-6713-45ce-e43b-6a1863d0ee30"
      },
      "source": [
        "print(results_t9_2_6.f_test(['avginc2=0','avginc3=0']))"
      ],
      "execution_count": null,
      "outputs": [
        {
          "output_type": "stream",
          "text": [
            "<F test: F=array([[6.5479168]]), p=0.001737372446958823, df_denom=214, df_num=2>\n"
          ],
          "name": "stdout"
        }
      ]
    },
    {
      "cell_type": "markdown",
      "metadata": {
        "id": "XIHiof8IG5xz"
      },
      "source": [
        "## **9.5 Conclusion**"
      ]
    },
    {
      "cell_type": "code",
      "metadata": {
        "id": "ttY4fzRYL2Ze"
      },
      "source": [
        ""
      ],
      "execution_count": null,
      "outputs": []
    }
  ]
}