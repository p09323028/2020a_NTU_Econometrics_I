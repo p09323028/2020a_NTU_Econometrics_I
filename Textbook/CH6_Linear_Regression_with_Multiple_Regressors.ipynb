{
  "nbformat": 4,
  "nbformat_minor": 0,
  "metadata": {
    "colab": {
      "name": "CH6_Linear Regression with Multiple Regressors.ipynb",
      "provenance": [],
      "collapsed_sections": [],
      "authorship_tag": "ABX9TyNbmCIi0oRv6cIhOk6l4h8+",
      "include_colab_link": true
    },
    "kernelspec": {
      "name": "python3",
      "display_name": "Python 3"
    },
    "language_info": {
      "name": "python"
    }
  },
  "cells": [
    {
      "cell_type": "markdown",
      "metadata": {
        "id": "view-in-github",
        "colab_type": "text"
      },
      "source": [
        "<a href=\"https://colab.research.google.com/github/p09323028/2020f_NTU_Econometrics_I/blob/main/Textbook/CH6_Linear_Regression_with_Multiple_Regressors.ipynb\" target=\"_parent\"><img src=\"https://colab.research.google.com/assets/colab-badge.svg\" alt=\"Open In Colab\"/></a>"
      ]
    },
    {
      "cell_type": "markdown",
      "metadata": {
        "id": "OEZ9uHRhDDXd"
      },
      "source": [
        "# **Chapter 6: Linear Regression with Multiple Regressors**\n",
        "Author: Jinze Wu\n",
        "\n",
        "Student Number: p09323028"
      ]
    },
    {
      "cell_type": "markdown",
      "metadata": {
        "id": "ZWI7VFKaPyof"
      },
      "source": [
        "前置作業:\n",
        "- import 套件\n",
        "- 載入資料\n",
        "- 讀取資料"
      ]
    },
    {
      "cell_type": "code",
      "metadata": {
        "id": "a4-mzhjhDbLE"
      },
      "source": [
        "import pandas as pd\n",
        "import numpy as np\n",
        "import matplotlib.pyplot as plt\n",
        "import statsmodels.formula.api as smf\n",
        "from statsmodels.stats.weightstats import ttest_ind"
      ],
      "execution_count": null,
      "outputs": []
    },
    {
      "cell_type": "code",
      "metadata": {
        "id": "amKSZTlxEMof"
      },
      "source": [
        "!gdown --id '10Q4-t5L8KZjaxUqR8iGnmXx_lY9JYgSL' --output caschool.xlsx"
      ],
      "execution_count": null,
      "outputs": []
    },
    {
      "cell_type": "code",
      "metadata": {
        "id": "SxklyeJ_EYBk"
      },
      "source": [
        "caschool = pd.read_excel('caschool.xlsx')"
      ],
      "execution_count": null,
      "outputs": []
    },
    {
      "cell_type": "markdown",
      "metadata": {
        "id": "mkImzJtNEcIj"
      },
      "source": [
        "**Decription of Data;**\n",
        "\n",
        "dist_code -- district Code;\n",
        "\n",
        "Read_scr  -- avg Reading Score;\n",
        "\n",
        "Math_scr  -- avg Math Score;\n",
        "\n",
        "County   --  county;\n",
        "\n",
        "District -- District;\n",
        "\n",
        "gr_span -- grade span of district;\n",
        "\n",
        "enrl_tot -- total enrollment;\n",
        "\n",
        "teachers -- number of teachers;\n",
        "\n",
        "computer -- number of computers;\n",
        "\n",
        "testscr -- avg test score (= (read_scr+math_scr)/2 );\n",
        "\n",
        "comp_stu -- computers per student ( = computer/enrl_tot);\n",
        "\n",
        "expn_stu -- expentitures per student;\n",
        "\n",
        "str -- student teacher ration (teachers/enrl_tot);\n",
        "\n",
        "el_pct -- percent of English Learners;\n",
        "\n",
        "Meal_pct -- Percent qualifying for reduced-price lunch;\n",
        "\n",
        "clw_pct -- Percent qualifying for CalWorks;\n",
        "\n",
        "aving -- district average income (in $1000's);"
      ]
    },
    {
      "cell_type": "markdown",
      "metadata": {
        "id": "z9-GATbUFC_c"
      },
      "source": [
        "## **6.1 Omitted Variable Bias**"
      ]
    },
    {
      "cell_type": "markdown",
      "metadata": {
        "id": "1fGXGzTMgXhO"
      },
      "source": [
        "### TABLE 6.1"
      ]
    },
    {
      "cell_type": "code",
      "metadata": {
        "id": "D8mCD5mQgebb"
      },
      "source": [
        "caschool['str_20'] = caschool.str.apply(lambda x: 1 if x < 20 else 0)\n",
        "caschool['elq1'] = caschool.el_pct.apply(lambda x: 1 if x < 1.9 else 0)\n",
        "caschool['elq2'] = caschool.el_pct.apply(lambda x: 1 if (x >= 1.9 and x < 8.8) else 0)\n",
        "caschool['elq3'] = caschool.el_pct.apply(lambda x: 1 if (x >= 8.8 and x < 23.0) else 0)\n",
        "caschool['elq4'] = caschool.el_pct.apply(lambda x: 1 if x > 23.0 else 0)"
      ],
      "execution_count": null,
      "outputs": []
    },
    {
      "cell_type": "code",
      "metadata": {
        "id": "eWJFL2nyovS0"
      },
      "source": [
        "ts_lostr = caschool[caschool['str_20']==1]\n",
        "ts_histr = caschool[caschool['str_20']==0]"
      ],
      "execution_count": null,
      "outputs": []
    },
    {
      "cell_type": "markdown",
      "metadata": {
        "id": "baMVrwvxtL_i"
      },
      "source": [
        "#### All districts"
      ]
    },
    {
      "cell_type": "code",
      "metadata": {
        "colab": {
          "base_uri": "https://localhost:8080/"
        },
        "id": "iivEibRHhqhK",
        "outputId": "9f627451-32de-4031-a925-985b9039fac1"
      },
      "source": [
        "results = ttest_ind(x1=ts_lostr.testscr, x2=ts_histr.testscr, usevar='unequal')\n",
        "print('t={:.4f}'.format(results[0]))\n",
        "print('pvalue={:.4f}'.format(results[1]))\n",
        "print('df={:.4f}'.format(results[2]))"
      ],
      "execution_count": null,
      "outputs": [
        {
          "output_type": "stream",
          "text": [
            "t=4.0426\n",
            "pvalue=0.0001\n",
            "df=403.6070\n"
          ],
          "name": "stdout"
        }
      ]
    },
    {
      "cell_type": "markdown",
      "metadata": {
        "id": "5JZydMiCtQXU"
      },
      "source": [
        "####  $<1.9\\%$"
      ]
    },
    {
      "cell_type": "code",
      "metadata": {
        "colab": {
          "base_uri": "https://localhost:8080/"
        },
        "id": "Pi4weEm_tQkk",
        "outputId": "daf3d94b-1412-48ab-d410-dd79e93ddae4"
      },
      "source": [
        "results = ttest_ind(x1=ts_lostr[ts_lostr['elq1']==1].testscr, x2=ts_histr[ts_histr['elq1']==1].testscr, usevar='unequal')\n",
        "print('t={:.4f}'.format(results[0]))\n",
        "print('pvalue={:.4f}'.format(results[1]))\n",
        "print('df={:.4f}'.format(results[2]))"
      ],
      "execution_count": null,
      "outputs": [
        {
          "output_type": "stream",
          "text": [
            "t=-0.3039\n",
            "pvalue=0.7623\n",
            "df=59.4242\n"
          ],
          "name": "stdout"
        }
      ]
    },
    {
      "cell_type": "markdown",
      "metadata": {
        "id": "QfiEtJeStQu-"
      },
      "source": [
        "####  $1.9-8.8\\%$"
      ]
    },
    {
      "cell_type": "code",
      "metadata": {
        "colab": {
          "base_uri": "https://localhost:8080/"
        },
        "id": "STr2hJz3tQ4y",
        "outputId": "858febfd-cd95-49fc-cad0-4231398a5295"
      },
      "source": [
        "results = ttest_ind(x1=ts_lostr[ts_lostr['elq2']==1].testscr, x2=ts_histr[ts_histr['elq2']==1].testscr, usevar='unequal')\n",
        "print('t={:.4f}'.format(results[0]))\n",
        "print('pvalue={:.4f}'.format(results[1]))\n",
        "print('df={:.4f}'.format(results[2]))"
      ],
      "execution_count": null,
      "outputs": [
        {
          "output_type": "stream",
          "text": [
            "t=1.1392\n",
            "pvalue=0.2572\n",
            "df=105.3476\n"
          ],
          "name": "stdout"
        }
      ]
    },
    {
      "cell_type": "markdown",
      "metadata": {
        "id": "VlpHn1Vxtd1g"
      },
      "source": [
        "####  $8.8-23.3\\%$"
      ]
    },
    {
      "cell_type": "code",
      "metadata": {
        "colab": {
          "base_uri": "https://localhost:8080/"
        },
        "id": "2fwGxoowtg3a",
        "outputId": "7bc2f7d1-0ded-4abb-d7ee-9a910ad2f1a5"
      },
      "source": [
        "results = ttest_ind(x1=ts_lostr[ts_lostr['elq3']==1].testscr, x2=ts_histr[ts_histr['elq3']==1].testscr, usevar='unequal')\n",
        "print('t={:.4f}'.format(results[0]))\n",
        "print('pvalue={:.4f}'.format(results[1]))\n",
        "print('df={:.4f}'.format(results[2]))"
      ],
      "execution_count": null,
      "outputs": [
        {
          "output_type": "stream",
          "text": [
            "t=1.7208\n",
            "pvalue=0.0884\n",
            "df=99.1758\n"
          ],
          "name": "stdout"
        }
      ]
    },
    {
      "cell_type": "markdown",
      "metadata": {
        "id": "ZPB8bJ6wthAR"
      },
      "source": [
        "####  $>23.3\\%$"
      ]
    },
    {
      "cell_type": "code",
      "metadata": {
        "colab": {
          "base_uri": "https://localhost:8080/"
        },
        "id": "kJhLkVsxtjyT",
        "outputId": "75384629-d4fc-43aa-bfa8-e02dbd1472c6"
      },
      "source": [
        "results = ttest_ind(x1=ts_lostr[ts_lostr['elq4']==1].testscr, x2=ts_histr[ts_histr['elq4']==1].testscr, usevar='unequal')\n",
        "print('t={:.4f}'.format(results[0]))\n",
        "print('pvalue={:.4f}'.format(results[1]))\n",
        "print('df={:.4f}'.format(results[2]))"
      ],
      "execution_count": null,
      "outputs": [
        {
          "output_type": "stream",
          "text": [
            "t=0.6786\n",
            "pvalue=0.4994\n",
            "df=79.0952\n"
          ],
          "name": "stdout"
        }
      ]
    },
    {
      "cell_type": "markdown",
      "metadata": {
        "id": "aDi_219XWS-E"
      },
      "source": [
        "## **6.2 The Multiple Regression Model**"
      ]
    },
    {
      "cell_type": "markdown",
      "metadata": {
        "id": "YDFqVSg4WX7Z"
      },
      "source": [
        "## **6.3 The OLS Estimator in Multiple Regression**"
      ]
    },
    {
      "cell_type": "markdown",
      "metadata": {
        "id": "BIJ-4OaHXN5U"
      },
      "source": [
        "### Equation 6.11"
      ]
    },
    {
      "cell_type": "markdown",
      "metadata": {
        "id": "4SJ-waPMXLZ_"
      },
      "source": [
        "$\\widehat{TestScore} = 698.9 - 2.28 \\times STR$"
      ]
    },
    {
      "cell_type": "code",
      "metadata": {
        "colab": {
          "base_uri": "https://localhost:8080/"
        },
        "id": "ZUGL3FEBWdyb",
        "outputId": "c885ba90-1572-4712-f613-eb6a4d1531d6"
      },
      "source": [
        "reg_6_11 = smf.ols(formula='testscr~str', data=caschool)\n",
        "results_6_11 = reg_6_11.fit(cov_type='HC1')  # robust\n",
        "print(results_6_11.summary())"
      ],
      "execution_count": null,
      "outputs": [
        {
          "output_type": "stream",
          "text": [
            "                            OLS Regression Results                            \n",
            "==============================================================================\n",
            "Dep. Variable:                testscr   R-squared:                       0.051\n",
            "Model:                            OLS   Adj. R-squared:                  0.049\n",
            "Method:                 Least Squares   F-statistic:                     19.26\n",
            "Date:                Thu, 08 Apr 2021   Prob (F-statistic):           1.45e-05\n",
            "Time:                        09:05:09   Log-Likelihood:                -1822.2\n",
            "No. Observations:                 420   AIC:                             3648.\n",
            "Df Residuals:                     418   BIC:                             3657.\n",
            "Df Model:                           1                                         \n",
            "Covariance Type:                  HC1                                         \n",
            "==============================================================================\n",
            "                 coef    std err          z      P>|z|      [0.025      0.975]\n",
            "------------------------------------------------------------------------------\n",
            "Intercept    698.9330     10.364     67.436      0.000     678.619     719.247\n",
            "str           -2.2798      0.519     -4.389      0.000      -3.298      -1.262\n",
            "==============================================================================\n",
            "Omnibus:                        5.390   Durbin-Watson:                   0.129\n",
            "Prob(Omnibus):                  0.068   Jarque-Bera (JB):                3.589\n",
            "Skew:                          -0.012   Prob(JB):                        0.166\n",
            "Kurtosis:                       2.548   Cond. No.                         207.\n",
            "==============================================================================\n",
            "\n",
            "Warnings:\n",
            "[1] Standard Errors are heteroscedasticity robust (HC1)\n"
          ],
          "name": "stdout"
        }
      ]
    },
    {
      "cell_type": "markdown",
      "metadata": {
        "id": "HtQKDV3EutAm"
      },
      "source": [
        "### Equation 6.11"
      ]
    },
    {
      "cell_type": "markdown",
      "metadata": {
        "id": "OiZ6V6QcuwfX"
      },
      "source": [
        "$\\widehat{TestScore} = 686.0 - 1.10 \\times STR - 0.65 \\times PctEL$"
      ]
    },
    {
      "cell_type": "code",
      "metadata": {
        "colab": {
          "base_uri": "https://localhost:8080/"
        },
        "id": "_fa7KtPCupiP",
        "outputId": "01541043-c678-4e66-f988-fb85476aa7ac"
      },
      "source": [
        "reg_6_12 = smf.ols(formula='testscr~str+el_pct', data=caschool)\n",
        "results_6_12 = reg_6_12.fit(cov_type='HC1')  # robust\n",
        "print(results_6_12.summary())"
      ],
      "execution_count": null,
      "outputs": [
        {
          "output_type": "stream",
          "text": [
            "                            OLS Regression Results                            \n",
            "==============================================================================\n",
            "Dep. Variable:                testscr   R-squared:                       0.426\n",
            "Model:                            OLS   Adj. R-squared:                  0.424\n",
            "Method:                 Least Squares   F-statistic:                     223.8\n",
            "Date:                Thu, 08 Apr 2021   Prob (F-statistic):           9.28e-67\n",
            "Time:                        09:06:36   Log-Likelihood:                -1716.6\n",
            "No. Observations:                 420   AIC:                             3439.\n",
            "Df Residuals:                     417   BIC:                             3451.\n",
            "Df Model:                           2                                         \n",
            "Covariance Type:                  HC1                                         \n",
            "==============================================================================\n",
            "                 coef    std err          z      P>|z|      [0.025      0.975]\n",
            "------------------------------------------------------------------------------\n",
            "Intercept    686.0322      8.728     78.599      0.000     668.925     703.139\n",
            "str           -1.1013      0.433     -2.544      0.011      -1.950      -0.253\n",
            "el_pct        -0.6498      0.031    -20.939      0.000      -0.711      -0.589\n",
            "==============================================================================\n",
            "Omnibus:                        0.631   Durbin-Watson:                   0.686\n",
            "Prob(Omnibus):                  0.729   Jarque-Bera (JB):                0.550\n",
            "Skew:                           0.088   Prob(JB):                        0.760\n",
            "Kurtosis:                       3.024   Cond. No.                         301.\n",
            "==============================================================================\n",
            "\n",
            "Warnings:\n",
            "[1] Standard Errors are heteroscedasticity robust (HC1)\n"
          ],
          "name": "stdout"
        }
      ]
    },
    {
      "cell_type": "markdown",
      "metadata": {
        "id": "5M3zG8DbXCan"
      },
      "source": [
        "## **6.4 Measures of Fit in Multiple Regression**"
      ]
    }
  ]
}