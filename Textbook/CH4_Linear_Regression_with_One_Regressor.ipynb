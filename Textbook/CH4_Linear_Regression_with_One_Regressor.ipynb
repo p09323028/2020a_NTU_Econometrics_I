{
  "nbformat": 4,
  "nbformat_minor": 0,
  "metadata": {
    "colab": {
      "name": "CH4_Linear Regression with One Regressor.ipynb",
      "provenance": [],
      "collapsed_sections": [],
      "authorship_tag": "ABX9TyNN8AiPDVYrMJPZGpjChD5U",
      "include_colab_link": true
    },
    "kernelspec": {
      "name": "python3",
      "display_name": "Python 3"
    },
    "language_info": {
      "name": "python"
    }
  },
  "cells": [
    {
      "cell_type": "markdown",
      "metadata": {
        "id": "view-in-github",
        "colab_type": "text"
      },
      "source": [
        "<a href=\"https://colab.research.google.com/github/p09323028/2020a_NTU_Econometrics_I/blob/main/Textbook/CH4_Linear_Regression_with_One_Regressor.ipynb\" target=\"_parent\"><img src=\"https://colab.research.google.com/assets/colab-badge.svg\" alt=\"Open In Colab\"/></a>"
      ]
    },
    {
      "cell_type": "markdown",
      "metadata": {
        "id": "OEZ9uHRhDDXd"
      },
      "source": [
        "# **Chapter 4: Linear Regression with One Regressor**\n",
        "前置作業:\n",
        "- import 套件\n",
        "- 載入資料\n",
        "- 讀取資料"
      ]
    },
    {
      "cell_type": "code",
      "metadata": {
        "id": "a4-mzhjhDbLE"
      },
      "source": [
        "import pandas as pd\n",
        "import numpy as np\n",
        "import matplotlib.pyplot as plt\n",
        "import statsmodels.formula.api as smf"
      ],
      "execution_count": null,
      "outputs": []
    },
    {
      "cell_type": "code",
      "metadata": {
        "id": "amKSZTlxEMof"
      },
      "source": [
        "!gdown --id '10Q4-t5L8KZjaxUqR8iGnmXx_lY9JYgSL' --output caschool.xlsx"
      ],
      "execution_count": null,
      "outputs": []
    },
    {
      "cell_type": "code",
      "metadata": {
        "id": "SxklyeJ_EYBk"
      },
      "source": [
        "caschool = pd.read_excel('caschool.xlsx')"
      ],
      "execution_count": null,
      "outputs": []
    },
    {
      "cell_type": "markdown",
      "metadata": {
        "id": "mkImzJtNEcIj"
      },
      "source": [
        "**Decription of Data;**\n",
        "\n",
        "dist_code -- district Code;\n",
        "\n",
        "Read_scr  -- avg Reading Score;\n",
        "\n",
        "Math_scr  -- avg Math Score;\n",
        "\n",
        "County   --  county;\n",
        "\n",
        "District -- District;\n",
        "\n",
        "gr_span -- grade span of district;\n",
        "\n",
        "enrl_tot -- total enrollment;\n",
        "\n",
        "teachers -- number of teachers;\n",
        "\n",
        "computer -- number of computers;\n",
        "\n",
        "testscr -- avg test score (= (read_scr+math_scr)/2 );\n",
        "\n",
        "comp_stu -- computers per student ( = computer/enrl_tot);\n",
        "\n",
        "expn_stu -- expentitures per student;\n",
        "\n",
        "str -- student teacher ration (teachers/enrl_tot);\n",
        "\n",
        "el_pct -- percent of English Learners;\n",
        "\n",
        "Meal_pct -- Percent qualifying for reduced-price lunch;\n",
        "\n",
        "clw_pct -- Percent qualifying for CalWorks;\n",
        "\n",
        "aving -- district average income (in $1000's);"
      ]
    },
    {
      "cell_type": "markdown",
      "metadata": {
        "id": "z9-GATbUFC_c"
      },
      "source": [
        "## **4.1 The Linear Regression Model**"
      ]
    },
    {
      "cell_type": "markdown",
      "metadata": {
        "id": "pNoGfXlTEfLo"
      },
      "source": [
        "## **4.2 Estimating the Coefficients of the Linear Regression Model**"
      ]
    },
    {
      "cell_type": "markdown",
      "metadata": {
        "id": "fDlGyHq4Fvvd"
      },
      "source": [
        "### **Table 4.1**"
      ]
    },
    {
      "cell_type": "code",
      "metadata": {
        "colab": {
          "base_uri": "https://localhost:8080/"
        },
        "id": "PW7VQzDpFQd0",
        "outputId": "ce3a21cf-5e82-4fa3-809c-47d65930ede5"
      },
      "source": [
        "caschool.str.describe()"
      ],
      "execution_count": null,
      "outputs": [
        {
          "output_type": "execute_result",
          "data": {
            "text/plain": [
              "count    420.000000\n",
              "mean      19.640425\n",
              "std        1.891812\n",
              "min       14.000000\n",
              "25%       18.582360\n",
              "50%       19.723208\n",
              "75%       20.871815\n",
              "max       25.799999\n",
              "Name: str, dtype: float64"
            ]
          },
          "metadata": {
            "tags": []
          },
          "execution_count": 4
        }
      ]
    },
    {
      "cell_type": "code",
      "metadata": {
        "colab": {
          "base_uri": "https://localhost:8080/",
          "height": 793
        },
        "id": "YmhoPrGEFheK",
        "outputId": "4faef74e-0b4e-4c9c-f87d-2a579ce77116"
      },
      "source": [
        "caschool[['str','testscr']].describe([0.05,0.1,0.15,0.2,0.25,0.3,0.35,0.4,0.45,0.5,0.55,0.6,0.65,0.7,0.75,0.8,0.85,0.9,0.95])"
      ],
      "execution_count": null,
      "outputs": [
        {
          "output_type": "execute_result",
          "data": {
            "text/html": [
              "<div>\n",
              "<style scoped>\n",
              "    .dataframe tbody tr th:only-of-type {\n",
              "        vertical-align: middle;\n",
              "    }\n",
              "\n",
              "    .dataframe tbody tr th {\n",
              "        vertical-align: top;\n",
              "    }\n",
              "\n",
              "    .dataframe thead th {\n",
              "        text-align: right;\n",
              "    }\n",
              "</style>\n",
              "<table border=\"1\" class=\"dataframe\">\n",
              "  <thead>\n",
              "    <tr style=\"text-align: right;\">\n",
              "      <th></th>\n",
              "      <th>str</th>\n",
              "      <th>testscr</th>\n",
              "    </tr>\n",
              "  </thead>\n",
              "  <tbody>\n",
              "    <tr>\n",
              "      <th>count</th>\n",
              "      <td>420.000000</td>\n",
              "      <td>420.000000</td>\n",
              "    </tr>\n",
              "    <tr>\n",
              "      <th>mean</th>\n",
              "      <td>19.640425</td>\n",
              "      <td>654.156548</td>\n",
              "    </tr>\n",
              "    <tr>\n",
              "      <th>std</th>\n",
              "      <td>1.891812</td>\n",
              "      <td>19.053348</td>\n",
              "    </tr>\n",
              "    <tr>\n",
              "      <th>min</th>\n",
              "      <td>14.000000</td>\n",
              "      <td>605.550049</td>\n",
              "    </tr>\n",
              "    <tr>\n",
              "      <th>5%</th>\n",
              "      <td>16.425264</td>\n",
              "      <td>623.195010</td>\n",
              "    </tr>\n",
              "    <tr>\n",
              "      <th>10%</th>\n",
              "      <td>17.348596</td>\n",
              "      <td>630.395020</td>\n",
              "    </tr>\n",
              "    <tr>\n",
              "      <th>15%</th>\n",
              "      <td>17.746679</td>\n",
              "      <td>634.099976</td>\n",
              "    </tr>\n",
              "    <tr>\n",
              "      <th>20%</th>\n",
              "      <td>18.159517</td>\n",
              "      <td>636.990002</td>\n",
              "    </tr>\n",
              "    <tr>\n",
              "      <th>25%</th>\n",
              "      <td>18.582360</td>\n",
              "      <td>640.049988</td>\n",
              "    </tr>\n",
              "    <tr>\n",
              "      <th>30%</th>\n",
              "      <td>18.810062</td>\n",
              "      <td>643.500000</td>\n",
              "    </tr>\n",
              "    <tr>\n",
              "      <th>35%</th>\n",
              "      <td>19.058511</td>\n",
              "      <td>645.912500</td>\n",
              "    </tr>\n",
              "    <tr>\n",
              "      <th>40%</th>\n",
              "      <td>19.266177</td>\n",
              "      <td>649.069995</td>\n",
              "    </tr>\n",
              "    <tr>\n",
              "      <th>45%</th>\n",
              "      <td>19.394826</td>\n",
              "      <td>652.099976</td>\n",
              "    </tr>\n",
              "    <tr>\n",
              "      <th>50%</th>\n",
              "      <td>19.723208</td>\n",
              "      <td>654.449982</td>\n",
              "    </tr>\n",
              "    <tr>\n",
              "      <th>55%</th>\n",
              "      <td>19.929511</td>\n",
              "      <td>656.672519</td>\n",
              "    </tr>\n",
              "    <tr>\n",
              "      <th>60%</th>\n",
              "      <td>20.078303</td>\n",
              "      <td>659.400024</td>\n",
              "    </tr>\n",
              "    <tr>\n",
              "      <th>65%</th>\n",
              "      <td>20.282269</td>\n",
              "      <td>662.400024</td>\n",
              "    </tr>\n",
              "    <tr>\n",
              "      <th>70%</th>\n",
              "      <td>20.595862</td>\n",
              "      <td>664.415002</td>\n",
              "    </tr>\n",
              "    <tr>\n",
              "      <th>75%</th>\n",
              "      <td>20.871815</td>\n",
              "      <td>666.662506</td>\n",
              "    </tr>\n",
              "    <tr>\n",
              "      <th>80%</th>\n",
              "      <td>21.080501</td>\n",
              "      <td>669.439978</td>\n",
              "    </tr>\n",
              "    <tr>\n",
              "      <th>85%</th>\n",
              "      <td>21.413494</td>\n",
              "      <td>672.465018</td>\n",
              "    </tr>\n",
              "    <tr>\n",
              "      <th>90%</th>\n",
              "      <td>21.867405</td>\n",
              "      <td>678.859991</td>\n",
              "    </tr>\n",
              "    <tr>\n",
              "      <th>95%</th>\n",
              "      <td>22.625761</td>\n",
              "      <td>685.005014</td>\n",
              "    </tr>\n",
              "    <tr>\n",
              "      <th>max</th>\n",
              "      <td>25.799999</td>\n",
              "      <td>706.750000</td>\n",
              "    </tr>\n",
              "  </tbody>\n",
              "</table>\n",
              "</div>"
            ],
            "text/plain": [
              "              str     testscr\n",
              "count  420.000000  420.000000\n",
              "mean    19.640425  654.156548\n",
              "std      1.891812   19.053348\n",
              "min     14.000000  605.550049\n",
              "5%      16.425264  623.195010\n",
              "10%     17.348596  630.395020\n",
              "15%     17.746679  634.099976\n",
              "20%     18.159517  636.990002\n",
              "25%     18.582360  640.049988\n",
              "30%     18.810062  643.500000\n",
              "35%     19.058511  645.912500\n",
              "40%     19.266177  649.069995\n",
              "45%     19.394826  652.099976\n",
              "50%     19.723208  654.449982\n",
              "55%     19.929511  656.672519\n",
              "60%     20.078303  659.400024\n",
              "65%     20.282269  662.400024\n",
              "70%     20.595862  664.415002\n",
              "75%     20.871815  666.662506\n",
              "80%     21.080501  669.439978\n",
              "85%     21.413494  672.465018\n",
              "90%     21.867405  678.859991\n",
              "95%     22.625761  685.005014\n",
              "max     25.799999  706.750000"
            ]
          },
          "metadata": {
            "tags": []
          },
          "execution_count": 5
        }
      ]
    },
    {
      "cell_type": "code",
      "metadata": {
        "colab": {
          "base_uri": "https://localhost:8080/",
          "height": 111
        },
        "id": "itKrdZXeGLlY",
        "outputId": "8d84b307-e030-4f4b-852d-e56531a49658"
      },
      "source": [
        "# Correlation\n",
        "caschool[['str','testscr']].corr()"
      ],
      "execution_count": null,
      "outputs": [
        {
          "output_type": "execute_result",
          "data": {
            "text/html": [
              "<div>\n",
              "<style scoped>\n",
              "    .dataframe tbody tr th:only-of-type {\n",
              "        vertical-align: middle;\n",
              "    }\n",
              "\n",
              "    .dataframe tbody tr th {\n",
              "        vertical-align: top;\n",
              "    }\n",
              "\n",
              "    .dataframe thead th {\n",
              "        text-align: right;\n",
              "    }\n",
              "</style>\n",
              "<table border=\"1\" class=\"dataframe\">\n",
              "  <thead>\n",
              "    <tr style=\"text-align: right;\">\n",
              "      <th></th>\n",
              "      <th>str</th>\n",
              "      <th>testscr</th>\n",
              "    </tr>\n",
              "  </thead>\n",
              "  <tbody>\n",
              "    <tr>\n",
              "      <th>str</th>\n",
              "      <td>1.000000</td>\n",
              "      <td>-0.226363</td>\n",
              "    </tr>\n",
              "    <tr>\n",
              "      <th>testscr</th>\n",
              "      <td>-0.226363</td>\n",
              "      <td>1.000000</td>\n",
              "    </tr>\n",
              "  </tbody>\n",
              "</table>\n",
              "</div>"
            ],
            "text/plain": [
              "              str   testscr\n",
              "str      1.000000 -0.226363\n",
              "testscr -0.226363  1.000000"
            ]
          },
          "metadata": {
            "tags": []
          },
          "execution_count": 6
        }
      ]
    },
    {
      "cell_type": "markdown",
      "metadata": {
        "id": "PEHSl1ueGwoN"
      },
      "source": [
        "### **FIGURE 4.2**"
      ]
    },
    {
      "cell_type": "code",
      "metadata": {
        "colab": {
          "base_uri": "https://localhost:8080/",
          "height": 331
        },
        "id": "1lDGyzehHEEy",
        "outputId": "297f32fa-c47d-4cbf-acc9-81f812c3015b"
      },
      "source": [
        "plt.figure(figsize=[9.6, 4.8])\n",
        "plt.scatter(x='str', y='testscr', data=caschool, color='dimgrey', s=15)\n",
        "# plt.title('Scatterplot of Test Score vs. Student–Teacher Ratio (California School District Data)')\n",
        "plt.xlabel('Student–teacher ratio', size=14)\n",
        "plt.ylabel('Test score', size=14)\n",
        "plt.xlim(10,30)\n",
        "plt.ylim(600,720)\n",
        "plt.show()"
      ],
      "execution_count": null,
      "outputs": [
        {
          "output_type": "display_data",
          "data": {
            "image/png": "[encoded data removed]",
            "text/plain": [
              "<Figure size 691.2x345.6 with 1 Axes>"
            ]
          },
          "metadata": {
            "tags": [],
            "needs_background": "light"
          }
        }
      ]
    },
    {
      "cell_type": "markdown",
      "metadata": {
        "id": "mdT_szaJHoPO"
      },
      "source": [
        "### Equation 4.9"
      ]
    },
    {
      "cell_type": "markdown",
      "metadata": {
        "id": "YCYrqPQETyts"
      },
      "source": [
        "$\\widehat{TestScore} = 698.9 - 2.28 \\times STR$"
      ]
    },
    {
      "cell_type": "code",
      "metadata": {
        "colab": {
          "base_uri": "https://localhost:8080/"
        },
        "id": "88XLt_eOK7Qf",
        "outputId": "0aacb7e0-0b11-4697-9db1-f0485838f166"
      },
      "source": [
        "reg_4_9 = smf.ols(formula='testscr~str', data=caschool)\n",
        "results_4_9 = reg_4_9.fit(cov_type='HC1')  # robust\n",
        "print(results_4_9.summary())"
      ],
      "execution_count": null,
      "outputs": [
        {
          "output_type": "stream",
          "text": [
            "                            OLS Regression Results                            \n",
            "==============================================================================\n",
            "Dep. Variable:                testscr   R-squared:                       0.051\n",
            "Model:                            OLS   Adj. R-squared:                  0.049\n",
            "Method:                 Least Squares   F-statistic:                     19.26\n",
            "Date:                Thu, 08 Apr 2021   Prob (F-statistic):           1.45e-05\n",
            "Time:                        06:31:16   Log-Likelihood:                -1822.2\n",
            "No. Observations:                 420   AIC:                             3648.\n",
            "Df Residuals:                     418   BIC:                             3657.\n",
            "Df Model:                           1                                         \n",
            "Covariance Type:                  HC1                                         \n",
            "==============================================================================\n",
            "                 coef    std err          z      P>|z|      [0.025      0.975]\n",
            "------------------------------------------------------------------------------\n",
            "Intercept    698.9330     10.364     67.436      0.000     678.619     719.247\n",
            "str           -2.2798      0.519     -4.389      0.000      -3.298      -1.262\n",
            "==============================================================================\n",
            "Omnibus:                        5.390   Durbin-Watson:                   0.129\n",
            "Prob(Omnibus):                  0.068   Jarque-Bera (JB):                3.589\n",
            "Skew:                          -0.012   Prob(JB):                        0.166\n",
            "Kurtosis:                       2.548   Cond. No.                         207.\n",
            "==============================================================================\n",
            "\n",
            "Warnings:\n",
            "[1] Standard Errors are heteroscedasticity robust (HC1)\n"
          ],
          "name": "stdout"
        }
      ]
    },
    {
      "cell_type": "markdown",
      "metadata": {
        "id": "32GCgehJLQJJ"
      },
      "source": [
        "### **FIGURE 4.3**"
      ]
    },
    {
      "cell_type": "code",
      "metadata": {
        "colab": {
          "base_uri": "https://localhost:8080/",
          "height": 331
        },
        "id": "SMCHRWeWMUgj",
        "outputId": "4958f747-1b6a-4518-b6db-3d48070c9eaf"
      },
      "source": [
        "b0, b1 = results_4_9.params[0], results_4_9.params[1]\n",
        "\n",
        "plt.figure(figsize=[9.6, 4.8])\n",
        "plt.scatter(caschool['str'], caschool['testscr'], color='dimgrey', s=15)\n",
        "plt.xlabel('Student–teacher ratio', size=14)\n",
        "plt.ylabel('Test score', size=14)\n",
        "\n",
        "x = np.linspace(12,29,100)\n",
        "plt.plot(x, b0+b1*x, color='cornflowerblue')\n",
        "\n",
        "plt.xlim(10,30)\n",
        "plt.ylim(600,720)\n",
        "\n",
        "plt.show()"
      ],
      "execution_count": null,
      "outputs": [
        {
          "output_type": "display_data",
          "data": {
            "image/png": "[encoded data removed]",
            "text/plain": [
              "<Figure size 691.2x345.6 with 1 Axes>"
            ]
          },
          "metadata": {
            "tags": [],
            "needs_background": "light"
          }
        }
      ]
    }
  ]
}