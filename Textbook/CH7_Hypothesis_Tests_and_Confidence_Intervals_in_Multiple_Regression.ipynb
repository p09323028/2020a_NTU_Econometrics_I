{
  "nbformat": 4,
  "nbformat_minor": 0,
  "metadata": {
    "colab": {
      "name": "CH7_Hypothesis Tests and Confidence Intervals in Multiple Regression.ipynb",
      "provenance": [],
      "collapsed_sections": [],
      "authorship_tag": "ABX9TyNIx/EeTPlVAxGCpDCdY/Ck",
      "include_colab_link": true
    },
    "kernelspec": {
      "name": "python3",
      "display_name": "Python 3"
    },
    "language_info": {
      "name": "python"
    }
  },
  "cells": [
    {
      "cell_type": "markdown",
      "metadata": {
        "id": "view-in-github",
        "colab_type": "text"
      },
      "source": [
        "<a href=\"https://colab.research.google.com/github/p09323028/2020f_NTU_Econometrics_I/blob/main/Textbook/CH7_Hypothesis_Tests_and_Confidence_Intervals_in_Multiple_Regression.ipynb\" target=\"_parent\"><img src=\"https://colab.research.google.com/assets/colab-badge.svg\" alt=\"Open In Colab\"/></a>"
      ]
    },
    {
      "cell_type": "markdown",
      "metadata": {
        "id": "OEZ9uHRhDDXd"
      },
      "source": [
        "# **Chapter 7: Hypothesis Tests and Confidence Intervals in Multiple Regression**\n",
        "Author: Jinze Wu\n",
        "\n",
        "Student Number: p09323028"
      ]
    },
    {
      "cell_type": "markdown",
      "metadata": {
        "id": "-vCXJ85JP7rT"
      },
      "source": [
        "前置作業:\n",
        "- import 套件\n",
        "- 載入資料\n",
        "- 讀取資料"
      ]
    },
    {
      "cell_type": "code",
      "metadata": {
        "id": "a4-mzhjhDbLE",
        "colab": {
          "base_uri": "https://localhost:8080/"
        },
        "outputId": "a79fbb83-abc0-4763-bf6a-667114008110"
      },
      "source": [
        "import pandas as pd\n",
        "import numpy as np\n",
        "import matplotlib.pyplot as plt\n",
        "import statsmodels.formula.api as smf\n",
        "from statsmodels.stats.weightstats import ttest_ind"
      ],
      "execution_count": null,
      "outputs": [
        {
          "output_type": "stream",
          "text": [
            "/usr/local/lib/python3.7/dist-packages/statsmodels/tools/_testing.py:19: FutureWarning: pandas.util.testing is deprecated. Use the functions in the public API at pandas.testing instead.\n",
            "  import pandas.util.testing as tm\n"
          ],
          "name": "stderr"
        }
      ]
    },
    {
      "cell_type": "code",
      "metadata": {
        "id": "amKSZTlxEMof",
        "colab": {
          "base_uri": "https://localhost:8080/"
        },
        "outputId": "d4f93ca9-97d6-4a2c-9e8a-7c0e95824d47"
      },
      "source": [
        "!gdown --id '10Q4-t5L8KZjaxUqR8iGnmXx_lY9JYgSL' --output caschool.xlsx"
      ],
      "execution_count": null,
      "outputs": [
        {
          "output_type": "stream",
          "text": [
            "Downloading...\n",
            "From: https://drive.google.com/uc?id=10Q4-t5L8KZjaxUqR8iGnmXx_lY9JYgSL\n",
            "To: /content/caschool.xlsx\n",
            "\r  0% 0.00/91.4k [00:00<?, ?B/s]\r100% 91.4k/91.4k [00:00<00:00, 34.3MB/s]\n"
          ],
          "name": "stdout"
        }
      ]
    },
    {
      "cell_type": "code",
      "metadata": {
        "id": "SxklyeJ_EYBk"
      },
      "source": [
        "caschool = pd.read_excel('caschool.xlsx')"
      ],
      "execution_count": null,
      "outputs": []
    },
    {
      "cell_type": "markdown",
      "metadata": {
        "id": "mkImzJtNEcIj"
      },
      "source": [
        "**Decription of Data;**\n",
        "\n",
        "dist_code -- district Code;\n",
        "\n",
        "Read_scr  -- avg Reading Score;\n",
        "\n",
        "Math_scr  -- avg Math Score;\n",
        "\n",
        "County   --  county;\n",
        "\n",
        "District -- District;\n",
        "\n",
        "gr_span -- grade span of district;\n",
        "\n",
        "enrl_tot -- total enrollment;\n",
        "\n",
        "teachers -- number of teachers;\n",
        "\n",
        "computer -- number of computers;\n",
        "\n",
        "testscr -- avg test score (= (read_scr+math_scr)/2 );\n",
        "\n",
        "comp_stu -- computers per student ( = computer/enrl_tot);\n",
        "\n",
        "expn_stu -- expentitures per student;\n",
        "\n",
        "str -- student teacher ration (teachers/enrl_tot);\n",
        "\n",
        "el_pct -- percent of English Learners;\n",
        "\n",
        "Meal_pct -- Percent qualifying for reduced-price lunch;\n",
        "\n",
        "clw_pct -- Percent qualifying for CalWorks;\n",
        "\n",
        "aving -- district average income (in $1000's);"
      ]
    },
    {
      "cell_type": "markdown",
      "metadata": {
        "id": "z9-GATbUFC_c"
      },
      "source": [
        "## **7.1 Hypothesis Tests and Confidence Intervals for a Single Coefficient**"
      ]
    },
    {
      "cell_type": "markdown",
      "metadata": {
        "id": "1fGXGzTMgXhO"
      },
      "source": [
        "### Equation 7.5"
      ]
    },
    {
      "cell_type": "markdown",
      "metadata": {
        "id": "-INzRd1lEhSq"
      },
      "source": [
        "$\\widehat{TestScore} = 686.0 - 1.10 \\times STR - 0.650 \\times PctEL$"
      ]
    },
    {
      "cell_type": "code",
      "metadata": {
        "colab": {
          "base_uri": "https://localhost:8080/"
        },
        "id": "jO1BI-87xtD3",
        "outputId": "4e9aef73-d25e-421a-8931-d0768329ebee"
      },
      "source": [
        "reg_7_5 = smf.ols(formula='testscr~str+el_pct', data=caschool)\n",
        "results_7_5 = reg_7_5.fit(cov_type='HC1')  # robust\n",
        "print(results_7_5.summary())"
      ],
      "execution_count": null,
      "outputs": [
        {
          "output_type": "stream",
          "text": [
            "                            OLS Regression Results                            \n",
            "==============================================================================\n",
            "Dep. Variable:                testscr   R-squared:                       0.426\n",
            "Model:                            OLS   Adj. R-squared:                  0.424\n",
            "Method:                 Least Squares   F-statistic:                     223.8\n",
            "Date:                Fri, 09 Apr 2021   Prob (F-statistic):           9.28e-67\n",
            "Time:                        05:44:22   Log-Likelihood:                -1716.6\n",
            "No. Observations:                 420   AIC:                             3439.\n",
            "Df Residuals:                     417   BIC:                             3451.\n",
            "Df Model:                           2                                         \n",
            "Covariance Type:                  HC1                                         \n",
            "==============================================================================\n",
            "                 coef    std err          z      P>|z|      [0.025      0.975]\n",
            "------------------------------------------------------------------------------\n",
            "Intercept    686.0322      8.728     78.599      0.000     668.925     703.139\n",
            "str           -1.1013      0.433     -2.544      0.011      -1.950      -0.253\n",
            "el_pct        -0.6498      0.031    -20.939      0.000      -0.711      -0.589\n",
            "==============================================================================\n",
            "Omnibus:                        0.631   Durbin-Watson:                   0.686\n",
            "Prob(Omnibus):                  0.729   Jarque-Bera (JB):                0.550\n",
            "Skew:                           0.088   Prob(JB):                        0.760\n",
            "Kurtosis:                       3.024   Cond. No.                         301.\n",
            "==============================================================================\n",
            "\n",
            "Warnings:\n",
            "[1] Standard Errors are heteroscedasticity robust (HC1)\n"
          ],
          "name": "stdout"
        }
      ]
    },
    {
      "cell_type": "markdown",
      "metadata": {
        "id": "5FLewYItyBBZ"
      },
      "source": [
        "### Equation 7.6"
      ]
    },
    {
      "cell_type": "markdown",
      "metadata": {
        "id": "a8SU5e-yEyiD"
      },
      "source": [
        "$\\widehat{TestScore} = 64.96 - 0.29 \\times STR + 3.87 \\times Expn - 0.656 \\times PctEL$"
      ]
    },
    {
      "cell_type": "code",
      "metadata": {
        "id": "LQ9pbQcwyOMW"
      },
      "source": [
        "caschool.expn_stu = caschool.expn_stu / 1000"
      ],
      "execution_count": null,
      "outputs": []
    },
    {
      "cell_type": "code",
      "metadata": {
        "colab": {
          "base_uri": "https://localhost:8080/"
        },
        "id": "J5vz-ZBkyBOu",
        "outputId": "b834ebab-c7eb-4fa7-a780-4a94804a1d1a"
      },
      "source": [
        "reg_7_6 = smf.ols(formula='testscr~str+expn_stu+el_pct', data=caschool)\n",
        "results_7_6 = reg_7_6.fit(cov_type='HC1')  # robust\n",
        "print(results_7_6.summary())"
      ],
      "execution_count": null,
      "outputs": [
        {
          "output_type": "stream",
          "text": [
            "                            OLS Regression Results                            \n",
            "==============================================================================\n",
            "Dep. Variable:                testscr   R-squared:                       0.437\n",
            "Model:                            OLS   Adj. R-squared:                  0.433\n",
            "Method:                 Least Squares   F-statistic:                     147.2\n",
            "Date:                Fri, 09 Apr 2021   Prob (F-statistic):           5.20e-65\n",
            "Time:                        05:44:22   Log-Likelihood:                -1712.8\n",
            "No. Observations:                 420   AIC:                             3434.\n",
            "Df Residuals:                     416   BIC:                             3450.\n",
            "Df Model:                           3                                         \n",
            "Covariance Type:                  HC1                                         \n",
            "==============================================================================\n",
            "                 coef    std err          z      P>|z|      [0.025      0.975]\n",
            "------------------------------------------------------------------------------\n",
            "Intercept    649.5779     15.458     42.021      0.000     619.280     679.876\n",
            "str           -0.2864      0.482     -0.594      0.552      -1.231       0.658\n",
            "expn_stu       3.8679      1.581      2.447      0.014       0.770       6.966\n",
            "el_pct        -0.6560      0.032    -20.640      0.000      -0.718      -0.594\n",
            "==============================================================================\n",
            "Omnibus:                        0.046   Durbin-Watson:                   0.742\n",
            "Prob(Omnibus):                  0.977   Jarque-Bera (JB):                0.070\n",
            "Skew:                          -0.025   Prob(JB):                        0.966\n",
            "Kurtosis:                       2.962   Cond. No.                         631.\n",
            "==============================================================================\n",
            "\n",
            "Warnings:\n",
            "[1] Standard Errors are heteroscedasticity robust (HC1)\n"
          ],
          "name": "stdout"
        }
      ]
    },
    {
      "cell_type": "code",
      "metadata": {
        "colab": {
          "base_uri": "https://localhost:8080/"
        },
        "id": "YRWQ88olynjd",
        "outputId": "3419f0f9-6ae2-4850-d56c-db4c3d34d99a"
      },
      "source": [
        "# Covariance Matrix\n",
        "np.set_printoptions(suppress=True)\n",
        "results_7_6.cov_HC1.round(4)"
      ],
      "execution_count": null,
      "outputs": [
        {
          "output_type": "execute_result",
          "data": {
            "text/plain": [
              "array([[238.9604,  -6.6649, -20.7035,   0.0818],\n",
              "       [ -6.6649,   0.2324,   0.4003,  -0.0024],\n",
              "       [-20.7035,   0.4003,   2.4987,  -0.0102],\n",
              "       [  0.0818,  -0.0024,  -0.0102,   0.001 ]])"
            ]
          },
          "metadata": {
            "tags": []
          },
          "execution_count": 7
        }
      ]
    },
    {
      "cell_type": "code",
      "metadata": {
        "colab": {
          "base_uri": "https://localhost:8080/"
        },
        "id": "xUgfmZezFNzl",
        "outputId": "7c2b3454-2de7-4c37-dc07-ddd5292f910d"
      },
      "source": [
        "# Test (str = 0) and (expn_stu = 0)\n",
        "print(results_7_6.f_test(['str=0','expn_stu=0']))"
      ],
      "execution_count": null,
      "outputs": [
        {
          "output_type": "stream",
          "text": [
            "<F test: F=array([[5.43372705]]), p=0.004682304362881939, df_denom=416, df_num=2>\n"
          ],
          "name": "stdout"
        }
      ]
    },
    {
      "cell_type": "markdown",
      "metadata": {
        "id": "aDi_219XWS-E"
      },
      "source": [
        "## **7.2 Tests of Joint Hypotheses**"
      ]
    },
    {
      "cell_type": "markdown",
      "metadata": {
        "id": "KinSlT7RynGY"
      },
      "source": [
        "### Equation 7.15"
      ]
    },
    {
      "cell_type": "markdown",
      "metadata": {
        "id": "UmPBCgHrE-S-"
      },
      "source": [
        "$\\widehat{TestScore} = 664.7 - 0.671 \\times PctEL, R^2 = 0.4149$"
      ]
    },
    {
      "cell_type": "code",
      "metadata": {
        "id": "2m5gYTbJyfPr",
        "colab": {
          "base_uri": "https://localhost:8080/"
        },
        "outputId": "1c6fadb2-bb0e-4b1c-9848-8dbc6ba38c9a"
      },
      "source": [
        "reg_7_15 = smf.ols(formula='testscr~el_pct', data=caschool)\n",
        "results_7_15 = reg_7_15.fit(cov_type='HC1')  # robust\n",
        "print(results_7_15.summary())"
      ],
      "execution_count": null,
      "outputs": [
        {
          "output_type": "stream",
          "text": [
            "                            OLS Regression Results                            \n",
            "==============================================================================\n",
            "Dep. Variable:                testscr   R-squared:                       0.415\n",
            "Model:                            OLS   Adj. R-squared:                  0.413\n",
            "Method:                 Least Squares   F-statistic:                     436.6\n",
            "Date:                Fri, 09 Apr 2021   Prob (F-statistic):           6.69e-67\n",
            "Time:                        05:44:22   Log-Likelihood:                -1720.7\n",
            "No. Observations:                 420   AIC:                             3445.\n",
            "Df Residuals:                     418   BIC:                             3454.\n",
            "Df Model:                           1                                         \n",
            "Covariance Type:                  HC1                                         \n",
            "==============================================================================\n",
            "                 coef    std err          z      P>|z|      [0.025      0.975]\n",
            "------------------------------------------------------------------------------\n",
            "Intercept    664.7394      0.974    682.458      0.000     662.830     666.649\n",
            "el_pct        -0.6712      0.032    -20.895      0.000      -0.734      -0.608\n",
            "==============================================================================\n",
            "Omnibus:                        4.048   Durbin-Watson:                   0.680\n",
            "Prob(Omnibus):                  0.132   Jarque-Bera (JB):                3.793\n",
            "Skew:                           0.211   Prob(JB):                        0.150\n",
            "Kurtosis:                       3.195   Cond. No.                         31.9\n",
            "==============================================================================\n",
            "\n",
            "Warnings:\n",
            "[1] Standard Errors are heteroscedasticity robust (HC1)\n"
          ],
          "name": "stdout"
        }
      ]
    },
    {
      "cell_type": "code",
      "metadata": {
        "colab": {
          "base_uri": "https://localhost:8080/",
          "height": 235
        },
        "id": "BDGgxemtF1xL",
        "outputId": "49162acc-6393-43e4-ad06-de2c73480099"
      },
      "source": [
        "# Correlations reported in text\n",
        "caschool[['testscr','str','expn_stu','el_pct','meal_pct','calw_pct']].corr()"
      ],
      "execution_count": null,
      "outputs": [
        {
          "output_type": "execute_result",
          "data": {
            "text/html": [
              "<div>\n",
              "<style scoped>\n",
              "    .dataframe tbody tr th:only-of-type {\n",
              "        vertical-align: middle;\n",
              "    }\n",
              "\n",
              "    .dataframe tbody tr th {\n",
              "        vertical-align: top;\n",
              "    }\n",
              "\n",
              "    .dataframe thead th {\n",
              "        text-align: right;\n",
              "    }\n",
              "</style>\n",
              "<table border=\"1\" class=\"dataframe\">\n",
              "  <thead>\n",
              "    <tr style=\"text-align: right;\">\n",
              "      <th></th>\n",
              "      <th>testscr</th>\n",
              "      <th>str</th>\n",
              "      <th>expn_stu</th>\n",
              "      <th>el_pct</th>\n",
              "      <th>meal_pct</th>\n",
              "      <th>calw_pct</th>\n",
              "    </tr>\n",
              "  </thead>\n",
              "  <tbody>\n",
              "    <tr>\n",
              "      <th>testscr</th>\n",
              "      <td>1.000000</td>\n",
              "      <td>-0.226363</td>\n",
              "      <td>0.191273</td>\n",
              "      <td>-0.644124</td>\n",
              "      <td>-0.868772</td>\n",
              "      <td>-0.626853</td>\n",
              "    </tr>\n",
              "    <tr>\n",
              "      <th>str</th>\n",
              "      <td>-0.226363</td>\n",
              "      <td>1.000000</td>\n",
              "      <td>-0.619982</td>\n",
              "      <td>0.187642</td>\n",
              "      <td>0.135203</td>\n",
              "      <td>0.018276</td>\n",
              "    </tr>\n",
              "    <tr>\n",
              "      <th>expn_stu</th>\n",
              "      <td>0.191273</td>\n",
              "      <td>-0.619982</td>\n",
              "      <td>1.000000</td>\n",
              "      <td>-0.071396</td>\n",
              "      <td>-0.061039</td>\n",
              "      <td>0.067889</td>\n",
              "    </tr>\n",
              "    <tr>\n",
              "      <th>el_pct</th>\n",
              "      <td>-0.644124</td>\n",
              "      <td>0.187642</td>\n",
              "      <td>-0.071396</td>\n",
              "      <td>1.000000</td>\n",
              "      <td>0.653061</td>\n",
              "      <td>0.319576</td>\n",
              "    </tr>\n",
              "    <tr>\n",
              "      <th>meal_pct</th>\n",
              "      <td>-0.868772</td>\n",
              "      <td>0.135203</td>\n",
              "      <td>-0.061039</td>\n",
              "      <td>0.653061</td>\n",
              "      <td>1.000000</td>\n",
              "      <td>0.739422</td>\n",
              "    </tr>\n",
              "    <tr>\n",
              "      <th>calw_pct</th>\n",
              "      <td>-0.626853</td>\n",
              "      <td>0.018276</td>\n",
              "      <td>0.067889</td>\n",
              "      <td>0.319576</td>\n",
              "      <td>0.739422</td>\n",
              "      <td>1.000000</td>\n",
              "    </tr>\n",
              "  </tbody>\n",
              "</table>\n",
              "</div>"
            ],
            "text/plain": [
              "           testscr       str  expn_stu    el_pct  meal_pct  calw_pct\n",
              "testscr   1.000000 -0.226363  0.191273 -0.644124 -0.868772 -0.626853\n",
              "str      -0.226363  1.000000 -0.619982  0.187642  0.135203  0.018276\n",
              "expn_stu  0.191273 -0.619982  1.000000 -0.071396 -0.061039  0.067889\n",
              "el_pct   -0.644124  0.187642 -0.071396  1.000000  0.653061  0.319576\n",
              "meal_pct -0.868772  0.135203 -0.061039  0.653061  1.000000  0.739422\n",
              "calw_pct -0.626853  0.018276  0.067889  0.319576  0.739422  1.000000"
            ]
          },
          "metadata": {
            "tags": []
          },
          "execution_count": 10
        }
      ]
    },
    {
      "cell_type": "markdown",
      "metadata": {
        "id": "YDFqVSg4WX7Z"
      },
      "source": [
        "## **7.3 Testing Single Restrictions Involving Multiple Coefficients**"
      ]
    },
    {
      "cell_type": "markdown",
      "metadata": {
        "id": "5M3zG8DbXCan"
      },
      "source": [
        "## **7.4 Confidence Sets for Multiple Coefficientsn**"
      ]
    },
    {
      "cell_type": "markdown",
      "metadata": {
        "id": "XIHiof8IG5xz"
      },
      "source": [
        "## **7.5 Model Specification for Multiple Regression**"
      ]
    },
    {
      "cell_type": "markdown",
      "metadata": {
        "id": "E2-nFi9HG-uP"
      },
      "source": [
        "## **7.6 Analysis of the Test Score Data Set**"
      ]
    },
    {
      "cell_type": "markdown",
      "metadata": {
        "id": "znmV42djizfZ"
      },
      "source": [
        "### FIGURE 7.2"
      ]
    },
    {
      "cell_type": "code",
      "metadata": {
        "colab": {
          "base_uri": "https://localhost:8080/",
          "height": 287
        },
        "id": "zvHfJgmWHGdC",
        "outputId": "83550552-b3ac-45dd-850d-8330e30aea5d"
      },
      "source": [
        "plt.scatter(caschool.el_pct, caschool.testscr, color='deepskyblue', s=6)\n",
        "plt.xlim(0, 100)\n",
        "plt.ylim(600, 720)\n",
        "plt.xlabel('Percent', size=14)\n",
        "plt.ylabel('Test score', size=14)\n",
        "plt.show()"
      ],
      "execution_count": null,
      "outputs": [
        {
          "output_type": "display_data",
          "data": {
            "image/png": "[encoded data removed]",
            "text/plain": [
              "<Figure size 432x288 with 1 Axes>"
            ]
          },
          "metadata": {
            "tags": [],
            "needs_background": "light"
          }
        }
      ]
    },
    {
      "cell_type": "markdown",
      "metadata": {
        "id": "BIJ-4OaHXN5U"
      },
      "source": [
        "### Table 7.1"
      ]
    },
    {
      "cell_type": "code",
      "metadata": {
        "colab": {
          "base_uri": "https://localhost:8080/"
        },
        "id": "ZUGL3FEBWdyb",
        "outputId": "3f8d6c45-d8fc-4ff9-8d8e-97aca7f1012b"
      },
      "source": [
        "# Column (1)\n",
        "reg_7_1_1 = smf.ols(formula='testscr~str', data=caschool)\n",
        "results_7_1_1 = reg_7_1_1.fit(cov_type='HC1')  # robust\n",
        "print(results_7_1_1.summary())"
      ],
      "execution_count": null,
      "outputs": [
        {
          "output_type": "stream",
          "text": [
            "                            OLS Regression Results                            \n",
            "==============================================================================\n",
            "Dep. Variable:                testscr   R-squared:                       0.051\n",
            "Model:                            OLS   Adj. R-squared:                  0.049\n",
            "Method:                 Least Squares   F-statistic:                     19.26\n",
            "Date:                Fri, 09 Apr 2021   Prob (F-statistic):           1.45e-05\n",
            "Time:                        05:44:23   Log-Likelihood:                -1822.2\n",
            "No. Observations:                 420   AIC:                             3648.\n",
            "Df Residuals:                     418   BIC:                             3657.\n",
            "Df Model:                           1                                         \n",
            "Covariance Type:                  HC1                                         \n",
            "==============================================================================\n",
            "                 coef    std err          z      P>|z|      [0.025      0.975]\n",
            "------------------------------------------------------------------------------\n",
            "Intercept    698.9330     10.364     67.436      0.000     678.619     719.247\n",
            "str           -2.2798      0.519     -4.389      0.000      -3.298      -1.262\n",
            "==============================================================================\n",
            "Omnibus:                        5.390   Durbin-Watson:                   0.129\n",
            "Prob(Omnibus):                  0.068   Jarque-Bera (JB):                3.589\n",
            "Skew:                          -0.012   Prob(JB):                        0.166\n",
            "Kurtosis:                       2.548   Cond. No.                         207.\n",
            "==============================================================================\n",
            "\n",
            "Warnings:\n",
            "[1] Standard Errors are heteroscedasticity robust (HC1)\n"
          ],
          "name": "stdout"
        }
      ]
    },
    {
      "cell_type": "code",
      "metadata": {
        "colab": {
          "base_uri": "https://localhost:8080/"
        },
        "id": "MKs1VgxmjOJd",
        "outputId": "bcc0195a-f769-4647-a4d2-42e5e0acfa76"
      },
      "source": [
        "# Column (2)\n",
        "reg_7_1_2 = smf.ols(formula='testscr~str+el_pct', data=caschool)\n",
        "results_7_1_2 = reg_7_1_2.fit(cov_type='HC1')  # robust\n",
        "print(results_7_1_2.summary())"
      ],
      "execution_count": null,
      "outputs": [
        {
          "output_type": "stream",
          "text": [
            "                            OLS Regression Results                            \n",
            "==============================================================================\n",
            "Dep. Variable:                testscr   R-squared:                       0.426\n",
            "Model:                            OLS   Adj. R-squared:                  0.424\n",
            "Method:                 Least Squares   F-statistic:                     223.8\n",
            "Date:                Fri, 09 Apr 2021   Prob (F-statistic):           9.28e-67\n",
            "Time:                        05:44:23   Log-Likelihood:                -1716.6\n",
            "No. Observations:                 420   AIC:                             3439.\n",
            "Df Residuals:                     417   BIC:                             3451.\n",
            "Df Model:                           2                                         \n",
            "Covariance Type:                  HC1                                         \n",
            "==============================================================================\n",
            "                 coef    std err          z      P>|z|      [0.025      0.975]\n",
            "------------------------------------------------------------------------------\n",
            "Intercept    686.0322      8.728     78.599      0.000     668.925     703.139\n",
            "str           -1.1013      0.433     -2.544      0.011      -1.950      -0.253\n",
            "el_pct        -0.6498      0.031    -20.939      0.000      -0.711      -0.589\n",
            "==============================================================================\n",
            "Omnibus:                        0.631   Durbin-Watson:                   0.686\n",
            "Prob(Omnibus):                  0.729   Jarque-Bera (JB):                0.550\n",
            "Skew:                           0.088   Prob(JB):                        0.760\n",
            "Kurtosis:                       3.024   Cond. No.                         301.\n",
            "==============================================================================\n",
            "\n",
            "Warnings:\n",
            "[1] Standard Errors are heteroscedasticity robust (HC1)\n"
          ],
          "name": "stdout"
        }
      ]
    },
    {
      "cell_type": "code",
      "metadata": {
        "colab": {
          "base_uri": "https://localhost:8080/"
        },
        "id": "eTDmrO6QKNRo",
        "outputId": "6f30e552-46de-4bd2-b7e8-4eb2e369f288"
      },
      "source": [
        "# Column (3)\n",
        "reg_7_1_3 = smf.ols(formula='testscr~str+el_pct+meal_pct', data=caschool)\n",
        "results_7_1_3 = reg_7_1_3.fit(cov_type='HC1')  # robust\n",
        "print(results_7_1_3.summary())"
      ],
      "execution_count": null,
      "outputs": [
        {
          "output_type": "stream",
          "text": [
            "                            OLS Regression Results                            \n",
            "==============================================================================\n",
            "Dep. Variable:                testscr   R-squared:                       0.775\n",
            "Model:                            OLS   Adj. R-squared:                  0.773\n",
            "Method:                 Least Squares   F-statistic:                     453.5\n",
            "Date:                Fri, 09 Apr 2021   Prob (F-statistic):          1.05e-130\n",
            "Time:                        05:44:42   Log-Likelihood:                -1520.5\n",
            "No. Observations:                 420   AIC:                             3049.\n",
            "Df Residuals:                     416   BIC:                             3065.\n",
            "Df Model:                           3                                         \n",
            "Covariance Type:                  HC1                                         \n",
            "==============================================================================\n",
            "                 coef    std err          z      P>|z|      [0.025      0.975]\n",
            "------------------------------------------------------------------------------\n",
            "Intercept    700.1500      5.568    125.735      0.000     689.236     711.064\n",
            "str           -0.9983      0.270     -3.696      0.000      -1.528      -0.469\n",
            "el_pct        -0.1216      0.033     -3.703      0.000      -0.186      -0.057\n",
            "meal_pct      -0.5473      0.024    -22.705      0.000      -0.595      -0.500\n",
            "==============================================================================\n",
            "Omnibus:                        6.998   Durbin-Watson:                   1.438\n",
            "Prob(Omnibus):                  0.030   Jarque-Bera (JB):               10.626\n",
            "Skew:                          -0.024   Prob(JB):                      0.00493\n",
            "Kurtosis:                       3.778   Cond. No.                         621.\n",
            "==============================================================================\n",
            "\n",
            "Warnings:\n",
            "[1] Standard Errors are heteroscedasticity robust (HC1)\n"
          ],
          "name": "stdout"
        }
      ]
    },
    {
      "cell_type": "code",
      "metadata": {
        "colab": {
          "base_uri": "https://localhost:8080/"
        },
        "id": "cv_iCO50KVod",
        "outputId": "d891ea05-60cd-49bf-b520-a795ab30a05f"
      },
      "source": [
        "# Column (4)\n",
        "reg_7_1_4 = smf.ols(formula='testscr~str+el_pct+calw_pct', data=caschool)\n",
        "results_7_1_4 = reg_7_1_4.fit(cov_type='HC1')  # robust\n",
        "print(results_7_1_4.summary())"
      ],
      "execution_count": null,
      "outputs": [
        {
          "output_type": "stream",
          "text": [
            "                            OLS Regression Results                            \n",
            "==============================================================================\n",
            "Dep. Variable:                testscr   R-squared:                       0.629\n",
            "Model:                            OLS   Adj. R-squared:                  0.626\n",
            "Method:                 Least Squares   F-statistic:                     170.4\n",
            "Date:                Fri, 09 Apr 2021   Prob (F-statistic):           4.93e-72\n",
            "Time:                        05:45:23   Log-Likelihood:                -1625.3\n",
            "No. Observations:                 420   AIC:                             3259.\n",
            "Df Residuals:                     416   BIC:                             3275.\n",
            "Df Model:                           3                                         \n",
            "Covariance Type:                  HC1                                         \n",
            "==============================================================================\n",
            "                 coef    std err          z      P>|z|      [0.025      0.975]\n",
            "------------------------------------------------------------------------------\n",
            "Intercept    697.9987      6.920    100.861      0.000     684.435     711.562\n",
            "str           -1.3080      0.339     -3.857      0.000      -1.973      -0.643\n",
            "el_pct        -0.4876      0.030    -16.484      0.000      -0.546      -0.430\n",
            "calw_pct      -0.7900      0.068    -11.676      0.000      -0.923      -0.657\n",
            "==============================================================================\n",
            "Omnibus:                        4.267   Durbin-Watson:                   1.094\n",
            "Prob(Omnibus):                  0.118   Jarque-Bera (JB):                5.337\n",
            "Skew:                          -0.027   Prob(JB):                       0.0694\n",
            "Kurtosis:                       3.550   Cond. No.                         338.\n",
            "==============================================================================\n",
            "\n",
            "Warnings:\n",
            "[1] Standard Errors are heteroscedasticity robust (HC1)\n"
          ],
          "name": "stdout"
        }
      ]
    },
    {
      "cell_type": "code",
      "metadata": {
        "colab": {
          "base_uri": "https://localhost:8080/"
        },
        "id": "AAjEGUvaKgrp",
        "outputId": "e4c2fa3b-186e-4944-f9fb-9530789c46bc"
      },
      "source": [
        "# Column (5)\n",
        "reg_7_1_5 = smf.ols(formula='testscr~str+el_pct+meal_pct+calw_pct', data=caschool)\n",
        "results_7_1_5 = reg_7_1_5.fit(cov_type='HC1')  # robust\n",
        "print(results_7_1_5.summary())"
      ],
      "execution_count": null,
      "outputs": [
        {
          "output_type": "stream",
          "text": [
            "                            OLS Regression Results                            \n",
            "==============================================================================\n",
            "Dep. Variable:                testscr   R-squared:                       0.775\n",
            "Model:                            OLS   Adj. R-squared:                  0.773\n",
            "Method:                 Least Squares   F-statistic:                     361.7\n",
            "Date:                Fri, 09 Apr 2021   Prob (F-statistic):          8.86e-134\n",
            "Time:                        05:45:51   Log-Likelihood:                -1520.2\n",
            "No. Observations:                 420   AIC:                             3050.\n",
            "Df Residuals:                     415   BIC:                             3071.\n",
            "Df Model:                           4                                         \n",
            "Covariance Type:                  HC1                                         \n",
            "==============================================================================\n",
            "                 coef    std err          z      P>|z|      [0.025      0.975]\n",
            "------------------------------------------------------------------------------\n",
            "Intercept    700.3918      5.537    126.483      0.000     689.539     711.245\n",
            "str           -1.0144      0.269     -3.773      0.000      -1.541      -0.487\n",
            "el_pct        -0.1298      0.036     -3.581      0.000      -0.201      -0.059\n",
            "meal_pct      -0.5286      0.038    -13.868      0.000      -0.603      -0.454\n",
            "calw_pct      -0.0479      0.059     -0.816      0.415      -0.163       0.067\n",
            "==============================================================================\n",
            "Omnibus:                        6.583   Durbin-Watson:                   1.430\n",
            "Prob(Omnibus):                  0.037   Jarque-Bera (JB):                9.701\n",
            "Skew:                          -0.032   Prob(JB):                      0.00782\n",
            "Kurtosis:                       3.742   Cond. No.                         644.\n",
            "==============================================================================\n",
            "\n",
            "Warnings:\n",
            "[1] Standard Errors are heteroscedasticity robust (HC1)\n"
          ],
          "name": "stdout"
        }
      ]
    }
  ]
}