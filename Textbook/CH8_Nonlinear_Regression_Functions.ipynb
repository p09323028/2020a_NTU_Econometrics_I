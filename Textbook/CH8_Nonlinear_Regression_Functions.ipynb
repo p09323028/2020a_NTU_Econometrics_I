{
  "nbformat": 4,
  "nbformat_minor": 0,
  "metadata": {
    "colab": {
      "name": "CH8_Nonlinear Regression Functions.ipynb",
      "provenance": [],
      "collapsed_sections": [],
      "authorship_tag": "ABX9TyP6nFiBIrz0oLZHSaHvOHvo",
      "include_colab_link": true
    },
    "kernelspec": {
      "name": "python3",
      "display_name": "Python 3"
    },
    "language_info": {
      "name": "python"
    }
  },
  "cells": [
    {
      "cell_type": "markdown",
      "metadata": {
        "id": "view-in-github",
        "colab_type": "text"
      },
      "source": [
        "<a href=\"https://colab.research.google.com/github/p09323028/2020f_NTU_Econometrics_I/blob/main/Textbook/CH8_Nonlinear_Regression_Functions.ipynb\" target=\"_parent\"><img src=\"https://colab.research.google.com/assets/colab-badge.svg\" alt=\"Open In Colab\"/></a>"
      ]
    },
    {
      "cell_type": "markdown",
      "metadata": {
        "id": "OEZ9uHRhDDXd"
      },
      "source": [
        "# **Chapter 8: Nonlinear Regression Functions**\n",
        "Author: Jinze Wu\n",
        "\n",
        "Student Number: p09323028"
      ]
    },
    {
      "cell_type": "markdown",
      "metadata": {
        "id": "-vCXJ85JP7rT"
      },
      "source": [
        "前置作業:\n",
        "- import 套件\n",
        "- 載入資料\n",
        "- 讀取資料\n",
        "- 設置變數"
      ]
    },
    {
      "cell_type": "code",
      "metadata": {
        "id": "a4-mzhjhDbLE"
      },
      "source": [
        "import pandas as pd\n",
        "import numpy as np\n",
        "import matplotlib.pyplot as plt\n",
        "import statsmodels.formula.api as smf"
      ],
      "execution_count": null,
      "outputs": []
    },
    {
      "cell_type": "code",
      "metadata": {
        "id": "amKSZTlxEMof"
      },
      "source": [
        "!gdown --id '10Q4-t5L8KZjaxUqR8iGnmXx_lY9JYgSL' --output caschool.xlsx\n",
        "!gdown --id '1FOmmL3eS70NCR7YFJ_FqS6e9GnFxF9aR' --output cps.xlsx"
      ],
      "execution_count": null,
      "outputs": []
    },
    {
      "cell_type": "code",
      "metadata": {
        "id": "SxklyeJ_EYBk"
      },
      "source": [
        "caschool = pd.read_excel('caschool.xlsx')\n",
        "cps = pd.read_excel('cps.xlsx')"
      ],
      "execution_count": null,
      "outputs": []
    },
    {
      "cell_type": "markdown",
      "metadata": {
        "id": "mkImzJtNEcIj"
      },
      "source": [
        "**Decription of Data;**\n",
        "\n",
        "dist_code -- district Code;\n",
        "\n",
        "Read_scr  -- avg Reading Score;\n",
        "\n",
        "Math_scr  -- avg Math Score;\n",
        "\n",
        "County   --  county;\n",
        "\n",
        "District -- District;\n",
        "\n",
        "gr_span -- grade span of district;\n",
        "\n",
        "enrl_tot -- total enrollment;\n",
        "\n",
        "teachers -- number of teachers;\n",
        "\n",
        "computer -- number of computers;\n",
        "\n",
        "testscr -- avg test score (= (read_scr+math_scr)/2 );\n",
        "\n",
        "comp_stu -- computers per student ( = computer/enrl_tot);\n",
        "\n",
        "expn_stu -- expentitures per student;\n",
        "\n",
        "str -- student teacher ration (teachers/enrl_tot);\n",
        "\n",
        "el_pct -- percent of English Learners;\n",
        "\n",
        "Meal_pct -- Percent qualifying for reduced-price lunch;\n",
        "\n",
        "calw_pct -- Percent qualifying for CalWorks;\n",
        "\n",
        "avginc -- district average income (in $1000's)"
      ]
    },
    {
      "cell_type": "code",
      "metadata": {
        "id": "EIfXR3z8RfiT"
      },
      "source": [
        "caschool['avginc2'] = caschool.avginc * caschool.avginc\n",
        "caschool['avginc3'] = caschool.avginc2 * caschool.avginc\n",
        "caschool['loginc'] = np.log(caschool.avginc)\n",
        "caschool['logtest'] = np.log(caschool.testscr)\n",
        "caschool['loginc2'] = caschool.loginc * caschool.loginc\n",
        "caschool['loginc3'] = caschool.loginc2 * caschool.loginc\n",
        "caschool['histr'] = caschool.str.apply(lambda x: 1 if x>=20 else 0)\n",
        "caschool['hiel'] = caschool.el_pct.apply(lambda x: 1 if x>=10 else 0)\n",
        "caschool['hisxhie'] = caschool.histr * caschool.hiel\n",
        "caschool['strxhiel'] = caschool.str * caschool.hiel\n",
        "caschool['strxelpc'] = caschool.str * caschool.el_pct\n",
        "caschool['sttr2'] = caschool.str * caschool.str\n",
        "caschool['sttr3'] = caschool.sttr2 * caschool.str\n",
        "caschool['str2hiel'] = caschool.sttr2 * caschool.hiel\n",
        "caschool['str3hiel'] = caschool.sttr3 * caschool.hiel"
      ],
      "execution_count": null,
      "outputs": []
    },
    {
      "cell_type": "markdown",
      "metadata": {
        "id": "z9-GATbUFC_c"
      },
      "source": [
        "## **8.1 A General Strategy for Modeling Nonlinear Regression Functions**"
      ]
    },
    {
      "cell_type": "markdown",
      "metadata": {
        "id": "1fGXGzTMgXhO"
      },
      "source": [
        "### Equation 8.2"
      ]
    },
    {
      "cell_type": "markdown",
      "metadata": {
        "id": "-INzRd1lEhSq"
      },
      "source": [
        "$\\widehat{TestScore} = \\underset{(2.9)}{607.3} - \\underset{(0.27)}{3.85} \\times Income - \\underset{(0.0048)}{0.0423} \\times Income^2, \\bar{R}^2=0.554$"
      ]
    },
    {
      "cell_type": "code",
      "metadata": {
        "colab": {
          "base_uri": "https://localhost:8080/"
        },
        "id": "jO1BI-87xtD3",
        "outputId": "19921f58-169a-4b3a-ffc8-b1ca1ab9410b"
      },
      "source": [
        "reg_8_2 = smf.ols(formula='testscr~avginc+avginc2', data=caschool)\n",
        "results_8_2 = reg_8_2.fit(cov_type='HC1')  # robust\n",
        "print(results_8_2.summary())"
      ],
      "execution_count": null,
      "outputs": [
        {
          "output_type": "stream",
          "text": [
            "                            OLS Regression Results                            \n",
            "==============================================================================\n",
            "Dep. Variable:                testscr   R-squared:                       0.556\n",
            "Model:                            OLS   Adj. R-squared:                  0.554\n",
            "Method:                 Least Squares   F-statistic:                     428.5\n",
            "Date:                Mon, 12 Apr 2021   Prob (F-statistic):          7.37e-102\n",
            "Time:                        06:40:10   Log-Likelihood:                -1662.7\n",
            "No. Observations:                 420   AIC:                             3331.\n",
            "Df Residuals:                     417   BIC:                             3344.\n",
            "Df Model:                           2                                         \n",
            "Covariance Type:                  HC1                                         \n",
            "==============================================================================\n",
            "                 coef    std err          z      P>|z|      [0.025      0.975]\n",
            "------------------------------------------------------------------------------\n",
            "Intercept    607.3017      2.902    209.288      0.000     601.614     612.989\n",
            "avginc         3.8510      0.268     14.364      0.000       3.326       4.376\n",
            "avginc2       -0.0423      0.005     -8.851      0.000      -0.052      -0.033\n",
            "==============================================================================\n",
            "Omnibus:                        0.556   Durbin-Watson:                   0.951\n",
            "Prob(Omnibus):                  0.757   Jarque-Bera (JB):                0.378\n",
            "Skew:                          -0.048   Prob(JB):                        0.828\n",
            "Kurtosis:                       3.111   Cond. No.                     2.23e+03\n",
            "==============================================================================\n",
            "\n",
            "Warnings:\n",
            "[1] Standard Errors are heteroscedasticity robust (HC1)\n",
            "[2] The condition number is large, 2.23e+03. This might indicate that there are\n",
            "strong multicollinearity or other numerical problems.\n"
          ],
          "name": "stdout"
        }
      ]
    },
    {
      "cell_type": "markdown",
      "metadata": {
        "id": "76NehhoyUlqj"
      },
      "source": [
        "### FIGURE 8.3"
      ]
    },
    {
      "cell_type": "code",
      "metadata": {
        "id": "h0yKSVDwVE5C"
      },
      "source": [
        "reg_f8_3 = smf.ols(formula='testscr~avginc', data=caschool)\n",
        "results_f8_3 = reg_f8_3.fit(cov_type='HC1')  # robust"
      ],
      "execution_count": null,
      "outputs": []
    },
    {
      "cell_type": "code",
      "metadata": {
        "colab": {
          "base_uri": "https://localhost:8080/",
          "height": 279
        },
        "id": "j8tRspAiUp-z",
        "outputId": "6f904b8b-6809-4ca5-8662-87371578978f"
      },
      "source": [
        "a0, a1 = results_f8_3.params\n",
        "b0, b1, b2 = results_8_2.params\n",
        "\n",
        "x = np.linspace(0,55,1000)\n",
        "y1 = a0 + a1 * x\n",
        "y2 = b0 + b1 * x + b2 * (x**2)\n",
        "\n",
        "plt.plot(x, y1, color='cornflowerblue')\n",
        "plt.plot(x, y2, color='tomato')\n",
        "plt.scatter(x=caschool.avginc, y=caschool.testscr,color='black' ,s=6)\n",
        "\n",
        "plt.legend(['Linear regression', 'Quadratic regression'], loc='lower right')\n",
        "plt.xlabel('District income(thousands of dollars)')\n",
        "plt.ylabel('Test score')\n",
        "\n",
        "plt.show()"
      ],
      "execution_count": null,
      "outputs": [
        {
          "output_type": "display_data",
          "data": {
            "image/png": "[encoded data removed]",
            "text/plain": [
              "<Figure size 432x288 with 1 Axes>"
            ]
          },
          "metadata": {
            "tags": [],
            "needs_background": "light"
          }
        }
      ]
    },
    {
      "cell_type": "markdown",
      "metadata": {
        "id": "aDi_219XWS-E"
      },
      "source": [
        "## **8.2 Nonlinear Functions of a Single Independent Variable**"
      ]
    },
    {
      "cell_type": "markdown",
      "metadata": {
        "id": "5FLewYItyBBZ"
      },
      "source": [
        "### Equation 8.11"
      ]
    },
    {
      "cell_type": "markdown",
      "metadata": {
        "id": "a8SU5e-yEyiD"
      },
      "source": [
        "$\\widehat{TestScore} = \\underset{(5.1)}{600.1} + \\underset{(0.71)}{5.02} \\times Income - \\underset{(0.029)}{0.096} \\times Income^2 - \\underset{(0.00035)}{0.00069} \\times Income^3, \\bar{R}^2=0.555$"
      ]
    },
    {
      "cell_type": "code",
      "metadata": {
        "colab": {
          "base_uri": "https://localhost:8080/"
        },
        "id": "J5vz-ZBkyBOu",
        "outputId": "771d61c8-b151-43e5-d580-fe7ca3852d71"
      },
      "source": [
        "reg_8_11 = smf.ols(formula='testscr~avginc+avginc2+avginc3', data=caschool)\n",
        "results_8_11 = reg_8_11.fit(cov_type='HC1')  # robust\n",
        "print(results_8_11.summary())"
      ],
      "execution_count": null,
      "outputs": [
        {
          "output_type": "stream",
          "text": [
            "                            OLS Regression Results                            \n",
            "==============================================================================\n",
            "Dep. Variable:                testscr   R-squared:                       0.558\n",
            "Model:                            OLS   Adj. R-squared:                  0.555\n",
            "Method:                 Least Squares   F-statistic:                     270.2\n",
            "Date:                Mon, 12 Apr 2021   Prob (F-statistic):           2.81e-97\n",
            "Time:                        06:40:11   Log-Likelihood:                -1661.6\n",
            "No. Observations:                 420   AIC:                             3331.\n",
            "Df Residuals:                     416   BIC:                             3347.\n",
            "Df Model:                           3                                         \n",
            "Covariance Type:                  HC1                                         \n",
            "==============================================================================\n",
            "                 coef    std err          z      P>|z|      [0.025      0.975]\n",
            "------------------------------------------------------------------------------\n",
            "Intercept    600.0790      5.102    117.615      0.000     590.079     610.079\n",
            "avginc         5.0187      0.707      7.095      0.000       3.632       6.405\n",
            "avginc2       -0.0958      0.029     -3.309      0.001      -0.153      -0.039\n",
            "avginc3        0.0007      0.000      1.975      0.048    5.25e-06       0.001\n",
            "==============================================================================\n",
            "Omnibus:                        0.567   Durbin-Watson:                   0.981\n",
            "Prob(Omnibus):                  0.753   Jarque-Bera (JB):                0.385\n",
            "Skew:                          -0.047   Prob(JB):                        0.825\n",
            "Kurtosis:                       3.115   Cond. No.                     1.65e+05\n",
            "==============================================================================\n",
            "\n",
            "Warnings:\n",
            "[1] Standard Errors are heteroscedasticity robust (HC1)\n",
            "[2] The condition number is large, 1.65e+05. This might indicate that there are\n",
            "strong multicollinearity or other numerical problems.\n"
          ],
          "name": "stdout"
        }
      ]
    },
    {
      "cell_type": "code",
      "metadata": {
        "colab": {
          "base_uri": "https://localhost:8080/"
        },
        "id": "OCJurjtQakUg",
        "outputId": "2e189883-e780-4b97-bd89-939435cf2817"
      },
      "source": [
        "# Test avginc2 avginc3\n",
        "print(results_8_11.f_test(['avginc2=0','avginc3=0']))"
      ],
      "execution_count": null,
      "outputs": [
        {
          "output_type": "stream",
          "text": [
            "<F test: F=array([[37.69077411]]), p=9.042596399197073e-16, df_denom=416, df_num=2>\n"
          ],
          "name": "stdout"
        }
      ]
    },
    {
      "cell_type": "markdown",
      "metadata": {
        "id": "KinSlT7RynGY"
      },
      "source": [
        "### Equation 8.18"
      ]
    },
    {
      "cell_type": "markdown",
      "metadata": {
        "id": "UmPBCgHrE-S-"
      },
      "source": [
        "$\\widehat{TestScore} = \\underset{(3.8)}{557.8} - \\underset{(1.40)}{36.42} \\times ln(Income), \\bar{R}^2 = 0.561$"
      ]
    },
    {
      "cell_type": "code",
      "metadata": {
        "id": "2m5gYTbJyfPr",
        "colab": {
          "base_uri": "https://localhost:8080/"
        },
        "outputId": "b1353015-f7c1-4f3b-e14b-14ba83659ed6"
      },
      "source": [
        "reg_8_18 = smf.ols(formula='testscr~loginc', data=caschool)\n",
        "results_8_18 = reg_8_18.fit(cov_type='HC1')  # robust\n",
        "print(results_8_18.summary())"
      ],
      "execution_count": null,
      "outputs": [
        {
          "output_type": "stream",
          "text": [
            "                            OLS Regression Results                            \n",
            "==============================================================================\n",
            "Dep. Variable:                testscr   R-squared:                       0.563\n",
            "Model:                            OLS   Adj. R-squared:                  0.561\n",
            "Method:                 Least Squares   F-statistic:                     679.7\n",
            "Date:                Mon, 12 Apr 2021   Prob (F-statistic):           1.15e-89\n",
            "Time:                        06:40:11   Log-Likelihood:                -1659.7\n",
            "No. Observations:                 420   AIC:                             3323.\n",
            "Df Residuals:                     418   BIC:                             3331.\n",
            "Df Model:                           1                                         \n",
            "Covariance Type:                  HC1                                         \n",
            "==============================================================================\n",
            "                 coef    std err          z      P>|z|      [0.025      0.975]\n",
            "------------------------------------------------------------------------------\n",
            "Intercept    557.8323      3.840    145.271      0.000     550.306     565.358\n",
            "loginc        36.4197      1.397     26.071      0.000      33.682      39.158\n",
            "==============================================================================\n",
            "Omnibus:                        0.548   Durbin-Watson:                   0.991\n",
            "Prob(Omnibus):                  0.760   Jarque-Bera (JB):                0.388\n",
            "Skew:                          -0.059   Prob(JB):                        0.824\n",
            "Kurtosis:                       3.091   Cond. No.                         20.7\n",
            "==============================================================================\n",
            "\n",
            "Warnings:\n",
            "[1] Standard Errors are heteroscedasticity robust (HC1)\n"
          ],
          "name": "stdout"
        }
      ]
    },
    {
      "cell_type": "markdown",
      "metadata": {
        "id": "fYZtSRdhb9FY"
      },
      "source": [
        "### FIGURE 8.5"
      ]
    },
    {
      "cell_type": "code",
      "metadata": {
        "colab": {
          "base_uri": "https://localhost:8080/",
          "height": 279
        },
        "id": "TG2nlC-hb-KV",
        "outputId": "65e53e4f-50d2-410d-e926-1c2c5fbcb528"
      },
      "source": [
        "b0, b1 = results_8_18.params\n",
        "\n",
        "x = np.linspace(5,55,1000)\n",
        "y = b0 + b1 * np.log(x)\n",
        "\n",
        "plt.plot(x, y, color='cornflowerblue', )\n",
        "plt.scatter(x=caschool.avginc, y=caschool.testscr,color='black' ,s=6)\n",
        "\n",
        "plt.legend(['Linear-log regression'], loc='lower right')\n",
        "plt.xlabel('District income(thousands of dollars)')\n",
        "plt.ylabel('Test score')\n",
        "\n",
        "plt.show()"
      ],
      "execution_count": null,
      "outputs": [
        {
          "output_type": "display_data",
          "data": {
            "image/png": "[encoded data removed]",
            "text/plain": [
              "<Figure size 432x288 with 1 Axes>"
            ]
          },
          "metadata": {
            "tags": [],
            "needs_background": "light"
          }
        }
      ]
    },
    {
      "cell_type": "markdown",
      "metadata": {
        "id": "DZMwaseOdsnf"
      },
      "source": [
        "### Equation 8.20"
      ]
    },
    {
      "cell_type": "markdown",
      "metadata": {
        "id": "aIGBeN-recLr"
      },
      "source": [
        "$\\widehat{ln(Earning)} = \\underset{(0.019)}{2.876} + \\underset{(0.0004)}{0.0095} Age, \\bar{R}^2 = 0.033$"
      ]
    },
    {
      "cell_type": "code",
      "metadata": {
        "colab": {
          "base_uri": "https://localhost:8080/",
          "height": 204
        },
        "id": "_YkBZNBgdt8C",
        "outputId": "c2fe679a-fa13-448b-a087-862fcf63b9aa"
      },
      "source": [
        "cps.head()"
      ],
      "execution_count": null,
      "outputs": [
        {
          "output_type": "execute_result",
          "data": {
            "text/html": [
              "<div>\n",
              "<style scoped>\n",
              "    .dataframe tbody tr th:only-of-type {\n",
              "        vertical-align: middle;\n",
              "    }\n",
              "\n",
              "    .dataframe tbody tr th {\n",
              "        vertical-align: top;\n",
              "    }\n",
              "\n",
              "    .dataframe thead th {\n",
              "        text-align: right;\n",
              "    }\n",
              "</style>\n",
              "<table border=\"1\" class=\"dataframe\">\n",
              "  <thead>\n",
              "    <tr style=\"text-align: right;\">\n",
              "      <th></th>\n",
              "      <th>ahe</th>\n",
              "      <th>yrseduc</th>\n",
              "      <th>female</th>\n",
              "      <th>age</th>\n",
              "      <th>northeast</th>\n",
              "      <th>midwest</th>\n",
              "      <th>south</th>\n",
              "      <th>west</th>\n",
              "    </tr>\n",
              "  </thead>\n",
              "  <tbody>\n",
              "    <tr>\n",
              "      <th>0</th>\n",
              "      <td>21.367521</td>\n",
              "      <td>13</td>\n",
              "      <td>1</td>\n",
              "      <td>65</td>\n",
              "      <td>1</td>\n",
              "      <td>0</td>\n",
              "      <td>0</td>\n",
              "      <td>0</td>\n",
              "    </tr>\n",
              "    <tr>\n",
              "      <th>1</th>\n",
              "      <td>24.038462</td>\n",
              "      <td>16</td>\n",
              "      <td>0</td>\n",
              "      <td>56</td>\n",
              "      <td>1</td>\n",
              "      <td>0</td>\n",
              "      <td>0</td>\n",
              "      <td>0</td>\n",
              "    </tr>\n",
              "    <tr>\n",
              "      <th>2</th>\n",
              "      <td>7.692307</td>\n",
              "      <td>12</td>\n",
              "      <td>0</td>\n",
              "      <td>42</td>\n",
              "      <td>1</td>\n",
              "      <td>0</td>\n",
              "      <td>0</td>\n",
              "      <td>0</td>\n",
              "    </tr>\n",
              "    <tr>\n",
              "      <th>3</th>\n",
              "      <td>15.182186</td>\n",
              "      <td>12</td>\n",
              "      <td>1</td>\n",
              "      <td>42</td>\n",
              "      <td>1</td>\n",
              "      <td>0</td>\n",
              "      <td>0</td>\n",
              "      <td>0</td>\n",
              "    </tr>\n",
              "    <tr>\n",
              "      <th>4</th>\n",
              "      <td>20.614346</td>\n",
              "      <td>14</td>\n",
              "      <td>1</td>\n",
              "      <td>53</td>\n",
              "      <td>1</td>\n",
              "      <td>0</td>\n",
              "      <td>0</td>\n",
              "      <td>0</td>\n",
              "    </tr>\n",
              "  </tbody>\n",
              "</table>\n",
              "</div>"
            ],
            "text/plain": [
              "         ahe  yrseduc  female  age  northeast  midwest  south  west\n",
              "0  21.367521       13       1   65          1        0      0     0\n",
              "1  24.038462       16       0   56          1        0      0     0\n",
              "2   7.692307       12       0   42          1        0      0     0\n",
              "3  15.182186       12       1   42          1        0      0     0\n",
              "4  20.614346       14       1   53          1        0      0     0"
            ]
          },
          "metadata": {
            "tags": []
          },
          "execution_count": 12
        }
      ]
    },
    {
      "cell_type": "code",
      "metadata": {
        "id": "ABnczh4FdxaN"
      },
      "source": [
        "cps = cps[(cps.age>=21)&(cps.age<=64)]\n",
        "cps = cps[cps.yrseduc==16]\n",
        "\n",
        "cps['lahe'] = np.log(cps.ahe)"
      ],
      "execution_count": null,
      "outputs": []
    },
    {
      "cell_type": "code",
      "metadata": {
        "colab": {
          "base_uri": "https://localhost:8080/"
        },
        "id": "DKwPnP6KeMBx",
        "outputId": "5fb25290-2fdf-443e-a2bd-c4571766e08f"
      },
      "source": [
        "reg_8_20 = smf.ols(formula='lahe~age', data=cps)\n",
        "results_8_20 = reg_8_20.fit(cov_type='HC1')  # robust\n",
        "print(results_8_20.summary())"
      ],
      "execution_count": null,
      "outputs": [
        {
          "output_type": "stream",
          "text": [
            "                            OLS Regression Results                            \n",
            "==============================================================================\n",
            "Dep. Variable:                   lahe   R-squared:                       0.033\n",
            "Model:                            OLS   Adj. R-squared:                  0.033\n",
            "Method:                 Least Squares   F-statistic:                     451.7\n",
            "Date:                Mon, 12 Apr 2021   Prob (F-statistic):           1.16e-98\n",
            "Time:                        06:40:11   Log-Likelihood:                -11722.\n",
            "No. Observations:               13822   AIC:                         2.345e+04\n",
            "Df Residuals:                   13820   BIC:                         2.346e+04\n",
            "Df Model:                           1                                         \n",
            "Covariance Type:                  HC1                                         \n",
            "==============================================================================\n",
            "                 coef    std err          z      P>|z|      [0.025      0.975]\n",
            "------------------------------------------------------------------------------\n",
            "Intercept      2.8765      0.019    152.631      0.000       2.840       2.913\n",
            "age            0.0095      0.000     21.253      0.000       0.009       0.010\n",
            "==============================================================================\n",
            "Omnibus:                      282.383   Durbin-Watson:                   1.815\n",
            "Prob(Omnibus):                  0.000   Jarque-Bera (JB):              344.674\n",
            "Skew:                          -0.287   Prob(JB):                     1.43e-75\n",
            "Kurtosis:                       3.520   Cond. No.                         170.\n",
            "==============================================================================\n",
            "\n",
            "Warnings:\n",
            "[1] Standard Errors are heteroscedasticity robust (HC1)\n"
          ],
          "name": "stdout"
        }
      ]
    },
    {
      "cell_type": "markdown",
      "metadata": {
        "id": "xj0dJoX6eu20"
      },
      "source": [
        "### Equation 8.23"
      ]
    },
    {
      "cell_type": "markdown",
      "metadata": {
        "id": "5Moz5EtAeyic"
      },
      "source": [
        "$\\widehat{ln(TestScore)} = \\underset{(0.006)}{6.336} +\\underset{(0.0021)}{0.0554} ln(Income), \\bar{R}^2 = 0.557$"
      ]
    },
    {
      "cell_type": "code",
      "metadata": {
        "colab": {
          "base_uri": "https://localhost:8080/"
        },
        "id": "hgXZT2NRfA4c",
        "outputId": "9051280f-c879-408f-c203-08cf25ff42ab"
      },
      "source": [
        "reg_8_23 = smf.ols(formula='logtest~loginc', data=caschool)\n",
        "results_8_23 = reg_8_23.fit(cov_type='HC1')  # robust\n",
        "print(results_8_23.summary())"
      ],
      "execution_count": null,
      "outputs": [
        {
          "output_type": "stream",
          "text": [
            "                            OLS Regression Results                            \n",
            "==============================================================================\n",
            "Dep. Variable:                logtest   R-squared:                       0.558\n",
            "Model:                            OLS   Adj. R-squared:                  0.557\n",
            "Method:                 Least Squares   F-statistic:                     667.8\n",
            "Date:                Mon, 12 Apr 2021   Prob (F-statistic):           1.13e-88\n",
            "Time:                        06:40:11   Log-Likelihood:                 1061.2\n",
            "No. Observations:                 420   AIC:                            -2118.\n",
            "Df Residuals:                     418   BIC:                            -2110.\n",
            "Df Model:                           1                                         \n",
            "Covariance Type:                  HC1                                         \n",
            "==============================================================================\n",
            "                 coef    std err          z      P>|z|      [0.025      0.975]\n",
            "------------------------------------------------------------------------------\n",
            "Intercept      6.3363      0.006   1069.501      0.000       6.325       6.348\n",
            "loginc         0.0554      0.002     25.841      0.000       0.051       0.060\n",
            "==============================================================================\n",
            "Omnibus:                        1.085   Durbin-Watson:                   0.972\n",
            "Prob(Omnibus):                  0.581   Jarque-Bera (JB):                0.886\n",
            "Skew:                          -0.096   Prob(JB):                        0.642\n",
            "Kurtosis:                       3.118   Cond. No.                         20.7\n",
            "==============================================================================\n",
            "\n",
            "Warnings:\n",
            "[1] Standard Errors are heteroscedasticity robust (HC1)\n"
          ],
          "name": "stdout"
        }
      ]
    },
    {
      "cell_type": "markdown",
      "metadata": {
        "id": "V8q5b0GKfQ5i"
      },
      "source": [
        "### Equation 8.24"
      ]
    },
    {
      "cell_type": "markdown",
      "metadata": {
        "id": "ho3xSAeOfayo"
      },
      "source": [
        "$\\widehat{ln(TestScore)} = \\underset{(0.003)}{6.439} +\\underset{(0.00018)}{0.00284} Income, \\bar{R}^2 = 0.497$"
      ]
    },
    {
      "cell_type": "code",
      "metadata": {
        "colab": {
          "base_uri": "https://localhost:8080/"
        },
        "id": "Tr_ItX8ofXYM",
        "outputId": "cc05fbfd-ea9a-4b5f-a43e-8bcdbc1be27b"
      },
      "source": [
        "reg_8_24 = smf.ols(formula='logtest~avginc', data=caschool)\n",
        "results_8_24 = reg_8_24.fit(cov_type='HC1')  # robust\n",
        "print(results_8_24.summary())"
      ],
      "execution_count": null,
      "outputs": [
        {
          "output_type": "stream",
          "text": [
            "                            OLS Regression Results                            \n",
            "==============================================================================\n",
            "Dep. Variable:                logtest   R-squared:                       0.498\n",
            "Model:                            OLS   Adj. R-squared:                  0.497\n",
            "Method:                 Least Squares   F-statistic:                     263.9\n",
            "Date:                Mon, 12 Apr 2021   Prob (F-statistic):           2.40e-46\n",
            "Time:                        06:40:11   Log-Likelihood:                 1034.7\n",
            "No. Observations:                 420   AIC:                            -2065.\n",
            "Df Residuals:                     418   BIC:                            -2057.\n",
            "Df Model:                           1                                         \n",
            "Covariance Type:                  HC1                                         \n",
            "==============================================================================\n",
            "                 coef    std err          z      P>|z|      [0.025      0.975]\n",
            "------------------------------------------------------------------------------\n",
            "Intercept      6.4394      0.003   2225.210      0.000       6.434       6.445\n",
            "avginc         0.0028      0.000     16.244      0.000       0.003       0.003\n",
            "==============================================================================\n",
            "Omnibus:                        3.487   Durbin-Watson:                   0.627\n",
            "Prob(Omnibus):                  0.175   Jarque-Bera (JB):                3.538\n",
            "Skew:                          -0.200   Prob(JB):                        0.171\n",
            "Kurtosis:                       2.795   Cond. No.                         39.8\n",
            "==============================================================================\n",
            "\n",
            "Warnings:\n",
            "[1] Standard Errors are heteroscedasticity robust (HC1)\n"
          ],
          "name": "stdout"
        }
      ]
    },
    {
      "cell_type": "markdown",
      "metadata": {
        "id": "HEwdu6rYgnZh"
      },
      "source": [
        "### FIGURE 8.6"
      ]
    },
    {
      "cell_type": "code",
      "metadata": {
        "colab": {
          "base_uri": "https://localhost:8080/",
          "height": 279
        },
        "id": "xSO55AhUfmoJ",
        "outputId": "41097bce-78ff-44ee-dba5-b1ae19a1e7ad"
      },
      "source": [
        "a0, a1 = results_8_23.params  # log-log\n",
        "b0, b1 = results_8_24.params  # log-linear\n",
        "\n",
        "x = np.linspace(5,55,1000)\n",
        "y1 = a0 + a1 * np.log(x)\n",
        "y2 = b0 + b1 * x\n",
        "\n",
        "plt.plot(x, y1, color='cornflowerblue')\n",
        "plt.plot(x, y2, color='tomato')\n",
        "plt.scatter(x=caschool.avginc, y=caschool.logtest ,color='black' ,s=6)\n",
        "\n",
        "plt.legend(['Log-log regression', 'Log-linear regression'], loc='lower right')\n",
        "plt.xlabel('District income(thousands of dollars)')\n",
        "plt.ylabel('ln(Test score)')\n",
        "\n",
        "plt.show()"
      ],
      "execution_count": null,
      "outputs": [
        {
          "output_type": "display_data",
          "data": {
            "image/png": "[encoded data removed]",
            "text/plain": [
              "<Figure size 432x288 with 1 Axes>"
            ]
          },
          "metadata": {
            "tags": [],
            "needs_background": "light"
          }
        }
      ]
    },
    {
      "cell_type": "markdown",
      "metadata": {
        "id": "DQ5zh65jhHtH"
      },
      "source": [
        "### Equation 8.26"
      ]
    },
    {
      "cell_type": "markdown",
      "metadata": {
        "id": "A8Bn6gWgh1Ki"
      },
      "source": [
        "$\\widehat{TestScore} = \\underset{(79.4)}{4.861} + \\underset{(87.9)}{113.4} ln(Income) - \\underset{(31.7)}{26.9} [ln(Income)]^2 + \\underset{(3.74)}{3.06} [ln(Income)]^3, \\bar{R}^2 = 0.560$"
      ]
    },
    {
      "cell_type": "code",
      "metadata": {
        "colab": {
          "base_uri": "https://localhost:8080/"
        },
        "id": "mv92VohhhH1D",
        "outputId": "be2ddd86-b740-499f-b8d1-04dc742cdfa1"
      },
      "source": [
        "reg_8_26 = smf.ols(formula='testscr~loginc+loginc2+loginc3', data=caschool)\n",
        "results_8_26 = reg_8_26.fit(cov_type='HC1')  # robust\n",
        "print(results_8_26.summary())"
      ],
      "execution_count": null,
      "outputs": [
        {
          "output_type": "stream",
          "text": [
            "                            OLS Regression Results                            \n",
            "==============================================================================\n",
            "Dep. Variable:                testscr   R-squared:                       0.563\n",
            "Model:                            OLS   Adj. R-squared:                  0.560\n",
            "Method:                 Least Squares   F-statistic:                     255.2\n",
            "Date:                Mon, 12 Apr 2021   Prob (F-statistic):           6.68e-94\n",
            "Time:                        06:40:11   Log-Likelihood:                -1659.4\n",
            "No. Observations:                 420   AIC:                             3327.\n",
            "Df Residuals:                     416   BIC:                             3343.\n",
            "Df Model:                           3                                         \n",
            "Covariance Type:                  HC1                                         \n",
            "==============================================================================\n",
            "                 coef    std err          z      P>|z|      [0.025      0.975]\n",
            "------------------------------------------------------------------------------\n",
            "Intercept    486.1345     79.383      6.124      0.000     330.548     641.721\n",
            "loginc       113.3815     87.884      1.290      0.197     -58.867     285.630\n",
            "loginc2      -26.9109     31.746     -0.848      0.397     -89.131      35.310\n",
            "loginc3        3.0631      3.737      0.820      0.412      -4.261      10.387\n",
            "==============================================================================\n",
            "Omnibus:                        0.611   Durbin-Watson:                   0.998\n",
            "Prob(Omnibus):                  0.737   Jarque-Bera (JB):                0.467\n",
            "Skew:                          -0.073   Prob(JB):                        0.792\n",
            "Kurtosis:                       3.074   Cond. No.                     5.56e+03\n",
            "==============================================================================\n",
            "\n",
            "Warnings:\n",
            "[1] Standard Errors are heteroscedasticity robust (HC1)\n",
            "[2] The condition number is large, 5.56e+03. This might indicate that there are\n",
            "strong multicollinearity or other numerical problems.\n"
          ],
          "name": "stdout"
        }
      ]
    },
    {
      "cell_type": "markdown",
      "metadata": {
        "id": "YDFqVSg4WX7Z"
      },
      "source": [
        "## **8.3 Interactions Between Independent Variables**"
      ]
    },
    {
      "cell_type": "markdown",
      "metadata": {
        "id": "jx7NzIJahmGY"
      },
      "source": [
        "### Equation 8.30"
      ]
    },
    {
      "cell_type": "markdown",
      "metadata": {
        "id": "soQtOysEiLRp"
      },
      "source": [
        "$\\widehat{TestScore} = \\underset{(1.4)}{664.1} -\\underset{(1.9)}{1.9} HiSTR -\\underset{(2.3)}{18.2} HiEL - \\underset{(3.1)}{3.5}(HiSTR \\times HiEL)$"
      ]
    },
    {
      "cell_type": "code",
      "metadata": {
        "colab": {
          "base_uri": "https://localhost:8080/"
        },
        "id": "DiPAshbRhnlQ",
        "outputId": "884abd71-7d88-4df6-cf26-a3547e486f3f"
      },
      "source": [
        "reg_8_30 = smf.ols(formula='testscr~hiel+histr+hisxhie', data=caschool)\n",
        "results_8_30 = reg_8_30.fit(cov_type='HC1')  # robust\n",
        "print(results_8_30.summary())"
      ],
      "execution_count": null,
      "outputs": [
        {
          "output_type": "stream",
          "text": [
            "                            OLS Regression Results                            \n",
            "==============================================================================\n",
            "Dep. Variable:                testscr   R-squared:                       0.296\n",
            "Model:                            OLS   Adj. R-squared:                  0.290\n",
            "Method:                 Least Squares   F-statistic:                     60.20\n",
            "Date:                Mon, 12 Apr 2021   Prob (F-statistic):           2.44e-32\n",
            "Time:                        06:40:11   Log-Likelihood:                -1759.7\n",
            "No. Observations:                 420   AIC:                             3527.\n",
            "Df Residuals:                     416   BIC:                             3544.\n",
            "Df Model:                           3                                         \n",
            "Covariance Type:                  HC1                                         \n",
            "==============================================================================\n",
            "                 coef    std err          z      P>|z|      [0.025      0.975]\n",
            "------------------------------------------------------------------------------\n",
            "Intercept    664.1433      1.388    478.459      0.000     661.423     666.864\n",
            "hiel         -18.1629      2.346     -7.742      0.000     -22.761     -13.565\n",
            "histr         -1.9078      1.932     -0.987      0.323      -5.695       1.879\n",
            "hisxhie       -3.4943      3.121     -1.120      0.263      -9.612       2.623\n",
            "==============================================================================\n",
            "Omnibus:                        7.886   Durbin-Watson:                   0.568\n",
            "Prob(Omnibus):                  0.019   Jarque-Bera (JB):                8.131\n",
            "Skew:                           0.334   Prob(JB):                       0.0172\n",
            "Kurtosis:                       2.860   Cond. No.                         6.51\n",
            "==============================================================================\n",
            "\n",
            "Warnings:\n",
            "[1] Standard Errors are heteroscedasticity robust (HC1)\n"
          ],
          "name": "stdout"
        }
      ]
    },
    {
      "cell_type": "markdown",
      "metadata": {
        "id": "QpSu36LNzzOV"
      },
      "source": [
        "### Equation 8.34"
      ]
    },
    {
      "cell_type": "markdown",
      "metadata": {
        "id": "U1HkNIpQ1WU0"
      },
      "source": [
        "$\\widehat{TestScore} = \\underset{(11.9)}{682.2} -\\underset{(0.59)}{0.97} STR -\\underset{(19.5)}{5.6} HiEL - \\underset{(0.97)}{1.28}(STR \\times HiEL)$"
      ]
    },
    {
      "cell_type": "code",
      "metadata": {
        "colab": {
          "base_uri": "https://localhost:8080/"
        },
        "id": "-0J5_sOi1X08",
        "outputId": "27b47adf-6176-4d58-bcc0-577a7f32ff13"
      },
      "source": [
        "reg_8_34 = smf.ols(formula='testscr~str+hiel+strxhiel', data=caschool)\n",
        "results_8_34 = reg_8_34.fit(cov_type='HC1')  # robust\n",
        "print(results_8_34.summary())"
      ],
      "execution_count": null,
      "outputs": [
        {
          "output_type": "stream",
          "text": [
            "                            OLS Regression Results                            \n",
            "==============================================================================\n",
            "Dep. Variable:                testscr   R-squared:                       0.310\n",
            "Model:                            OLS   Adj. R-squared:                  0.305\n",
            "Method:                 Least Squares   F-statistic:                     63.67\n",
            "Date:                Mon, 12 Apr 2021   Prob (F-statistic):           6.74e-34\n",
            "Time:                        06:47:44   Log-Likelihood:                -1755.3\n",
            "No. Observations:                 420   AIC:                             3519.\n",
            "Df Residuals:                     416   BIC:                             3535.\n",
            "Df Model:                           3                                         \n",
            "Covariance Type:                  HC1                                         \n",
            "==============================================================================\n",
            "                 coef    std err          z      P>|z|      [0.025      0.975]\n",
            "------------------------------------------------------------------------------\n",
            "Intercept    682.2458     11.868     57.487      0.000     658.985     705.506\n",
            "str           -0.9685      0.589     -1.644      0.100      -2.123       0.186\n",
            "hiel           5.6391     19.515      0.289      0.773     -32.609      43.887\n",
            "strxhiel      -1.2766      0.967     -1.320      0.187      -3.172       0.619\n",
            "==============================================================================\n",
            "Omnibus:                        4.924   Durbin-Watson:                   0.585\n",
            "Prob(Omnibus):                  0.085   Jarque-Bera (JB):                5.019\n",
            "Skew:                           0.252   Prob(JB):                       0.0813\n",
            "Kurtosis:                       2.821   Cond. No.                         527.\n",
            "==============================================================================\n",
            "\n",
            "Warnings:\n",
            "[1] Standard Errors are heteroscedasticity robust (HC1)\n"
          ],
          "name": "stdout"
        }
      ]
    },
    {
      "cell_type": "markdown",
      "metadata": {
        "id": "HSkUWqhk47Fw"
      },
      "source": [
        "### Equation 8.37"
      ]
    },
    {
      "cell_type": "markdown",
      "metadata": {
        "id": "GYQmmNKs48wk"
      },
      "source": [
        "$\\widehat{TestScore} = \\underset{(11.8)}{686.3} -\\underset{(0.59)}{1.12} STR -\\underset{(0.37)}{0.67} PctEL - \\underset{(0.019)}{0.0012}(STR \\times PctEL)$"
      ]
    },
    {
      "cell_type": "code",
      "metadata": {
        "colab": {
          "base_uri": "https://localhost:8080/"
        },
        "id": "WWEuS3PB5Oha",
        "outputId": "5ead7407-7081-4889-c903-3eeec067251e"
      },
      "source": [
        "reg_8_37 = smf.ols(formula='testscr~str+el_pct+strxelpc', data=caschool)\n",
        "results_8_37 = reg_8_37.fit(cov_type='HC1')  # robust\n",
        "print(results_8_37.summary())"
      ],
      "execution_count": null,
      "outputs": [
        {
          "output_type": "stream",
          "text": [
            "                            OLS Regression Results                            \n",
            "==============================================================================\n",
            "Dep. Variable:                testscr   R-squared:                       0.426\n",
            "Model:                            OLS   Adj. R-squared:                  0.422\n",
            "Method:                 Least Squares   F-statistic:                     155.0\n",
            "Date:                Mon, 12 Apr 2021   Prob (F-statistic):           1.89e-67\n",
            "Time:                        07:04:37   Log-Likelihood:                -1716.6\n",
            "No. Observations:                 420   AIC:                             3441.\n",
            "Df Residuals:                     416   BIC:                             3457.\n",
            "Df Model:                           3                                         \n",
            "Covariance Type:                  HC1                                         \n",
            "==============================================================================\n",
            "                 coef    std err          z      P>|z|      [0.025      0.975]\n",
            "------------------------------------------------------------------------------\n",
            "Intercept    686.3385     11.759     58.365      0.000     663.291     709.386\n",
            "str           -1.1170      0.588     -1.901      0.057      -2.269       0.034\n",
            "el_pct        -0.6729      0.374     -1.799      0.072      -1.406       0.060\n",
            "strxelpc       0.0012      0.019      0.063      0.950      -0.035       0.037\n",
            "==============================================================================\n",
            "Omnibus:                        0.614   Durbin-Watson:                   0.686\n",
            "Prob(Omnibus):                  0.736   Jarque-Bera (JB):                0.534\n",
            "Skew:                           0.087   Prob(JB):                        0.766\n",
            "Kurtosis:                       3.024   Cond. No.                     6.50e+03\n",
            "==============================================================================\n",
            "\n",
            "Warnings:\n",
            "[1] Standard Errors are heteroscedasticity robust (HC1)\n",
            "[2] The condition number is large, 6.5e+03. This might indicate that there are\n",
            "strong multicollinearity or other numerical problems.\n"
          ],
          "name": "stdout"
        }
      ]
    },
    {
      "cell_type": "markdown",
      "metadata": {
        "id": "5M3zG8DbXCan"
      },
      "source": [
        "## **8.4 Nonlinear Effects on Test Scores of the Student–Teacher Ratio**"
      ]
    },
    {
      "cell_type": "markdown",
      "metadata": {
        "id": "UH2-opIJ5inR"
      },
      "source": [
        "### Table 8.3"
      ]
    },
    {
      "cell_type": "code",
      "metadata": {
        "colab": {
          "base_uri": "https://localhost:8080/"
        },
        "id": "MsNV_QuP5psc",
        "outputId": "d389c5d0-f653-4733-d21b-90c750ef624c"
      },
      "source": [
        "# column(1)\n",
        "reg_t8_3_1 = smf.ols(formula='testscr~str+el_pct+meal_pct', data=caschool)\n",
        "results_t8_3_1 = reg_t8_3_1.fit(cov_type='HC1')  # robust\n",
        "print(results_t8_3_1.summary())"
      ],
      "execution_count": null,
      "outputs": [
        {
          "output_type": "stream",
          "text": [
            "                            OLS Regression Results                            \n",
            "==============================================================================\n",
            "Dep. Variable:                testscr   R-squared:                       0.775\n",
            "Model:                            OLS   Adj. R-squared:                  0.773\n",
            "Method:                 Least Squares   F-statistic:                     453.5\n",
            "Date:                Mon, 12 Apr 2021   Prob (F-statistic):          1.05e-130\n",
            "Time:                        07:06:43   Log-Likelihood:                -1520.5\n",
            "No. Observations:                 420   AIC:                             3049.\n",
            "Df Residuals:                     416   BIC:                             3065.\n",
            "Df Model:                           3                                         \n",
            "Covariance Type:                  HC1                                         \n",
            "==============================================================================\n",
            "                 coef    std err          z      P>|z|      [0.025      0.975]\n",
            "------------------------------------------------------------------------------\n",
            "Intercept    700.1500      5.568    125.735      0.000     689.236     711.064\n",
            "str           -0.9983      0.270     -3.696      0.000      -1.528      -0.469\n",
            "el_pct        -0.1216      0.033     -3.703      0.000      -0.186      -0.057\n",
            "meal_pct      -0.5473      0.024    -22.705      0.000      -0.595      -0.500\n",
            "==============================================================================\n",
            "Omnibus:                        6.998   Durbin-Watson:                   1.438\n",
            "Prob(Omnibus):                  0.030   Jarque-Bera (JB):               10.626\n",
            "Skew:                          -0.024   Prob(JB):                      0.00493\n",
            "Kurtosis:                       3.778   Cond. No.                         621.\n",
            "==============================================================================\n",
            "\n",
            "Warnings:\n",
            "[1] Standard Errors are heteroscedasticity robust (HC1)\n"
          ],
          "name": "stdout"
        }
      ]
    },
    {
      "cell_type": "code",
      "metadata": {
        "colab": {
          "base_uri": "https://localhost:8080/"
        },
        "id": "yPHRsAdD5p0s",
        "outputId": "291ac19d-e2a8-4c60-ea92-1e1188afc8d0"
      },
      "source": [
        "# column(2)\n",
        "reg_t8_3_2 = smf.ols(formula='testscr~str+el_pct+meal_pct+loginc', data=caschool)\n",
        "results_t8_3_2 = reg_t8_3_2.fit(cov_type='HC1')  # robust\n",
        "print(results_t8_3_2.summary())"
      ],
      "execution_count": null,
      "outputs": [
        {
          "output_type": "stream",
          "text": [
            "                            OLS Regression Results                            \n",
            "==============================================================================\n",
            "Dep. Variable:                testscr   R-squared:                       0.796\n",
            "Model:                            OLS   Adj. R-squared:                  0.794\n",
            "Method:                 Least Squares   F-statistic:                     417.2\n",
            "Date:                Mon, 12 Apr 2021   Prob (F-statistic):          6.40e-144\n",
            "Time:                        07:07:13   Log-Likelihood:                -1499.3\n",
            "No. Observations:                 420   AIC:                             3009.\n",
            "Df Residuals:                     415   BIC:                             3029.\n",
            "Df Model:                           4                                         \n",
            "Covariance Type:                  HC1                                         \n",
            "==============================================================================\n",
            "                 coef    std err          z      P>|z|      [0.025      0.975]\n",
            "------------------------------------------------------------------------------\n",
            "Intercept    658.5520      8.642     76.208      0.000     641.615     675.489\n",
            "str           -0.7343      0.257     -2.860      0.004      -1.238      -0.231\n",
            "el_pct        -0.1755      0.034     -5.215      0.000      -0.242      -0.110\n",
            "meal_pct      -0.3982      0.033    -12.004      0.000      -0.463      -0.333\n",
            "loginc        11.5690      1.819      6.361      0.000       8.004      15.134\n",
            "==============================================================================\n",
            "Omnibus:                        7.598   Durbin-Watson:                   1.522\n",
            "Prob(Omnibus):                  0.022   Jarque-Bera (JB):               11.949\n",
            "Skew:                           0.025   Prob(JB):                      0.00254\n",
            "Kurtosis:                       3.825   Cond. No.                     1.09e+03\n",
            "==============================================================================\n",
            "\n",
            "Warnings:\n",
            "[1] Standard Errors are heteroscedasticity robust (HC1)\n",
            "[2] The condition number is large, 1.09e+03. This might indicate that there are\n",
            "strong multicollinearity or other numerical problems.\n"
          ],
          "name": "stdout"
        }
      ]
    },
    {
      "cell_type": "code",
      "metadata": {
        "colab": {
          "base_uri": "https://localhost:8080/"
        },
        "id": "XXeHYcjz5p9C",
        "outputId": "eecaf6e7-1fe8-4369-ca22-88ea485f9231"
      },
      "source": [
        "# column(3)\n",
        "reg_t8_3_3 = smf.ols(formula='testscr~str+hiel+strxhiel', data=caschool)\n",
        "results_t8_3_3 = reg_t8_3_3.fit(cov_type='HC1')  # robust\n",
        "print(results_t8_3_3.summary())"
      ],
      "execution_count": null,
      "outputs": [
        {
          "output_type": "stream",
          "text": [
            "                            OLS Regression Results                            \n",
            "==============================================================================\n",
            "Dep. Variable:                testscr   R-squared:                       0.310\n",
            "Model:                            OLS   Adj. R-squared:                  0.305\n",
            "Method:                 Least Squares   F-statistic:                     63.67\n",
            "Date:                Mon, 12 Apr 2021   Prob (F-statistic):           6.74e-34\n",
            "Time:                        07:07:38   Log-Likelihood:                -1755.3\n",
            "No. Observations:                 420   AIC:                             3519.\n",
            "Df Residuals:                     416   BIC:                             3535.\n",
            "Df Model:                           3                                         \n",
            "Covariance Type:                  HC1                                         \n",
            "==============================================================================\n",
            "                 coef    std err          z      P>|z|      [0.025      0.975]\n",
            "------------------------------------------------------------------------------\n",
            "Intercept    682.2458     11.868     57.487      0.000     658.985     705.506\n",
            "str           -0.9685      0.589     -1.644      0.100      -2.123       0.186\n",
            "hiel           5.6391     19.515      0.289      0.773     -32.609      43.887\n",
            "strxhiel      -1.2766      0.967     -1.320      0.187      -3.172       0.619\n",
            "==============================================================================\n",
            "Omnibus:                        4.924   Durbin-Watson:                   0.585\n",
            "Prob(Omnibus):                  0.085   Jarque-Bera (JB):                5.019\n",
            "Skew:                           0.252   Prob(JB):                       0.0813\n",
            "Kurtosis:                       2.821   Cond. No.                         527.\n",
            "==============================================================================\n",
            "\n",
            "Warnings:\n",
            "[1] Standard Errors are heteroscedasticity robust (HC1)\n"
          ],
          "name": "stdout"
        }
      ]
    },
    {
      "cell_type": "code",
      "metadata": {
        "colab": {
          "base_uri": "https://localhost:8080/"
        },
        "id": "sJhMifr75qE_",
        "outputId": "28184f92-7443-492d-c5ca-d4f5642634ca"
      },
      "source": [
        "print(results_t8_3_3.f_test(['str=0', 'strxhiel=0']))"
      ],
      "execution_count": null,
      "outputs": [
        {
          "output_type": "stream",
          "text": [
            "<F test: F=array([[5.63810394]]), p=0.003837081057943413, df_denom=416, df_num=2>\n"
          ],
          "name": "stdout"
        }
      ]
    },
    {
      "cell_type": "code",
      "metadata": {
        "colab": {
          "base_uri": "https://localhost:8080/"
        },
        "id": "9eusboLu6esQ",
        "outputId": "34e2e0ac-8d34-4b53-d98d-95d1ee67ace0"
      },
      "source": [
        "# column(4)\n",
        "reg_t8_3_4 = smf.ols(formula='testscr~str+hiel+strxhiel+meal_pct+loginc', data=caschool)\n",
        "results_t8_3_4 = reg_t8_3_4.fit(cov_type='HC1')  # robust\n",
        "print(results_t8_3_4.summary())"
      ],
      "execution_count": null,
      "outputs": [
        {
          "output_type": "stream",
          "text": [
            "                            OLS Regression Results                            \n",
            "==============================================================================\n",
            "Dep. Variable:                testscr   R-squared:                       0.797\n",
            "Model:                            OLS   Adj. R-squared:                  0.795\n",
            "Method:                 Least Squares   F-statistic:                     335.8\n",
            "Date:                Mon, 12 Apr 2021   Prob (F-statistic):          3.32e-143\n",
            "Time:                        07:09:59   Log-Likelihood:                -1498.1\n",
            "No. Observations:                 420   AIC:                             3008.\n",
            "Df Residuals:                     414   BIC:                             3032.\n",
            "Df Model:                           5                                         \n",
            "Covariance Type:                  HC1                                         \n",
            "==============================================================================\n",
            "                 coef    std err          z      P>|z|      [0.025      0.975]\n",
            "------------------------------------------------------------------------------\n",
            "Intercept    653.6661      9.869     66.232      0.000     634.322     673.010\n",
            "str           -0.5310      0.342     -1.553      0.120      -1.201       0.139\n",
            "hiel           5.4982      9.795      0.561      0.575     -13.700      24.696\n",
            "strxhiel      -0.5777      0.496     -1.165      0.244      -1.549       0.394\n",
            "meal_pct      -0.4114      0.029    -14.270      0.000      -0.468      -0.355\n",
            "loginc        12.1245      1.798      6.745      0.000       8.601      15.648\n",
            "==============================================================================\n",
            "Omnibus:                        7.141   Durbin-Watson:                   1.530\n",
            "Prob(Omnibus):                  0.028   Jarque-Bera (JB):               10.989\n",
            "Skew:                           0.001   Prob(JB):                      0.00411\n",
            "Kurtosis:                       3.792   Cond. No.                     1.47e+03\n",
            "==============================================================================\n",
            "\n",
            "Warnings:\n",
            "[1] Standard Errors are heteroscedasticity robust (HC1)\n",
            "[2] The condition number is large, 1.47e+03. This might indicate that there are\n",
            "strong multicollinearity or other numerical problems.\n"
          ],
          "name": "stdout"
        }
      ]
    },
    {
      "cell_type": "code",
      "metadata": {
        "colab": {
          "base_uri": "https://localhost:8080/"
        },
        "id": "eDtf4JI46pPZ",
        "outputId": "438e7cd5-4c2a-4dd4-fc52-a0ffe6f46db0"
      },
      "source": [
        "print(results_t8_3_4.f_test(['str=0', 'strxhiel=0']))"
      ],
      "execution_count": null,
      "outputs": [
        {
          "output_type": "stream",
          "text": [
            "<F test: F=array([[5.92210939]]), p=0.0029118177310633966, df_denom=414, df_num=2>\n"
          ],
          "name": "stdout"
        }
      ]
    },
    {
      "cell_type": "code",
      "metadata": {
        "colab": {
          "base_uri": "https://localhost:8080/"
        },
        "id": "RrblZFM46sch",
        "outputId": "0da60e4f-234b-44e2-afba-adedb85802a8"
      },
      "source": [
        "# column(5)\n",
        "reg_t8_3_5 = smf.ols(formula='testscr~str+sttr2+sttr3+hiel+meal_pct+loginc', data=caschool)\n",
        "results_t8_3_5 = reg_t8_3_5.fit(cov_type='HC1')  # robust\n",
        "print(results_t8_3_5.summary())"
      ],
      "execution_count": null,
      "outputs": [
        {
          "output_type": "stream",
          "text": [
            "                            OLS Regression Results                            \n",
            "==============================================================================\n",
            "Dep. Variable:                testscr   R-squared:                       0.801\n",
            "Model:                            OLS   Adj. R-squared:                  0.798\n",
            "Method:                 Least Squares   F-statistic:                     281.1\n",
            "Date:                Mon, 12 Apr 2021   Prob (F-statistic):          2.03e-142\n",
            "Time:                        07:11:10   Log-Likelihood:                -1494.2\n",
            "No. Observations:                 420   AIC:                             3002.\n",
            "Df Residuals:                     413   BIC:                             3031.\n",
            "Df Model:                           6                                         \n",
            "Covariance Type:                  HC1                                         \n",
            "==============================================================================\n",
            "                 coef    std err          z      P>|z|      [0.025      0.975]\n",
            "------------------------------------------------------------------------------\n",
            "Intercept    252.0509    163.634      1.540      0.123     -68.666     572.768\n",
            "str           64.3389     24.861      2.588      0.010      15.613     113.065\n",
            "sttr2         -3.4239      1.250     -2.739      0.006      -5.874      -0.974\n",
            "sttr3          0.0593      0.021      2.856      0.004       0.019       0.100\n",
            "hiel          -5.4740      1.034     -5.295      0.000      -7.500      -3.448\n",
            "meal_pct      -0.4201      0.029    -14.726      0.000      -0.476      -0.364\n",
            "loginc        11.7482      1.771      6.632      0.000       8.276      15.220\n",
            "==============================================================================\n",
            "Omnibus:                       10.188   Durbin-Watson:                   1.540\n",
            "Prob(Omnibus):                  0.006   Jarque-Bera (JB):               18.307\n",
            "Skew:                          -0.038   Prob(JB):                     0.000106\n",
            "Kurtosis:                       4.020   Cond. No.                     3.26e+06\n",
            "==============================================================================\n",
            "\n",
            "Warnings:\n",
            "[1] Standard Errors are heteroscedasticity robust (HC1)\n",
            "[2] The condition number is large, 3.26e+06. This might indicate that there are\n",
            "strong multicollinearity or other numerical problems.\n"
          ],
          "name": "stdout"
        }
      ]
    },
    {
      "cell_type": "code",
      "metadata": {
        "colab": {
          "base_uri": "https://localhost:8080/"
        },
        "id": "oTgEZ_zK66YK",
        "outputId": "639fdfa5-58a3-4271-8438-06f8e771dbf7"
      },
      "source": [
        "print(results_t8_3_5.f_test(['str=0', 'sttr2=0', 'sttr3=0']))\n",
        "print(results_t8_3_5.f_test(['sttr2=0', 'sttr3=0']))"
      ],
      "execution_count": null,
      "outputs": [
        {
          "output_type": "stream",
          "text": [
            "<F test: F=array([[6.31296039]]), p=0.0003403287675209415, df_denom=413, df_num=3>\n",
            "<F test: F=array([[6.16628641]]), p=0.0022973166587268597, df_denom=413, df_num=2>\n"
          ],
          "name": "stdout"
        }
      ]
    },
    {
      "cell_type": "code",
      "metadata": {
        "colab": {
          "base_uri": "https://localhost:8080/"
        },
        "id": "9S9xDtcD7Ek5",
        "outputId": "5895ff9b-eaa8-4247-8f1d-15d5a0c67e25"
      },
      "source": [
        "# column(6)\n",
        "reg_t8_3_6 = smf.ols(formula='testscr~str+sttr2+sttr3+hiel+strxhiel+str2hiel+str3hiel+meal_pct+loginc', data=caschool)\n",
        "results_t8_3_6 = reg_t8_3_6.fit(cov_type='HC1')  # robust\n",
        "print(results_t8_3_6.summary())"
      ],
      "execution_count": null,
      "outputs": [
        {
          "output_type": "stream",
          "text": [
            "                            OLS Regression Results                            \n",
            "==============================================================================\n",
            "Dep. Variable:                testscr   R-squared:                       0.803\n",
            "Model:                            OLS   Adj. R-squared:                  0.799\n",
            "Method:                 Least Squares   F-statistic:                     199.8\n",
            "Date:                Mon, 12 Apr 2021   Prob (F-statistic):          6.56e-144\n",
            "Time:                        07:13:04   Log-Likelihood:                -1492.1\n",
            "No. Observations:                 420   AIC:                             3004.\n",
            "Df Residuals:                     410   BIC:                             3045.\n",
            "Df Model:                           9                                         \n",
            "Covariance Type:                  HC1                                         \n",
            "==============================================================================\n",
            "                 coef    std err          z      P>|z|      [0.025      0.975]\n",
            "------------------------------------------------------------------------------\n",
            "Intercept    122.3542    185.519      0.660      0.510    -241.256     485.964\n",
            "str           83.7015     28.497      2.937      0.003      27.849     139.554\n",
            "sttr2         -4.3808      1.441     -3.040      0.002      -7.205      -1.556\n",
            "sttr3          0.0749      0.024      3.121      0.002       0.028       0.122\n",
            "hiel         816.0745    327.674      2.491      0.013     173.846    1458.303\n",
            "strxhiel    -123.2818     50.213     -2.455      0.014    -221.697     -24.867\n",
            "str2hiel       6.1211      2.542      2.408      0.016       1.139      11.103\n",
            "str3hiel      -0.1006      0.043     -2.366      0.018      -0.184      -0.017\n",
            "meal_pct      -0.4178      0.029    -14.556      0.000      -0.474      -0.362\n",
            "loginc        11.8004      1.778      6.637      0.000       8.316      15.285\n",
            "==============================================================================\n",
            "Omnibus:                       10.766   Durbin-Watson:                   1.535\n",
            "Prob(Omnibus):                  0.005   Jarque-Bera (JB):               19.764\n",
            "Skew:                          -0.050   Prob(JB):                     5.11e-05\n",
            "Kurtosis:                       4.058   Cond. No.                     9.96e+06\n",
            "==============================================================================\n",
            "\n",
            "Warnings:\n",
            "[1] Standard Errors are heteroscedasticity robust (HC1)\n",
            "[2] The condition number is large, 9.96e+06. This might indicate that there are\n",
            "strong multicollinearity or other numerical problems.\n"
          ],
          "name": "stdout"
        }
      ]
    },
    {
      "cell_type": "code",
      "metadata": {
        "colab": {
          "base_uri": "https://localhost:8080/"
        },
        "id": "d_g_qWtJ7Xfj",
        "outputId": "bdc0e967-ca6d-43f4-a539-6a975b034a24"
      },
      "source": [
        "print(results_t8_3_6.f_test(['str=0', 'sttr2=0', 'sttr3=0','strxhiel=0','str2hiel=0','str3hiel']))\n",
        "print(results_t8_3_6.f_test(['sttr2=0', 'sttr3=0']))\n",
        "print(results_t8_3_6.f_test(['strxhiel=0','str2hiel=0','str3hiel']))"
      ],
      "execution_count": null,
      "outputs": [
        {
          "output_type": "stream",
          "text": [
            "<F test: F=array([[4.96166765]]), p=6.415828315336075e-05, df_denom=410, df_num=6>\n",
            "<F test: F=array([[5.80629655]]), p=0.0032614287804590193, df_denom=410, df_num=2>\n",
            "<F test: F=array([[2.69024625]]), p=0.045969318151175616, df_denom=410, df_num=3>\n"
          ],
          "name": "stdout"
        }
      ]
    },
    {
      "cell_type": "code",
      "metadata": {
        "colab": {
          "base_uri": "https://localhost:8080/"
        },
        "id": "HwsC4Qe07qAy",
        "outputId": "2f2e3920-a771-4936-9acd-bc964bfbe790"
      },
      "source": [
        "# column(7)\n",
        "reg_t8_3_7 = smf.ols(formula='testscr~str+sttr2+sttr3+el_pct+meal_pct+loginc', data=caschool)\n",
        "results_t8_3_7 = reg_t8_3_7.fit(cov_type='HC1')  # robust\n",
        "print(results_t8_3_7.summary())"
      ],
      "execution_count": null,
      "outputs": [
        {
          "output_type": "stream",
          "text": [
            "                            OLS Regression Results                            \n",
            "==============================================================================\n",
            "Dep. Variable:                testscr   R-squared:                       0.801\n",
            "Model:                            OLS   Adj. R-squared:                  0.798\n",
            "Method:                 Least Squares   F-statistic:                     280.8\n",
            "Date:                Mon, 12 Apr 2021   Prob (F-statistic):          2.47e-142\n",
            "Time:                        07:14:59   Log-Likelihood:                -1494.6\n",
            "No. Observations:                 420   AIC:                             3003.\n",
            "Df Residuals:                     413   BIC:                             3031.\n",
            "Df Model:                           6                                         \n",
            "Covariance Type:                  HC1                                         \n",
            "==============================================================================\n",
            "                 coef    std err          z      P>|z|      [0.025      0.975]\n",
            "------------------------------------------------------------------------------\n",
            "Intercept    244.8090    165.722      1.477      0.140     -80.001     569.619\n",
            "str           65.2850     25.259      2.585      0.010      15.779     114.791\n",
            "sttr2         -3.4655      1.271     -2.727      0.006      -5.956      -0.975\n",
            "sttr3          0.0599      0.021      2.836      0.005       0.019       0.101\n",
            "el_pct        -0.1657      0.034     -4.821      0.000      -0.233      -0.098\n",
            "meal_pct      -0.4024      0.033    -12.097      0.000      -0.468      -0.337\n",
            "loginc        11.5089      1.806      6.371      0.000       7.968      15.049\n",
            "==============================================================================\n",
            "Omnibus:                        9.742   Durbin-Watson:                   1.524\n",
            "Prob(Omnibus):                  0.008   Jarque-Bera (JB):               17.285\n",
            "Skew:                           0.008   Prob(JB):                     0.000176\n",
            "Kurtosis:                       3.994   Cond. No.                     3.26e+06\n",
            "==============================================================================\n",
            "\n",
            "Warnings:\n",
            "[1] Standard Errors are heteroscedasticity robust (HC1)\n",
            "[2] The condition number is large, 3.26e+06. This might indicate that there are\n",
            "strong multicollinearity or other numerical problems.\n"
          ],
          "name": "stdout"
        }
      ]
    },
    {
      "cell_type": "code",
      "metadata": {
        "colab": {
          "base_uri": "https://localhost:8080/"
        },
        "id": "G56eayrF7ySD",
        "outputId": "fa709dd0-f8c4-4dd8-8f4a-4e6a1a1cfa55"
      },
      "source": [
        "print(results_t8_3_7.f_test(['str=0', 'sttr2=0', 'sttr3=0']))\n",
        "print(results_t8_3_7.f_test(['sttr2=0', 'sttr3=0']))"
      ],
      "execution_count": null,
      "outputs": [
        {
          "output_type": "stream",
          "text": [
            "<F test: F=array([[5.9071041]]), p=0.0005923758524584682, df_denom=413, df_num=3>\n",
            "<F test: F=array([[5.95788894]]), p=0.00281284361867873, df_denom=413, df_num=2>\n"
          ],
          "name": "stdout"
        }
      ]
    },
    {
      "cell_type": "markdown",
      "metadata": {
        "id": "XIHiof8IG5xz"
      },
      "source": [
        "## **8.5 Conclusion**"
      ]
    }
  ]
}