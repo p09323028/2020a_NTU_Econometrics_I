{
  "nbformat": 4,
  "nbformat_minor": 0,
  "metadata": {
    "colab": {
      "name": "PS4.ipynb",
      "provenance": [],
      "collapsed_sections": [],
      "authorship_tag": "ABX9TyPUFa4XgoRLI/JTATR6W9Ig",
      "include_colab_link": true
    },
    "kernelspec": {
      "display_name": "Python 3",
      "name": "python3"
    },
    "language_info": {
      "name": "python"
    }
  },
  "cells": [
    {
      "cell_type": "markdown",
      "metadata": {
        "id": "view-in-github",
        "colab_type": "text"
      },
      "source": [
        "<a href=\"https://colab.research.google.com/github/p09323028/2020a_NTU_Econometrics_I/blob/main/Homework/PS4.ipynb\" target=\"_parent\"><img src=\"https://colab.research.google.com/assets/colab-badge.svg\" alt=\"Open In Colab\"/></a>"
      ]
    },
    {
      "cell_type": "markdown",
      "metadata": {
        "id": "dmt55nf23hrz"
      },
      "source": [
        "# **Homework 4**\n",
        "Author: Jinze Wu\n",
        "\n",
        "Student Number: p09323028"
      ]
    },
    {
      "cell_type": "markdown",
      "metadata": {
        "id": "MaMWeUijyIkA"
      },
      "source": [
        "# **Excercise 10.1**\n",
        "This exercise refers to the drunk driving panel data regression summarized in\n",
        "Table 10.1.\n",
        "1. New Jersey has a population of 8.85 million people. Suppose New Jersey\n",
        "increased the tax on a case of beer by $2 (in 1988 dollars). Use the\n",
        "results in column (5) to predict the number of lives that would be saved\n",
        "over the next year. Construct a 99% confidence interval for your answer.\n",
        "2. The drinking age in New Jersey is 21. Suppose that New Jersey lowered\n",
        "its drinking age to 19. Use the results in column (5) to predict the change\n",
        "in the number of traffic fatalities in the next year. Construct a 95% confidence\n",
        "interval for your answer.\n",
        "3. Suppose real income per capita in New Jersey increases by 3% in the\n",
        "next year. Use the results in column (6) to predict the change in the\n",
        "number of traffic fatalities in the next year. Construct a 95% confidence\n",
        "interval for your answer.\n",
        "4. How should standard errors be clustered in the regressions in columns\n",
        "(2) through (7)?\n",
        "5. How should minimum drinking age be included in the regressions?\n",
        "Should it enter as a continuous variable or as a series of indicator variables?\n",
        "Be specific about the information you use to assess this question.\n",
        "\n",
        "---\n",
        "\n"
      ]
    },
    {
      "cell_type": "markdown",
      "metadata": {
        "id": "gAEd8Oop0Nsq"
      },
      "source": [
        "![Table 10.1](http://drive.google.com/uc?id=1TGQkkEZ7avREKNJBLGaFTE2buQqoG3Jj)"
      ]
    },
    {
      "cell_type": "markdown",
      "metadata": {
        "id": "s4tTivc3zbqq"
      },
      "source": [
        "## 10.1-1\n",
        "$[2 \\times (0.69)] \\times 8.85 \\times 10^6 \\times 10^{-4} = 1221.3$\n",
        "\n",
        "SE: $0.35 \\times 2 \\times 8.85 \\times 10^2 = 619.5$\n",
        "\n",
        "95\\% 信賴區間: $[-374.5, 2817.1]$"
      ]
    },
    {
      "cell_type": "markdown",
      "metadata": {
        "id": "jWHP8tVVzeLB"
      },
      "source": [
        "## 10.1-2\n",
        "$(0.08) \\times 885 = 70.8$\n",
        "\n",
        "SE: $0.07 \\times 885 = 61.95$\n",
        "\n",
        "95% 信賴區間: $[-50.6, 192.2]$"
      ]
    },
    {
      "cell_type": "markdown",
      "metadata": {
        "id": "TGtrOw8Gzffa"
      },
      "source": [
        "## 10.1-3\n",
        "$[1.79 \\times \\frac{3}{100}] \\times 8.85 \\times 10^6 \\times 10^{-4} = 47.52$\n",
        "\n",
        "SE: $0.64 \\times 0.03 \\times 8.85 = 16.99$\n",
        "\n",
        "95% 信賴區間: $[14.2, 80.8]$"
      ]
    },
    {
      "cell_type": "markdown",
      "metadata": {
        "id": "1c8dv8PIzf0a"
      },
      "source": [
        "## 10.1-4\n",
        "由於各國的誤差項應具序列相關,\n",
        "故應採 clustered standard error."
      ]
    },
    {
      "cell_type": "markdown",
      "metadata": {
        "id": "OcgTjHDzzgKa"
      },
      "source": [
        "## 10.1-5\n",
        "由下圖知最低年齡不具線性關係, 故採 indicator variables 較佳。\n",
        "\n",
        "<img src=\"http://drive.google.com/uc?id=1at4WFnWWGOsQ6Cod-fToBc-bDkpoS8DL\" width=\"200\">"
      ]
    },
    {
      "cell_type": "markdown",
      "metadata": {
        "id": "nJwA7K3Myo5a"
      },
      "source": [
        "# **Excercise 10.4**\n",
        "Using the regression in Equation (10.11), what are the slope and intercept for\n",
        "1. Entity 1 in time period 1?\n",
        "2. Entity 1 in time period 3?\n",
        "3. Entity 3 in time period 1?\n",
        "4. Entity 3 in time period 3?\n",
        "\n",
        "---\n",
        "\n",
        "\n"
      ]
    },
    {
      "cell_type": "markdown",
      "metadata": {
        "id": "lx-wJEnq_wof"
      },
      "source": [
        "\n",
        "$\\text{Items}$ |$\\text{Slpoe}$|$\\text{Intercept}$\n",
        "------------|:---:|:-------:\n",
        "$i=1$, $t=1$|$\\beta_1$|$\\beta_0$\n",
        "$i=1$, $t=3$|$\\beta_1$|$\\beta_0$\n",
        "$i=3$, $t=1$|$\\beta_1$|$\\beta_0+\\gamma_3$\n",
        "$i=3$, $t=3$|$\\beta_1$|$\\beta_0+\\gamma_3$\n",
        "\n"
      ]
    },
    {
      "cell_type": "markdown",
      "metadata": {
        "id": "uEAnDbu3zKeS"
      },
      "source": [
        "# **Excercise 10.8**\n",
        "Consider observations $(Y_{it}, X_{it})$ from the linear panel data model\n",
        "$$Y_{it} = X_{it}\\beta_1 + \\alpha_i + \\lambda_{i}t + u_{it}$$\n",
        "where $t = 1,...,T$; $i = 1,...,n$; and $a_i + \\lambda_{i}t$ is an unobserved entity-specific time trend. How would you estimate $\\beta_1$?\n",
        "\n",
        "---\n",
        "\n"
      ]
    },
    {
      "cell_type": "markdown",
      "metadata": {
        "id": "-JalmyDnH3gO"
      },
      "source": [
        "以 Dummy Variables 及時間 $t$ 估算,\n",
        "\n",
        "即 $Y_{it} = X_{it}\\beta_1 + [\\beta_0 + D2_i + ... + Dn_i] + [\\beta_2t+\\delta_2(D2_i \\times t)+\\delta_n(Dn_i \\times t)]$\n",
        "\n",
        "如此, $\\lambda_i = \\beta_2 + \\delta_i$"
      ]
    },
    {
      "cell_type": "markdown",
      "metadata": {
        "id": "6hVka1wHzPXh"
      },
      "source": [
        "# **Excercise 10.11**\n",
        "Let $\\widehat{\\beta}_1^{DM}$ denote the entity-demeaned estimator given in Equation (10.22), and let $\\widehat{\\beta}_1^{BA}$ denote the “before and after” estimator without an intercept, so that \n",
        "$\\widehat{\\beta}_1^{BA} = [\\sum_{i=1}^n(X_{i2}-X_{i1})(Y_{i2}-Y_{i1})/\\sum_{i=1}^n(X_{i2}-X_{i1})^2]$. Show that, if  $T = 2$, $\\widehat{\\beta}_1^{DM} = \\widehat{\\beta}_1^{BA}$. [Hint: Use the definition of \u001f$\\widetilde{X}_{it}$ before Equation (10.22) to show that $\\widetilde{X}_{i1} = -0.5(X_{i2} - X_{i1})$ and \n",
        "$\\widetilde{X}_{i2} = 0.5(X_{i2} - X_{i1})$.]\n",
        "\n",
        "---\n",
        "\n"
      ]
    },
    {
      "cell_type": "markdown",
      "metadata": {
        "id": "eY4M4GSbKVDF"
      },
      "source": [
        "$\\widehat{\\beta}^{DM}_1=\\frac{\\sum_{i=1}^n\\sum_{t=1}^t\\widetilde{X}_{it}\\widetilde{Y}_{it}}{\\sum_{i=1}^n\\sum_{t=1}^T\\widetilde{X}_{it}^2}$ [Equation (10.22)]\n",
        "\n",
        "若 $t=2$, $\\widetilde{X}_{it} = X_{it} - \\frac{X_{i1}-X_{i2}}{2}$\n",
        "\n",
        "$\\widetilde{X}_{i1}=-0.5(X_{i2}-X_{i1})$\n",
        "\n",
        "$\\widetilde{X}_{i2}=0.5(X_{i2}-X_{i1})$\n",
        "\n",
        "$\\widehat{\\beta}^{DM}_1=\\frac{\\sum_{i=1}^n\\sum_{t=1}^2\\widetilde{X}_{it}\\widetilde{Y}_{it}}{\\sum_{i=1}^n\\sum_{t=1}^2\\widetilde{X}_{it}^2}$\n",
        "\n",
        "$=\\frac{\\sum_{i=1}^n[\\frac{1}{4}(X_{i1}-X_{i2})(Y_{i1}-Y_{i2})+\\frac{1}{4}(X_{i2}-X_{i1})(Y_{i2}-Y_{i1})]}{\\sum_{i=1}^n[\\frac{2}{4}(X_{i2}-X_{i1})^2]}$\n",
        "\n",
        "$=\\frac{\\frac{2}{4}[\\sum_{i=1}^n(X_{i2}-X_{i1})(Y_{i2}-Y_{i1})]}{\\frac{2}{4}[\\sum_{i=1}^n(X_{i2}-X_{i1})^2]}=\\widehat{\\beta}^{BA}_1$"
      ]
    },
    {
      "cell_type": "markdown",
      "metadata": {
        "id": "RKl8y13YKB2l"
      },
      "source": [
        "# **E10.2**\n",
        "Do citizens demand more democracy and political freedom as their incomes\n",
        "grow? That is, is democracy a normal good? On the text website, **http://www.pearsonglobaleditions.com**, you will find the data file **Income_Democracy**,\n",
        "which contains a panel data set from 195 countries for the years 1960, 1965, ...2000. A detailed description is given in **Income_Democracy_Description**,\n",
        "available on the website. The data set contains an index of political freedom/\n",
        "democracy for each country in each year, together with data on each country’s\n",
        "income and various demographic controls. (The income and demographic controls\n",
        "are lagged five years relative to the democracy index to allow time for\n",
        "democracy to adjust to changes in these variables.)\n",
        "1. Is the data set a balanced panel? Explain.\n",
        "2. The index of political freedom/democracy is labeled $Dem\\_ind$.\n",
        " - What are the minimum and maximum values of $Dem\\_ind$ in the data\n",
        "set? What are the mean and standard deviation of $Dem\\_ind$ in the\n",
        "data set? What are the 10th, 25th, 50th, 75th, and 90th percentiles of\n",
        "its distribution?\n",
        " - What is the value of $Dem\\_ind$ for the United States in 2000?\n",
        "Averaged over all years in the data set?\n",
        " - What is the value of $Dem\\_ind$ for Libya in 2000? Averaged over all\n",
        "years in the data set?\n",
        " - List five countries with an average value of $Dem\\_ind$ greater than 0.95; less than 0.10; and between 0.3 and 0.7.\n",
        "3. The logarithm of per capita income is labeled $Log\\_GDPPC$. Regress\n",
        "$Dem\\_ind$ on $Log\\_GDPPC$. Use standard errors that are clustered by\n",
        "country.\n",
        " - How large is the estimated coefficient on $Log\\_GDPPC$? Is the\n",
        "coefficient statistically significant?\n",
        " - If per capita income in a country increases by 20%, by how much is\n",
        "$Dem\\_ind$ predicted to increase? What is a 95% confidence interval\n",
        "for the prediction? Is the predicted increase in $Dem\\_ind$ large or\n",
        "small? (Explain what you mean by large or small.)\n",
        " - Why is it important to use clustered standard errors for the regression?\n",
        "Do the results change if you do not use clustered standard\n",
        "errors?\n",
        "4. - Suggest a variable that varies across countries but plausibly varies\n",
        "little—or not at all—over time and that could cause omitted variable\n",
        "bias in the regression in (c).\n",
        " - Estimate the regression in (c), allowing for country fixed effects.\n",
        "How do your answers to (c)(i) and (c)(ii) change?\n",
        " - Exclude the data for Azerbaijan, and rerun the regression. Do the\n",
        "results change? Why or why not?\n",
        " - Suggest a variable that varies over time but plausibly varies little—or\n",
        "not at all—across countries and that could cause omitted variable\n",
        "bias in the regression in (c).\n",
        " - Estimate the regression in (c), allowing for time and country fixed\n",
        "effects. How do your answers to (c)(i) and (c)(ii) change?\n",
        " - There are additional demographic controls in the data set. Should\n",
        "these variables be included in the regression? If so, how do the results\n",
        "change when they are included?\n",
        "5. Based on your analysis, what conclusions do you draw about the effects\n",
        "of income on democracy?\n",
        "\n",
        "---\n",
        "\n"
      ]
    },
    {
      "cell_type": "markdown",
      "metadata": {
        "id": "NksKlfGJTHf3"
      },
      "source": [
        "下載資料"
      ]
    },
    {
      "cell_type": "code",
      "metadata": {
        "id": "mPK7Pp-EROFJ"
      },
      "source": [
        "!gdown --id '13jtuZRk9a1BbbZsydKtr-mVUGkn0RD8b' --output 'income_democracy.xlsx'"
      ],
      "execution_count": null,
      "outputs": []
    },
    {
      "cell_type": "code",
      "metadata": {
        "id": "VIYWorRqTVFT"
      },
      "source": [
        "!pip install linearmodels\n",
        "import numpy as np\n",
        "import pandas as pd\n",
        "import statsmodels.formula.api as smf\n",
        "import linearmodels as plm"
      ],
      "execution_count": null,
      "outputs": []
    },
    {
      "cell_type": "code",
      "metadata": {
        "colab": {
          "base_uri": "https://localhost:8080/",
          "height": 435
        },
        "id": "lgBlTeO1UJfE",
        "outputId": "65dd5857-5fe6-472e-c6b6-307c4fb31056"
      },
      "source": [
        "inde = pd.read_excel('income_democracy.xlsx')\n",
        "inde"
      ],
      "execution_count": null,
      "outputs": [
        {
          "output_type": "execute_result",
          "data": {
            "text/html": [
              "<div>\n",
              "<style scoped>\n",
              "    .dataframe tbody tr th:only-of-type {\n",
              "        vertical-align: middle;\n",
              "    }\n",
              "\n",
              "    .dataframe tbody tr th {\n",
              "        vertical-align: top;\n",
              "    }\n",
              "\n",
              "    .dataframe thead th {\n",
              "        text-align: right;\n",
              "    }\n",
              "</style>\n",
              "<table border=\"1\" class=\"dataframe\">\n",
              "  <thead>\n",
              "    <tr style=\"text-align: right;\">\n",
              "      <th></th>\n",
              "      <th>country</th>\n",
              "      <th>year</th>\n",
              "      <th>dem_ind</th>\n",
              "      <th>log_gdppc</th>\n",
              "      <th>log_pop</th>\n",
              "      <th>age_1</th>\n",
              "      <th>age_2</th>\n",
              "      <th>age_3</th>\n",
              "      <th>age_4</th>\n",
              "      <th>age_5</th>\n",
              "      <th>educ</th>\n",
              "      <th>age_median</th>\n",
              "      <th>code</th>\n",
              "    </tr>\n",
              "  </thead>\n",
              "  <tbody>\n",
              "    <tr>\n",
              "      <th>0</th>\n",
              "      <td>Andorra</td>\n",
              "      <td>1960</td>\n",
              "      <td>NaN</td>\n",
              "      <td>NaN</td>\n",
              "      <td>NaN</td>\n",
              "      <td>NaN</td>\n",
              "      <td>NaN</td>\n",
              "      <td>NaN</td>\n",
              "      <td>NaN</td>\n",
              "      <td>NaN</td>\n",
              "      <td>NaN</td>\n",
              "      <td>NaN</td>\n",
              "      <td>1</td>\n",
              "    </tr>\n",
              "    <tr>\n",
              "      <th>1</th>\n",
              "      <td>Andorra</td>\n",
              "      <td>1965</td>\n",
              "      <td>NaN</td>\n",
              "      <td>NaN</td>\n",
              "      <td>NaN</td>\n",
              "      <td>NaN</td>\n",
              "      <td>NaN</td>\n",
              "      <td>NaN</td>\n",
              "      <td>NaN</td>\n",
              "      <td>NaN</td>\n",
              "      <td>NaN</td>\n",
              "      <td>NaN</td>\n",
              "      <td>1</td>\n",
              "    </tr>\n",
              "    <tr>\n",
              "      <th>2</th>\n",
              "      <td>Andorra</td>\n",
              "      <td>1970</td>\n",
              "      <td>0.500000</td>\n",
              "      <td>NaN</td>\n",
              "      <td>NaN</td>\n",
              "      <td>NaN</td>\n",
              "      <td>NaN</td>\n",
              "      <td>NaN</td>\n",
              "      <td>NaN</td>\n",
              "      <td>NaN</td>\n",
              "      <td>NaN</td>\n",
              "      <td>NaN</td>\n",
              "      <td>1</td>\n",
              "    </tr>\n",
              "    <tr>\n",
              "      <th>3</th>\n",
              "      <td>Andorra</td>\n",
              "      <td>1975</td>\n",
              "      <td>NaN</td>\n",
              "      <td>NaN</td>\n",
              "      <td>NaN</td>\n",
              "      <td>NaN</td>\n",
              "      <td>NaN</td>\n",
              "      <td>NaN</td>\n",
              "      <td>NaN</td>\n",
              "      <td>NaN</td>\n",
              "      <td>NaN</td>\n",
              "      <td>NaN</td>\n",
              "      <td>1</td>\n",
              "    </tr>\n",
              "    <tr>\n",
              "      <th>4</th>\n",
              "      <td>Andorra</td>\n",
              "      <td>1980</td>\n",
              "      <td>NaN</td>\n",
              "      <td>NaN</td>\n",
              "      <td>NaN</td>\n",
              "      <td>NaN</td>\n",
              "      <td>NaN</td>\n",
              "      <td>NaN</td>\n",
              "      <td>NaN</td>\n",
              "      <td>NaN</td>\n",
              "      <td>NaN</td>\n",
              "      <td>NaN</td>\n",
              "      <td>1</td>\n",
              "    </tr>\n",
              "    <tr>\n",
              "      <th>...</th>\n",
              "      <td>...</td>\n",
              "      <td>...</td>\n",
              "      <td>...</td>\n",
              "      <td>...</td>\n",
              "      <td>...</td>\n",
              "      <td>...</td>\n",
              "      <td>...</td>\n",
              "      <td>...</td>\n",
              "      <td>...</td>\n",
              "      <td>...</td>\n",
              "      <td>...</td>\n",
              "      <td>...</td>\n",
              "      <td>...</td>\n",
              "    </tr>\n",
              "    <tr>\n",
              "      <th>1364</th>\n",
              "      <td>Zimbabwe</td>\n",
              "      <td>1980</td>\n",
              "      <td>0.666667</td>\n",
              "      <td>7.831994</td>\n",
              "      <td>8.716208</td>\n",
              "      <td>0.487388</td>\n",
              "      <td>0.249146</td>\n",
              "      <td>0.135395</td>\n",
              "      <td>0.081204</td>\n",
              "      <td>0.046867</td>\n",
              "      <td>2.147</td>\n",
              "      <td>15.600000</td>\n",
              "      <td>211</td>\n",
              "    </tr>\n",
              "    <tr>\n",
              "      <th>1365</th>\n",
              "      <td>Zimbabwe</td>\n",
              "      <td>1985</td>\n",
              "      <td>0.500000</td>\n",
              "      <td>7.876341</td>\n",
              "      <td>8.872487</td>\n",
              "      <td>0.490522</td>\n",
              "      <td>0.261934</td>\n",
              "      <td>0.124533</td>\n",
              "      <td>0.075827</td>\n",
              "      <td>0.047184</td>\n",
              "      <td>2.816</td>\n",
              "      <td>15.400000</td>\n",
              "      <td>211</td>\n",
              "    </tr>\n",
              "    <tr>\n",
              "      <th>1366</th>\n",
              "      <td>Zimbabwe</td>\n",
              "      <td>1990</td>\n",
              "      <td>0.166667</td>\n",
              "      <td>7.913739</td>\n",
              "      <td>9.061492</td>\n",
              "      <td>0.477027</td>\n",
              "      <td>0.272603</td>\n",
              "      <td>0.132026</td>\n",
              "      <td>0.073196</td>\n",
              "      <td>0.045149</td>\n",
              "      <td>2.828</td>\n",
              "      <td>16.000000</td>\n",
              "      <td>211</td>\n",
              "    </tr>\n",
              "    <tr>\n",
              "      <th>1367</th>\n",
              "      <td>Zimbabwe</td>\n",
              "      <td>1995</td>\n",
              "      <td>0.333333</td>\n",
              "      <td>7.977293</td>\n",
              "      <td>9.234155</td>\n",
              "      <td>0.462648</td>\n",
              "      <td>0.277990</td>\n",
              "      <td>0.141861</td>\n",
              "      <td>0.072411</td>\n",
              "      <td>0.045090</td>\n",
              "      <td>4.087</td>\n",
              "      <td>16.700001</td>\n",
              "      <td>211</td>\n",
              "    </tr>\n",
              "    <tr>\n",
              "      <th>1368</th>\n",
              "      <td>Zimbabwe</td>\n",
              "      <td>2000</td>\n",
              "      <td>0.166667</td>\n",
              "      <td>7.882274</td>\n",
              "      <td>9.347926</td>\n",
              "      <td>0.454770</td>\n",
              "      <td>0.282207</td>\n",
              "      <td>0.146730</td>\n",
              "      <td>0.070168</td>\n",
              "      <td>0.046125</td>\n",
              "      <td>4.428</td>\n",
              "      <td>17.000000</td>\n",
              "      <td>211</td>\n",
              "    </tr>\n",
              "  </tbody>\n",
              "</table>\n",
              "<p>1369 rows × 13 columns</p>\n",
              "</div>"
            ],
            "text/plain": [
              "       country  year   dem_ind  log_gdppc  ...     age_5   educ  age_median  code\n",
              "0      Andorra  1960       NaN        NaN  ...       NaN    NaN         NaN     1\n",
              "1      Andorra  1965       NaN        NaN  ...       NaN    NaN         NaN     1\n",
              "2      Andorra  1970  0.500000        NaN  ...       NaN    NaN         NaN     1\n",
              "3      Andorra  1975       NaN        NaN  ...       NaN    NaN         NaN     1\n",
              "4      Andorra  1980       NaN        NaN  ...       NaN    NaN         NaN     1\n",
              "...        ...   ...       ...        ...  ...       ...    ...         ...   ...\n",
              "1364  Zimbabwe  1980  0.666667   7.831994  ...  0.046867  2.147   15.600000   211\n",
              "1365  Zimbabwe  1985  0.500000   7.876341  ...  0.047184  2.816   15.400000   211\n",
              "1366  Zimbabwe  1990  0.166667   7.913739  ...  0.045149  2.828   16.000000   211\n",
              "1367  Zimbabwe  1995  0.333333   7.977293  ...  0.045090  4.087   16.700001   211\n",
              "1368  Zimbabwe  2000  0.166667   7.882274  ...  0.046125  4.428   17.000000   211\n",
              "\n",
              "[1369 rows x 13 columns]"
            ]
          },
          "metadata": {
            "tags": []
          },
          "execution_count": 98
        }
      ]
    },
    {
      "cell_type": "markdown",
      "metadata": {
        "id": "ivrDLt-bUiVY"
      },
      "source": [
        "## E10.2-1\n",
        "資料集裡, 國家有 195國, 年度有 9年 ,應共 1,755筆,\n",
        "\n",
        "但裡頭僅 1,369筆, 故為 unbalanced panel."
      ]
    },
    {
      "cell_type": "markdown",
      "metadata": {
        "id": "-5expTF9Uuy8"
      },
      "source": [
        "## E10.2-2"
      ]
    },
    {
      "cell_type": "markdown",
      "metadata": {
        "id": "1fGxl7YCVGBs"
      },
      "source": [
        "### E10.2-2(i)"
      ]
    },
    {
      "cell_type": "code",
      "metadata": {
        "colab": {
          "base_uri": "https://localhost:8080/"
        },
        "id": "xmuYQZi_VMzO",
        "outputId": "77504623-80a7-4e17-b18e-868d0fd383fb"
      },
      "source": [
        "inde.dem_ind.describe(percentiles=[0.1, 0.25, 0.5, 0.75, 0.9])"
      ],
      "execution_count": null,
      "outputs": [
        {
          "output_type": "execute_result",
          "data": {
            "text/plain": [
              "count    1266.000000\n",
              "mean        0.499073\n",
              "std         0.371337\n",
              "min         0.000000\n",
              "10%         0.000000\n",
              "25%         0.166667\n",
              "50%         0.500000\n",
              "75%         0.833333\n",
              "90%         1.000000\n",
              "max         1.000000\n",
              "Name: dem_ind, dtype: float64"
            ]
          },
          "metadata": {
            "tags": []
          },
          "execution_count": 45
        }
      ]
    },
    {
      "cell_type": "markdown",
      "metadata": {
        "id": "INn1QPteVkX4"
      },
      "source": [
        "### E10.2-2(ii)"
      ]
    },
    {
      "cell_type": "code",
      "metadata": {
        "colab": {
          "base_uri": "https://localhost:8080/",
          "height": 117
        },
        "id": "zPyK8-aLWTpL",
        "outputId": "e0f38df6-2218-4a07-e9ef-df484c0758eb"
      },
      "source": [
        "inde[(inde.country=='United States')&(inde.year==2000)]"
      ],
      "execution_count": null,
      "outputs": [
        {
          "output_type": "execute_result",
          "data": {
            "text/html": [
              "<div>\n",
              "<style scoped>\n",
              "    .dataframe tbody tr th:only-of-type {\n",
              "        vertical-align: middle;\n",
              "    }\n",
              "\n",
              "    .dataframe tbody tr th {\n",
              "        vertical-align: top;\n",
              "    }\n",
              "\n",
              "    .dataframe thead th {\n",
              "        text-align: right;\n",
              "    }\n",
              "</style>\n",
              "<table border=\"1\" class=\"dataframe\">\n",
              "  <thead>\n",
              "    <tr style=\"text-align: right;\">\n",
              "      <th></th>\n",
              "      <th>country</th>\n",
              "      <th>year</th>\n",
              "      <th>dem_ind</th>\n",
              "      <th>log_gdppc</th>\n",
              "      <th>log_pop</th>\n",
              "      <th>age_1</th>\n",
              "      <th>age_2</th>\n",
              "      <th>age_3</th>\n",
              "      <th>age_4</th>\n",
              "      <th>age_5</th>\n",
              "      <th>educ</th>\n",
              "      <th>age_median</th>\n",
              "      <th>code</th>\n",
              "    </tr>\n",
              "  </thead>\n",
              "  <tbody>\n",
              "    <tr>\n",
              "      <th>1256</th>\n",
              "      <td>United States</td>\n",
              "      <td>2000</td>\n",
              "      <td>1.0</td>\n",
              "      <td>10.25446</td>\n",
              "      <td>12.48673</td>\n",
              "      <td>0.221927</td>\n",
              "      <td>0.210766</td>\n",
              "      <td>0.245029</td>\n",
              "      <td>0.160867</td>\n",
              "      <td>0.161411</td>\n",
              "      <td>12.179</td>\n",
              "      <td>34.0</td>\n",
              "      <td>192</td>\n",
              "    </tr>\n",
              "  </tbody>\n",
              "</table>\n",
              "</div>"
            ],
            "text/plain": [
              "            country  year  dem_ind  ...    educ  age_median  code\n",
              "1256  United States  2000      1.0  ...  12.179        34.0   192\n",
              "\n",
              "[1 rows x 13 columns]"
            ]
          },
          "metadata": {
            "tags": []
          },
          "execution_count": 49
        }
      ]
    },
    {
      "cell_type": "code",
      "metadata": {
        "colab": {
          "base_uri": "https://localhost:8080/"
        },
        "id": "2YWPQoQgdWD9",
        "outputId": "1b950c66-eb61-4f4e-bb75-3e85f080083d"
      },
      "source": [
        "inde[inde.country=='United States'].dem_ind.mean()"
      ],
      "execution_count": null,
      "outputs": [
        {
          "output_type": "execute_result",
          "data": {
            "text/plain": [
              "0.9855555560853746"
            ]
          },
          "metadata": {
            "tags": []
          },
          "execution_count": 51
        }
      ]
    },
    {
      "cell_type": "markdown",
      "metadata": {
        "id": "sFL9qGqqd0Et"
      },
      "source": [
        "### E10.2-2(iii)"
      ]
    },
    {
      "cell_type": "code",
      "metadata": {
        "colab": {
          "base_uri": "https://localhost:8080/",
          "height": 99
        },
        "id": "WWHI5jByd_CQ",
        "outputId": "8a86fcd7-2d34-4254-fa23-fee3d24f35d5"
      },
      "source": [
        "inde[(inde.country=='Libya')&(inde.year==2000)]"
      ],
      "execution_count": null,
      "outputs": [
        {
          "output_type": "execute_result",
          "data": {
            "text/html": [
              "<div>\n",
              "<style scoped>\n",
              "    .dataframe tbody tr th:only-of-type {\n",
              "        vertical-align: middle;\n",
              "    }\n",
              "\n",
              "    .dataframe tbody tr th {\n",
              "        vertical-align: top;\n",
              "    }\n",
              "\n",
              "    .dataframe thead th {\n",
              "        text-align: right;\n",
              "    }\n",
              "</style>\n",
              "<table border=\"1\" class=\"dataframe\">\n",
              "  <thead>\n",
              "    <tr style=\"text-align: right;\">\n",
              "      <th></th>\n",
              "      <th>country</th>\n",
              "      <th>year</th>\n",
              "      <th>dem_ind</th>\n",
              "      <th>log_gdppc</th>\n",
              "      <th>log_pop</th>\n",
              "      <th>age_1</th>\n",
              "      <th>age_2</th>\n",
              "      <th>age_3</th>\n",
              "      <th>age_4</th>\n",
              "      <th>age_5</th>\n",
              "      <th>educ</th>\n",
              "      <th>age_median</th>\n",
              "      <th>code</th>\n",
              "    </tr>\n",
              "  </thead>\n",
              "  <tbody>\n",
              "    <tr>\n",
              "      <th>717</th>\n",
              "      <td>Libya</td>\n",
              "      <td>2000</td>\n",
              "      <td>0.0</td>\n",
              "      <td>NaN</td>\n",
              "      <td>8.466952</td>\n",
              "      <td>0.389859</td>\n",
              "      <td>0.298338</td>\n",
              "      <td>0.161793</td>\n",
              "      <td>0.100568</td>\n",
              "      <td>0.049442</td>\n",
              "      <td>NaN</td>\n",
              "      <td>19.6</td>\n",
              "      <td>106</td>\n",
              "    </tr>\n",
              "  </tbody>\n",
              "</table>\n",
              "</div>"
            ],
            "text/plain": [
              "    country  year  dem_ind  log_gdppc  ...     age_5  educ  age_median  code\n",
              "717   Libya  2000      0.0        NaN  ...  0.049442   NaN        19.6   106\n",
              "\n",
              "[1 rows x 13 columns]"
            ]
          },
          "metadata": {
            "tags": []
          },
          "execution_count": 52
        }
      ]
    },
    {
      "cell_type": "code",
      "metadata": {
        "colab": {
          "base_uri": "https://localhost:8080/"
        },
        "id": "huiJWIfld_Kn",
        "outputId": "f7d2e263-9cd6-4ca2-d238-23e34fd2098f"
      },
      "source": [
        "inde[inde.country=='Libya'].dem_ind.mean()"
      ],
      "execution_count": null,
      "outputs": [
        {
          "output_type": "execute_result",
          "data": {
            "text/plain": [
              "0.10925926764806122"
            ]
          },
          "metadata": {
            "tags": []
          },
          "execution_count": 53
        }
      ]
    },
    {
      "cell_type": "markdown",
      "metadata": {
        "id": "b5TmaKTieWlD"
      },
      "source": [
        "### E10.2-2(iv)"
      ]
    },
    {
      "cell_type": "code",
      "metadata": {
        "id": "PtIg7k3beZTu"
      },
      "source": [
        "g = inde.groupby(['country']).mean().dem_ind"
      ],
      "execution_count": null,
      "outputs": []
    },
    {
      "cell_type": "code",
      "metadata": {
        "colab": {
          "base_uri": "https://localhost:8080/"
        },
        "id": "zjkzudNjeZdN",
        "outputId": "a7a78aff-c40c-4025-a8b2-67f8aa424513"
      },
      "source": [
        "g[g>0.95].head()"
      ],
      "execution_count": null,
      "outputs": [
        {
          "output_type": "execute_result",
          "data": {
            "text/plain": [
              "country\n",
              "Australia    1.000000\n",
              "Austria      0.993333\n",
              "Barbados     1.000000\n",
              "Belgium      1.000000\n",
              "Belize       1.000000\n",
              "Name: dem_ind, dtype: float64"
            ]
          },
          "metadata": {
            "tags": []
          },
          "execution_count": 75
        }
      ]
    },
    {
      "cell_type": "code",
      "metadata": {
        "colab": {
          "base_uri": "https://localhost:8080/"
        },
        "id": "DZh-vrLheZn-",
        "outputId": "b001fbf5-fb4c-4433-8a41-e27101bab7ec"
      },
      "source": [
        "g[g<0.1].head()"
      ],
      "execution_count": null,
      "outputs": [
        {
          "output_type": "execute_result",
          "data": {
            "text/plain": [
              "country\n",
              "Afghanistan    0.096667\n",
              "Angola         0.066667\n",
              "Brunei         0.055556\n",
              "Burundi        0.047619\n",
              "China          0.080370\n",
              "Name: dem_ind, dtype: float64"
            ]
          },
          "metadata": {
            "tags": []
          },
          "execution_count": 74
        }
      ]
    },
    {
      "cell_type": "code",
      "metadata": {
        "colab": {
          "base_uri": "https://localhost:8080/"
        },
        "id": "tYJxcOY9f-bO",
        "outputId": "35fc7541-6d6a-4ae0-efe5-9c1a3f2767f1"
      },
      "source": [
        "g[(g>0.3)&(g<0.7)].head()"
      ],
      "execution_count": null,
      "outputs": [
        {
          "output_type": "execute_result",
          "data": {
            "text/plain": [
              "country\n",
              "Antigua       0.555556\n",
              "Argentina     0.665926\n",
              "Armenia       0.500000\n",
              "Bangladesh    0.533333\n",
              "Bolivia       0.551111\n",
              "Name: dem_ind, dtype: float64"
            ]
          },
          "metadata": {
            "tags": []
          },
          "execution_count": 73
        }
      ]
    },
    {
      "cell_type": "markdown",
      "metadata": {
        "id": "wVat9A43gBUv"
      },
      "source": [
        "## E10.2-3"
      ]
    },
    {
      "cell_type": "code",
      "metadata": {
        "id": "SMGENEHnmate"
      },
      "source": [
        "df = inde.dropna(subset=['dem_ind','log_gdppc'])\n",
        "df"
      ],
      "execution_count": null,
      "outputs": []
    },
    {
      "cell_type": "code",
      "metadata": {
        "colab": {
          "base_uri": "https://localhost:8080/"
        },
        "id": "uBIID_2YwZA2",
        "outputId": "961d0cad-071b-4d86-8ac4-20a33cbe40bf"
      },
      "source": [
        "reg_10_2_3i = smf.ols(formula='dem_ind~log_gdppc', data=df)\n",
        "result_10_2_3i = reg_10_2_3i.fit(cov_type='cluster', cov_kwds={'groups':df['country'], 'use_correction':False})\n",
        "print(result_10_2_3i.summary())"
      ],
      "execution_count": null,
      "outputs": [
        {
          "output_type": "stream",
          "text": [
            "                            OLS Regression Results                            \n",
            "==============================================================================\n",
            "Dep. Variable:                dem_ind   R-squared:                       0.438\n",
            "Model:                            OLS   Adj. R-squared:                  0.438\n",
            "Method:                 Least Squares   F-statistic:                     399.5\n",
            "Date:                Mon, 05 Apr 2021   Prob (F-statistic):           5.22e-44\n",
            "Time:                        06:39:23   Log-Likelihood:                -110.72\n",
            "No. Observations:                 958   AIC:                             225.4\n",
            "Df Residuals:                     956   BIC:                             235.2\n",
            "Df Model:                           1                                         \n",
            "Covariance Type:              cluster                                         \n",
            "==============================================================================\n",
            "                 coef    std err          z      P>|z|      [0.025      0.975]\n",
            "------------------------------------------------------------------------------\n",
            "Intercept     -1.3548      0.100    -13.544      0.000      -1.551      -1.159\n",
            "log_gdppc      0.2357      0.012     19.987      0.000       0.213       0.259\n",
            "==============================================================================\n",
            "Omnibus:                       15.550   Durbin-Watson:                   0.894\n",
            "Prob(Omnibus):                  0.000   Jarque-Bera (JB):               12.170\n",
            "Skew:                          -0.186   Prob(JB):                      0.00228\n",
            "Kurtosis:                       2.592   Cond. No.                         67.3\n",
            "==============================================================================\n",
            "\n",
            "Warnings:\n",
            "[1] Standard Errors are robust to cluster correlation (cluster)\n"
          ],
          "name": "stdout"
        }
      ]
    },
    {
      "cell_type": "markdown",
      "metadata": {
        "id": "QTrw53Q1hfWy"
      },
      "source": [
        "### E10.2-3(i)\n",
        "$\\widehat{\\beta}_{log\\_gdppc} = 0.2357$\n",
        "\n",
        "$Pvalue < 0.01$\n",
        "\n",
        "統計上顯著異於0。"
      ]
    },
    {
      "cell_type": "markdown",
      "metadata": {
        "id": "HZddV-irxLs7"
      },
      "source": [
        "### E10.2-3(ii)"
      ]
    },
    {
      "cell_type": "code",
      "metadata": {
        "colab": {
          "base_uri": "https://localhost:8080/"
        },
        "id": "uCzJMzYMyiGM",
        "outputId": "d8d000df-0cf8-4597-b6a0-89350183c773"
      },
      "source": [
        "test_10_2_3ii = ['0.2*log_gdppc=0']\n",
        "result_10_2_3ii = result_10_2_3i.t_test(test_10_2_3ii)\n",
        "print(result_10_2_3ii.summary(xname=['0.2*log_gdppc']))"
      ],
      "execution_count": null,
      "outputs": [
        {
          "output_type": "stream",
          "text": [
            "                               Test for Constraints                              \n",
            "=================================================================================\n",
            "                    coef    std err          z      P>|z|      [0.025      0.975]\n",
            "---------------------------------------------------------------------------------\n",
            "0.2*log_gdppc     0.0471      0.002     19.987      0.000       0.043       0.052\n",
            "=================================================================================\n"
          ],
          "name": "stdout"
        }
      ]
    },
    {
      "cell_type": "markdown",
      "metadata": {
        "id": "IzjxFLoBzWrQ"
      },
      "source": [
        "$Dem\\_ind$ 平均增加 $0.0471$;\n",
        "\n",
        "95% 信賴區間: $[0.043, 0.052]$\n",
        "\n",
        "$Dem\\_ind$ 介於 0 至 1, 故相對 small."
      ]
    },
    {
      "cell_type": "markdown",
      "metadata": {
        "id": "njAb2-bJ0kWk"
      },
      "source": [
        "### E10.2-3(iii)\n",
        "因各國誤差項應具序列相關, 故應採 clusterted standard error.\n",
        "\n",
        "若未採 clusterted standard error, $\\widehat{\\beta}_{log\\_gdppc}$ 的標準誤將較 E10.2-3(i) 小。"
      ]
    },
    {
      "cell_type": "markdown",
      "metadata": {
        "id": "KU3FnDqJ1Vaf"
      },
      "source": [
        "## E10.2-4"
      ]
    },
    {
      "cell_type": "markdown",
      "metadata": {
        "id": "04w2A9w61agw"
      },
      "source": [
        "### E10.2-4(i)\n",
        "如各國風土民情。"
      ]
    },
    {
      "cell_type": "markdown",
      "metadata": {
        "id": "EaGIlpH41diT"
      },
      "source": [
        "### E10.2-4(ii)"
      ]
    },
    {
      "cell_type": "code",
      "metadata": {
        "colab": {
          "base_uri": "https://localhost:8080/"
        },
        "id": "2ZUdR1yw1mic",
        "outputId": "486f9633-c5bc-4915-d565-85ef3ea71bd2"
      },
      "source": [
        "reg_10_2_4ii = smf.ols(formula='dem_ind~log_gdppc+C(country)', data=df)\n",
        "result_10_2_4ii = reg_10_2_4ii.fit(cov_type='cluster', cov_kwds={'groups':df['country'], 'use_correction':False})\n",
        "print(result_10_2_4ii.summary())"
      ],
      "execution_count": null,
      "outputs": [
        {
          "output_type": "stream",
          "text": [
            "                            OLS Regression Results                            \n",
            "==============================================================================\n",
            "Dep. Variable:                dem_ind   R-squared:                       0.734\n",
            "Model:                            OLS   Adj. R-squared:                  0.685\n",
            "Method:                 Least Squares   F-statistic:                     26.63\n",
            "Date:                Mon, 05 Apr 2021   Prob (F-statistic):           7.74e-07\n",
            "Time:                        07:03:52   Log-Likelihood:                 247.99\n",
            "No. Observations:                 958   AIC:                            -194.0\n",
            "Df Residuals:                     807   BIC:                             540.6\n",
            "Df Model:                         150                                         \n",
            "Covariance Type:              cluster                                         \n",
            "================================================================================================================\n",
            "                                                   coef    std err          z      P>|z|      [0.025      0.975]\n",
            "----------------------------------------------------------------------------------------------------------------\n",
            "Intercept                                       -0.1655      0.250     -0.663      0.507      -0.655       0.324\n",
            "C(country)[T.Algeria]                           -0.3436      0.013    -26.893      0.000      -0.369      -0.319\n",
            "C(country)[T.Angola]                            -0.3949      0.014    -27.381      0.000      -0.423      -0.367\n",
            "C(country)[T.Antigua]                           -0.0650      0.045     -1.438      0.150      -0.154       0.024\n",
            "C(country)[T.Argentina]                          0.0727      0.035      2.079      0.038       0.004       0.141\n",
            "C(country)[T.Armenia]                            0.0177      0.007      2.667      0.008       0.005       0.031\n",
            "C(country)[T.Australia]                          0.3593      0.053      6.811      0.000       0.256       0.463\n",
            "C(country)[T.Austria]                            0.3711      0.046      8.099      0.000       0.281       0.461\n",
            "C(country)[T.Azerbaijan]                        -0.3112      0.008    -37.579      0.000      -0.327      -0.295\n",
            "C(country)[T.Bangladesh]                         0.1084      0.028      3.851      0.000       0.053       0.164\n",
            "C(country)[T.Barbados]                           0.3946      0.040      9.984      0.000       0.317       0.472\n",
            "C(country)[T.Belarus]                           -0.3894      0.021    -18.526      0.000      -0.431      -0.348\n",
            "C(country)[T.Belgium]                            0.3724      0.048      7.782      0.000       0.279       0.466\n",
            "C(country)[T.Belize]                             0.4464      0.020     22.192      0.000       0.407       0.486\n",
            "C(country)[T.Benin]                             -0.1573      0.031     -5.102      0.000      -0.218      -0.097\n",
            "C(country)[T.Bolivia]                            0.0572      0.002     24.962      0.000       0.053       0.062\n",
            "C(country)[T.Botswana]                           0.3493      0.004     78.866      0.000       0.341       0.358\n",
            "C(country)[T.Brazil]                             0.1172      0.012      9.427      0.000       0.093       0.142\n",
            "C(country)[T.Bulgaria]                           0.2604      0.027      9.516      0.000       0.207       0.314\n",
            "C(country)[T.Burkina Faso]                      -0.1306      0.041     -3.150      0.002      -0.212      -0.049\n",
            "C(country)[T.Burundi]                           -0.3405      0.042     -8.118      0.000      -0.423      -0.258\n",
            "C(country)[T.Cambodia]                          -0.2604      0.027     -9.517      0.000      -0.314      -0.207\n",
            "C(country)[T.Cameroon]                          -0.2949      0.012    -25.442      0.000      -0.318      -0.272\n",
            "C(country)[T.Canada]                             0.3560      0.054      6.594      0.000       0.250       0.462\n",
            "C(country)[T.Cape Verde]                         0.0538      0.008      7.017      0.000       0.039       0.069\n",
            "C(country)[T.Central African Republic]          -0.2292      0.015    -14.963      0.000      -0.259      -0.199\n",
            "C(country)[T.Chad]                              -0.2794      0.029     -9.635      0.000      -0.336      -0.223\n",
            "C(country)[T.Chile]                              0.0991      0.017      5.787      0.000       0.066       0.133\n",
            "C(country)[T.China]                             -0.3386      0.030    -11.135      0.000      -0.398      -0.279\n",
            "C(country)[T.Colombia]                           0.1919      0.008     25.137      0.000       0.177       0.207\n",
            "C(country)[T.Comoros]                           -0.1414      0.009    -14.901      0.000      -0.160      -0.123\n",
            "C(country)[T.Congo, Dem. Rep.]                  -0.2974      0.043     -6.993      0.000      -0.381      -0.214\n",
            "C(country)[T.Congo, Rep.]                       -0.2274      0.026     -8.747      0.000      -0.278      -0.176\n",
            "C(country)[T.Costa Rica]                         0.4428      0.014     32.728      0.000       0.416       0.469\n",
            "C(country)[T.Cote d'Ivoire]                     -0.2802      0.009    -32.969      0.000      -0.297      -0.264\n",
            "C(country)[T.Croatia]                            0.2588      0.028      9.265      0.000       0.204       0.314\n",
            "C(country)[T.Cuba]                              -0.5652      0.024    -23.106      0.000      -0.613      -0.517\n",
            "C(country)[T.Cyprus]                             0.2858      0.027     10.451      0.000       0.232       0.339\n",
            "C(country)[T.Czech Republic]                     0.3729      0.048      7.821      0.000       0.279       0.466\n",
            "C(country)[T.Denmark]                            0.3551      0.054      6.537      0.000       0.249       0.462\n",
            "C(country)[T.Dominica]                           0.3691      0.018     20.685      0.000       0.334       0.404\n",
            "C(country)[T.Dominican Republic]                 0.1564      0.006     26.617      0.000       0.145       0.168\n",
            "C(country)[T.Ecuador]                            0.0851      0.001     86.301      0.000       0.083       0.087\n",
            "C(country)[T.Egypt, Arab Rep.]                  -0.1880      0.009    -21.018      0.000      -0.206      -0.170\n",
            "C(country)[T.El Salvador]                        0.1521      0.009     16.280      0.000       0.134       0.170\n",
            "C(country)[T.Equatorial Guinea]                 -0.4481      0.009    -49.509      0.000      -0.466      -0.430\n",
            "C(country)[T.Estonia]                            0.4183      0.031     13.653      0.000       0.358       0.478\n",
            "C(country)[T.Ethiopia -pre 1993]                -0.2554      0.050     -5.075      0.000      -0.354      -0.157\n",
            "C(country)[T.Ethiopia 1993-]                    -0.0261      0.053     -0.496      0.620      -0.129       0.077\n",
            "C(country)[T.Fiji]                               0.0192      0.014      1.403      0.161      -0.008       0.046\n",
            "C(country)[T.Finland]                            0.2950      0.047      6.332      0.000       0.204       0.386\n",
            "C(country)[T.France]                             0.3522      0.048      7.413      0.000       0.259       0.445\n",
            "C(country)[T.Gabon]                             -0.2879      0.027    -10.471      0.000      -0.342      -0.234\n",
            "C(country)[T.Gambia, The]                        0.1437      0.027      5.302      0.000       0.091       0.197\n",
            "C(country)[T.Germany]                            0.3396      0.060      5.645      0.000       0.222       0.457\n",
            "C(country)[T.Ghana]                             -0.0787      0.030     -2.666      0.008      -0.137      -0.021\n",
            "C(country)[T.Greece]                             0.2317      0.033      7.028      0.000       0.167       0.296\n",
            "C(country)[T.Grenada]                            0.3874      0.011     35.314      0.000       0.366       0.409\n",
            "C(country)[T.Guatemala]                          0.0595      0.003     21.967      0.000       0.054       0.065\n",
            "C(country)[T.Guinea]                            -0.3815      0.004   -104.414      0.000      -0.389      -0.374\n",
            "C(country)[T.Guinea-Bissau]                     -0.0363      0.049     -0.743      0.458      -0.132       0.060\n",
            "C(country)[T.Guyana]                             0.0673      0.004     15.230      0.000       0.059       0.076\n",
            "C(country)[T.Haiti]                             -0.1929      0.032     -6.058      0.000      -0.255      -0.130\n",
            "C(country)[T.Honduras]                           0.0720      0.012      6.146      0.000       0.049       0.095\n",
            "C(country)[T.Hungary]                           -0.0020      0.032     -0.064      0.949      -0.065       0.061\n",
            "C(country)[T.Iceland]                            0.3684      0.049      7.468      0.000       0.272       0.465\n",
            "C(country)[T.India]                              0.3914      0.028     13.961      0.000       0.336       0.446\n",
            "C(country)[T.Indonesia]                         -0.1721      0.017    -10.295      0.000      -0.205      -0.139\n",
            "C(country)[T.Iran]                              -0.2494      0.009    -28.282      0.000      -0.267      -0.232\n",
            "C(country)[T.Ireland]                            0.3986      0.035     11.494      0.000       0.331       0.467\n",
            "C(country)[T.Israel]                             0.2985      0.038      7.954      0.000       0.225       0.372\n",
            "C(country)[T.Italy]                              0.3739      0.045      8.347      0.000       0.286       0.462\n",
            "C(country)[T.Jamaica]                            0.3594      0.008     44.390      0.000       0.343       0.375\n",
            "C(country)[T.Japan]                              0.3491      0.042      8.255      0.000       0.266       0.432\n",
            "C(country)[T.Jordan]                            -0.1880      0.000   -400.723      0.000      -0.189      -0.187\n",
            "C(country)[T.Kazakhstan]                        -0.3927      0.022    -17.632      0.000      -0.436      -0.349\n",
            "C(country)[T.Kenya]                             -0.2062      0.030     -6.920      0.000      -0.265      -0.148\n",
            "C(country)[T.Korea, Rep.]                        0.0364      0.009      3.919      0.000       0.018       0.055\n",
            "C(country)[T.Kyrgyz Republic]                   -0.3243      0.003    -95.291      0.000      -0.331      -0.318\n",
            "C(country)[T.Latvia]                             0.3327      0.031     10.568      0.000       0.271       0.394\n",
            "C(country)[T.Lebanon]                           -0.3605      0.010    -35.370      0.000      -0.380      -0.341\n",
            "C(country)[T.Lesotho]                           -0.0674      0.027     -2.516      0.012      -0.120      -0.015\n",
            "C(country)[T.Lithuania]                          0.4338      0.025     17.486      0.000       0.385       0.482\n",
            "C(country)[T.Luxembourg]                         0.3098      0.057      5.471      0.000       0.199       0.421\n",
            "C(country)[T.Macedonia, FYR]                    -0.0393      0.015     -2.667      0.008      -0.068      -0.010\n",
            "C(country)[T.Madagascar]                         0.1025      0.031      3.330      0.001       0.042       0.163\n",
            "C(country)[T.Malawi]                            -0.1059      0.050     -2.138      0.033      -0.203      -0.009\n",
            "C(country)[T.Malaysia]                           0.0686      0.012      5.813      0.000       0.045       0.092\n",
            "C(country)[T.Mali]                              -0.1231      0.038     -3.234      0.001      -0.198      -0.048\n",
            "C(country)[T.Malta]                              0.3757      0.047      8.060      0.000       0.284       0.467\n",
            "C(country)[T.Mauritania]                        -0.2906      0.020    -14.823      0.000      -0.329      -0.252\n",
            "C(country)[T.Mauritius]                          0.3192      0.026     12.213      0.000       0.268       0.370\n",
            "C(country)[T.Mexico]                             0.0382      0.022      1.700      0.089      -0.006       0.082\n",
            "C(country)[T.Moldova]                            0.3478      0.005     63.957      0.000       0.337       0.358\n",
            "C(country)[T.Morocco]                           -0.0965      0.003    -27.707      0.000      -0.103      -0.090\n",
            "C(country)[T.Mozambique]                        -0.0817      0.032     -2.562      0.010      -0.144      -0.019\n",
            "C(country)[T.Namibia]                            0.2991      0.013     23.319      0.000       0.274       0.324\n",
            "C(country)[T.Nepal]                              0.0680      0.035      1.924      0.054      -0.001       0.137\n",
            "C(country)[T.Netherlands]                        0.3673      0.050      7.378      0.000       0.270       0.465\n",
            "C(country)[T.New Zealand]                        0.3659      0.050      7.279      0.000       0.267       0.464\n",
            "C(country)[T.Nicaragua]                         -0.0190      0.002    -10.299      0.000      -0.023      -0.015\n",
            "C(country)[T.Niger]                             -0.2199      0.027     -8.073      0.000      -0.273      -0.166\n",
            "C(country)[T.Nigeria]                           -0.1069      0.031     -3.484      0.000      -0.167      -0.047\n",
            "C(country)[T.Norway]                             0.3690      0.049      7.508      0.000       0.273       0.465\n",
            "C(country)[T.Pakistan-post-1972]                -0.0752      0.022     -3.453      0.001      -0.118      -0.033\n",
            "C(country)[T.Pakistan-pre-1972]                  0.1350      0.045      3.000      0.003       0.047       0.223\n",
            "C(country)[T.Panama]                            -0.0246      0.010     -2.446      0.014      -0.044      -0.005\n",
            "C(country)[T.Papua New Guinea]                   0.3222      0.004     77.374      0.000       0.314       0.330\n",
            "C(country)[T.Paraguay]                          -0.0905      0.006    -14.027      0.000      -0.103      -0.078\n",
            "C(country)[T.Peru]                               0.0463      0.012      3.932      0.000       0.023       0.069\n",
            "C(country)[T.Philippines]                        0.1605      0.004     45.384      0.000       0.154       0.167\n",
            "C(country)[T.Poland]                             0.1761      0.028      6.360      0.000       0.122       0.230\n",
            "C(country)[T.Portugal]                           0.1288      0.027      4.751      0.000       0.076       0.182\n",
            "C(country)[T.Romania]                           -0.2821      0.002   -180.298      0.000      -0.285      -0.279\n",
            "C(country)[T.Russia]                            -0.2446      0.029     -8.368      0.000      -0.302      -0.187\n",
            "C(country)[T.Rwanda]                            -0.3337      0.036     -9.374      0.000      -0.403      -0.264\n",
            "C(country)[T.Sao Tome and Principe]              0.0755      0.028      2.667      0.008       0.020       0.131\n",
            "C(country)[T.Senegal]                            0.0031      0.019      0.162      0.871      -0.034       0.040\n",
            "C(country)[T.Seychelles]                        -0.1728      0.034     -5.150      0.000      -0.239      -0.107\n",
            "C(country)[T.Sierra Leone]                      -0.1452      0.026     -5.608      0.000      -0.196      -0.094\n",
            "C(country)[T.Singapore]                         -0.2222      0.039     -5.743      0.000      -0.298      -0.146\n",
            "C(country)[T.Slovakia]                           0.3990      0.038     10.535      0.000       0.325       0.473\n",
            "C(country)[T.Slovenia]                           0.3741      0.047      7.919      0.000       0.281       0.467\n",
            "C(country)[T.South Africa]                       0.0481      0.027      1.804      0.071      -0.004       0.100\n",
            "C(country)[T.Spain]                              0.0370      0.037      1.013      0.311      -0.035       0.109\n",
            "C(country)[T.Sri Lanka]                          0.2750      0.014     19.297      0.000       0.247       0.303\n",
            "C(country)[T.St. Kitts and Nevis]                0.4115      0.033     12.397      0.000       0.346       0.477\n",
            "C(country)[T.St. Lucia]                          0.4616      0.014     32.060      0.000       0.433       0.490\n",
            "C(country)[T.St. Vincent and the Grenadines]     0.3339      0.015     21.690      0.000       0.304       0.364\n",
            "C(country)[T.Sweden]                             0.3418      0.052      6.527      0.000       0.239       0.444\n",
            "C(country)[T.Switzerland]                        0.3370      0.061      5.513      0.000       0.217       0.457\n",
            "C(country)[T.Syrian Arab Republic]              -0.3799      0.004    -85.981      0.000      -0.389      -0.371\n",
            "C(country)[T.Taiwan]                            -0.0963      0.016     -6.157      0.000      -0.127      -0.066\n",
            "C(country)[T.Tanzania]                          -0.1238      0.052     -2.389      0.017      -0.225      -0.022\n",
            "C(country)[T.Thailand]                           0.0758      0.008      9.994      0.000       0.061       0.091\n",
            "C(country)[T.Togo]                              -0.2642      0.028     -9.340      0.000      -0.320      -0.209\n",
            "C(country)[T.Trinidad and Tobago]                0.3178      0.033      9.750      0.000       0.254       0.382\n",
            "C(country)[T.Tunisia]                           -0.3105      0.009    -33.384      0.000      -0.329      -0.292\n",
            "C(country)[T.Turkey]                             0.0854      0.010      8.259      0.000       0.065       0.106\n",
            "C(country)[T.Uganda]                            -0.1822      0.048     -3.817      0.000      -0.276      -0.089\n",
            "C(country)[T.Ukraine]                           -0.0451      0.017     -2.667      0.008      -0.078      -0.012\n",
            "C(country)[T.United Kingdom]                     0.3691      0.048      7.646      0.000       0.274       0.464\n",
            "C(country)[T.United States]                      0.3288      0.059      5.592      0.000       0.214       0.444\n",
            "C(country)[T.Uruguay]                            0.2059      0.027      7.634      0.000       0.153       0.259\n",
            "C(country)[T.Uzbekistan]                        -0.4911      0.003   -147.093      0.000      -0.498      -0.485\n",
            "C(country)[T.Venezuela, RB]                      0.2408      0.033      7.387      0.000       0.177       0.305\n",
            "C(country)[T.Vietnam]                           -0.4379      0.023    -18.793      0.000      -0.484      -0.392\n",
            "C(country)[T.Yemen]                             -0.0780      0.033     -2.348      0.019      -0.143      -0.013\n",
            "C(country)[T.Zambia]                            -0.0688      0.028     -2.478      0.013      -0.123      -0.014\n",
            "C(country)[T.Zimbabwe]                          -0.1761      0.005    -32.613      0.000      -0.187      -0.165\n",
            "log_gdppc                                        0.0837      0.031      2.667      0.008       0.022       0.145\n",
            "==============================================================================\n",
            "Omnibus:                       25.989   Durbin-Watson:                   1.377\n",
            "Prob(Omnibus):                  0.000   Jarque-Bera (JB):               54.943\n",
            "Skew:                          -0.092   Prob(JB):                     1.17e-12\n",
            "Kurtosis:                       4.159   Cond. No.                     3.14e+03\n",
            "==============================================================================\n",
            "\n",
            "Warnings:\n",
            "[1] Standard Errors are robust to cluster correlation (cluster)\n",
            "[2] The condition number is large, 3.14e+03. This might indicate that there are\n",
            "strong multicollinearity or other numerical problems.\n"
          ],
          "name": "stdout"
        },
        {
          "output_type": "stream",
          "text": [
            "/usr/local/lib/python3.7/dist-packages/statsmodels/base/model.py:1752: ValueWarning: covariance of constraints does not have full rank. The number of constraints is 150, but rank is 1\n",
            "  \n"
          ],
          "name": "stderr"
        }
      ]
    },
    {
      "cell_type": "markdown",
      "metadata": {
        "id": "1VMo33o22RuV"
      },
      "source": [
        "$\\widehat{\\beta}_{log\\_gdppc} = 0.0837$\n",
        "\n",
        "$Pvalue < 0.01$\n",
        "\n",
        "統計上顯著異於0。"
      ]
    },
    {
      "cell_type": "code",
      "metadata": {
        "colab": {
          "base_uri": "https://localhost:8080/"
        },
        "id": "gYJtVW-12nRg",
        "outputId": "fc36749b-f725-452e-fe38-07a874d589a9"
      },
      "source": [
        "test_10_2_4ii = ['0.2*log_gdppc=0']\n",
        "result_10_2_4ii = result_10_2_4ii.t_test(test_10_2_4ii)\n",
        "print(result_10_2_4ii.summary(xname=['0.2*log_gdppc']))"
      ],
      "execution_count": null,
      "outputs": [
        {
          "output_type": "stream",
          "text": [
            "                               Test for Constraints                              \n",
            "=================================================================================\n",
            "                    coef    std err          z      P>|z|      [0.025      0.975]\n",
            "---------------------------------------------------------------------------------\n",
            "0.2*log_gdppc     0.0167      0.006      2.667      0.008       0.004       0.029\n",
            "=================================================================================\n"
          ],
          "name": "stdout"
        }
      ]
    },
    {
      "cell_type": "markdown",
      "metadata": {
        "id": "uugKvoSh2u-W"
      },
      "source": [
        "95% 信賴區間: $[0.004, 0.029]$"
      ]
    },
    {
      "cell_type": "markdown",
      "metadata": {
        "id": "sPop4XdY1fOp"
      },
      "source": [
        "### E10.2-4(iii)"
      ]
    },
    {
      "cell_type": "code",
      "metadata": {
        "colab": {
          "base_uri": "https://localhost:8080/"
        },
        "id": "VIa91awe3P02",
        "outputId": "bd029e1b-40c0-48fe-887f-fac02226fade"
      },
      "source": [
        "dff = df[df.country != 'Azerbaijan']\n",
        "reg_10_2_4iii = smf.ols(formula='dem_ind~log_gdppc+C(country)', data=dff)\n",
        "result_10_2_4iii = reg_10_2_4iii.fit(cov_type='cluster', cov_kwds={'groups':dff['country'], 'use_correction':False})\n",
        "print(result_10_2_4iii.summary())"
      ],
      "execution_count": null,
      "outputs": [
        {
          "output_type": "stream",
          "text": [
            "                            OLS Regression Results                            \n",
            "==============================================================================\n",
            "Dep. Variable:                dem_ind   R-squared:                       0.734\n",
            "Model:                            OLS   Adj. R-squared:                  0.685\n",
            "Method:                 Least Squares   F-statistic:                     26.47\n",
            "Date:                Mon, 05 Apr 2021   Prob (F-statistic):           8.37e-07\n",
            "Time:                        07:09:47   Log-Likelihood:                 247.23\n",
            "No. Observations:                 957   AIC:                            -194.5\n",
            "Df Residuals:                     807   BIC:                             535.1\n",
            "Df Model:                         149                                         \n",
            "Covariance Type:              cluster                                         \n",
            "================================================================================================================\n",
            "                                                   coef    std err          z      P>|z|      [0.025      0.975]\n",
            "----------------------------------------------------------------------------------------------------------------\n",
            "Intercept                                       -0.1655      0.250     -0.663      0.507      -0.655       0.324\n",
            "C(country)[T.Algeria]                           -0.3436      0.013    -26.893      0.000      -0.369      -0.319\n",
            "C(country)[T.Angola]                            -0.3949      0.014    -27.381      0.000      -0.423      -0.367\n",
            "C(country)[T.Antigua]                           -0.0650      0.045     -1.438      0.150      -0.154       0.024\n",
            "C(country)[T.Argentina]                          0.0727      0.035      2.079      0.038       0.004       0.141\n",
            "C(country)[T.Armenia]                            0.0177      0.007      2.667      0.008       0.005       0.031\n",
            "C(country)[T.Australia]                          0.3593      0.053      6.811      0.000       0.256       0.463\n",
            "C(country)[T.Austria]                            0.3711      0.046      8.099      0.000       0.281       0.461\n",
            "C(country)[T.Bangladesh]                         0.1084      0.028      3.851      0.000       0.053       0.164\n",
            "C(country)[T.Barbados]                           0.3946      0.040      9.984      0.000       0.317       0.472\n",
            "C(country)[T.Belarus]                           -0.3894      0.021    -18.526      0.000      -0.431      -0.348\n",
            "C(country)[T.Belgium]                            0.3724      0.048      7.782      0.000       0.279       0.466\n",
            "C(country)[T.Belize]                             0.4464      0.020     22.192      0.000       0.407       0.486\n",
            "C(country)[T.Benin]                             -0.1573      0.031     -5.102      0.000      -0.218      -0.097\n",
            "C(country)[T.Bolivia]                            0.0572      0.002     24.962      0.000       0.053       0.062\n",
            "C(country)[T.Botswana]                           0.3493      0.004     78.866      0.000       0.341       0.358\n",
            "C(country)[T.Brazil]                             0.1172      0.012      9.427      0.000       0.093       0.142\n",
            "C(country)[T.Bulgaria]                           0.2604      0.027      9.516      0.000       0.207       0.314\n",
            "C(country)[T.Burkina Faso]                      -0.1306      0.041     -3.150      0.002      -0.212      -0.049\n",
            "C(country)[T.Burundi]                           -0.3405      0.042     -8.118      0.000      -0.423      -0.258\n",
            "C(country)[T.Cambodia]                          -0.2604      0.027     -9.517      0.000      -0.314      -0.207\n",
            "C(country)[T.Cameroon]                          -0.2949      0.012    -25.442      0.000      -0.318      -0.272\n",
            "C(country)[T.Canada]                             0.3560      0.054      6.594      0.000       0.250       0.462\n",
            "C(country)[T.Cape Verde]                         0.0538      0.008      7.017      0.000       0.039       0.069\n",
            "C(country)[T.Central African Republic]          -0.2292      0.015    -14.963      0.000      -0.259      -0.199\n",
            "C(country)[T.Chad]                              -0.2794      0.029     -9.635      0.000      -0.336      -0.223\n",
            "C(country)[T.Chile]                              0.0991      0.017      5.787      0.000       0.066       0.133\n",
            "C(country)[T.China]                             -0.3386      0.030    -11.135      0.000      -0.398      -0.279\n",
            "C(country)[T.Colombia]                           0.1919      0.008     25.137      0.000       0.177       0.207\n",
            "C(country)[T.Comoros]                           -0.1414      0.009    -14.901      0.000      -0.160      -0.123\n",
            "C(country)[T.Congo, Dem. Rep.]                  -0.2974      0.043     -6.993      0.000      -0.381      -0.214\n",
            "C(country)[T.Congo, Rep.]                       -0.2274      0.026     -8.747      0.000      -0.278      -0.176\n",
            "C(country)[T.Costa Rica]                         0.4428      0.014     32.728      0.000       0.416       0.469\n",
            "C(country)[T.Cote d'Ivoire]                     -0.2802      0.009    -32.969      0.000      -0.297      -0.264\n",
            "C(country)[T.Croatia]                            0.2588      0.028      9.265      0.000       0.204       0.314\n",
            "C(country)[T.Cuba]                              -0.5652      0.024    -23.106      0.000      -0.613      -0.517\n",
            "C(country)[T.Cyprus]                             0.2858      0.027     10.451      0.000       0.232       0.339\n",
            "C(country)[T.Czech Republic]                     0.3729      0.048      7.821      0.000       0.279       0.466\n",
            "C(country)[T.Denmark]                            0.3551      0.054      6.537      0.000       0.249       0.462\n",
            "C(country)[T.Dominica]                           0.3691      0.018     20.685      0.000       0.334       0.404\n",
            "C(country)[T.Dominican Republic]                 0.1564      0.006     26.617      0.000       0.145       0.168\n",
            "C(country)[T.Ecuador]                            0.0851      0.001     86.301      0.000       0.083       0.087\n",
            "C(country)[T.Egypt, Arab Rep.]                  -0.1880      0.009    -21.018      0.000      -0.206      -0.170\n",
            "C(country)[T.El Salvador]                        0.1521      0.009     16.280      0.000       0.134       0.170\n",
            "C(country)[T.Equatorial Guinea]                 -0.4481      0.009    -49.509      0.000      -0.466      -0.430\n",
            "C(country)[T.Estonia]                            0.4183      0.031     13.653      0.000       0.358       0.478\n",
            "C(country)[T.Ethiopia -pre 1993]                -0.2554      0.050     -5.075      0.000      -0.354      -0.157\n",
            "C(country)[T.Ethiopia 1993-]                    -0.0261      0.053     -0.496      0.620      -0.129       0.077\n",
            "C(country)[T.Fiji]                               0.0192      0.014      1.403      0.161      -0.008       0.046\n",
            "C(country)[T.Finland]                            0.2950      0.047      6.332      0.000       0.204       0.386\n",
            "C(country)[T.France]                             0.3522      0.048      7.413      0.000       0.259       0.445\n",
            "C(country)[T.Gabon]                             -0.2879      0.027    -10.471      0.000      -0.342      -0.234\n",
            "C(country)[T.Gambia, The]                        0.1437      0.027      5.302      0.000       0.091       0.197\n",
            "C(country)[T.Germany]                            0.3396      0.060      5.645      0.000       0.222       0.457\n",
            "C(country)[T.Ghana]                             -0.0787      0.030     -2.666      0.008      -0.137      -0.021\n",
            "C(country)[T.Greece]                             0.2317      0.033      7.028      0.000       0.167       0.296\n",
            "C(country)[T.Grenada]                            0.3874      0.011     35.314      0.000       0.366       0.409\n",
            "C(country)[T.Guatemala]                          0.0595      0.003     21.967      0.000       0.054       0.065\n",
            "C(country)[T.Guinea]                            -0.3815      0.004   -104.414      0.000      -0.389      -0.374\n",
            "C(country)[T.Guinea-Bissau]                     -0.0363      0.049     -0.743      0.458      -0.132       0.060\n",
            "C(country)[T.Guyana]                             0.0673      0.004     15.230      0.000       0.059       0.076\n",
            "C(country)[T.Haiti]                             -0.1929      0.032     -6.058      0.000      -0.255      -0.130\n",
            "C(country)[T.Honduras]                           0.0720      0.012      6.146      0.000       0.049       0.095\n",
            "C(country)[T.Hungary]                           -0.0020      0.032     -0.064      0.949      -0.065       0.061\n",
            "C(country)[T.Iceland]                            0.3684      0.049      7.468      0.000       0.272       0.465\n",
            "C(country)[T.India]                              0.3914      0.028     13.961      0.000       0.336       0.446\n",
            "C(country)[T.Indonesia]                         -0.1721      0.017    -10.295      0.000      -0.205      -0.139\n",
            "C(country)[T.Iran]                              -0.2494      0.009    -28.282      0.000      -0.267      -0.232\n",
            "C(country)[T.Ireland]                            0.3986      0.035     11.494      0.000       0.331       0.467\n",
            "C(country)[T.Israel]                             0.2985      0.038      7.954      0.000       0.225       0.372\n",
            "C(country)[T.Italy]                              0.3739      0.045      8.347      0.000       0.286       0.462\n",
            "C(country)[T.Jamaica]                            0.3594      0.008     44.390      0.000       0.343       0.375\n",
            "C(country)[T.Japan]                              0.3491      0.042      8.255      0.000       0.266       0.432\n",
            "C(country)[T.Jordan]                            -0.1880      0.000   -400.723      0.000      -0.189      -0.187\n",
            "C(country)[T.Kazakhstan]                        -0.3927      0.022    -17.632      0.000      -0.436      -0.349\n",
            "C(country)[T.Kenya]                             -0.2062      0.030     -6.920      0.000      -0.265      -0.148\n",
            "C(country)[T.Korea, Rep.]                        0.0364      0.009      3.919      0.000       0.018       0.055\n",
            "C(country)[T.Kyrgyz Republic]                   -0.3243      0.003    -95.291      0.000      -0.331      -0.318\n",
            "C(country)[T.Latvia]                             0.3327      0.031     10.568      0.000       0.271       0.394\n",
            "C(country)[T.Lebanon]                           -0.3605      0.010    -35.370      0.000      -0.380      -0.341\n",
            "C(country)[T.Lesotho]                           -0.0674      0.027     -2.516      0.012      -0.120      -0.015\n",
            "C(country)[T.Lithuania]                          0.4338      0.025     17.486      0.000       0.385       0.482\n",
            "C(country)[T.Luxembourg]                         0.3098      0.057      5.471      0.000       0.199       0.421\n",
            "C(country)[T.Macedonia, FYR]                    -0.0393      0.015     -2.667      0.008      -0.068      -0.010\n",
            "C(country)[T.Madagascar]                         0.1025      0.031      3.330      0.001       0.042       0.163\n",
            "C(country)[T.Malawi]                            -0.1059      0.050     -2.138      0.033      -0.203      -0.009\n",
            "C(country)[T.Malaysia]                           0.0686      0.012      5.813      0.000       0.045       0.092\n",
            "C(country)[T.Mali]                              -0.1231      0.038     -3.234      0.001      -0.198      -0.048\n",
            "C(country)[T.Malta]                              0.3757      0.047      8.060      0.000       0.284       0.467\n",
            "C(country)[T.Mauritania]                        -0.2906      0.020    -14.823      0.000      -0.329      -0.252\n",
            "C(country)[T.Mauritius]                          0.3192      0.026     12.213      0.000       0.268       0.370\n",
            "C(country)[T.Mexico]                             0.0382      0.022      1.700      0.089      -0.006       0.082\n",
            "C(country)[T.Moldova]                            0.3478      0.005     63.957      0.000       0.337       0.358\n",
            "C(country)[T.Morocco]                           -0.0965      0.003    -27.707      0.000      -0.103      -0.090\n",
            "C(country)[T.Mozambique]                        -0.0817      0.032     -2.562      0.010      -0.144      -0.019\n",
            "C(country)[T.Namibia]                            0.2991      0.013     23.319      0.000       0.274       0.324\n",
            "C(country)[T.Nepal]                              0.0680      0.035      1.924      0.054      -0.001       0.137\n",
            "C(country)[T.Netherlands]                        0.3673      0.050      7.378      0.000       0.270       0.465\n",
            "C(country)[T.New Zealand]                        0.3659      0.050      7.279      0.000       0.267       0.464\n",
            "C(country)[T.Nicaragua]                         -0.0190      0.002    -10.299      0.000      -0.023      -0.015\n",
            "C(country)[T.Niger]                             -0.2199      0.027     -8.073      0.000      -0.273      -0.166\n",
            "C(country)[T.Nigeria]                           -0.1069      0.031     -3.484      0.000      -0.167      -0.047\n",
            "C(country)[T.Norway]                             0.3690      0.049      7.508      0.000       0.273       0.465\n",
            "C(country)[T.Pakistan-post-1972]                -0.0752      0.022     -3.453      0.001      -0.118      -0.033\n",
            "C(country)[T.Pakistan-pre-1972]                  0.1350      0.045      3.000      0.003       0.047       0.223\n",
            "C(country)[T.Panama]                            -0.0246      0.010     -2.446      0.014      -0.044      -0.005\n",
            "C(country)[T.Papua New Guinea]                   0.3222      0.004     77.374      0.000       0.314       0.330\n",
            "C(country)[T.Paraguay]                          -0.0905      0.006    -14.027      0.000      -0.103      -0.078\n",
            "C(country)[T.Peru]                               0.0463      0.012      3.932      0.000       0.023       0.069\n",
            "C(country)[T.Philippines]                        0.1605      0.004     45.384      0.000       0.154       0.167\n",
            "C(country)[T.Poland]                             0.1761      0.028      6.360      0.000       0.122       0.230\n",
            "C(country)[T.Portugal]                           0.1288      0.027      4.751      0.000       0.076       0.182\n",
            "C(country)[T.Romania]                           -0.2821      0.002   -180.298      0.000      -0.285      -0.279\n",
            "C(country)[T.Russia]                            -0.2446      0.029     -8.368      0.000      -0.302      -0.187\n",
            "C(country)[T.Rwanda]                            -0.3337      0.036     -9.374      0.000      -0.403      -0.264\n",
            "C(country)[T.Sao Tome and Principe]              0.0755      0.028      2.667      0.008       0.020       0.131\n",
            "C(country)[T.Senegal]                            0.0031      0.019      0.162      0.871      -0.034       0.040\n",
            "C(country)[T.Seychelles]                        -0.1728      0.034     -5.150      0.000      -0.239      -0.107\n",
            "C(country)[T.Sierra Leone]                      -0.1452      0.026     -5.608      0.000      -0.196      -0.094\n",
            "C(country)[T.Singapore]                         -0.2222      0.039     -5.743      0.000      -0.298      -0.146\n",
            "C(country)[T.Slovakia]                           0.3990      0.038     10.535      0.000       0.325       0.473\n",
            "C(country)[T.Slovenia]                           0.3741      0.047      7.919      0.000       0.281       0.467\n",
            "C(country)[T.South Africa]                       0.0481      0.027      1.804      0.071      -0.004       0.100\n",
            "C(country)[T.Spain]                              0.0370      0.037      1.013      0.311      -0.035       0.109\n",
            "C(country)[T.Sri Lanka]                          0.2750      0.014     19.297      0.000       0.247       0.303\n",
            "C(country)[T.St. Kitts and Nevis]                0.4115      0.033     12.397      0.000       0.346       0.477\n",
            "C(country)[T.St. Lucia]                          0.4616      0.014     32.060      0.000       0.433       0.490\n",
            "C(country)[T.St. Vincent and the Grenadines]     0.3339      0.015     21.690      0.000       0.304       0.364\n",
            "C(country)[T.Sweden]                             0.3418      0.052      6.527      0.000       0.239       0.444\n",
            "C(country)[T.Switzerland]                        0.3370      0.061      5.513      0.000       0.217       0.457\n",
            "C(country)[T.Syrian Arab Republic]              -0.3799      0.004    -85.981      0.000      -0.389      -0.371\n",
            "C(country)[T.Taiwan]                            -0.0963      0.016     -6.157      0.000      -0.127      -0.066\n",
            "C(country)[T.Tanzania]                          -0.1238      0.052     -2.389      0.017      -0.225      -0.022\n",
            "C(country)[T.Thailand]                           0.0758      0.008      9.994      0.000       0.061       0.091\n",
            "C(country)[T.Togo]                              -0.2642      0.028     -9.340      0.000      -0.320      -0.209\n",
            "C(country)[T.Trinidad and Tobago]                0.3178      0.033      9.750      0.000       0.254       0.382\n",
            "C(country)[T.Tunisia]                           -0.3105      0.009    -33.384      0.000      -0.329      -0.292\n",
            "C(country)[T.Turkey]                             0.0854      0.010      8.259      0.000       0.065       0.106\n",
            "C(country)[T.Uganda]                            -0.1822      0.048     -3.817      0.000      -0.276      -0.089\n",
            "C(country)[T.Ukraine]                           -0.0451      0.017     -2.667      0.008      -0.078      -0.012\n",
            "C(country)[T.United Kingdom]                     0.3691      0.048      7.646      0.000       0.274       0.464\n",
            "C(country)[T.United States]                      0.3288      0.059      5.592      0.000       0.214       0.444\n",
            "C(country)[T.Uruguay]                            0.2059      0.027      7.634      0.000       0.153       0.259\n",
            "C(country)[T.Uzbekistan]                        -0.4911      0.003   -147.093      0.000      -0.498      -0.485\n",
            "C(country)[T.Venezuela, RB]                      0.2408      0.033      7.387      0.000       0.177       0.305\n",
            "C(country)[T.Vietnam]                           -0.4379      0.023    -18.793      0.000      -0.484      -0.392\n",
            "C(country)[T.Yemen]                             -0.0780      0.033     -2.348      0.019      -0.143      -0.013\n",
            "C(country)[T.Zambia]                            -0.0688      0.028     -2.478      0.013      -0.123      -0.014\n",
            "C(country)[T.Zimbabwe]                          -0.1761      0.005    -32.613      0.000      -0.187      -0.165\n",
            "log_gdppc                                        0.0837      0.031      2.667      0.008       0.022       0.145\n",
            "==============================================================================\n",
            "Omnibus:                       25.842   Durbin-Watson:                   1.377\n",
            "Prob(Omnibus):                  0.000   Jarque-Bera (JB):               54.484\n",
            "Skew:                          -0.092   Prob(JB):                     1.48e-12\n",
            "Kurtosis:                       4.154   Cond. No.                     3.13e+03\n",
            "==============================================================================\n",
            "\n",
            "Warnings:\n",
            "[1] Standard Errors are robust to cluster correlation (cluster)\n",
            "[2] The condition number is large, 3.13e+03. This might indicate that there are\n",
            "strong multicollinearity or other numerical problems.\n"
          ],
          "name": "stdout"
        },
        {
          "output_type": "stream",
          "text": [
            "/usr/local/lib/python3.7/dist-packages/statsmodels/base/model.py:1752: ValueWarning: covariance of constraints does not have full rank. The number of constraints is 149, but rank is 1\n",
            "  \n"
          ],
          "name": "stderr"
        }
      ]
    },
    {
      "cell_type": "markdown",
      "metadata": {
        "id": "AqhIg1Rd3f5R"
      },
      "source": [
        "因 dataset 中, Azerbaijan 僅於 2000年有資料, 故不會改變結果。"
      ]
    },
    {
      "cell_type": "markdown",
      "metadata": {
        "id": "VmN-QnQh3woz"
      },
      "source": [
        "### E10.2-4(iv)\n",
        "如科技進步。"
      ]
    },
    {
      "cell_type": "markdown",
      "metadata": {
        "id": "5EXUrZ5432dz"
      },
      "source": [
        "### E10.2-4(v)"
      ]
    },
    {
      "cell_type": "code",
      "metadata": {
        "colab": {
          "base_uri": "https://localhost:8080/"
        },
        "id": "ij06PVaB38oN",
        "outputId": "fcee2106-3470-419c-e7ec-8e204dc14d4d"
      },
      "source": [
        "reg_10_2_4v = smf.ols(formula='dem_ind~log_gdppc+C(country)+C(year)', data=df)\n",
        "result_10_2_4v = reg_10_2_4v.fit(cov_type='cluster', cov_kwds={'groups':df['country'], 'use_correction':False})\n",
        "print(result_10_2_4v.summary())"
      ],
      "execution_count": null,
      "outputs": [
        {
          "output_type": "stream",
          "text": [
            "                            OLS Regression Results                            \n",
            "==============================================================================\n",
            "Dep. Variable:                dem_ind   R-squared:                       0.761\n",
            "Model:                            OLS   Adj. R-squared:                  0.714\n",
            "Method:                 Least Squares   F-statistic:                     27.82\n",
            "Date:                Mon, 05 Apr 2021   Prob (F-statistic):           8.61e-28\n",
            "Time:                        07:15:59   Log-Likelihood:                 298.75\n",
            "No. Observations:                 958   AIC:                            -279.5\n",
            "Df Residuals:                     799   BIC:                             494.0\n",
            "Df Model:                         158                                         \n",
            "Covariance Type:              cluster                                         \n",
            "================================================================================================================\n",
            "                                                   coef    std err          z      P>|z|      [0.025      0.975]\n",
            "----------------------------------------------------------------------------------------------------------------\n",
            "Intercept                                        0.0417      0.306      0.136      0.892      -0.559       0.642\n",
            "C(country)[T.Algeria]                           -0.2333      0.032     -7.331      0.000      -0.296      -0.171\n",
            "C(country)[T.Angola]                            -0.3393      0.021    -16.180      0.000      -0.380      -0.298\n",
            "C(country)[T.Antigua]                            0.0108      0.064      0.168      0.867      -0.115       0.137\n",
            "C(country)[T.Argentina]                          0.1897      0.062      3.037      0.002       0.067       0.312\n",
            "C(country)[T.Armenia]                            0.0114      0.009      1.273      0.203      -0.006       0.029\n",
            "C(country)[T.Australia]                          0.4934      0.085      5.777      0.000       0.326       0.661\n",
            "C(country)[T.Austria]                            0.4985      0.076      6.526      0.000       0.349       0.648\n",
            "C(country)[T.Azerbaijan]                        -0.3192      0.011    -28.754      0.000      -0.341      -0.297\n",
            "C(country)[T.Bangladesh]                         0.1508      0.036      4.219      0.000       0.081       0.221\n",
            "C(country)[T.Barbados]                           0.5204      0.062      8.328      0.000       0.398       0.643\n",
            "C(country)[T.Belarus]                           -0.3692      0.028    -13.106      0.000      -0.424      -0.314\n",
            "C(country)[T.Belgium]                            0.5018      0.079      6.349      0.000       0.347       0.657\n",
            "C(country)[T.Belize]                             0.4981      0.032     15.758      0.000       0.436       0.560\n",
            "C(country)[T.Benin]                             -0.0972      0.037     -2.647      0.008      -0.169      -0.025\n",
            "C(country)[T.Bolivia]                            0.1384      0.022      6.354      0.000       0.096       0.181\n",
            "C(country)[T.Botswana]                           0.4414      0.022     20.062      0.000       0.398       0.485\n",
            "C(country)[T.Brazil]                             0.2126      0.035      6.055      0.000       0.144       0.281\n",
            "C(country)[T.Bulgaria]                           0.2866      0.037      7.817      0.000       0.215       0.359\n",
            "C(country)[T.Burkina Faso]                      -0.0807      0.049     -1.634      0.102      -0.177       0.016\n",
            "C(country)[T.Burundi]                           -0.2828      0.051     -5.494      0.000      -0.384      -0.182\n",
            "C(country)[T.Cambodia]                          -0.2866      0.037     -7.817      0.000      -0.359      -0.215\n",
            "C(country)[T.Cameroon]                          -0.2163      0.020    -10.710      0.000      -0.256      -0.177\n",
            "C(country)[T.Canada]                             0.4913      0.087      5.646      0.000       0.321       0.662\n",
            "C(country)[T.Cape Verde]                         0.1158      0.017      6.962      0.000       0.083       0.148\n",
            "C(country)[T.Central African Republic]          -0.1541      0.022     -6.992      0.000      -0.197      -0.111\n",
            "C(country)[T.Chad]                              -0.2174      0.035     -6.277      0.000      -0.285      -0.150\n",
            "C(country)[T.Chile]                              0.1990      0.040      4.917      0.000       0.120       0.278\n",
            "C(country)[T.China]                             -0.2843      0.035     -8.236      0.000      -0.352      -0.217\n",
            "C(country)[T.Colombia]                           0.2826      0.030      9.421      0.000       0.224       0.341\n",
            "C(country)[T.Comoros]                           -0.0811      0.017     -4.647      0.000      -0.115      -0.047\n",
            "C(country)[T.Congo, Dem. Rep.]                  -0.2485      0.051     -4.903      0.000      -0.348      -0.149\n",
            "C(country)[T.Congo, Rep.]                       -0.1625      0.031     -5.177      0.000      -0.224      -0.101\n",
            "C(country)[T.Costa Rica]                         0.5392      0.036     14.842      0.000       0.468       0.610\n",
            "C(country)[T.Cote d'Ivoire]                     -0.1986      0.020    -10.178      0.000      -0.237      -0.160\n",
            "C(country)[T.Croatia]                            0.2857      0.037      7.629      0.000       0.212       0.359\n",
            "C(country)[T.Cuba]                              -0.5093      0.037    -13.695      0.000      -0.582      -0.436\n",
            "C(country)[T.Cyprus]                             0.4019      0.051      7.916      0.000       0.302       0.501\n",
            "C(country)[T.Czech Republic]                     0.4186      0.064      6.551      0.000       0.293       0.544\n",
            "C(country)[T.Denmark]                            0.4907      0.087      5.611      0.000       0.319       0.662\n",
            "C(country)[T.Dominica]                           0.4404      0.031     14.118      0.000       0.379       0.502\n",
            "C(country)[T.Dominican Republic]                 0.2342      0.020     11.590      0.000       0.195       0.274\n",
            "C(country)[T.Ecuador]                            0.1695      0.024      7.063      0.000       0.122       0.217\n",
            "C(country)[T.Egypt, Arab Rep.]                  -0.1132      0.020     -5.746      0.000      -0.152      -0.075\n",
            "C(country)[T.El Salvador]                        0.2445      0.032      7.698      0.000       0.182       0.307\n",
            "C(country)[T.Equatorial Guinea]                 -0.3689      0.019    -19.822      0.000      -0.405      -0.332\n",
            "C(country)[T.Estonia]                            0.4477      0.041     10.903      0.000       0.367       0.528\n",
            "C(country)[T.Ethiopia -pre 1993]                -0.1997      0.057     -3.493      0.000      -0.312      -0.088\n",
            "C(country)[T.Ethiopia 1993-]                    -0.0767      0.071     -1.086      0.277      -0.215       0.062\n",
            "C(country)[T.Fiji]                               0.1201      0.031      3.888      0.000       0.060       0.181\n",
            "C(country)[T.Finland]                            0.4232      0.077      5.468      0.000       0.271       0.575\n",
            "C(country)[T.France]                             0.4812      0.079      6.124      0.000       0.327       0.635\n",
            "C(country)[T.Gabon]                             -0.1717      0.051     -3.370      0.001      -0.272      -0.072\n",
            "C(country)[T.Gambia, The]                        0.2157      0.034      6.382      0.000       0.149       0.282\n",
            "C(country)[T.Germany]                            0.4298      0.084      5.099      0.000       0.265       0.595\n",
            "C(country)[T.Ghana]                             -0.0173      0.035     -0.491      0.623      -0.086       0.052\n",
            "C(country)[T.Greece]                             0.3468      0.060      5.788      0.000       0.229       0.464\n",
            "C(country)[T.Grenada]                            0.4521      0.023     19.430      0.000       0.407       0.498\n",
            "C(country)[T.Guatemala]                          0.1455      0.025      5.729      0.000       0.096       0.195\n",
            "C(country)[T.Guinea]                            -0.2952      0.020    -14.618      0.000      -0.335      -0.256\n",
            "C(country)[T.Guinea-Bissau]                     -0.0139      0.062     -0.224      0.823      -0.135       0.107\n",
            "C(country)[T.Guyana]                             0.1509      0.018      8.436      0.000       0.116       0.186\n",
            "C(country)[T.Haiti]                             -0.1356      0.040     -3.392      0.001      -0.214      -0.057\n",
            "C(country)[T.Honduras]                           0.1441      0.020      7.219      0.000       0.105       0.183\n",
            "C(country)[T.Hungary]                            0.1165      0.053      2.202      0.028       0.013       0.220\n",
            "C(country)[T.Iceland]                            0.4992      0.081      6.167      0.000       0.341       0.658\n",
            "C(country)[T.India]                              0.4479      0.032     14.012      0.000       0.385       0.511\n",
            "C(country)[T.Indonesia]                         -0.0984      0.023     -4.281      0.000      -0.143      -0.053\n",
            "C(country)[T.Iran]                              -0.1576      0.031     -5.048      0.000      -0.219      -0.096\n",
            "C(country)[T.Ireland]                            0.5153      0.062      8.301      0.000       0.394       0.637\n",
            "C(country)[T.Israel]                             0.4179      0.066      6.360      0.000       0.289       0.547\n",
            "C(country)[T.Italy]                              0.5003      0.075      6.666      0.000       0.353       0.647\n",
            "C(country)[T.Jamaica]                            0.4652      0.027     17.194      0.000       0.412       0.518\n",
            "C(country)[T.Japan]                              0.4731      0.072      6.587      0.000       0.332       0.614\n",
            "C(country)[T.Jordan]                            -0.1050      0.023     -4.579      0.000      -0.150      -0.060\n",
            "C(country)[T.Kazakhstan]                        -0.3713      0.030    -12.439      0.000      -0.430      -0.313\n",
            "C(country)[T.Kenya]                             -0.1368      0.037     -3.713      0.000      -0.209      -0.065\n",
            "C(country)[T.Korea, Rep.]                        0.1287      0.032      4.060      0.000       0.067       0.191\n",
            "C(country)[T.Kyrgyz Republic]                   -0.3275      0.005    -71.813      0.000      -0.336      -0.319\n",
            "C(country)[T.Latvia]                             0.3743      0.043      8.701      0.000       0.290       0.459\n",
            "C(country)[T.Lebanon]                           -0.3393      0.016    -21.839      0.000      -0.370      -0.309\n",
            "C(country)[T.Lesotho]                           -0.0053      0.034     -0.156      0.876      -0.072       0.061\n",
            "C(country)[T.Lithuania]                          0.4577      0.033     13.762      0.000       0.392       0.523\n",
            "C(country)[T.Luxembourg]                         0.4475      0.090      4.948      0.000       0.270       0.625\n",
            "C(country)[T.Macedonia, FYR]                    -0.0251      0.020     -1.273      0.203      -0.064       0.014\n",
            "C(country)[T.Madagascar]                         0.1627      0.037      4.443      0.000       0.091       0.234\n",
            "C(country)[T.Malawi]                            -0.0555      0.061     -0.909      0.363      -0.175       0.064\n",
            "C(country)[T.Malaysia]                           0.1697      0.033      5.218      0.000       0.106       0.233\n",
            "C(country)[T.Mali]                              -0.0698      0.045     -1.545      0.122      -0.158       0.019\n",
            "C(country)[T.Malta]                              0.4205      0.062      6.730      0.000       0.298       0.543\n",
            "C(country)[T.Mauritania]                        -0.2197      0.025     -8.702      0.000      -0.269      -0.170\n",
            "C(country)[T.Mauritius]                          0.4321      0.046      9.480      0.000       0.343       0.521\n",
            "C(country)[T.Mexico]                             0.1432      0.047      3.056      0.002       0.051       0.235\n",
            "C(country)[T.Moldova]                            0.3426      0.007     47.002      0.000       0.328       0.357\n",
            "C(country)[T.Morocco]                           -0.0101      0.020     -0.498      0.618      -0.050       0.030\n",
            "C(country)[T.Mozambique]                        -0.0429      0.040     -1.065      0.287      -0.122       0.036\n",
            "C(country)[T.Namibia]                            0.3228      0.019     17.199      0.000       0.286       0.360\n",
            "C(country)[T.Nepal]                              0.1238      0.042      2.953      0.003       0.042       0.206\n",
            "C(country)[T.Netherlands]                        0.4985      0.082      6.114      0.000       0.339       0.658\n",
            "C(country)[T.New Zealand]                        0.4976      0.082      6.056      0.000       0.337       0.659\n",
            "C(country)[T.Nicaragua]                          0.0662      0.025      2.682      0.007       0.018       0.115\n",
            "C(country)[T.Niger]                             -0.1562      0.033     -4.776      0.000      -0.220      -0.092\n",
            "C(country)[T.Nigeria]                           -0.0466      0.037     -1.275      0.202      -0.118       0.025\n",
            "C(country)[T.Norway]                             0.4996      0.081      6.190      0.000       0.341       0.658\n",
            "C(country)[T.Pakistan-post-1972]                -0.0268      0.028     -0.944      0.345      -0.082       0.029\n",
            "C(country)[T.Pakistan-pre-1972]                  0.1241      0.045      2.770      0.006       0.036       0.212\n",
            "C(country)[T.Panama]                             0.0685      0.033      2.106      0.035       0.005       0.132\n",
            "C(country)[T.Papua New Guinea]                   0.3956      0.020     20.138      0.000       0.357       0.434\n",
            "C(country)[T.Paraguay]                          -0.0009      0.029     -0.033      0.974      -0.057       0.056\n",
            "C(country)[T.Peru]                               0.1411      0.034      4.102      0.000       0.074       0.208\n",
            "C(country)[T.Philippines]                        0.2406      0.021     11.386      0.000       0.199       0.282\n",
            "C(country)[T.Poland]                             0.2569      0.043      5.913      0.000       0.172       0.342\n",
            "C(country)[T.Portugal]                           0.2383      0.053      4.533      0.000       0.135       0.341\n",
            "C(country)[T.Romania]                           -0.1938      0.021     -9.181      0.000      -0.235      -0.152\n",
            "C(country)[T.Russia]                            -0.2165      0.039     -5.527      0.000      -0.293      -0.140\n",
            "C(country)[T.Rwanda]                            -0.2698      0.044     -6.177      0.000      -0.355      -0.184\n",
            "C(country)[T.Sao Tome and Principe]              0.1177      0.036      3.277      0.001       0.047       0.188\n",
            "C(country)[T.Senegal]                            0.0829      0.026      3.240      0.001       0.033       0.133\n",
            "C(country)[T.Seychelles]                        -0.0864      0.051     -1.695      0.090      -0.186       0.013\n",
            "C(country)[T.Sierra Leone]                      -0.0721      0.032     -2.219      0.026      -0.136      -0.008\n",
            "C(country)[T.Singapore]                         -0.0871      0.063     -1.378      0.168      -0.211       0.037\n",
            "C(country)[T.Slovakia]                           0.4354      0.051      8.577      0.000       0.336       0.535\n",
            "C(country)[T.Slovenia]                           0.4194      0.063      6.625      0.000       0.295       0.543\n",
            "C(country)[T.South Africa]                       0.1571      0.052      3.021      0.003       0.055       0.259\n",
            "C(country)[T.Spain]                              0.1555      0.064      2.413      0.016       0.029       0.282\n",
            "C(country)[T.Sri Lanka]                          0.3448      0.021     16.573      0.000       0.304       0.386\n",
            "C(country)[T.St. Kitts and Nevis]                0.4758      0.049      9.795      0.000       0.381       0.571\n",
            "C(country)[T.St. Lucia]                          0.5296      0.027     19.529      0.000       0.476       0.583\n",
            "C(country)[T.St. Vincent and the Grenadines]     0.4029      0.028     14.246      0.000       0.347       0.458\n",
            "C(country)[T.Sweden]                             0.4755      0.085      5.600      0.000       0.309       0.642\n",
            "C(country)[T.Switzerland]                        0.4791      0.096      4.972      0.000       0.290       0.668\n",
            "C(country)[T.Syrian Arab Republic]              -0.2943      0.020    -14.754      0.000      -0.333      -0.255\n",
            "C(country)[T.Taiwan]                             0.0085      0.037      0.232      0.817      -0.064       0.081\n",
            "C(country)[T.Tanzania]                          -0.0755      0.064     -1.181      0.238      -0.201       0.050\n",
            "C(country)[T.Thailand]                           0.1519      0.020      7.665      0.000       0.113       0.191\n",
            "C(country)[T.Togo]                              -0.2015      0.034     -5.953      0.000      -0.268      -0.135\n",
            "C(country)[T.Trinidad and Tobago]                0.4472      0.055      8.065      0.000       0.338       0.556\n",
            "C(country)[T.Tunisia]                           -0.2036      0.028     -7.212      0.000      -0.259      -0.148\n",
            "C(country)[T.Turkey]                             0.1787      0.033      5.446      0.000       0.114       0.243\n",
            "C(country)[T.Uganda]                            -0.1300      0.059     -2.213      0.027      -0.245      -0.015\n",
            "C(country)[T.Ukraine]                           -0.0289      0.023     -1.273      0.203      -0.073       0.016\n",
            "C(country)[T.United Kingdom]                     0.4988      0.080      6.269      0.000       0.343       0.655\n",
            "C(country)[T.United States]                      0.4686      0.093      5.023      0.000       0.286       0.652\n",
            "C(country)[T.Uruguay]                            0.3152      0.052      6.017      0.000       0.212       0.418\n",
            "C(country)[T.Uzbekistan]                        -0.4943      0.004   -110.463      0.000      -0.503      -0.486\n",
            "C(country)[T.Venezuela, RB]                      0.3556      0.059      5.981      0.000       0.239       0.472\n",
            "C(country)[T.Vietnam]                           -0.4488      0.032    -14.157      0.000      -0.511      -0.387\n",
            "C(country)[T.Yemen]                             -0.0985      0.045     -2.200      0.028      -0.186      -0.011\n",
            "C(country)[T.Zambia]                             0.0026      0.035      0.074      0.941      -0.065       0.070\n",
            "C(country)[T.Zimbabwe]                          -0.0832      0.019     -4.368      0.000      -0.121      -0.046\n",
            "C(year)[T.1965]                                  0.0002      0.021      0.011      0.991      -0.040       0.041\n",
            "C(year)[T.1970]                                 -0.1268      0.034     -3.755      0.000      -0.193      -0.061\n",
            "C(year)[T.1975]                                 -0.1477      0.037     -4.023      0.000      -0.220      -0.076\n",
            "C(year)[T.1980]                                 -0.0978      0.035     -2.775      0.006      -0.167      -0.029\n",
            "C(year)[T.1985]                                 -0.0871      0.039     -2.245      0.025      -0.163      -0.011\n",
            "C(year)[T.1990]                                 -0.0421      0.035     -1.203      0.229      -0.111       0.027\n",
            "C(year)[T.1995]                                  0.0096      0.042      0.226      0.821      -0.073       0.092\n",
            "C(year)[T.2000]                                  0.0324      0.043      0.755      0.450      -0.052       0.116\n",
            "log_gdppc                                        0.0536      0.042      1.273      0.203      -0.029       0.136\n",
            "==============================================================================\n",
            "Omnibus:                       23.385   Durbin-Watson:                   1.429\n",
            "Prob(Omnibus):                  0.000   Jarque-Bera (JB):               42.243\n",
            "Skew:                          -0.150   Prob(JB):                     6.72e-10\n",
            "Kurtosis:                       3.984   Cond. No.                     3.16e+03\n",
            "==============================================================================\n",
            "\n",
            "Warnings:\n",
            "[1] Standard Errors are robust to cluster correlation (cluster)\n",
            "[2] The condition number is large, 3.16e+03. This might indicate that there are\n",
            "strong multicollinearity or other numerical problems.\n"
          ],
          "name": "stdout"
        },
        {
          "output_type": "stream",
          "text": [
            "/usr/local/lib/python3.7/dist-packages/statsmodels/base/model.py:1752: ValueWarning: covariance of constraints does not have full rank. The number of constraints is 158, but rank is 9\n",
            "  \n"
          ],
          "name": "stderr"
        }
      ]
    },
    {
      "cell_type": "markdown",
      "metadata": {
        "id": "Wm3Vp3zS4N6T"
      },
      "source": [
        "$\\widehat{\\beta}_{log\\_gdppc} = 0.0536$\n",
        "\n",
        "$Pvalue > 0.1$\n",
        "\n",
        "統計上不顯著異於0。"
      ]
    },
    {
      "cell_type": "code",
      "metadata": {
        "colab": {
          "base_uri": "https://localhost:8080/"
        },
        "id": "Ug1p6a7R4awi",
        "outputId": "a56f0370-5cf0-4ace-bc93-95a3e7e00efc"
      },
      "source": [
        "test_10_2_4v = ['0.2*log_gdppc=0']\n",
        "result_10_2_4v = result_10_2_4v.t_test(test_10_2_4v)\n",
        "print(result_10_2_4v.summary(xname=['0.2*log_gdppc']))"
      ],
      "execution_count": null,
      "outputs": [
        {
          "output_type": "stream",
          "text": [
            "                               Test for Constraints                              \n",
            "=================================================================================\n",
            "                    coef    std err          z      P>|z|      [0.025      0.975]\n",
            "---------------------------------------------------------------------------------\n",
            "0.2*log_gdppc     0.0107      0.008      1.273      0.203      -0.006       0.027\n",
            "=================================================================================\n"
          ],
          "name": "stdout"
        }
      ]
    },
    {
      "cell_type": "markdown",
      "metadata": {
        "id": "yKutquFB4Nu2"
      },
      "source": [
        "95% 信賴區間: $[-0.006, 0.027]$"
      ]
    },
    {
      "cell_type": "markdown",
      "metadata": {
        "id": "U0MWWmsk5H7s"
      },
      "source": [
        "### E10.2-4(vi)"
      ]
    },
    {
      "cell_type": "code",
      "metadata": {
        "colab": {
          "base_uri": "https://localhost:8080/"
        },
        "id": "9cA3kKRO5YAP",
        "outputId": "9aa24ce9-3f61-4977-d01a-e0eb226bd958"
      },
      "source": [
        "dff = df.dropna()\n",
        "dff.shape"
      ],
      "execution_count": null,
      "outputs": [
        {
          "output_type": "execute_result",
          "data": {
            "text/plain": [
              "(679, 13)"
            ]
          },
          "metadata": {
            "tags": []
          },
          "execution_count": 150
        }
      ]
    },
    {
      "cell_type": "code",
      "metadata": {
        "colab": {
          "base_uri": "https://localhost:8080/"
        },
        "id": "sJNKKt0J5UHL",
        "outputId": "7b82f16a-f9da-4373-cf1a-87f703bb821b"
      },
      "source": [
        "reg_10_2_4vi = smf.ols(formula='dem_ind~log_gdppc+C(country)+C(year)+log_pop+age_2+age_3+age_4+age_5+educ', data=dff)\n",
        "result_10_2_4vi = reg_10_2_4vi.fit(cov_type='cluster', cov_kwds={'groups':dff['country'], 'use_correction':False})\n",
        "print(result_10_2_4vi.summary())"
      ],
      "execution_count": null,
      "outputs": [
        {
          "output_type": "stream",
          "text": [
            "                            OLS Regression Results                            \n",
            "==============================================================================\n",
            "Dep. Variable:                dem_ind   R-squared:                       0.734\n",
            "Model:                            OLS   Adj. R-squared:                  0.683\n",
            "Method:                 Least Squares   F-statistic:                     7.938\n",
            "Date:                Mon, 05 Apr 2021   Prob (F-statistic):           7.64e-11\n",
            "Time:                        07:21:48   Log-Likelihood:                 194.51\n",
            "No. Observations:                 679   AIC:                            -171.0\n",
            "Df Residuals:                     570   BIC:                             321.7\n",
            "Df Model:                         108                                         \n",
            "Covariance Type:              cluster                                         \n",
            "==========================================================================================================\n",
            "                                             coef    std err          z      P>|z|      [0.025      0.975]\n",
            "----------------------------------------------------------------------------------------------------------\n",
            "Intercept                                  1.0915      1.358      0.804      0.422      -1.571       3.754\n",
            "C(country)[T.Argentina]                    0.5481      0.154      3.550      0.000       0.246       0.851\n",
            "C(country)[T.Australia]                    0.8303      0.208      3.996      0.000       0.423       1.238\n",
            "C(country)[T.Austria]                      0.7146      0.210      3.409      0.001       0.304       1.126\n",
            "C(country)[T.Bangladesh]                   0.4772      0.187      2.552      0.011       0.111       0.844\n",
            "C(country)[T.Barbados]                     0.4976      0.521      0.955      0.340      -0.524       1.519\n",
            "C(country)[T.Belgium]                      0.7474      0.211      3.550      0.000       0.335       1.160\n",
            "C(country)[T.Benin]                        0.0243      0.228      0.106      0.915      -0.423       0.472\n",
            "C(country)[T.Bolivia]                      0.3124      0.184      1.695      0.090      -0.049       0.674\n",
            "C(country)[T.Botswana]                     0.4657      0.386      1.205      0.228      -0.292       1.223\n",
            "C(country)[T.Brazil]                       0.6216      0.229      2.714      0.007       0.173       1.070\n",
            "C(country)[T.Burundi]                     -0.1350      0.217     -0.622      0.534      -0.560       0.290\n",
            "C(country)[T.Cameroon]                    -0.0271      0.115     -0.236      0.814      -0.252       0.198\n",
            "C(country)[T.Canada]                       0.8843      0.210      4.220      0.000       0.474       1.295\n",
            "C(country)[T.Central African Republic]    -0.0562      0.265     -0.212      0.832      -0.576       0.463\n",
            "C(country)[T.Chile]                        0.4406      0.125      3.533      0.000       0.196       0.685\n",
            "C(country)[T.China]                        0.2348      0.488      0.481      0.631      -0.722       1.192\n",
            "C(country)[T.Colombia]                     0.5944      0.065      9.088      0.000       0.466       0.723\n",
            "C(country)[T.Congo, Dem. Rep.]            -0.0155      0.093     -0.166      0.868      -0.198       0.167\n",
            "C(country)[T.Congo, Rep.]                 -0.1986      0.317     -0.627      0.530      -0.819       0.422\n",
            "C(country)[T.Costa Rica]                   0.6803      0.273      2.490      0.013       0.145       1.216\n",
            "C(country)[T.Cyprus]                       0.4724      0.403      1.172      0.241      -0.318       1.263\n",
            "C(country)[T.Denmark]                      0.7038      0.243      2.895      0.004       0.227       1.180\n",
            "C(country)[T.Dominican Republic]           0.4713      0.174      2.709      0.007       0.130       0.812\n",
            "C(country)[T.Ecuador]                      0.3383      0.138      2.456      0.014       0.068       0.608\n",
            "C(country)[T.Egypt, Arab Rep.]             0.1701      0.102      1.667      0.095      -0.030       0.370\n",
            "C(country)[T.El Salvador]                  0.4204      0.191      2.200      0.028       0.046       0.795\n",
            "C(country)[T.Fiji]                         0.2086      0.457      0.457      0.648      -0.687       1.104\n",
            "C(country)[T.Finland]                      0.6657      0.219      3.041      0.002       0.237       1.095\n",
            "C(country)[T.France]                       0.8598      0.271      3.177      0.001       0.329       1.390\n",
            "C(country)[T.Gambia, The]                  0.0982      0.431      0.228      0.820      -0.746       0.942\n",
            "C(country)[T.Ghana]                        0.1725      0.113      1.526      0.127      -0.049       0.394\n",
            "C(country)[T.Greece]                       0.5861      0.180      3.250      0.001       0.233       0.940\n",
            "C(country)[T.Guatemala]                    0.3060      0.138      2.224      0.026       0.036       0.576\n",
            "C(country)[T.Guyana]                       0.1743      0.424      0.411      0.681      -0.657       1.006\n",
            "C(country)[T.Haiti]                       -0.0209      0.183     -0.114      0.909      -0.380       0.339\n",
            "C(country)[T.Honduras]                     0.2448      0.231      1.061      0.289      -0.208       0.697\n",
            "C(country)[T.Hungary]                      0.3561      0.209      1.701      0.089      -0.054       0.766\n",
            "C(country)[T.Iceland]                      0.5143      0.522      0.986      0.324      -0.508       1.537\n",
            "C(country)[T.India]                        0.9540      0.437      2.185      0.029       0.098       1.810\n",
            "C(country)[T.Indonesia]                    0.3284      0.249      1.320      0.187      -0.159       0.816\n",
            "C(country)[T.Iran]                         0.1229      0.088      1.401      0.161      -0.049       0.295\n",
            "C(country)[T.Ireland]                      0.6442      0.233      2.762      0.006       0.187       1.101\n",
            "C(country)[T.Israel]                       0.5932      0.242      2.452      0.014       0.119       1.067\n",
            "C(country)[T.Italy]                        0.8845      0.273      3.242      0.001       0.350       1.419\n",
            "C(country)[T.Jamaica]                      0.5200      0.260      1.996      0.046       0.009       1.031\n",
            "C(country)[T.Japan]                        0.9774      0.315      3.104      0.002       0.360       1.595\n",
            "C(country)[T.Jordan]                      -0.0266      0.288     -0.092      0.926      -0.591       0.538\n",
            "C(country)[T.Kenya]                        0.0255      0.079      0.324      0.746      -0.129       0.180\n",
            "C(country)[T.Korea, Rep.]                  0.5343      0.143      3.740      0.000       0.254       0.814\n",
            "C(country)[T.Lesotho]                     -0.0275      0.346     -0.079      0.937      -0.705       0.650\n",
            "C(country)[T.Malawi]                       0.0679      0.199      0.342      0.733      -0.322       0.458\n",
            "C(country)[T.Malaysia]                     0.4458      0.082      5.416      0.000       0.284       0.607\n",
            "C(country)[T.Mali]                         0.0721      0.172      0.420      0.674      -0.264       0.408\n",
            "C(country)[T.Malta]                        0.4346      0.497      0.874      0.382      -0.540       1.409\n",
            "C(country)[T.Mauritania]                  -0.2489      0.324     -0.769      0.442      -0.883       0.385\n",
            "C(country)[T.Mauritius]                    0.5924      0.378      1.566      0.117      -0.149       1.334\n",
            "C(country)[T.Mexico]                       0.4734      0.159      2.984      0.003       0.162       0.784\n",
            "C(country)[T.Mozambique]                   0.1206      0.111      1.082      0.279      -0.098       0.339\n",
            "C(country)[T.Nepal]                        0.3532      0.105      3.375      0.001       0.148       0.558\n",
            "C(country)[T.Netherlands]                  0.8175      0.180      4.554      0.000       0.466       1.169\n",
            "C(country)[T.New Zealand]                  0.6995      0.290      2.412      0.016       0.131       1.268\n",
            "C(country)[T.Nicaragua]                    0.1780      0.253      0.703      0.482      -0.318       0.674\n",
            "C(country)[T.Niger]                       -0.0396      0.181     -0.219      0.826      -0.394       0.314\n",
            "C(country)[T.Norway]                       0.6661      0.239      2.787      0.005       0.198       1.135\n",
            "C(country)[T.Pakistan-post-1972]           0.3064      0.184      1.663      0.096      -0.055       0.668\n",
            "C(country)[T.Panama]                       0.1582      0.304      0.520      0.603      -0.438       0.755\n",
            "C(country)[T.Papua New Guinea]             0.5521      0.234      2.361      0.018       0.094       1.010\n",
            "C(country)[T.Paraguay]                     0.1155      0.233      0.496      0.620      -0.341       0.572\n",
            "C(country)[T.Peru]                         0.3890      0.077      5.079      0.000       0.239       0.539\n",
            "C(country)[T.Philippines]                  0.5345      0.129      4.151      0.000       0.282       0.787\n",
            "C(country)[T.Poland]                       0.6137      0.205      2.988      0.003       0.211       1.016\n",
            "C(country)[T.Portugal]                     0.5048      0.144      3.496      0.000       0.222       0.788\n",
            "C(country)[T.Rwanda]                      -0.1684      0.204     -0.825      0.410      -0.569       0.232\n",
            "C(country)[T.Senegal]                      0.2289      0.178      1.286      0.199      -0.120       0.578\n",
            "C(country)[T.Sierra Leone]                 0.0473      0.241      0.196      0.845      -0.426       0.520\n",
            "C(country)[T.Singapore]                    0.2031      0.263      0.773      0.440      -0.312       0.718\n",
            "C(country)[T.South Africa]                 0.4978      0.090      5.560      0.000       0.322       0.673\n",
            "C(country)[T.Spain]                        0.5695      0.208      2.738      0.006       0.162       0.977\n",
            "C(country)[T.Sri Lanka]                    0.6000      0.110      5.458      0.000       0.385       0.815\n",
            "C(country)[T.Sweden]                       0.6892      0.232      2.966      0.003       0.234       1.145\n",
            "C(country)[T.Switzerland]                  0.7531      0.227      3.319      0.001       0.308       1.198\n",
            "C(country)[T.Syrian Arab Republic]        -0.1304      0.119     -1.094      0.274      -0.364       0.103\n",
            "C(country)[T.Thailand]                     0.5414      0.118      4.584      0.000       0.310       0.773\n",
            "C(country)[T.Togo]                        -0.1182      0.270     -0.438      0.661      -0.647       0.411\n",
            "C(country)[T.Trinidad and Tobago]          0.5597      0.360      1.553      0.120      -0.147       1.266\n",
            "C(country)[T.Tunisia]                     -0.0295      0.133     -0.222      0.824      -0.290       0.231\n",
            "C(country)[T.Turkey]                       0.5280      0.114      4.630      0.000       0.304       0.752\n",
            "C(country)[T.Uganda]                       0.0249      0.126      0.199      0.843      -0.221       0.271\n",
            "C(country)[T.United Kingdom]               0.8456      0.298      2.834      0.005       0.261       1.431\n",
            "C(country)[T.United States]                0.9888      0.410      2.413      0.016       0.185       1.792\n",
            "C(country)[T.Uruguay]                      0.4524      0.238      1.904      0.057      -0.013       0.918\n",
            "C(country)[T.Venezuela, RB]                0.6741      0.076      8.866      0.000       0.525       0.823\n",
            "C(country)[T.Zambia]                       0.1307      0.190      0.687      0.492      -0.242       0.504\n",
            "C(country)[T.Zimbabwe]                     0.0572      0.139      0.411      0.681      -0.215       0.330\n",
            "C(year)[T.1970]                           -0.1016      0.034     -2.948      0.003      -0.169      -0.034\n",
            "C(year)[T.1975]                           -0.1233      0.046     -2.705      0.007      -0.213      -0.034\n",
            "C(year)[T.1980]                           -0.0469      0.060     -0.779      0.436      -0.165       0.071\n",
            "C(year)[T.1985]                            0.0045      0.075      0.060      0.952      -0.142       0.151\n",
            "C(year)[T.1990]                            0.0574      0.089      0.643      0.520      -0.117       0.232\n",
            "C(year)[T.1995]                            0.1185      0.106      1.120      0.263      -0.089       0.326\n",
            "C(year)[T.2000]                            0.1583      0.118      1.345      0.179      -0.072       0.389\n",
            "log_gdppc                                  0.0252      0.053      0.474      0.635      -0.079       0.129\n",
            "log_pop                                   -0.0692      0.123     -0.565      0.572      -0.310       0.171\n",
            "age_2                                     -0.5255      0.600     -0.875      0.381      -1.702       0.651\n",
            "age_3                                     -2.4812      0.880     -2.819      0.005      -4.207      -0.756\n",
            "age_4                                      0.2978      1.278      0.233      0.816      -2.206       2.802\n",
            "age_5                                      0.6054      1.276      0.474      0.635      -1.896       3.107\n",
            "educ                                      -0.0004      0.023     -0.018      0.986      -0.045       0.044\n",
            "==============================================================================\n",
            "Omnibus:                       13.000   Durbin-Watson:                   1.497\n",
            "Prob(Omnibus):                  0.002   Jarque-Bera (JB):               15.594\n",
            "Skew:                          -0.239   Prob(JB):                     0.000411\n",
            "Kurtosis:                       3.568   Cond. No.                     3.92e+03\n",
            "==============================================================================\n",
            "\n",
            "Warnings:\n",
            "[1] Standard Errors are robust to cluster correlation (cluster)\n",
            "[2] The condition number is large, 3.92e+03. This might indicate that there are\n",
            "strong multicollinearity or other numerical problems.\n"
          ],
          "name": "stdout"
        },
        {
          "output_type": "stream",
          "text": [
            "/usr/local/lib/python3.7/dist-packages/statsmodels/base/model.py:1752: ValueWarning: covariance of constraints does not have full rank. The number of constraints is 108, but rank is 14\n",
            "  \n"
          ],
          "name": "stderr"
        }
      ]
    },
    {
      "cell_type": "markdown",
      "metadata": {
        "id": "1cplzrmB6SCL"
      },
      "source": [
        "因仍可能有遺漏變數知問題, 故將 dataset 的變數引進, $log\\_gdppc$ 效果更不顯著。"
      ]
    },
    {
      "cell_type": "markdown",
      "metadata": {
        "id": "u4fC6x6C6kSE"
      },
      "source": [
        "## E10.4-5\n",
        "由前題知高 $log\\_gdppc$, 未必有高 $dem\\_ind$."
      ]
    },
    {
      "cell_type": "markdown",
      "metadata": {
        "id": "vBu2Sg7O67Gl"
      },
      "source": [
        "## 補充"
      ]
    },
    {
      "cell_type": "code",
      "metadata": {
        "id": "zn7GPTFTmG_8"
      },
      "source": [
        "# Ordinary OLS\n",
        "reg = smf.ols(formula='dem_ind~log_gdppc', data=df)\n",
        "result = reg.fit(cov_type='HC1')\n",
        "print(result.summary())"
      ],
      "execution_count": null,
      "outputs": []
    },
    {
      "cell_type": "code",
      "metadata": {
        "id": "L5jRhvjynHEH"
      },
      "source": [
        "# Cluster OLS\n",
        "reg = smf.ols(formula='dem_ind~log_gdppc', data=df)\n",
        "result = reg.fit(cov_type='cluster', cov_kwds={'groups':df['country'], 'use_correction':False})\n",
        "print(result.summary())"
      ],
      "execution_count": null,
      "outputs": []
    },
    {
      "cell_type": "code",
      "metadata": {
        "id": "Pdlc_dbLnf_I"
      },
      "source": [
        "# Cluster & Time Effect OLS\n",
        "reg = smf.ols(formula='dem_ind~log_gdppc+C(year)', data=df)\n",
        "result = reg.fit(cov_type='cluster', cov_kwds={'groups':df['country'], 'use_correction':False})\n",
        "print(result.summary())"
      ],
      "execution_count": null,
      "outputs": []
    },
    {
      "cell_type": "code",
      "metadata": {
        "id": "bkUmK5W8nxOP"
      },
      "source": [
        "# Cluster & State Effect OLS\n",
        "reg = smf.ols(formula='dem_ind~log_gdppc+C(country)', data=df)\n",
        "result = reg.fit(cov_type='cluster', cov_kwds={'groups':df['country'], 'use_correction':False})\n",
        "print(result.summary())"
      ],
      "execution_count": null,
      "outputs": []
    },
    {
      "cell_type": "code",
      "metadata": {
        "id": "LINsHvNtvLdc"
      },
      "source": [
        "# Cluster & State Effect & Time Effect OLS\n",
        "reg = smf.ols(formula='dem_ind~log_gdppc+C(country)+C(year)', data=df)\n",
        "result = reg.fit(cov_type='cluster', cov_kwds={'groups':df['country'], 'use_correction':False})\n",
        "print(result.summary())"
      ],
      "execution_count": null,
      "outputs": []
    }
  ]
}