{
  "nbformat": 4,
  "nbformat_minor": 0,
  "metadata": {
    "colab": {
      "name": "PS2.ipynb",
      "provenance": [],
      "collapsed_sections": [],
      "toc_visible": true,
      "authorship_tag": "ABX9TyNJ2Sp6F56ceh8DNsxAbvqF",
      "include_colab_link": true
    },
    "kernelspec": {
      "name": "python3",
      "display_name": "Python 3"
    },
    "language_info": {
      "name": "python"
    }
  },
  "cells": [
    {
      "cell_type": "markdown",
      "metadata": {
        "id": "view-in-github",
        "colab_type": "text"
      },
      "source": [
        "<a href=\"https://colab.research.google.com/github/p09323028/2020a_NTU_Econometrics_I/blob/main/Homework/PS2.ipynb\" target=\"_parent\"><img src=\"https://colab.research.google.com/assets/colab-badge.svg\" alt=\"Open In Colab\"/></a>"
      ]
    },
    {
      "cell_type": "markdown",
      "metadata": {
        "id": "ROYAd3cS3C3d"
      },
      "source": [
        "# **Homework 2**\n",
        "Author: Jinze Wu\n",
        "\n",
        "Student Number: p09323028"
      ]
    },
    {
      "cell_type": "markdown",
      "metadata": {
        "id": "cv07kqmpE2s3"
      },
      "source": [
        "# **Excercise 6.6**\n",
        "A researcher plans to study the causal effect of a strong legal system on the number of scandals in a country, using data from a random sample of countries in Asia. The researcher plans to regress the number of scandals on how strong a legal system is in the countries (an indicator variable taking the value 1 or 0, based on expert opinion).\n",
        "1. Do you think this regression suffers from omitted variable bias? Explain\n",
        "why. Which variables would you add to the regression?\n",
        "2. Using the expression for omitted variable bias given in Equation (6.1),\n",
        "assess whether the regression will likely over- or underestimate the\n",
        "effect of a strong legal system on the number of scandals in a country.\n",
        "That is, do you think that $\\widehat{\\beta}_1 > \\beta_1 $ or $\\widehat{\\beta}_1 < \\beta_1$?\n",
        "\n",
        "---\n",
        "\n"
      ]
    },
    {
      "cell_type": "markdown",
      "metadata": {
        "id": "EYvbyS3IutbW"
      },
      "source": [
        "## 6.6-1"
      ]
    },
    {
      "cell_type": "markdown",
      "metadata": {
        "id": "V-Aylz8vXNQd"
      },
      "source": [
        "尚有其他變數會影響醜聞事件數, 且與法律制度相關 (如經濟發展), 故有遺漏變數之狀況。"
      ]
    },
    {
      "cell_type": "markdown",
      "metadata": {
        "id": "0g7t5yr5u2Hw"
      },
      "source": [
        "## 6.6-2"
      ]
    },
    {
      "cell_type": "markdown",
      "metadata": {
        "id": "PQDk4HmHXd7e"
      },
      "source": [
        "$\\widehat{\\beta}_1 \\rightarrow \\beta_1 + \\frac{\\rho_{Xu}\\sigma_u}{\\sigma_{X}} = \\beta_1 + \\beta_2 \\frac{Cov(X, Z)}{Var(X)}$\n",
        "\n",
        "若經濟發展與醜聞事件正相關 $(\\beta_2 > 0)$,\n",
        "\n",
        "且與法律制度亦正相關 $Cov(X, Z) > 0$,\n",
        "\n",
        "則 $\\widehat{\\beta}_1 > \\beta_1$。"
      ]
    },
    {
      "cell_type": "markdown",
      "metadata": {
        "id": "1vEK68Weu3Jm"
      },
      "source": [
        "# **Excercise 6.10**\n",
        "$(Y_i, X_{1i}, X_{2i})$ satisfy the assumptions in Key Concept 6.4; in addition, $Var(u_i|X_{1i}, X_{2i}) = 4$ and $Var(X_{1i}) = 6$. A random sample of size $n = 400$ is drawn from the population.\n",
        "1. Assume that $X_1$ and $X_2$ are uncorrelated. Compute the variance of $\\widehat{\\beta}_1$\n",
        "[Hint: Look at Equation (6.20) in Appendix 6.2.]\n",
        "2. Assume that $Corr(X_1, X_2) = 0.5$. Compute the variance of $\\widehat{\\beta}_1$.\n",
        "3. Comment on the following statements: “When $X_1$ and $X_2$ are correlated, the variance of $\\widehat{\\beta}_1$ is larger than it would be if $X_1$ and $X_2$ were uncorrelated. Thus, if you are interested in $\\beta_1$, it is best to leave $X_2$ out of the regression if it is correlated with $X_1$.”\n",
        "\n",
        "---\n",
        "\n",
        "\n",
        "\n"
      ]
    },
    {
      "cell_type": "markdown",
      "metadata": {
        "id": "XVDpVyT4Zx4O"
      },
      "source": [
        "## 6.10-1\n",
        "$\\sigma^2_{\\widehat{\\beta}_1} = \\frac{1}{n}\\left( \\frac{1}{1-\\rho^2_{X_1, X_2}} \\right) \\frac{\\sigma^2_u}{\\sigma^2_{X_1}}$\n",
        "\n",
        "$\\sigma^2_{\\widehat{\\beta}_1} = \\frac{1}{400} \\frac{1}{1-0} \\frac{4}{6} = 0.00167$"
      ]
    },
    {
      "cell_type": "markdown",
      "metadata": {
        "id": "Ifa2Ed80ZzH4"
      },
      "source": [
        "## 6.10-2\n",
        "$\\sigma^2_{\\widehat{\\beta}_1} = \\frac{1}{400} \\frac{1}{1-0.5^2} \\frac{4}{6} = 0.0022$"
      ]
    },
    {
      "cell_type": "markdown",
      "metadata": {
        "id": "pZr5nEKZZzaA"
      },
      "source": [
        "## 6.10-3"
      ]
    },
    {
      "cell_type": "markdown",
      "metadata": {
        "id": "LTnXAmIBa4QX"
      },
      "source": [
        "當 $|Corr(X_1, X_2)|$ 越大, $\\sigma^2_{\\widehat{\\beta}_1}$ 越大；\n",
        "\n",
        "但若將 $X_2$ 移除, 則會發生遺漏變數偏誤, \n",
        "\n",
        "故不宜將 $X_2$ 移除。"
      ]
    },
    {
      "cell_type": "markdown",
      "metadata": {
        "id": "-n9xinhmu7HT"
      },
      "source": [
        "# **Excercise 6.11**\n",
        "(Requires calculus) Consider the regression model\n",
        "$$Y_i = \\beta_1 X_{1i} + \\beta_2 X_{2i} + u_i$$\n",
        "for $i = 1, ..., n$. (Notice that there is no constant term in the regression.) Following analysis like that used in Appendix 4.2:\n",
        "1. Specify the least squares function that is minimized by OLS.\n",
        "2. Compute the partial derivatives of the objective function with respect to $b_1$ and $b_2$.\n",
        "3. Suppose that $\\sum_{i=1}^n X_{1i} X_{2i} = 0$. Show that $\\widehat{\\beta}_1 = \\frac{\\sum_{i=1}^n X_i Y_i}{\\sum_{i=1}^n X_i^2}$.\n",
        "4. Suppose that $\\sum_{i=1}^n X_{1i} X_{2i} \\neq 0$. Derive an expression for $\\widehat{\\beta}_1$ as a function\n",
        "of the data $(Y_i, X_{1i}, X_{2i})$, $i = 1, ..., n$.\n",
        "5. Suppose that the model includes an intercept: $Y_i = \\beta_0 + \\beta_1 X_{1i} + \\beta_2 X_{2i} + u_i.$\n",
        "Show that the least squares estimators satisfy $\\widehat{\\beta}_0 = \\bar{Y} - \\widehat{\\beta}_1 \\bar{X}_1 - \\widehat{\\beta}_2 \\bar{X}_2$.\n",
        "6. As in (e), suppose that the model contains an intercept. Also\n",
        "suppose that $\\sum_{i=1}^n(X_{1i}-\\bar{X}_1)(X_{2i}-\\bar{X}_2)=0$. Show that $\\widehat{\\beta}_1 = \\frac{\\sum_{i=1}^n(X_{1i}-\\bar{X}_1)(Y_{i}-\\bar{Y})}{\\sum_{i=1}^n(X_{1i}-\\bar{X}_1)^2}$. How does this compare to the OLS estimator of $\\beta_1$ from the regression that omits $X_2$?\n",
        "\n",
        "---\n",
        "\n"
      ]
    },
    {
      "cell_type": "markdown",
      "metadata": {
        "id": "Heo-WzzWbW1T"
      },
      "source": [
        "## 6.11-1\n",
        "Min $\\sum_{i=1}^n(Y_i - b_1 X_{1i} - b_2 X_{2i})^2$"
      ]
    },
    {
      "cell_type": "markdown",
      "metadata": {
        "id": "amZJrGcMbX7V"
      },
      "source": [
        "## 6.11-2"
      ]
    },
    {
      "cell_type": "markdown",
      "metadata": {
        "id": "5z-cXT-Xe_CH"
      },
      "source": [
        "$\\frac{\\partial\\sum_{i=1}^n(Y_i - b_1 X_{1i} - b_2 X_{2i})^2}{\\partial{b_1}} = 0 \\Rightarrow -2\\sum_{i=1}^n X_{1i}(Y_i - b_1 X_{1i} - b_2 X_{2i}) = 0$\n",
        "\n",
        "$\\frac{\\partial\\sum_{i=1}^n(Y_i - b_1 X_{1i} - b_2 X_{2i})^2}{\\partial{b_2}} = 0 \\Rightarrow -2\\sum_{i=1}^n X_{2i}(Y_i - b_1 X_{1i} - b_2 X_{2i}) = 0$"
      ]
    },
    {
      "cell_type": "markdown",
      "metadata": {
        "id": "PfspGYZMbYIZ"
      },
      "source": [
        "## 6.11-3"
      ]
    },
    {
      "cell_type": "markdown",
      "metadata": {
        "id": "Vreg0RS3f5Ct"
      },
      "source": [
        "由 6.11-2 得 $\\widehat{\\beta}_1 = \\frac{\\sum{X_{1i}Y_i}-\\widehat{\\beta}_2 \\sum{X_{1_i}X_{2_i}}}{\\sum X_{1i}^2}$, \n",
        "\n",
        "故當 $\\sum{X_{1_i}X_{2_i}} = 0$, $\\widehat{\\beta}_1 = \\frac{\\sum{X_{1i}Y_i}}{\\sum{X_i}^2}$"
      ]
    },
    {
      "cell_type": "markdown",
      "metadata": {
        "id": "fN0Pk3N3bYV0"
      },
      "source": [
        "## 6.11-4"
      ]
    },
    {
      "cell_type": "markdown",
      "metadata": {
        "id": "jiXZ8HU0nPbU"
      },
      "source": [
        "$\\widehat{\\beta}_2 = \\frac{\\sum{X_{1i}Y_i}-\\widehat{\\beta}_1 \\sum{X_{1i} X_{2i}}}{\\sum{X_{2i}}^2}$ 代入 $\\widehat{\\beta}_1$\n",
        "\n",
        "得 $\\widehat{\\beta}_1 = \\frac{\\sum{X_{1i}^2 - \\sum{X_{1i}Y_i} - \\sum{X_{1i}X_{2i}}}\\sum{X_{2i}Y_i}}{\\sum{X_{1i}^2} \\sum{X_{2i}^2} - (\\sum{X_{1i}X_{2i}})^2}$\n"
      ]
    },
    {
      "cell_type": "markdown",
      "metadata": {
        "id": "NEuHV8k-bZLG"
      },
      "source": [
        "## 6.11-5\n",
        "$\\frac{\\partial{\\sum(Y_i - b_0 - b_1X_{1i} - b_2X_{2i})^2}}{\\partial{b_0}} = 0$\n",
        "\n",
        "得 $\\beta_0 = \\bar{Y} - \\widehat{\\beta}_1 \\bar{X}_1 - \\widehat{\\beta}_2 \\bar{X}_2$"
      ]
    },
    {
      "cell_type": "markdown",
      "metadata": {
        "id": "yM4431IlbZXO"
      },
      "source": [
        "## 6.11-6\n",
        "當 $\\sum{(X_{1i}-\\bar{X}_1)(X_{2i}-\\bar{X}_2)} = 0$,\n",
        "\n",
        "$\\widehat{\\beta}_1 = \\frac{\\sum{(X_{1i}-\\bar{X}_1)(Y_{i}-\\bar{Y})}-\\widehat{\\beta}_2\\sum{(X_{1i}-\\bar{X}_1)(X_{2i}-\\bar{X}_2)}}{\\sum{(X_{1i}-\\bar{X}_1)^2}}$, by 6.11-3\n",
        "\n",
        "$\\widehat{\\beta}_1 = \\frac{\\sum{(X_{1i}-\\bar{X}_1)(Y_{i}-\\bar{Y})}}{\\sum{(X_{1i}-\\bar{X}_1)^2}}$, 與移除 $X_2$ 之估計式相同。"
      ]
    },
    {
      "cell_type": "markdown",
      "metadata": {
        "id": "MVfWaM-gu9X2"
      },
      "source": [
        "# **Excercise 6.12**\n",
        "A school district undertakes an experiment to estimate the effect of class size on test scores in second-grade classes. The district assigns 50% of its previous year’s first graders to small second-grade classes (18 students per classroom) and 50% to regular-size classes (21 students per classroom). Students new to the district are handled differently: 20% are randomly assigned to small classes and 80% to regular-size classes. At the end of the second-grade school year, each student is given a standardized exam. Let $Y_i$ denote the exam score for the $ith$ student, $X_i$ denote a binary variable that equals 1 if the student is assigned to a small class, and $W_i$ denote a binary variable that equals 1 if the student is newly enrolled. Let $\\beta_1$ denote the causal effect on test scores of reducing class size from regular to small.\n",
        "1. Consider the regression $Y_i = \\beta_0 + \\beta_1 X_i + u_i$. Do you think that $E(u_i|\u001fX_i)=0$? Is the OLS estimator of $\\beta_1$ unbiased and consistent? Explain.\n",
        "2. Consider the regression $Y_i = \\beta_0 + \\beta_1 X_i + \\beta_2 W_i + u_i$. Do you think that $E(u_i|X_i, W_i)$ depends on $X_i$? Is the OLS estimator of $\\beta_1$ unbiased and consistent? Explain. Do you think that $E(u_i|X_i, W_i)$ depends on $W_i$? Will the OLS estimator of $\\beta_2$ provide an unbiased and consistent estimate of the causal effect of transferring to a new school (that is, being a newly enrolled student)? Explain.\n",
        "\n",
        "---\n",
        "\n"
      ]
    },
    {
      "cell_type": "markdown",
      "metadata": {
        "id": "Rb3XwuqKt-0V"
      },
      "source": [
        "## 6.12-1\n",
        "由於 $W_i$ 可能影響 $Y_i$ 且與 $X_i$ 相關, 故若以 $Y_i = \\beta_0 + \\beta_1 X_i + u_i$ 模型, 將發生遺漏變數偏誤,。\n",
        "\n",
        "$\\Rightarrow$ $\\widehat{\\beta}_1$ is biased and inconsistent."
      ]
    },
    {
      "cell_type": "markdown",
      "metadata": {
        "id": "Xk7mNouku2gm"
      },
      "source": [
        "## 6.12-2"
      ]
    },
    {
      "cell_type": "markdown",
      "metadata": {
        "id": "_GpI7DIsu5gl"
      },
      "source": [
        "給定新舊生下, 大小班是隨機分配的,\n",
        "\n",
        "故 $E(u_i|X_i, W_i)$ will not depend on $X_i$,\n",
        "\n",
        "$\\widehat{\\beta}_1$ 不偏且一致。\n",
        "\n",
        "新舊生則非隨機分配, 可能受其他變數影響,\n",
        "\n",
        "故 $E(u_i|X_i, W_i)$ may depend on $W_i$,\n",
        "\n",
        "$\\widehat{\\beta}_2$ 偏誤且不一致。"
      ]
    },
    {
      "cell_type": "markdown",
      "metadata": {
        "id": "k-g43swGvAa1"
      },
      "source": [
        "# **Excercise 7.7**\n",
        "Question 6.5 reported the following regression (where standard errors have been added):\n",
        "$$\\widehat{Price} = 109.7 + 0.567BDR + 26.9Bath + 0.239Hsize + 0.005Lsize + 0.1Age - 56.9Poor$$\n",
        "\n",
        "$$\\bar{R}^2 = 0.85, SER = 45.8$$\n",
        "\n",
        "1. Is the coefficient on $BDR$ statistically significantly different from zero?\n",
        "2. Typically, four-bedroom houses sell for more than three-bedroom houses. Is this consistent with your answer to (a) and with the regression more generally?\n",
        "3. A homeowner purchases 2500 square feet from an adjacent lot. Construct a 95% confident interval for the change in the value of her house.\n",
        "4. Lot size is measured in square feet. Do you think that another scale might be more appropriate? Why or why not?\n",
        "5. The F-statistic for omitting BDR and Age from the regression is $F = 2.38$. Are the coefficients on $BDR$ and $Age$ statistically different from zero at the 10% level?\n",
        "\n",
        "---\n",
        "\n",
        "\n",
        "\n"
      ]
    },
    {
      "cell_type": "markdown",
      "metadata": {
        "id": "gLqj_KFUGLrk"
      },
      "source": [
        "## 7.7-1\n",
        "$t\\_statistic = \\frac{0.567}{1.23}=0.46 < 1.96$\n",
        "\n",
        "$\\Rightarrow 統計上不顯著異於0$"
      ]
    },
    {
      "cell_type": "markdown",
      "metadata": {
        "id": "otED1LrvGQfB"
      },
      "source": [
        "## 7.7-2\n",
        "由 7.7-1 知多增加一房, 價格不會有顯著差異, 故此敘述與上題不符。"
      ]
    },
    {
      "cell_type": "markdown",
      "metadata": {
        "id": "nhVLbBBrGQzz"
      },
      "source": [
        "## 7.7-3\n",
        "95% confidence interval for $\\beta_{Lsize} \\times 2500$:\n",
        "\n",
        "$[0.005 \\pm 1.96 \\times 0.00072] \\times 2500$\n",
        "\n",
        "$\\Rightarrow [8.97, 16.03]$"
      ]
    },
    {
      "cell_type": "markdown",
      "metadata": {
        "id": "9y43Lpx3GRAb"
      },
      "source": [
        "## 7.7-4\n",
        "原單位為 square feet, 係數為 0.005, 不易闡述,\n",
        "\n",
        "建議可將單位改為 thousand square feet, 係數將變為5, 較易闡述。"
      ]
    },
    {
      "cell_type": "markdown",
      "metadata": {
        "id": "bQUqUPAfGRT1"
      },
      "source": [
        "## 7.7-5\n",
        "$\\left\\{ \\begin{array}{ll}\n",
        "H_0: \\beta_{BDR} = \\beta_{AGE} = 0  \\\\\n",
        "H_1: \\text{Not all equal to 0}\n",
        "\\end{array} \\right.$\n",
        "\n",
        "$F = 2.58 > F(2, \\infty) = 2.30$,\n",
        "\n",
        "$\\Rightarrow$ Reject $H_0$, $BDR$ 與 $AGE$ 效果不皆為 0。"
      ]
    },
    {
      "cell_type": "markdown",
      "metadata": {
        "id": "sPk75RMNvCP2"
      },
      "source": [
        "# **E6.1**\n",
        "Use the **Birthweight_Smoking** data set introduced in Empirical Exercise E5.3 to answer the following questions.\n",
        "1. Regress $Birthweight$ on $Smoker$. What is the estimated effect of smoking on birth weight?\n",
        "2. Regress $Birthweight$ on $Smoker, Alcohol$, and $Nprevist$.\n",
        " - Using the two conditions in Key Concept 6.1, explain why the\n",
        "exclusion of $Alcohol$ and $Nprevist$ could lead to omitted variable bias in the regression estimated in (a).\n",
        " - Is the estimated effect of smoking on birth weight substantially different from the regression that excludes  $Alcohol$ and $Nprevist$? Does the regression in (a) seem to suffer from omitted variable bias?\n",
        " - Jane smoked during her pregnancy, did not drink alcohol, and had 8 prenatal care visits. Use the regression to predict the birth weight of Jane’s child.\n",
        " - Compute $R^2$ and $\\bar{R}^2$. Why are they so similar?\n",
        " - How should you interpret the coefficient on $Nprevist$? Does the coefficient measure a causal effect of prenatal visits on birth weight? If not, what does it measure?\n",
        "3. Estimate the coefficient on $Smoking$ for the multiple regression model in (b), using the three-step process in Appendix 6.3 (the Frisch–Waugh theorem). Verify that the three-step process yields the same estimated coefficient for $Smoking$ as that obtained in (b).\n",
        "4. An alternative way to control for prenatal visits is to use the binary variables $Tripre0$ through $Tripre3$. Regress $Birthweight$ on $Smoker, Alcohol, Tripre0, Tripre2$, and $Tripre3$.\n",
        " - Why is $Tripre1$ excluded from the regression? What would happen if you included it in the regression?\n",
        " - The estimated coefficient on $Tripre0$ is large and negative. What does this coefficient measure? Interpret its value.\n",
        " - Interpret the value of the estimated coefficients on $Tripre2$ and $Tripre3$.\n",
        " - Does the regression in (d) explain a larger fraction of the variance in birth weight than the regression in (b)?\n",
        "\n",
        "---\n",
        "\n"
      ]
    },
    {
      "cell_type": "markdown",
      "metadata": {
        "id": "DKiFA991XApP"
      },
      "source": [
        "下載資料"
      ]
    },
    {
      "cell_type": "code",
      "metadata": {
        "id": "1dIHhjq4XDEG"
      },
      "source": [
        "!gdown --id '1weATj7bNNpFldZ-001ZOoqgABU8X640W' --output 'birthweight_smoking.xlsx'"
      ],
      "execution_count": null,
      "outputs": []
    },
    {
      "cell_type": "code",
      "metadata": {
        "id": "B24yBu3nXOE4"
      },
      "source": [
        "import numpy as np\n",
        "import pandas as pd\n",
        "import statsmodels.formula.api as smf"
      ],
      "execution_count": null,
      "outputs": []
    },
    {
      "cell_type": "code",
      "metadata": {
        "id": "YwfR_u_QXbFO"
      },
      "source": [
        "birth = pd.read_excel('birthweight_smoking.xlsx')\n",
        "birth"
      ],
      "execution_count": null,
      "outputs": []
    },
    {
      "cell_type": "markdown",
      "metadata": {
        "id": "fFkVvSJZaPD_"
      },
      "source": [
        "## E6.1-1"
      ]
    },
    {
      "cell_type": "code",
      "metadata": {
        "colab": {
          "base_uri": "https://localhost:8080/"
        },
        "id": "jf7vFWtraVVy",
        "outputId": "e08ac535-af5f-4136-8326-8686c2e8360d"
      },
      "source": [
        "reg_1 = smf.ols(formula='birthweight~smoker', data=birth)\n",
        "results_1 = reg_1.fit(cov_type='HC1')\n",
        "print(results_1.summary())"
      ],
      "execution_count": null,
      "outputs": [
        {
          "output_type": "stream",
          "text": [
            "                            OLS Regression Results                            \n",
            "==============================================================================\n",
            "Dep. Variable:            birthweight   R-squared:                       0.029\n",
            "Model:                            OLS   Adj. R-squared:                  0.028\n",
            "Method:                 Least Squares   F-statistic:                     89.21\n",
            "Date:                Thu, 25 Mar 2021   Prob (F-statistic):           6.90e-21\n",
            "Time:                        14:29:01   Log-Likelihood:                -23364.\n",
            "No. Observations:                3000   AIC:                         4.673e+04\n",
            "Df Residuals:                    2998   BIC:                         4.674e+04\n",
            "Df Model:                           1                                         \n",
            "Covariance Type:                  HC1                                         \n",
            "==============================================================================\n",
            "                 coef    std err          z      P>|z|      [0.025      0.975]\n",
            "------------------------------------------------------------------------------\n",
            "Intercept   3432.0600     11.891    288.638      0.000    3408.755    3455.365\n",
            "smoker      -253.2284     26.810     -9.445      0.000    -305.776    -200.681\n",
            "==============================================================================\n",
            "Omnibus:                      473.891   Durbin-Watson:                   1.973\n",
            "Prob(Omnibus):                  0.000   Jarque-Bera (JB):             1247.472\n",
            "Skew:                          -0.858   Prob(JB):                    1.30e-271\n",
            "Kurtosis:                       5.652   Cond. No.                         2.64\n",
            "==============================================================================\n",
            "\n",
            "Warnings:\n",
            "[1] Standard Errors are heteroscedasticity robust (HC1)\n"
          ],
          "name": "stdout"
        }
      ]
    },
    {
      "cell_type": "markdown",
      "metadata": {
        "id": "drFeN_UJyhnu"
      },
      "source": [
        "懷孕時, 若有抽菸, 出生嬰兒的體重平均下降 253.23 單位。"
      ]
    },
    {
      "cell_type": "markdown",
      "metadata": {
        "id": "jzXZvBehavn1"
      },
      "source": [
        "## E6.1-2"
      ]
    },
    {
      "cell_type": "code",
      "metadata": {
        "colab": {
          "base_uri": "https://localhost:8080/"
        },
        "id": "RrD5Rl6ZazQU",
        "outputId": "cdfaa154-b435-4cd7-ae73-76e13676b718"
      },
      "source": [
        "reg_2 = smf.ols(formula='birthweight~smoker+alcohol+nprevist', data=birth)\n",
        "results_2 = reg_2.fit(cov_type='HC1')\n",
        "print(results_2.summary())"
      ],
      "execution_count": null,
      "outputs": [
        {
          "output_type": "stream",
          "text": [
            "                            OLS Regression Results                            \n",
            "==============================================================================\n",
            "Dep. Variable:            birthweight   R-squared:                       0.073\n",
            "Model:                            OLS   Adj. R-squared:                  0.072\n",
            "Method:                 Least Squares   F-statistic:                     59.48\n",
            "Date:                Thu, 25 Mar 2021   Prob (F-statistic):           2.38e-37\n",
            "Time:                        14:29:01   Log-Likelihood:                -23294.\n",
            "No. Observations:                3000   AIC:                         4.660e+04\n",
            "Df Residuals:                    2996   BIC:                         4.662e+04\n",
            "Df Model:                           3                                         \n",
            "Covariance Type:                  HC1                                         \n",
            "==============================================================================\n",
            "                 coef    std err          z      P>|z|      [0.025      0.975]\n",
            "------------------------------------------------------------------------------\n",
            "Intercept   3051.2486     43.714     69.800      0.000    2965.570    3136.927\n",
            "smoker      -217.5801     26.108     -8.334      0.000    -268.750    -166.410\n",
            "alcohol      -30.4913     72.597     -0.420      0.674    -172.778     111.796\n",
            "nprevist      34.0699      3.608      9.442      0.000      26.998      41.142\n",
            "==============================================================================\n",
            "Omnibus:                      374.095   Durbin-Watson:                   1.974\n",
            "Prob(Omnibus):                  0.000   Jarque-Bera (JB):              869.220\n",
            "Skew:                          -0.729   Prob(JB):                    1.78e-189\n",
            "Kurtosis:                       5.197   Cond. No.                         85.2\n",
            "==============================================================================\n",
            "\n",
            "Warnings:\n",
            "[1] Standard Errors are heteroscedasticity robust (HC1)\n"
          ],
          "name": "stdout"
        }
      ]
    },
    {
      "cell_type": "markdown",
      "metadata": {
        "id": "xw4U_mQsy0ot"
      },
      "source": [
        "### E6.1-2(i)\n",
        "$alcohol$ 及 $nprevist$ 與 $smoker$ 相關, 且對 $birthweight$ 有影響, \n",
        "\n",
        "故為遺漏變數, 6.1-1有遺漏變數偏誤問題。"
      ]
    },
    {
      "cell_type": "markdown",
      "metadata": {
        "id": "MTOs-JtMy1Ca"
      },
      "source": [
        "### E6.1-2(ii)\n",
        "6.1-1 有遺漏變數問題, 故與本題不同。"
      ]
    },
    {
      "cell_type": "markdown",
      "metadata": {
        "id": "_S55eZlhz_Ea"
      },
      "source": [
        "### E6.1-2(iii)\n",
        "$\\widehat{birthweight} = 3051.24-217.58\\times1-30.49\\times0+34.07\\times8=3106.22$"
      ]
    },
    {
      "cell_type": "markdown",
      "metadata": {
        "id": "vAjiLTd_y1Uz"
      },
      "source": [
        "### E6.1-2(iv)\n",
        "$\\bar{R}^2 = 1 - \\frac{n-1}{n-k} \\frac{SSR}{TSS} = 1 - \\frac{n-1}{n-k}(1 - R^2)$\n",
        "\n",
        "當 $n$ 很大時, 兩者相近。"
      ]
    },
    {
      "cell_type": "markdown",
      "metadata": {
        "id": "BoHtgGGi0bFS"
      },
      "source": [
        "### E6.1-2(v)\n",
        "$npervist$ 增加一單位, $birthweight$ 平均增加 $34.07$ 單位。\n",
        "\n",
        "由於 $npervist$ 為 control variable, 故不具因果關係, 僅為避免遺漏變數狀況發生。"
      ]
    },
    {
      "cell_type": "markdown",
      "metadata": {
        "id": "sd7kntp8bZMa"
      },
      "source": [
        "## E6.1-3"
      ]
    },
    {
      "cell_type": "markdown",
      "metadata": {
        "id": "bvhQ8R5Q0_4o"
      },
      "source": [
        "1. Regress $X_1$ on $X_2,X_3,...,X_n$, and let $\\tilde{X}_1$ denote the residuals from this regression.\n",
        "2. Regress $Y_1$ on $X_2,X_3,...,X_n$, and let $\\tilde{Y}$ denote the residuals from this regression.\n",
        "3. Regress $\\tilde{Y}$ on $\\tilde{X}_1$."
      ]
    },
    {
      "cell_type": "code",
      "metadata": {
        "colab": {
          "base_uri": "https://localhost:8080/"
        },
        "id": "R67Xrp4_boLY",
        "outputId": "7a173394-2d9c-4a7c-c953-deb4668326ec"
      },
      "source": [
        "reg_smoker = smf.ols(formula='smoker~alcohol+nprevist', data=birth)\n",
        "results_smoker = reg_smoker.fit(cov_type='HC1')\n",
        "x_pred = results_smoker.predict(birth[['alcohol','nprevist']])\n",
        "x_res = birth['smoker'] - x_pred\n",
        "\n",
        "reg_birth = smf.ols(formula='birthweight~alcohol+nprevist', data=birth)\n",
        "results_birth = reg_birth.fit(cov_type='HC1')\n",
        "y_pred = results_birth.predict(birth[['alcohol','nprevist']])\n",
        "y_res = birth['birthweight'] - y_pred\n",
        "\n",
        "reg_3 = smf.ols(formula='y_res~x_res', data=birth)\n",
        "results_3 = reg_3.fit(cov_type='HC1')\n",
        "print(results_3.summary())"
      ],
      "execution_count": null,
      "outputs": [
        {
          "output_type": "stream",
          "text": [
            "                            OLS Regression Results                            \n",
            "==============================================================================\n",
            "Dep. Variable:                  y_res   R-squared:                       0.022\n",
            "Model:                            OLS   Adj. R-squared:                  0.021\n",
            "Method:                 Least Squares   F-statistic:                     69.50\n",
            "Date:                Thu, 25 Mar 2021   Prob (F-statistic):           1.15e-16\n",
            "Time:                        14:29:02   Log-Likelihood:                -23294.\n",
            "No. Observations:                3000   AIC:                         4.659e+04\n",
            "Df Residuals:                    2998   BIC:                         4.660e+04\n",
            "Df Model:                           1                                         \n",
            "Covariance Type:                  HC1                                         \n",
            "==============================================================================\n",
            "                 coef    std err          z      P>|z|      [0.025      0.975]\n",
            "------------------------------------------------------------------------------\n",
            "Intercept  -8.935e-13     10.412  -8.58e-14      1.000     -20.407      20.407\n",
            "x_res       -217.5801     26.099     -8.337      0.000    -268.733    -166.427\n",
            "==============================================================================\n",
            "Omnibus:                      374.095   Durbin-Watson:                   1.974\n",
            "Prob(Omnibus):                  0.000   Jarque-Bera (JB):              869.220\n",
            "Skew:                          -0.729   Prob(JB):                    1.78e-189\n",
            "Kurtosis:                       5.197   Cond. No.                         2.56\n",
            "==============================================================================\n",
            "\n",
            "Warnings:\n",
            "[1] Standard Errors are heteroscedasticity robust (HC1)\n"
          ],
          "name": "stdout"
        }
      ]
    },
    {
      "cell_type": "markdown",
      "metadata": {
        "id": "pBMUOHok1vFa"
      },
      "source": [
        "$smoker$ 的估算係數與 6.1-2 相同, 皆為 $-217.5801$。"
      ]
    },
    {
      "cell_type": "markdown",
      "metadata": {
        "id": "b6LLTK7Mj1Zi"
      },
      "source": [
        "## E6.1-4"
      ]
    },
    {
      "cell_type": "code",
      "metadata": {
        "colab": {
          "base_uri": "https://localhost:8080/"
        },
        "id": "0zH021c_j38I",
        "outputId": "c082d23f-6bdc-4d3c-9ef7-401b32f9cc54"
      },
      "source": [
        "reg_4 = smf.ols(formula='birthweight~smoker+alcohol+tripre0+tripre2+tripre3', data=birth)\n",
        "results_4 = reg_4.fit(cov_type='HC1')\n",
        "print(results_4.summary())"
      ],
      "execution_count": null,
      "outputs": [
        {
          "output_type": "stream",
          "text": [
            "                            OLS Regression Results                            \n",
            "==============================================================================\n",
            "Dep. Variable:            birthweight   R-squared:                       0.046\n",
            "Model:                            OLS   Adj. R-squared:                  0.045\n",
            "Method:                 Least Squares   F-statistic:                     23.22\n",
            "Date:                Thu, 25 Mar 2021   Prob (F-statistic):           5.99e-23\n",
            "Time:                        14:29:02   Log-Likelihood:                -23336.\n",
            "No. Observations:                3000   AIC:                         4.668e+04\n",
            "Df Residuals:                    2994   BIC:                         4.672e+04\n",
            "Df Model:                           5                                         \n",
            "Covariance Type:                  HC1                                         \n",
            "==============================================================================\n",
            "                 coef    std err          z      P>|z|      [0.025      0.975]\n",
            "------------------------------------------------------------------------------\n",
            "Intercept   3454.5493     12.482    276.770      0.000    3430.086    3479.013\n",
            "smoker      -228.8476     26.549     -8.620      0.000    -280.882    -176.813\n",
            "alcohol      -15.1000     69.703     -0.217      0.828    -151.715     121.516\n",
            "tripre0     -697.9687    146.579     -4.762      0.000    -985.258    -410.680\n",
            "tripre2     -100.8373     31.553     -3.196      0.001    -162.680     -38.995\n",
            "tripre3     -136.9553     67.696     -2.023      0.043    -269.637      -4.274\n",
            "==============================================================================\n",
            "Omnibus:                      443.968   Durbin-Watson:                   1.976\n",
            "Prob(Omnibus):                  0.000   Jarque-Bera (JB):             1157.634\n",
            "Skew:                          -0.811   Prob(JB):                    4.20e-252\n",
            "Kurtosis:                       5.575   Cond. No.                         10.5\n",
            "==============================================================================\n",
            "\n",
            "Warnings:\n",
            "[1] Standard Errors are heteroscedasticity robust (HC1)\n"
          ],
          "name": "stdout"
        }
      ]
    },
    {
      "cell_type": "markdown",
      "metadata": {
        "id": "11zV2dq-2EBL"
      },
      "source": [
        "### E6.1-4(i)\n",
        "若將 $tripre1$ 加入, 將產生完全共線性問題, 故須將其擇一排除。"
      ]
    },
    {
      "cell_type": "markdown",
      "metadata": {
        "id": "LVQ7QZVo2EY-"
      },
      "source": [
        "### E6.1-4(ii)\n",
        "以 $tripre1$ 為基準類,\n",
        "\n",
        "$tripre0$ 的係數代表其與基本類 $birthweight$ 平均差 $-697.97$ 單位。"
      ]
    },
    {
      "cell_type": "markdown",
      "metadata": {
        "id": "3TIKJZWo2EoA"
      },
      "source": [
        "### E6.1-4(iii)\n",
        "$tripre2$ 與基準類平均差 $-100.84$ 單位。\n",
        "\n",
        "$tripre3$ 與基準類平均差 $-139.96$ 單位。"
      ]
    },
    {
      "cell_type": "markdown",
      "metadata": {
        "id": "uLJtXZD_2G9g"
      },
      "source": [
        "### E6.1-4(iv)\n",
        "6.1-2 的 $R^2$, $\\bar{R}^2$ 皆較本題高, 故 6.1-2 迴歸解釋變異較本題高。"
      ]
    },
    {
      "cell_type": "markdown",
      "metadata": {
        "id": "EBksUq7YvHy-"
      },
      "source": [
        "\n",
        "# **E7.2**\n",
        "In the empirical exercises on earning and height in Chapters 4 and 5, you estimated a relatively large and statistically significant effect of a worker’s height on his or her earnings. One explanation for this result is omitted variable\n",
        "bias: Height is correlated with an omitted factor that affects earnings. For example, Case and Paxson (2008) suggest that cognitive ability (or intelligence) is the omitted factor. The mechanism they describe is straightforward: Poor nutrition and other harmful environmental factors in utero and in early childhood have, on average, deleterious effects on both cognitive and physical development. Cognitive ability affects earnings later in life and thus is an omitted variable in the regression.\n",
        "1. Suppose that the mechanism described above is correct. Explain how this leads to omitted variable bias in the OLS regression of $Earnings$ $on$ $Height$. Does the bias lead the estimated slope to be too large or too small? [Hint: Review Equation (6.1).]\n",
        "\n",
        "If the mechanism described above is correct, the estimated effect of height on earnings should disappear if a variable measuring cognitive ability is included in the regression. Unfortunately, there isn’t a direct measure of cognitive\n",
        "ability in the data set, but the data set does include years of education for each individual. Because students with higher cognitive ability are more likely to attend school longer, years of education might serve as a control variable for cognitive ability; in this case, including education in the regression will eliminate, or at least attenuate, the omitted variable bias problem.\n",
        "\n",
        "Use the years of education variable $(educ)$ to construct four indicator variables for whether a worker has less than a high school diploma ($LT\\_HS = 1$ if $educ < 12$, $0$ otherwise), a high school diploma ($HS = 1$ if $educ = 12$, $0$ otherwise), some college ($Some\\_Col = 1$ if $12 < educ < 16$, $0$ otherwise), or a bachelor’s degree or higher ($College = 1$ if $educ \\geq 16$, 0 otherwise).\n",
        "\n",
        "2. Focusing first on women only, run a regression of (1) $Earnings$ on $Height$ and (2) $Earnings$ on $Height$, including $LT\\_HS$, $HS$, and $Some\\_Col$ as control variables.\n",
        " - Compare the estimated coefficient on $Height$ in regressions (1) and (2). Is there a large change in the coefficient? Has it changed in a way consistent with the cognitive ability explanation? Explain.\n",
        " - The regression omits the control variable $College$. Why?\n",
        " - Test the joint null hypothesis that the coefficients on the education variables are equal to 0.\n",
        " - Discuss the values of the estimated coefficients on $LT\\_HS$, $HS$, and $Some\\_Col$. (Each of the estimated coefficients is negative, and the coefficient on $LT\\_HS$ is more negative than the coefficient on $HS$, which in turn is more negative than the coefficient on $Some\\_Col$. Why? What do the coefficients measure?)\n",
        "\n",
        "3. Repeat (b), using data for men.\n",
        "\n",
        "\n",
        "---\n"
      ]
    },
    {
      "cell_type": "code",
      "metadata": {
        "id": "4u78f-uylp1A",
        "colab": {
          "base_uri": "https://localhost:8080/"
        },
        "outputId": "a5627496-080e-4af0-b2a4-0752242de48a"
      },
      "source": [
        "!gdown --id '1GBxKw-PZTgwaVwb83wru6IiP0BKPTgHu' --output earnings_height.xlsx "
      ],
      "execution_count": null,
      "outputs": [
        {
          "output_type": "stream",
          "text": [
            "Downloading...\n",
            "From: https://drive.google.com/uc?id=1GBxKw-PZTgwaVwb83wru6IiP0BKPTgHu\n",
            "To: /content/earnings_height.xlsx\n",
            "\r  0% 0.00/710k [00:00<?, ?B/s]\r100% 710k/710k [00:00<00:00, 93.3MB/s]\n"
          ],
          "name": "stdout"
        }
      ]
    },
    {
      "cell_type": "code",
      "metadata": {
        "colab": {
          "base_uri": "https://localhost:8080/",
          "height": 415
        },
        "id": "qPl_r2GEllBL",
        "outputId": "951ab25f-63d7-4a58-a970-93c9530aeacf"
      },
      "source": [
        "earnings = pd.read_excel('earnings_height.xlsx')\n",
        "earnings"
      ],
      "execution_count": null,
      "outputs": [
        {
          "output_type": "execute_result",
          "data": {
            "text/html": [
              "<div>\n",
              "<style scoped>\n",
              "    .dataframe tbody tr th:only-of-type {\n",
              "        vertical-align: middle;\n",
              "    }\n",
              "\n",
              "    .dataframe tbody tr th {\n",
              "        vertical-align: top;\n",
              "    }\n",
              "\n",
              "    .dataframe thead th {\n",
              "        text-align: right;\n",
              "    }\n",
              "</style>\n",
              "<table border=\"1\" class=\"dataframe\">\n",
              "  <thead>\n",
              "    <tr style=\"text-align: right;\">\n",
              "      <th></th>\n",
              "      <th>sex</th>\n",
              "      <th>age</th>\n",
              "      <th>mrd</th>\n",
              "      <th>educ</th>\n",
              "      <th>cworker</th>\n",
              "      <th>region</th>\n",
              "      <th>race</th>\n",
              "      <th>earnings</th>\n",
              "      <th>height</th>\n",
              "      <th>weight</th>\n",
              "      <th>occupation</th>\n",
              "    </tr>\n",
              "  </thead>\n",
              "  <tbody>\n",
              "    <tr>\n",
              "      <th>0</th>\n",
              "      <td>0</td>\n",
              "      <td>48</td>\n",
              "      <td>1</td>\n",
              "      <td>13</td>\n",
              "      <td>1</td>\n",
              "      <td>3</td>\n",
              "      <td>1</td>\n",
              "      <td>84054.750000</td>\n",
              "      <td>65</td>\n",
              "      <td>133</td>\n",
              "      <td>1</td>\n",
              "    </tr>\n",
              "    <tr>\n",
              "      <th>1</th>\n",
              "      <td>0</td>\n",
              "      <td>41</td>\n",
              "      <td>6</td>\n",
              "      <td>12</td>\n",
              "      <td>1</td>\n",
              "      <td>2</td>\n",
              "      <td>1</td>\n",
              "      <td>14021.394531</td>\n",
              "      <td>65</td>\n",
              "      <td>155</td>\n",
              "      <td>1</td>\n",
              "    </tr>\n",
              "    <tr>\n",
              "      <th>2</th>\n",
              "      <td>0</td>\n",
              "      <td>26</td>\n",
              "      <td>1</td>\n",
              "      <td>16</td>\n",
              "      <td>1</td>\n",
              "      <td>1</td>\n",
              "      <td>1</td>\n",
              "      <td>84054.750000</td>\n",
              "      <td>60</td>\n",
              "      <td>108</td>\n",
              "      <td>1</td>\n",
              "    </tr>\n",
              "    <tr>\n",
              "      <th>3</th>\n",
              "      <td>0</td>\n",
              "      <td>37</td>\n",
              "      <td>1</td>\n",
              "      <td>16</td>\n",
              "      <td>1</td>\n",
              "      <td>2</td>\n",
              "      <td>1</td>\n",
              "      <td>84054.750000</td>\n",
              "      <td>67</td>\n",
              "      <td>150</td>\n",
              "      <td>1</td>\n",
              "    </tr>\n",
              "    <tr>\n",
              "      <th>4</th>\n",
              "      <td>0</td>\n",
              "      <td>35</td>\n",
              "      <td>6</td>\n",
              "      <td>16</td>\n",
              "      <td>1</td>\n",
              "      <td>1</td>\n",
              "      <td>1</td>\n",
              "      <td>28560.386719</td>\n",
              "      <td>68</td>\n",
              "      <td>180</td>\n",
              "      <td>1</td>\n",
              "    </tr>\n",
              "    <tr>\n",
              "      <th>...</th>\n",
              "      <td>...</td>\n",
              "      <td>...</td>\n",
              "      <td>...</td>\n",
              "      <td>...</td>\n",
              "      <td>...</td>\n",
              "      <td>...</td>\n",
              "      <td>...</td>\n",
              "      <td>...</td>\n",
              "      <td>...</td>\n",
              "      <td>...</td>\n",
              "      <td>...</td>\n",
              "    </tr>\n",
              "    <tr>\n",
              "      <th>17865</th>\n",
              "      <td>1</td>\n",
              "      <td>47</td>\n",
              "      <td>6</td>\n",
              "      <td>12</td>\n",
              "      <td>1</td>\n",
              "      <td>1</td>\n",
              "      <td>1</td>\n",
              "      <td>18168.841797</td>\n",
              "      <td>70</td>\n",
              "      <td>150</td>\n",
              "      <td>15</td>\n",
              "    </tr>\n",
              "    <tr>\n",
              "      <th>17866</th>\n",
              "      <td>1</td>\n",
              "      <td>44</td>\n",
              "      <td>1</td>\n",
              "      <td>12</td>\n",
              "      <td>2</td>\n",
              "      <td>4</td>\n",
              "      <td>1</td>\n",
              "      <td>84054.750000</td>\n",
              "      <td>74</td>\n",
              "      <td>230</td>\n",
              "      <td>15</td>\n",
              "    </tr>\n",
              "    <tr>\n",
              "      <th>17867</th>\n",
              "      <td>1</td>\n",
              "      <td>30</td>\n",
              "      <td>1</td>\n",
              "      <td>12</td>\n",
              "      <td>1</td>\n",
              "      <td>3</td>\n",
              "      <td>1</td>\n",
              "      <td>16081.587891</td>\n",
              "      <td>65</td>\n",
              "      <td>162</td>\n",
              "      <td>15</td>\n",
              "    </tr>\n",
              "    <tr>\n",
              "      <th>17868</th>\n",
              "      <td>1</td>\n",
              "      <td>46</td>\n",
              "      <td>3</td>\n",
              "      <td>12</td>\n",
              "      <td>4</td>\n",
              "      <td>4</td>\n",
              "      <td>1</td>\n",
              "      <td>84054.750000</td>\n",
              "      <td>68</td>\n",
              "      <td>190</td>\n",
              "      <td>15</td>\n",
              "    </tr>\n",
              "    <tr>\n",
              "      <th>17869</th>\n",
              "      <td>1</td>\n",
              "      <td>37</td>\n",
              "      <td>4</td>\n",
              "      <td>9</td>\n",
              "      <td>6</td>\n",
              "      <td>2</td>\n",
              "      <td>1</td>\n",
              "      <td>12954.765625</td>\n",
              "      <td>68</td>\n",
              "      <td>150</td>\n",
              "      <td>15</td>\n",
              "    </tr>\n",
              "  </tbody>\n",
              "</table>\n",
              "<p>17870 rows × 11 columns</p>\n",
              "</div>"
            ],
            "text/plain": [
              "       sex  age  mrd  educ  ...      earnings  height  weight  occupation\n",
              "0        0   48    1    13  ...  84054.750000      65     133           1\n",
              "1        0   41    6    12  ...  14021.394531      65     155           1\n",
              "2        0   26    1    16  ...  84054.750000      60     108           1\n",
              "3        0   37    1    16  ...  84054.750000      67     150           1\n",
              "4        0   35    6    16  ...  28560.386719      68     180           1\n",
              "...    ...  ...  ...   ...  ...           ...     ...     ...         ...\n",
              "17865    1   47    6    12  ...  18168.841797      70     150          15\n",
              "17866    1   44    1    12  ...  84054.750000      74     230          15\n",
              "17867    1   30    1    12  ...  16081.587891      65     162          15\n",
              "17868    1   46    3    12  ...  84054.750000      68     190          15\n",
              "17869    1   37    4     9  ...  12954.765625      68     150          15\n",
              "\n",
              "[17870 rows x 11 columns]"
            ]
          },
          "metadata": {
            "tags": []
          },
          "execution_count": 9
        }
      ]
    },
    {
      "cell_type": "markdown",
      "metadata": {
        "id": "BU2nXu5Amtkv"
      },
      "source": [
        "建立變數"
      ]
    },
    {
      "cell_type": "code",
      "metadata": {
        "id": "DboTqINpmwho"
      },
      "source": [
        "earnings['LT_HF'] = earnings['educ'].apply(lambda x: 1 if x < 12 else 0)\n",
        "earnings['HS'] = earnings['educ'].apply(lambda x: 1 if x == 12 else 0)\n",
        "earnings['College'] = earnings['educ'].apply(lambda x: 1 if x >= 16 else 0)\n",
        "earnings['Some_Col'] = earnings['educ'].apply(lambda x: 1 if x > 12 and x < 16 else 0)"
      ],
      "execution_count": null,
      "outputs": []
    },
    {
      "cell_type": "markdown",
      "metadata": {
        "id": "_tp5-liavI8_"
      },
      "source": [
        "## E7.2-1"
      ]
    },
    {
      "cell_type": "markdown",
      "metadata": {
        "id": "NlEc2u-EmNAV"
      },
      "source": [
        "## E7.2-2"
      ]
    },
    {
      "cell_type": "markdown",
      "metadata": {
        "id": "9y2Cte4er3It"
      },
      "source": [
        "### E7.2-2(i)"
      ]
    },
    {
      "cell_type": "code",
      "metadata": {
        "colab": {
          "base_uri": "https://localhost:8080/"
        },
        "id": "jlcSIeoaliGP",
        "outputId": "32aee2c0-d25d-4a82-d0da-b09020899c0a"
      },
      "source": [
        "women = earnings[earnings['sex'] == 0]\n",
        "reg_2a = smf.ols(formula='earnings~height', data=women)\n",
        "results_2a = reg_2a.fit(cov_type='HC1')\n",
        "print(results_2a.summary())"
      ],
      "execution_count": null,
      "outputs": [
        {
          "output_type": "stream",
          "text": [
            "                            OLS Regression Results                            \n",
            "==============================================================================\n",
            "Dep. Variable:               earnings   R-squared:                       0.003\n",
            "Model:                            OLS   Adj. R-squared:                  0.003\n",
            "Method:                 Least Squares   F-statistic:                     27.44\n",
            "Date:                Thu, 25 Mar 2021   Prob (F-statistic):           1.65e-07\n",
            "Time:                        14:29:05   Log-Likelihood:            -1.1585e+05\n",
            "No. Observations:                9974   AIC:                         2.317e+05\n",
            "Df Residuals:                    9972   BIC:                         2.317e+05\n",
            "Df Model:                           1                                         \n",
            "Covariance Type:                  HC1                                         \n",
            "==============================================================================\n",
            "                 coef    std err          z      P>|z|      [0.025      0.975]\n",
            "------------------------------------------------------------------------------\n",
            "Intercept   1.265e+04   6299.151      2.008      0.045     304.748     2.5e+04\n",
            "height       511.2222     97.585      5.239      0.000     319.960     702.484\n",
            "==============================================================================\n",
            "Omnibus:                    32985.324   Durbin-Watson:                   1.703\n",
            "Prob(Omnibus):                  0.000   Jarque-Bera (JB):             1046.226\n",
            "Skew:                           0.458   Prob(JB):                    6.53e-228\n",
            "Kurtosis:                       1.704   Cond. No.                     1.54e+03\n",
            "==============================================================================\n",
            "\n",
            "Warnings:\n",
            "[1] Standard Errors are heteroscedasticity robust (HC1)\n",
            "[2] The condition number is large, 1.54e+03. This might indicate that there are\n",
            "strong multicollinearity or other numerical problems.\n"
          ],
          "name": "stdout"
        }
      ]
    },
    {
      "cell_type": "code",
      "metadata": {
        "colab": {
          "base_uri": "https://localhost:8080/"
        },
        "id": "CNka9FakmN5v",
        "outputId": "3e01c860-d674-4ffb-f94d-e9212e3430e3"
      },
      "source": [
        "reg_2b = smf.ols(formula='earnings~height+LT_HF+HS+Some_Col', data=women)\n",
        "results_2b = reg_2b.fit(cov_type='HC1')\n",
        "print(results_2b.summary())"
      ],
      "execution_count": null,
      "outputs": [
        {
          "output_type": "stream",
          "text": [
            "                            OLS Regression Results                            \n",
            "==============================================================================\n",
            "Dep. Variable:               earnings   R-squared:                       0.138\n",
            "Model:                            OLS   Adj. R-squared:                  0.138\n",
            "Method:                 Least Squares   F-statistic:                     447.5\n",
            "Date:                Thu, 25 Mar 2021   Prob (F-statistic):               0.00\n",
            "Time:                        14:29:06   Log-Likelihood:            -1.1512e+05\n",
            "No. Observations:                9974   AIC:                         2.302e+05\n",
            "Df Residuals:                    9969   BIC:                         2.303e+05\n",
            "Df Model:                           4                                         \n",
            "Covariance Type:                  HC1                                         \n",
            "==============================================================================\n",
            "                 coef    std err          z      P>|z|      [0.025      0.975]\n",
            "------------------------------------------------------------------------------\n",
            "Intercept   5.075e+04   6003.819      8.453      0.000     3.9e+04    6.25e+04\n",
            "height       135.1421     92.316      1.464      0.143     -45.795     316.079\n",
            "LT_HF      -3.186e+04    834.959    -38.155      0.000   -3.35e+04   -3.02e+04\n",
            "HS         -2.042e+04    637.806    -32.013      0.000   -2.17e+04   -1.92e+04\n",
            "Some_Col   -1.265e+04    716.587    -17.652      0.000   -1.41e+04   -1.12e+04\n",
            "==============================================================================\n",
            "Omnibus:                     1929.836   Durbin-Watson:                   1.908\n",
            "Prob(Omnibus):                  0.000   Jarque-Bera (JB):              674.038\n",
            "Skew:                           0.431   Prob(JB):                    4.31e-147\n",
            "Kurtosis:                       2.062   Cond. No.                     1.56e+03\n",
            "==============================================================================\n",
            "\n",
            "Warnings:\n",
            "[1] Standard Errors are heteroscedasticity robust (HC1)\n",
            "[2] The condition number is large, 1.56e+03. This might indicate that there are\n",
            "strong multicollinearity or other numerical problems.\n"
          ],
          "name": "stdout"
        }
      ]
    },
    {
      "cell_type": "markdown",
      "metadata": {
        "id": "FWTQOFA4sHUS"
      },
      "source": [
        "### E7.2-2(iii)"
      ]
    },
    {
      "cell_type": "code",
      "metadata": {
        "colab": {
          "base_uri": "https://localhost:8080/"
        },
        "id": "Dcu44gJ-n7Xk",
        "outputId": "f38daac6-6f98-4491-bed0-0e7f751b4bc7"
      },
      "source": [
        "hypotheses = ['LT_HF = 0', 'HS = 0', 'Some_Col = 0']\n",
        "ftest = results_2b.f_test(hypotheses)\n",
        "ftest.statistic"
      ],
      "execution_count": null,
      "outputs": [
        {
          "output_type": "execute_result",
          "data": {
            "text/plain": [
              "array([[577.92960705]])"
            ]
          },
          "metadata": {
            "tags": []
          },
          "execution_count": 13
        }
      ]
    },
    {
      "cell_type": "markdown",
      "metadata": {
        "id": "vL6sN6GYpDfW"
      },
      "source": [
        "## E7.2-3"
      ]
    },
    {
      "cell_type": "code",
      "metadata": {
        "colab": {
          "base_uri": "https://localhost:8080/"
        },
        "id": "60FfCwzUsP_N",
        "outputId": "ecf863f5-3d04-43af-afd9-f4390990e92e"
      },
      "source": [
        "men = earnings[earnings['sex'] == 1]\n",
        "reg_3a = smf.ols(formula='earnings~height', data=men)\n",
        "results_3a = reg_3a.fit(cov_type='HC1')\n",
        "print(results_3a.summary())"
      ],
      "execution_count": null,
      "outputs": [
        {
          "output_type": "stream",
          "text": [
            "                            OLS Regression Results                            \n",
            "==============================================================================\n",
            "Dep. Variable:               earnings   R-squared:                       0.021\n",
            "Model:                            OLS   Adj. R-squared:                  0.021\n",
            "Method:                 Least Squares   F-statistic:                     174.8\n",
            "Date:                Thu, 25 Mar 2021   Prob (F-statistic):           1.77e-39\n",
            "Time:                        14:29:06   Log-Likelihood:                -91674.\n",
            "No. Observations:                7896   AIC:                         1.834e+05\n",
            "Df Residuals:                    7894   BIC:                         1.834e+05\n",
            "Df Model:                           1                                         \n",
            "Covariance Type:                  HC1                                         \n",
            "==============================================================================\n",
            "                 coef    std err          z      P>|z|      [0.025      0.975]\n",
            "------------------------------------------------------------------------------\n",
            "Intercept  -4.313e+04   6925.011     -6.228      0.000   -5.67e+04   -2.96e+04\n",
            "height      1306.8599     98.857     13.220      0.000    1113.104    1500.616\n",
            "==============================================================================\n",
            "Omnibus:                    72396.208   Durbin-Watson:                   1.667\n",
            "Prob(Omnibus):                  0.000   Jarque-Bera (JB):              782.879\n",
            "Skew:                           0.317   Prob(JB):                    1.00e-170\n",
            "Kurtosis:                       1.594   Cond. No.                     1.65e+03\n",
            "==============================================================================\n",
            "\n",
            "Warnings:\n",
            "[1] Standard Errors are heteroscedasticity robust (HC1)\n",
            "[2] The condition number is large, 1.65e+03. This might indicate that there are\n",
            "strong multicollinearity or other numerical problems.\n"
          ],
          "name": "stdout"
        }
      ]
    },
    {
      "cell_type": "code",
      "metadata": {
        "colab": {
          "base_uri": "https://localhost:8080/"
        },
        "id": "u5Y4ClQrqeYZ",
        "outputId": "d14d9077-9950-4ba3-e01d-7d93f50763be"
      },
      "source": [
        "reg_3b = smf.ols(formula='earnings~height+LT_HF+HS+Some_Col', data=men)\n",
        "results_3b = reg_3b.fit(cov_type='HC1')\n",
        "print(results_3b.summary())"
      ],
      "execution_count": null,
      "outputs": [
        {
          "output_type": "stream",
          "text": [
            "                            OLS Regression Results                            \n",
            "==============================================================================\n",
            "Dep. Variable:               earnings   R-squared:                       0.166\n",
            "Model:                            OLS   Adj. R-squared:                  0.165\n",
            "Method:                 Least Squares   F-statistic:                     454.9\n",
            "Date:                Thu, 25 Mar 2021   Prob (F-statistic):               0.00\n",
            "Time:                        14:29:06   Log-Likelihood:                -91041.\n",
            "No. Observations:                7896   AIC:                         1.821e+05\n",
            "Df Residuals:                    7891   BIC:                         1.821e+05\n",
            "Df Model:                           4                                         \n",
            "Covariance Type:                  HC1                                         \n",
            "==============================================================================\n",
            "                 coef    std err          z      P>|z|      [0.025      0.975]\n",
            "------------------------------------------------------------------------------\n",
            "Intercept   9862.7404   6541.322      1.508      0.132   -2958.016    2.27e+04\n",
            "height       744.6809     92.262      8.071      0.000     563.852     925.510\n",
            "LT_HF       -3.14e+04    869.695    -36.105      0.000   -3.31e+04   -2.97e+04\n",
            "HS         -2.035e+04    701.644    -28.997      0.000   -2.17e+04    -1.9e+04\n",
            "Some_Col   -1.261e+04    797.802    -15.807      0.000   -1.42e+04    -1.1e+04\n",
            "==============================================================================\n",
            "Omnibus:                     1662.238   Durbin-Watson:                   1.900\n",
            "Prob(Omnibus):                  0.000   Jarque-Bera (JB):              406.529\n",
            "Skew:                           0.267   Prob(JB):                     5.29e-89\n",
            "Kurtosis:                       2.026   Cond. No.                     1.70e+03\n",
            "==============================================================================\n",
            "\n",
            "Warnings:\n",
            "[1] Standard Errors are heteroscedasticity robust (HC1)\n",
            "[2] The condition number is large, 1.7e+03. This might indicate that there are\n",
            "strong multicollinearity or other numerical problems.\n"
          ],
          "name": "stdout"
        }
      ]
    },
    {
      "cell_type": "code",
      "metadata": {
        "id": "mvQc6Yq5qt4a"
      },
      "source": [
        ""
      ],
      "execution_count": null,
      "outputs": []
    }
  ]
}