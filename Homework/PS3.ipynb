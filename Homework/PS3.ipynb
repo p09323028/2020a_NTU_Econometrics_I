{
  "nbformat": 4,
  "nbformat_minor": 0,
  "metadata": {
    "colab": {
      "name": "PS3.ipynb",
      "provenance": [],
      "collapsed_sections": [],
      "authorship_tag": "ABX9TyMk1vwNbIBVR9V+72XKDg8J",
      "include_colab_link": true
    },
    "kernelspec": {
      "name": "python3",
      "display_name": "Python 3"
    },
    "language_info": {
      "name": "python"
    }
  },
  "cells": [
    {
      "cell_type": "markdown",
      "metadata": {
        "id": "view-in-github",
        "colab_type": "text"
      },
      "source": [
        "<a href=\"https://colab.research.google.com/github/p09323028/2020a_NTU_Econometrics_I/blob/main/Homework/PS3.ipynb\" target=\"_parent\"><img src=\"https://colab.research.google.com/assets/colab-badge.svg\" alt=\"Open In Colab\"/></a>"
      ]
    },
    {
      "cell_type": "markdown",
      "metadata": {
        "id": "7LGDav4U3POk"
      },
      "source": [
        "# **Homework 3**\n",
        "Author: Jinze Wu\n",
        "\n",
        "Student Number: p09323028"
      ]
    },
    {
      "cell_type": "markdown",
      "metadata": {
        "id": "ZXLtnTeOdp8D"
      },
      "source": [
        "# **Excercise 8.7**\n",
        "This problem is inspired by a study of the gender gap in earnings in top corporate\n",
        "jobs (Bertrand and Hallock, 2001). The study compares total compensation\n",
        "among top executives in a large set of U.S. public corporations in\n",
        "the 1990s. (Each year these publicly traded corporations must report total\n",
        "compensation levels for their top five executives.)\n",
        "1. Let $Female$ be an indicator variable that is equal to $1$ for females and 0\n",
        "for males. A regression of the logarithm of earnings on $Female$ yields\n",
        "$$\\widehat{ln(Earnings)} = 6.48 - 0.44Female \\text{, } SER = 2.65$$\n",
        " - The estimated coefficient on $Female$ is -0.44. Explain what this value\n",
        "means.\n",
        " - The $SER$ is 2.65. Explain what this value means.\n",
        " - Does this regression suggest that female top executives earn less than top male executives? Explain.\n",
        " - Does this regression suggest that there is sex discrimination? Explain.\n",
        "2. Two new variables, the market value of the firm (a measure of firm size,\n",
        "in millions of dollars) and stock return (a measure of firm performance,\n",
        "in percentage points), are added to the regression:\n",
        "$$\\widehat{ln(Earnings)} = 3.86 - 0.28Female + 0.37 ln(MarketValue) + 0.0004 Return \\text{, } n = 46,670 \\text{, } \\bar{R}^2 = 0.345$$\n",
        " - The coefficient on $ln(MarketValue)$ is 0.37. Explain what this value means.\n",
        " - The coefficient on $Female$ is now -0.28. Explain why it has changed from the regression in (a).\n",
        "3. Are large firms more likely than small firms to have female top executives? Explain.\n",
        "---"
      ]
    },
    {
      "cell_type": "markdown",
      "metadata": {
        "id": "iQwWCD2Neu_h"
      },
      "source": [
        "## 8.7-1"
      ]
    },
    {
      "cell_type": "markdown",
      "metadata": {
        "id": "PLMmDPvzgZ3I"
      },
      "source": [
        "### 8.7-1(i)\n",
        "女性 $ln(Earning)$ 平均比男性少 0.44"
      ]
    },
    {
      "cell_type": "markdown",
      "metadata": {
        "id": "G-gfqRcTgaZH"
      },
      "source": [
        "### 8.7-1(ii)\n",
        "此迴歸式誤差項的標準差為 2.65\n",
        "\n"
      ]
    },
    {
      "cell_type": "markdown",
      "metadata": {
        "id": "4TVxdWiIgakT"
      },
      "source": [
        "### 8.7-1(iii)\n",
        "此迴歸式的 $Female$ 係數小於零, 故題意成立。"
      ]
    },
    {
      "cell_type": "markdown",
      "metadata": {
        "id": "n8GThXFlgauN"
      },
      "source": [
        "### 8.7-1(iv)\n",
        "由於此迴歸式未保證其他條件皆相同,\n",
        "\n",
        "故有遺漏變數偏誤之狀況,\n",
        "\n",
        "因此無法從此迴歸式判斷是否有性別歧視。"
      ]
    },
    {
      "cell_type": "markdown",
      "metadata": {
        "id": "LftpvfmHga3m"
      },
      "source": [
        "## 8.7-2"
      ]
    },
    {
      "cell_type": "markdown",
      "metadata": {
        "id": "ku84O9cZgySa"
      },
      "source": [
        "### 8.7-2(i)\n",
        "$MarketValue$ 增加 1%, $Earing$ 平均增加 0.37%。"
      ]
    },
    {
      "cell_type": "markdown",
      "metadata": {
        "id": "xD9_02SMgyd7"
      },
      "source": [
        "### 8.7-2(ii)\n",
        "Regrssion in 8.7-1 有遺漏變數偏誤,\n",
        "\n",
        "故加入 $MarketValue$ 及 $Return$ 後,\n",
        "\n",
        "性別對 $Earning$ 的效果減少了。"
      ]
    },
    {
      "cell_type": "markdown",
      "metadata": {
        "id": "em9X6hZ4g7-Q"
      },
      "source": [
        "## 8.7-3\n",
        "$\\widehat{\\beta}_1 \\rightarrow \\beta_1 + \\beta_2 \\frac{Cov(X,Z)}{Var(X)}$, \n",
        "\n",
        "由於 $\\widehat{\\beta}_2 > 0$, 故 $Cov(X,Z) < 0$,\n",
        "\n",
        "Small firms (low MarketValue) are more likely to have female top executives."
      ]
    },
    {
      "cell_type": "markdown",
      "metadata": {
        "id": "Rroa6qUpgF4q"
      },
      "source": [
        "# **Excercise 8.12**\n",
        "The discussion following Equation (8.28) interprets the coefficient on interacted\n",
        "binary variables using the conditional mean zero assumption. This\n",
        "exercise shows that this interpretation also applies under conditional mean\n",
        "independence. Consider the hypothetical experiment in Exercise 7.11.\n",
        "1. Suppose you estimate the regression $Y_i = \\gamma_0 + \\gamma_1X_{1i} + u_i$ using only\n",
        "the data on returning students. Show that $\\gamma_1$ is the class size effect\n",
        "for returning students—that is, that $\\gamma_1 = E(Y_i|\u001fX_{1i} = 1, X_{2i} = 0) -\n",
        "E(Y_i|X_{1i} = 0, X_{2i} = 0)$. Explain why $\\widehat{\\gamma}_1$ is an unbiased estimator of $\\gamma_1$.\n",
        "2. Suppose you estimate the regression $Y_i = \\delta_0 + \\delta_1X_{1i} + u_i$ using only\n",
        "the data on new students. Show that $\\delta_1$ is the class size effect for new\n",
        "students—that is, that $\\delta_1 = E(Y_i|X_{1i} = 1, X_{2i} = 1) - E(Y_i|\u001fX_{1i} = 0,\n",
        "X_{2i} = 1)$. Explain why $\\widehat{\\delta}_1$ is an unbiased estimator of $\\delta_1$.\n",
        "3. Consider the regression for both returning and new students,\n",
        "$Y_i = \\beta_0 + \\beta_1X_{1i} + \\beta_2X_{2i} + \\beta_3(X_{1i} \\times X_{2i}) + u_i$. Use the conditional\n",
        "mean independence assumption $E(u_i|X_{1i}, X_{2i}) = E(u_i|X_{2i})$ to show\n",
        "that $\\beta_1 = \\gamma_1$, $\\beta_1 + \\beta_3 = \\delta_1$, and $\\beta_3 = \\delta_1 - \\gamma_1$ (the difference in the class\n",
        "size effects).\n",
        "4. Suppose you estimate the interaction regression in (c) using the combined\n",
        "data and $E(u_i|\u001fX_{1i}, X_{2i}) = E(u_i|\u001fX_{2i})$. Show that $\\widehat{\\beta}_1$ and $\\widehat{\\beta}_3$ are\n",
        "unbiased but that $\\widehat{\\beta}_2$ is, in general, biased.\n",
        "\n",
        "---\n",
        "\n"
      ]
    },
    {
      "cell_type": "markdown",
      "metadata": {
        "id": "-xv9UC_5kDWx"
      },
      "source": [
        "## 8.12-1\n",
        "給定 $X_{2i} = 0$ (非新生) 下， 因學生是隨機分派至大小班的, \n",
        "\n",
        "故此迴歸式下, $E(u_i|X_{1i}) = 0$, $\\widehat{\\gamma}_1$ is an unbiased estimator of $\\gamma_1$."
      ]
    },
    {
      "cell_type": "markdown",
      "metadata": {
        "id": "uozUrr6PkNOR"
      },
      "source": [
        "## 8.12-2\n",
        "給定 $X_{2i} = 1$ (新生) 下， 因學生也是隨機分派至大小班的, \n",
        "\n",
        "故此迴歸式下, $E(u_i|X_{1i}) = 0$, $\\widehat{\\delta}_1$ is an unbiased estimator of $\\delta_1$."
      ]
    },
    {
      "cell_type": "markdown",
      "metadata": {
        "id": "6NHHRDVMkNYQ"
      },
      "source": [
        "## 8.12-3\n",
        "令 $E(u_i|X_{1i}, X_{2i}) = E(u_i|X_{2i}) = \\lambda_0 + \\lambda_1X_{2i}$\n",
        "\n",
        "$E(Y_i|X_{1i},X_{2i})$ \n",
        "\n",
        "$= \\beta_0 + \\beta_1X_{1i} + \\beta_2X_{2i} + \\beta_3(X_{1i}X_{2i}) + E(u_i|X_{1i}, X_{2i})$\n",
        "\n",
        "$= (\\beta_0 + \\lambda_0) + \\beta_1X_{1i} + (\\beta_2 + \\lambda_1)X_{2i} + \\beta_3(X_{1i}X_{2i})$\n",
        "\n",
        "- $E(Y_i|X_{1i}=1,X_{2i}=0) - E(Y_i|X_{1i}=0,X_{2i}=0)$\n",
        "\n",
        " $= [(\\beta_0+\\lambda_0)+\\beta_1] - [(\\beta_0+\\lambda_0)]$\n",
        "\n",
        " $= \\beta_1$\n",
        "\n",
        " 知 $\\beta_1 = \\gamma_1$\n",
        "\n",
        "- $E(Y_i|X_{1i}=1,X_{2i}=1) - E(Y_i|X_{1i}=0,X_{2i}=1)$\n",
        "\n",
        " $= [(\\beta_0+\\lambda_0)+\\beta_1+(\\beta_2+\\lambda_1)+\\beta_3] - [(\\beta_0+\\lambda_0)-(\\beta_2+\\lambda_1)]$\n",
        "\n",
        " $= \\beta_1 + \\beta_3$\n",
        "\n",
        " 知 $\\beta_1 + \\beta_3 = \\delta_1$\n",
        "\n",
        "- 由前兩點, 知 $\\beta_3 = \\delta_1 - \\gamma_1$\n",
        "\n",
        "\n"
      ]
    },
    {
      "cell_type": "markdown",
      "metadata": {
        "id": "7BuLhtrOkNik"
      },
      "source": [
        "## 8.12-4\n",
        "$Y_i = (\\beta_0 + \\lambda_0) + \\beta_1X_{1i}+ (\\beta_2+\\lambda_1)X_{2i}+\\beta_3(X_{1i}X_{2i}) + v_i$\n",
        "\n",
        "其中 $v_i = u_i - E(u_i|X_{1i},X_{2i})=u_i-E(u_i|X_{2i})$\n",
        "\n",
        "且 $E(v_i|X_{1i},X_{2i})=0$\n",
        "\n",
        "知 8.12-3 配置之 OLS, $E(\\widehat{\\beta}_1)= \\beta_1, E(\\widehat{\\beta}_3) = \\beta_3$, 但 $E(\\widehat{\\beta}_2) = \\beta_2 + \\lambda_1$"
      ]
    },
    {
      "cell_type": "markdown",
      "metadata": {
        "id": "u7GF9ngOkN-7"
      },
      "source": [
        "# **Excercise 9.2**\n",
        "Consider the one-variable regression model $Y_i = \\beta_0 + \\beta_1X_i + u_i$, and\n",
        "suppose it satisfies the least squares assumptions in Key Concept 4.3. Suppose\n",
        "$Y_i$ is measured with error, so the data are $\\tilde{Y\u001f_i} = Y_i + w_i$, where $w_i$ is the measurement error, which is i.i.d. and independent of $Y_i$ and $X_i$. Consider the\n",
        "population regression $\\tilde{Y\u001f_i} = \\beta_0 + \\beta_1X_i + v_i$, where $v_i$ is the regression error, using the mismeasured dependent variable, $\\tilde{Y\u001f_i}$.\n",
        "1. Show that $v_i = u_i + w_i$.\n",
        "2. Show that the regression $Y_\u001fi = \\beta_0 + \\beta_1X_i + v_i$ satisfies the least squares\n",
        "assumptions in Key Concept 4.3. (Assume that $w_i$ is independent of $Y_j$ and $X_j$ for all values of $i$ and $j$ and has a finite fourth moment.)\n",
        "3. Are the OLS estimators consistent?\n",
        "4. Can confidence intervals be constructed in the usual way?\n",
        "5. Evaluate these statements: “Measurement error in the $X$’s is a serious problem. Measurement error in $Y$ is not.”\n",
        "\n",
        "---\n",
        "\n"
      ]
    },
    {
      "cell_type": "markdown",
      "metadata": {
        "id": "hAcUOQbqlWTe"
      },
      "source": [
        "## 9.2-1\n",
        "$Y_i+w_i = \\beta_0+\\beta_1X_i+u_i+w_i$, 故 $v_i = u_i + w_i$"
      ]
    },
    {
      "cell_type": "markdown",
      "metadata": {
        "id": "oygT_0GwmUf7"
      },
      "source": [
        "## 9.2-2\n",
        "$(1)$ $E(v_i|X_i) = E(u_i+w_i|X_i) = 0$\n",
        "\n",
        "$(2)$ $w_i$ is i.i.d. and independant of $X_i$ and $Y_i \\Rightarrow (X_i, \\widehat{Y}_i)$ are i.i.d.\n",
        "\n",
        "$(3)$ $u_i, w_i$ 皆具有限四階動差, 故 $(X_i, v_i)$ 具非零有限四階動差。"
      ]
    },
    {
      "cell_type": "markdown",
      "metadata": {
        "id": "JqtDHs1DmVDP"
      },
      "source": [
        "## 9.2-3\n",
        "由 9.2-2 知 OLS estimators are consistent."
      ]
    },
    {
      "cell_type": "markdown",
      "metadata": {
        "id": "vDfeiRgPmVO0"
      },
      "source": [
        "## 9.2-4\n",
        "由 9.2-2 及 9.2-3, 知題意成立。"
      ]
    },
    {
      "cell_type": "markdown",
      "metadata": {
        "id": "KxZ-N6dmmVah"
      },
      "source": [
        "## 9.2-5\n",
        "由 9.2-1 ~ 9.2-4, 知 Measurement error in $Y$, OLS estimator 仍為 consistent, \n",
        "\n",
        "但若 Measurement error in $X$, 則會使 OLS estimator unconsistent,\n",
        "\n",
        "故題意所述屬實。\n",
        "\n",
        "惟 $\\sigma_v^2 = \\sigma_u^2 + \\sigma_w^2$, 誤差項變異數會擴大。"
      ]
    },
    {
      "cell_type": "markdown",
      "metadata": {
        "id": "udrDJLkNmVl8"
      },
      "source": [
        "# **Excercise 9.5**\n",
        "The demand for a commodity is given by $Q = \\beta_0 + \\beta_1P + u$, where $Q$ denotes\n",
        "quantity, $P$ denotes price, and $$ denotes factors other than price that determine\n",
        "demand. Supply for the commodity is given by $Q = \\gamma_0 + \\gamma_1P + v$, where $v$\n",
        "denotes factors other than price that determine supply. Suppose $u$ and $v$ both\n",
        "have a mean of 0, have variances $\\sigma_u^2$ and $\\sigma_v^2$, and are mutually uncorrelated.\n",
        "1. Solve the two simultaneous equations to show how $Q$ and $P$ depend on $u$ and $v$.\n",
        "2. Derive the means of $P$ and $Q$.\n",
        "3. Derive the variance of $P$, the variance of $Q$, and the covariance between\n",
        "$Q$ and $P$.\n",
        "4. A random sample of observations of $(Q_i, P_i)$ is collected, and $Q_i$ is regressed on $P_i$. (That is, $Q_i$ is the regressand, and $P_i$ is the regressor.) Suppose the sample is very large.\n",
        " - Use your answers to (b) and (c) to derive values of the regression coefficients. [Hint: Use Equations (4.7) and (4.8).]\n",
        " - A researcher uses the slope of this regression as an estimate of the slope of the demand function (\\beta_1). Is the estimated slope too large?(Hint: Remember that demand curves slope down and supply curves slope up.)\n",
        "\n",
        "---\n",
        "\n"
      ]
    },
    {
      "cell_type": "markdown",
      "metadata": {
        "id": "fTK8wZ_KnBQC"
      },
      "source": [
        "## 9.5-1\n",
        "$\\beta_0+\\beta_1P+u=\\gamma_0+\\gamma_1P+v$\n",
        "\n",
        "$(\\beta_1-\\gamma_1)P = (\\gamma_0+v) - (\\beta_0+u)$\n",
        "\n",
        "$P = \\frac{(\\gamma_0+v) - (\\beta_0+u)}{\\gamma_1-\\beta_1}$\n",
        "\n",
        "$Q = \\frac{(\\gamma_1\\beta_0-\\beta_0\\beta_1)+(u\\gamma_1-u\\beta_1)+[(\\beta_0\\beta_1+\\beta_1u)-(\\beta_1\\gamma_0+\\beta_1v)]}{\\gamma_1-\\beta_1} = \\frac{\\gamma_1\\beta_0+u\\gamma_1-\\gamma_0\\beta_1-\\beta_1v}{\\gamma_1-\\beta_1}$"
      ]
    },
    {
      "cell_type": "markdown",
      "metadata": {
        "id": "fuQvDeGKn1Jr"
      },
      "source": [
        "## 9.5-2\n",
        "$E(P) = \\frac{\\beta_0+\\gamma_0}{\\gamma_1-\\beta_1}$\n",
        "\n",
        "$E(Q) = \\frac{\\gamma_1\\beta_0-\\gamma_0\\beta_1}{\\gamma_1-\\beta_1}$"
      ]
    },
    {
      "cell_type": "markdown",
      "metadata": {
        "id": "2zYnXGwMn1VT"
      },
      "source": [
        "## 9.5-3\n",
        "$Var(P) = \\frac{Var(u)+Var(v)}{(\\gamma_1-\\beta_1)^2}$\n",
        "\n",
        "$Var(Q) = \\frac{1}{(\\gamma_1-\\beta_1)^2}[\\gamma_1^2Var(u) + \\beta_1^2Var(v)]$\n",
        "\n",
        "$Cov(P,Q)$ \n",
        "\n",
        "$= \\frac{1}{(\\gamma_1-\\beta_1)^2}Cov\\left[(u-v), (\\gamma_1u-\\beta_1v)\\right]$\n",
        "\n",
        "$= \\frac{1}{(\\gamma_1-\\beta_1)^2}\\left[\\gamma_1Var(u)+\\beta_1Var(v)\\right]$"
      ]
    },
    {
      "cell_type": "markdown",
      "metadata": {
        "id": "CQ-gQD58n1hF"
      },
      "source": [
        "## 9.5-4"
      ]
    },
    {
      "cell_type": "markdown",
      "metadata": {
        "id": "wk4AXcK8n15R"
      },
      "source": [
        "### 9.5-4(i)\n",
        "- $\\widehat{\\beta}_1 \\overset{p}{\\rightarrow} \\frac{Cov(P,Q)}{Var(P)} = \\frac{\\gamma_1Var(u)+\\beta_1Var(v)}{Var(u)+Var(v)}$\n",
        "- $\\widehat{\\beta}_0 \\overset{p}{\\rightarrow} E(Q) - E(P) \\frac{Cov(P,Q)}{Var(P)}$"
      ]
    },
    {
      "cell_type": "markdown",
      "metadata": {
        "id": "1gYDGm02n2KT"
      },
      "source": [
        "### 9.5-4(ii)\n",
        "$\\widehat{\\beta}_1 \\overset{p}{\\rightarrow} \\beta_1 + \\frac{\\gamma_1Var(u)-\\beta_1Var(u)}{Var(u)+Var(v)}$\n",
        "\n",
        "因 $\\gamma_1 > 0, \\beta_1 < 0$, 故 $\\widehat{\\beta}_1$ 高估。"
      ]
    },
    {
      "cell_type": "markdown",
      "metadata": {
        "id": "qxM9-czFn2VZ"
      },
      "source": [
        "# **Excercise 9.12**\n",
        "Consider the one-variable regression model $Y_i = \\beta_0 + \\beta_1X_i + u_i$, and suppose it satisfies the least squares assumptions in Key Concept 4.3. The regressor $X_i$ is missing, but data on a related variable, $Z_i$, are available, and the value of $X_i$ is estimated using $\\widetilde{X\u001f_i} = E(X_i|\u001eZ_{i}).$ Let $w_i = \\widetilde{X\u001f_i} - X_i$.\n",
        "1. Show that $\\widetilde{X\u001f_i}$ is the minimum mean square error estimator of $X_i$ using $Z_i$. That is, let $\\widetilde{X\u001f_i} = g(Z_i)$ be some other guess of $X_i$ based on $Z_i$, and show that $E[(\\hat{X}_i-X_i)] \\geq E[(\\widetilde{X_i}-X_i)]$.(Hint: Review Exercise 2.27.)\n",
        "2. Show that $E(w_i|\\widetilde{X_i}) = 0$.\n",
        "3. Suppose that $E(u_i|\u001eZ_i) = 0$ and that $\\widetilde{X_i}$ is used as the regressor in place of $X_i$. Show that $\\widehat{\\beta}_1$ is consistent. Is $\\widehat{\\beta}_0$ consistent?\n",
        "\n",
        "---"
      ]
    },
    {
      "cell_type": "markdown",
      "metadata": {
        "id": "e1VyMdbIoOP5"
      },
      "source": [
        "## 9.12-1\n",
        "令 $v_i = (X_i - \\tilde{X}_i) = g(Z_i)$, 且 $E(v_i^2) = E(w_i^2) + E(g(Z_i)^2) - 2E[w_ig(Z_i)]$,\n",
        "\n",
        "$E(w_i|\\tilde{X}_i) = 0 \\rightarrow E(w_ig(Z_i)) = 0$, $E(v_i^2) = E(w_i^2) + E(g(Z_i)^2)$\n",
        "\n",
        "由於 $g(Z_i) \\geq 0$, 知 $E[(\\hat{X}_i-X_i)] \\geq E[(\\widetilde{X_i}-X_i)]$"
      ]
    },
    {
      "cell_type": "markdown",
      "metadata": {
        "id": "uzFgXIWArAcp"
      },
      "source": [
        "## 9.12-2\n",
        "$\\widetilde{X} = E(X_i|Z_i)$, $E(X|\\widetilde{X}) = \\widetilde{X}$\n",
        "\n",
        "$E(W|\\widetilde{X}) = E(X|\\widetilde{X}) - E(\\widetilde{X}|\\widetilde{X}) = 0$"
      ]
    },
    {
      "cell_type": "markdown",
      "metadata": {
        "id": "SwtZYmMRrBw2"
      },
      "source": [
        "## 9.12-3\n",
        "$Y_i = \\beta_0 + \\beta_1(\\widetilde{X}+w_i) + u_i = \\beta_0 + \\beta_1\\widetilde{X} + (u_i +\\beta_1w_i)$\n",
        "\n",
        "$E(u|Z) = 0 且 \\widetilde{X} = E(X|Z)$, 故 $E(u|\\widetilde{X}) = 0$\n",
        "\n",
        "- $E(u_i|\\widetilde{X}_i) = 0$\n",
        "- $(\\widetilde{X}_i, Y_i)$ are i.i.d.\n",
        "- Large outliers are unlikely.\n",
        "\n",
        "OLS estimators are consistent."
      ]
    },
    {
      "cell_type": "markdown",
      "metadata": {
        "id": "UN3JalY8rLd_"
      },
      "source": [
        "# **E8.1**\n",
        "Lead is toxic, particularly for young children, and for this reason, government\n",
        "regulations severely restrict the amount of lead in our environment. But this\n",
        "was not always the case. In the early part of the 20th century, the underground\n",
        "water pipes in many U.S. cities contained lead, and lead from these\n",
        "pipes leached into drinking water. In this exercise, you will investigate the effect of these lead water pipes on infant mortality. On the text website\n",
        "**http://www.pearsonglobaleditions.com**, you will find the data file **Lead_\n",
        "Mortality**, which contains data on infant mortality, type of water pipes (lead or\n",
        "nonlead), water acidity (pH), and several demographic variables for 172 U.S.\n",
        "cities in 1900.5 A detailed description is given in **Lead_Mortality_Description**,\n",
        "also available on the website.\n",
        "1. Compute the average infant mortality rate $(Inf)$ for cities with lead pipes\n",
        "and for cities with nonlead pipes. Is there a statistically significant difference\n",
        "in the averages?\n",
        "2. The amount of lead leached from lead pipes depends on the chemistry of\n",
        "the water running through the pipes. The more acidic the water is (that\n",
        "is, the lower its pH), the more lead is leached. Run a regression of $Inf$ on\n",
        "$Lead, pH$, and the interaction term $Lead \\times pH$.\n",
        " - The regression includes four coefficients (the intercept and the three\n",
        "coefficients multiplying the regressors). Explain what each coefficient\n",
        "measures.\n",
        " - Plot the estimated regression function relating $Inf$ to $pH$ for $Lead = 0$\n",
        "and for $Lead = 1$. Describe the differences in the regression functions,\n",
        "and relate these differences to the coefficients you discussed in (i).\n",
        " - Does Lead have a statistically significant effect on infant mortality? Explain.\n",
        " - Does the effect of $Lead$ on infant mortality depend on $pH$? Is this\n",
        "dependence statistically significant?\n",
        " - What is the average value of $pH$ in the sample? At this $pH$ level,\n",
        "what is the estimated effect of $Lead$ on infant mortality? What is\n",
        "the standard deviation of $pH$? Suppose the $pH$ level is one standard\n",
        "deviation lower than the average level of $pH$ in the sample: What is\n",
        "the estimated effect of $Lead$ on infant mortality? What if $pH$ is one\n",
        "standard deviation higher than the average value?\n",
        " - Construct a 95% confidence interval for the effect of $Lead$ on infant\n",
        "mortality when $pH = 6.5$.\n",
        "3. The analysis in (b) may suffer from omitted variable bias because it\n",
        "neglects factors that affect infant mortality and that might potentially be\n",
        "correlated with $Lead$ and $pH$. Investigate this concern, using the other\n",
        "variables in the data set.\n",
        "\n",
        "---"
      ]
    },
    {
      "cell_type": "markdown",
      "metadata": {
        "id": "_Soq4n3KBgZ2"
      },
      "source": [
        "下載資料"
      ]
    },
    {
      "cell_type": "code",
      "metadata": {
        "id": "Wjy-444qBjNu"
      },
      "source": [
        "!gdown --id '1CkWBcIdaqi7hw10e-H92OuGGy7Xogw7r' --output 'Lead_Mortality.xlsx'"
      ],
      "execution_count": null,
      "outputs": []
    },
    {
      "cell_type": "code",
      "metadata": {
        "id": "XSnkuBLeBy8s"
      },
      "source": [
        "import numpy as np\n",
        "import pandas as pd\n",
        "import matplotlib.pyplot as plt\n",
        "import statsmodels.api as sm\n",
        "import statsmodels.formula.api as smf"
      ],
      "execution_count": null,
      "outputs": []
    },
    {
      "cell_type": "code",
      "metadata": {
        "id": "N7NBdPQPBzbE"
      },
      "source": [
        "lead_mortality = pd.read_excel('Lead_Mortality.xlsx')\n",
        "lead_mortality"
      ],
      "execution_count": null,
      "outputs": []
    },
    {
      "cell_type": "markdown",
      "metadata": {
        "id": "qUhudefssyxP"
      },
      "source": [
        "## E8.1-1"
      ]
    },
    {
      "cell_type": "code",
      "metadata": {
        "colab": {
          "base_uri": "https://localhost:8080/"
        },
        "id": "LjE8vnsSCWZw",
        "outputId": "e5c4fad7-fa69-4101-9a38-e789c3b754cf"
      },
      "source": [
        "reg_8_1_1 = smf.ols(formula='infrate~lead', data=lead_mortality)\n",
        "results_8_1_1 = reg_8_1_1.fit(cov_type='HC1')\n",
        "print(results_8_1_1.summary())"
      ],
      "execution_count": null,
      "outputs": [
        {
          "output_type": "stream",
          "text": [
            "                            OLS Regression Results                            \n",
            "==============================================================================\n",
            "Dep. Variable:                infrate   R-squared:                       0.005\n",
            "Model:                            OLS   Adj. R-squared:                 -0.001\n",
            "Method:                 Least Squares   F-statistic:                    0.8197\n",
            "Date:                Sun, 04 Apr 2021   Prob (F-statistic):              0.367\n",
            "Time:                        15:31:01   Log-Likelihood:                 81.638\n",
            "No. Observations:                 172   AIC:                            -159.3\n",
            "Df Residuals:                     170   BIC:                            -153.0\n",
            "Df Model:                           1                                         \n",
            "Covariance Type:                  HC1                                         \n",
            "==============================================================================\n",
            "                 coef    std err          z      P>|z|      [0.025      0.975]\n",
            "------------------------------------------------------------------------------\n",
            "Intercept      0.3812      0.020     19.195      0.000       0.342       0.420\n",
            "lead           0.0221      0.024      0.905      0.365      -0.026       0.070\n",
            "==============================================================================\n",
            "Omnibus:                       11.233   Durbin-Watson:                   1.875\n",
            "Prob(Omnibus):                  0.004   Jarque-Bera (JB):               11.767\n",
            "Skew:                           0.635   Prob(JB):                      0.00278\n",
            "Kurtosis:                       3.166   Cond. No.                         3.30\n",
            "==============================================================================\n",
            "\n",
            "Warnings:\n",
            "[1] Standard Errors are heteroscedasticity robust (HC1)\n"
          ],
          "name": "stdout"
        }
      ]
    },
    {
      "cell_type": "markdown",
      "metadata": {
        "id": "2eVu4r3fETCF"
      },
      "source": [
        "因 p-value = 0.367 > 10%, 故統計上兩者無顯著差異。"
      ]
    },
    {
      "cell_type": "markdown",
      "metadata": {
        "id": "2Sa_EQSetL4A"
      },
      "source": [
        "## E8.1-2"
      ]
    },
    {
      "cell_type": "markdown",
      "metadata": {
        "id": "0SH6MnbFtVH1"
      },
      "source": [
        "### E8.1-2(i)"
      ]
    },
    {
      "cell_type": "code",
      "metadata": {
        "colab": {
          "base_uri": "https://localhost:8080/"
        },
        "id": "Fm1UJU3BDZcl",
        "outputId": "1d2fdc87-0917-4ddb-c8c1-52b605bca5a4"
      },
      "source": [
        "reg_8_1_2i = smf.ols(formula='infrate~lead+ph+(lead*ph)', data=lead_mortality)\n",
        "results_8_1_2i = reg_8_1_2i.fit(cov_type='HC1')\n",
        "print(results_8_1_2i.summary())"
      ],
      "execution_count": null,
      "outputs": [
        {
          "output_type": "stream",
          "text": [
            "                            OLS Regression Results                            \n",
            "==============================================================================\n",
            "Dep. Variable:                infrate   R-squared:                       0.272\n",
            "Model:                            OLS   Adj. R-squared:                  0.259\n",
            "Method:                 Least Squares   F-statistic:                     20.97\n",
            "Date:                Sun, 04 Apr 2021   Prob (F-statistic):           1.37e-11\n",
            "Time:                        15:31:01   Log-Likelihood:                 108.52\n",
            "No. Observations:                 172   AIC:                            -209.0\n",
            "Df Residuals:                     168   BIC:                            -196.5\n",
            "Df Model:                           3                                         \n",
            "Covariance Type:                  HC1                                         \n",
            "==============================================================================\n",
            "                 coef    std err          z      P>|z|      [0.025      0.975]\n",
            "------------------------------------------------------------------------------\n",
            "Intercept      0.9189      0.150      6.106      0.000       0.624       1.214\n",
            "lead           0.4618      0.208      2.224      0.026       0.055       0.869\n",
            "ph            -0.0752      0.021     -3.588      0.000      -0.116      -0.034\n",
            "lead:ph       -0.0569      0.028     -2.025      0.043      -0.112      -0.002\n",
            "==============================================================================\n",
            "Omnibus:                        4.916   Durbin-Watson:                   1.946\n",
            "Prob(Omnibus):                  0.086   Jarque-Bera (JB):                4.987\n",
            "Skew:                           0.411   Prob(JB):                       0.0826\n",
            "Kurtosis:                       2.861   Cond. No.                         252.\n",
            "==============================================================================\n",
            "\n",
            "Warnings:\n",
            "[1] Standard Errors are heteroscedasticity robust (HC1)\n"
          ],
          "name": "stdout"
        }
      ]
    },
    {
      "cell_type": "markdown",
      "metadata": {
        "id": "TCxJzyyFErgE"
      },
      "source": [
        "$\\beta_0$ 代表無鉛水管且 $pH=0$ 的平均死亡率。\n",
        "\n",
        "$\\beta_1$ 代表 $pH=0$ 時, 有鉛與無鉛水管的平均差異。\n",
        "\n",
        "$\\beta_2$ 代表無鉛水管下, $pH$值對平均死亡率的影響。\n",
        "\n",
        "$\\beta_3$ 代表有鉛無鉛水管與$pH$值是否存在交互作用。"
      ]
    },
    {
      "cell_type": "markdown",
      "metadata": {
        "id": "d8AFP5QRtYbB"
      },
      "source": [
        "### E8.1-2(ii)"
      ]
    },
    {
      "cell_type": "code",
      "metadata": {
        "colab": {
          "base_uri": "https://localhost:8080/"
        },
        "id": "yojgbgDeDzj4",
        "outputId": "bc435422-36f8-46b4-87c3-afab874dc972"
      },
      "source": [
        "reg_8_1_2ii_1 = smf.ols(formula='infrate~ph', data=lead_mortality[lead_mortality.lead==0])\n",
        "results_8_1_2ii_1 = reg_8_1_2ii_1.fit(cov_type='HC1')\n",
        "print(results_8_1_2ii_1.summary())"
      ],
      "execution_count": null,
      "outputs": [
        {
          "output_type": "stream",
          "text": [
            "                            OLS Regression Results                            \n",
            "==============================================================================\n",
            "Dep. Variable:                infrate   R-squared:                       0.138\n",
            "Model:                            OLS   Adj. R-squared:                  0.122\n",
            "Method:                 Least Squares   F-statistic:                     12.70\n",
            "Date:                Sun, 04 Apr 2021   Prob (F-statistic):           0.000783\n",
            "Time:                        15:32:58   Log-Likelihood:                 31.721\n",
            "No. Observations:                  55   AIC:                            -59.44\n",
            "Df Residuals:                      53   BIC:                            -55.43\n",
            "Df Model:                           1                                         \n",
            "Covariance Type:                  HC1                                         \n",
            "==============================================================================\n",
            "                 coef    std err          z      P>|z|      [0.025      0.975]\n",
            "------------------------------------------------------------------------------\n",
            "Intercept      0.9189      0.152      6.065      0.000       0.622       1.216\n",
            "ph            -0.0752      0.021     -3.564      0.000      -0.117      -0.034\n",
            "==============================================================================\n",
            "Omnibus:                        5.151   Durbin-Watson:                   2.308\n",
            "Prob(Omnibus):                  0.076   Jarque-Bera (JB):                4.689\n",
            "Skew:                           0.715   Prob(JB):                       0.0959\n",
            "Kurtosis:                       3.033   Cond. No.                         72.8\n",
            "==============================================================================\n",
            "\n",
            "Warnings:\n",
            "[1] Standard Errors are heteroscedasticity robust (HC1)\n"
          ],
          "name": "stdout"
        }
      ]
    },
    {
      "cell_type": "code",
      "metadata": {
        "colab": {
          "base_uri": "https://localhost:8080/"
        },
        "id": "I12vwf5Eg5vd",
        "outputId": "09da4060-1281-4a58-db2f-d9b59a8b2694"
      },
      "source": [
        "reg_8_1_2ii_2 = smf.ols(formula='infrate~ph', data=lead_mortality[lead_mortality.lead==1])\n",
        "results_8_1_2ii_2 = reg_8_1_2ii_2.fit(cov_type='HC1')\n",
        "print(results_8_1_2ii_2.summary())"
      ],
      "execution_count": null,
      "outputs": [
        {
          "output_type": "stream",
          "text": [
            "                            OLS Regression Results                            \n",
            "==============================================================================\n",
            "Dep. Variable:                infrate   R-squared:                       0.325\n",
            "Model:                            OLS   Adj. R-squared:                  0.319\n",
            "Method:                 Least Squares   F-statistic:                     50.18\n",
            "Date:                Sun, 04 Apr 2021   Prob (F-statistic):           1.20e-10\n",
            "Time:                        15:33:01   Log-Likelihood:                 77.055\n",
            "No. Observations:                 117   AIC:                            -150.1\n",
            "Df Residuals:                     115   BIC:                            -144.6\n",
            "Df Model:                           1                                         \n",
            "Covariance Type:                  HC1                                         \n",
            "==============================================================================\n",
            "                 coef    std err          z      P>|z|      [0.025      0.975]\n",
            "------------------------------------------------------------------------------\n",
            "Intercept      1.3807      0.143      9.684      0.000       1.101       1.660\n",
            "ph            -0.1320      0.019     -7.084      0.000      -0.169      -0.096\n",
            "==============================================================================\n",
            "Omnibus:                        1.307   Durbin-Watson:                   2.512\n",
            "Prob(Omnibus):                  0.520   Jarque-Bera (JB):                1.392\n",
            "Skew:                           0.227   Prob(JB):                        0.499\n",
            "Kurtosis:                       2.719   Cond. No.                         85.4\n",
            "==============================================================================\n",
            "\n",
            "Warnings:\n",
            "[1] Standard Errors are heteroscedasticity robust (HC1)\n"
          ],
          "name": "stdout"
        }
      ]
    },
    {
      "cell_type": "code",
      "metadata": {
        "colab": {
          "base_uri": "https://localhost:8080/",
          "height": 265
        },
        "id": "_OofUcRMg-2c",
        "outputId": "af373f4a-cb6c-4480-f09b-127fb3ef96af"
      },
      "source": [
        "a0, b0 = results_8_1_2ii_1.params[0], results_8_1_2ii_1.params[1]\n",
        "a1, b1 = results_8_1_2ii_2.params[0], results_8_1_2ii_2.params[1]\n",
        "\n",
        "plt.plot(lead_mortality.ph, a0 + b0 * lead_mortality.ph, color='r', label='Regression(lead = 0)')\n",
        "plt.plot(lead_mortality.ph, a1 + b1 * lead_mortality.ph, color='b', label='Regression(lead = 1)')\n",
        "plt.legend(loc='upper right')\n",
        "plt.show()"
      ],
      "execution_count": null,
      "outputs": [
        {
          "output_type": "display_data",
          "data": {
            "image/png": "[encoded data removed]",
            "text/plain": [
              "<Figure size 432x288 with 1 Axes>"
            ]
          },
          "metadata": {
            "tags": [],
            "needs_background": "light"
          }
        }
      ]
    },
    {
      "cell_type": "markdown",
      "metadata": {
        "id": "SURlvJjwGtv7"
      },
      "source": [
        "由上圖知, $\\widehat{\\beta_1} \\neq 0$ 且 $\\widehat{\\beta_3} \\neq 0$"
      ]
    },
    {
      "cell_type": "markdown",
      "metadata": {
        "id": "np7m5vpPtVTz"
      },
      "source": [
        "### E8.1-2(iii)"
      ]
    },
    {
      "cell_type": "code",
      "metadata": {
        "id": "ZHFV6cGrhmhu"
      },
      "source": [
        "test_iii = ['lead:ph=0','lead=0']\n",
        "results_8_1_2i.f_test(test_iii).pvalue"
      ],
      "execution_count": null,
      "outputs": []
    },
    {
      "cell_type": "markdown",
      "metadata": {
        "id": "cet6o-EciaQO"
      },
      "source": [
        "因 p-value = 0.02135 < 5%, 故有鉛無鉛水管對嬰兒平均死亡率有顯著差異。"
      ]
    },
    {
      "cell_type": "markdown",
      "metadata": {
        "id": "AZjK18RZtVdd"
      },
      "source": [
        "### E8.1-2(iv)"
      ]
    },
    {
      "cell_type": "code",
      "metadata": {
        "id": "pKOX8ykKigh1"
      },
      "source": [
        "test_iv = ['lead:ph=0']\n",
        "results_8_1_2i.f_test(test_iv).pvalue"
      ],
      "execution_count": null,
      "outputs": []
    },
    {
      "cell_type": "markdown",
      "metadata": {
        "id": "55wZEmGpifS7"
      },
      "source": [
        "因 p-value = 0.044 < 5%, 故有鉛無鉛水管與$pH$值顯著交互影響。"
      ]
    },
    {
      "cell_type": "markdown",
      "metadata": {
        "id": "qPcWouBVtVnQ"
      },
      "source": [
        "### E8.1-2(v)\n",
        "$(1)$ Average value of $pH$ is 7.32267\n",
        "\n",
        "$(2)$ $\\widehat{\\beta}_1+\\widehat{\\beta}_3 \\times mean(pH) = 0.045415$\n",
        "\n",
        "$(3)$ Standard deviation of $pH$ is 0.69173\n",
        "\n",
        "$(4)$ $\\widehat{\\beta}_1+\\widehat{\\beta}_3 \\times [mean(pH)-std(pH)] = 0.00608$\n",
        "\n",
        "$(5)$ $\\widehat{\\beta}_1+\\widehat{\\beta}_3 \\times [mean(pH)+std(pH)] = 0.08475$"
      ]
    },
    {
      "cell_type": "markdown",
      "metadata": {
        "id": "0gDTvWJwtVw8"
      },
      "source": [
        "### E8.1-2(vi)"
      ]
    },
    {
      "cell_type": "code",
      "metadata": {
        "colab": {
          "base_uri": "https://localhost:8080/",
          "height": 79
        },
        "id": "y6wlLPCYi043",
        "outputId": "c7502b26-c67e-41d5-e3c8-429dd2ef981d"
      },
      "source": [
        "x = pd.DataFrame({'lead':[1],'ph':[6.5]})\n",
        "x = sm.add_constant(x)\n",
        "pred = results_8_1_2i.get_prediction(x)\n",
        "pred.summary_frame()"
      ],
      "execution_count": null,
      "outputs": [
        {
          "output_type": "execute_result",
          "data": {
            "text/html": [
              "<div>\n",
              "<style scoped>\n",
              "    .dataframe tbody tr th:only-of-type {\n",
              "        vertical-align: middle;\n",
              "    }\n",
              "\n",
              "    .dataframe tbody tr th {\n",
              "        vertical-align: top;\n",
              "    }\n",
              "\n",
              "    .dataframe thead th {\n",
              "        text-align: right;\n",
              "    }\n",
              "</style>\n",
              "<table border=\"1\" class=\"dataframe\">\n",
              "  <thead>\n",
              "    <tr style=\"text-align: right;\">\n",
              "      <th></th>\n",
              "      <th>mean</th>\n",
              "      <th>mean_se</th>\n",
              "      <th>mean_ci_lower</th>\n",
              "      <th>mean_ci_upper</th>\n",
              "      <th>obs_ci_lower</th>\n",
              "      <th>obs_ci_upper</th>\n",
              "    </tr>\n",
              "  </thead>\n",
              "  <tbody>\n",
              "    <tr>\n",
              "      <th>0</th>\n",
              "      <td>0.522433</td>\n",
              "      <td>0.023731</td>\n",
              "      <td>0.475921</td>\n",
              "      <td>0.568946</td>\n",
              "      <td>0.262897</td>\n",
              "      <td>0.781969</td>\n",
              "    </tr>\n",
              "  </tbody>\n",
              "</table>\n",
              "</div>"
            ],
            "text/plain": [
              "       mean   mean_se  mean_ci_lower  mean_ci_upper  obs_ci_lower  obs_ci_upper\n",
              "0  0.522433  0.023731       0.475921       0.568946      0.262897      0.781969"
            ]
          },
          "metadata": {
            "tags": []
          },
          "execution_count": 28
        }
      ]
    },
    {
      "cell_type": "markdown",
      "metadata": {
        "id": "-N9MlB3klynx"
      },
      "source": [
        "$lead = 1$ 且 $pH = 6.5$\n",
        "\n",
        "$95\\%$ $C.I.$ \n",
        "\n",
        "$[0.4759, 0.5689]$"
      ]
    },
    {
      "cell_type": "markdown",
      "metadata": {
        "id": "-yRfdf2GtMEc"
      },
      "source": [
        "## E8.1-3"
      ]
    },
    {
      "cell_type": "code",
      "metadata": {
        "colab": {
          "base_uri": "https://localhost:8080/"
        },
        "id": "VaybHksgJ9-V",
        "outputId": "40745336-3b92-449b-d2a2-3c47dd1fbc18"
      },
      "source": [
        "reg_8_1_3 = smf.ols(formula='infrate~lead+ph+(lead*ph)+age+hardness+typhoid_rate+np_tub_rate+mom_rate+population+precipitation+temperature+foreign_share', data=lead_mortality)\n",
        "results_8_1_3 = reg_8_1_3.fit(cov_type='HC1')\n",
        "print(results_8_1_3.summary())"
      ],
      "execution_count": null,
      "outputs": [
        {
          "output_type": "stream",
          "text": [
            "                            OLS Regression Results                            \n",
            "==============================================================================\n",
            "Dep. Variable:                infrate   R-squared:                       0.561\n",
            "Model:                            OLS   Adj. R-squared:                  0.528\n",
            "Method:                 Least Squares   F-statistic:                     15.87\n",
            "Date:                Sun, 04 Apr 2021   Prob (F-statistic):           1.05e-21\n",
            "Time:                        15:31:02   Log-Likelihood:                 152.11\n",
            "No. Observations:                 172   AIC:                            -278.2\n",
            "Df Residuals:                     159   BIC:                            -237.3\n",
            "Df Model:                          12                                         \n",
            "Covariance Type:                  HC1                                         \n",
            "=================================================================================\n",
            "                    coef    std err          z      P>|z|      [0.025      0.975]\n",
            "---------------------------------------------------------------------------------\n",
            "Intercept         0.6524      0.253      2.580      0.010       0.157       1.148\n",
            "lead              0.4061      0.178      2.280      0.023       0.057       0.755\n",
            "ph               -0.0287      0.018     -1.554      0.120      -0.065       0.007\n",
            "lead:ph          -0.0516      0.024     -2.180      0.029      -0.098      -0.005\n",
            "age              -0.0207      0.005     -4.543      0.000      -0.030      -0.012\n",
            "hardness         -0.0001   8.25e-05     -1.240      0.215      -0.000    5.94e-05\n",
            "typhoid_rate      1.0258      0.327      3.140      0.002       0.385       1.666\n",
            "np_tub_rate       1.9769      0.771      2.565      0.010       0.466       3.487\n",
            "mom_rate          0.0062      0.295      0.021      0.983      -0.571       0.584\n",
            "population    -1.298e-06   1.69e-06     -0.770      0.441    -4.6e-06    2.01e-06\n",
            "precipitation     0.0716      0.018      4.062      0.000       0.037       0.106\n",
            "temperature       0.0030      0.002      1.611      0.107      -0.001       0.007\n",
            "foreign_share     0.2467      0.103      2.398      0.016       0.045       0.448\n",
            "==============================================================================\n",
            "Omnibus:                        1.616   Durbin-Watson:                   1.839\n",
            "Prob(Omnibus):                  0.446   Jarque-Bera (JB):                1.223\n",
            "Skew:                           0.121   Prob(JB):                        0.543\n",
            "Kurtosis:                       3.335   Cond. No.                     2.91e+05\n",
            "==============================================================================\n",
            "\n",
            "Warnings:\n",
            "[1] Standard Errors are heteroscedasticity robust (HC1)\n",
            "[2] The condition number is large, 2.91e+05. This might indicate that there are\n",
            "strong multicollinearity or other numerical problems.\n"
          ],
          "name": "stdout"
        }
      ]
    }
  ]
}