{
  "nbformat": 4,
  "nbformat_minor": 0,
  "metadata": {
    "colab": {
      "name": "PS1.ipynb",
      "provenance": [],
      "collapsed_sections": [],
      "toc_visible": true,
      "authorship_tag": "ABX9TyNx5pkA5+/Lz5fA9DP4M5QB",
      "include_colab_link": true
    },
    "kernelspec": {
      "name": "python3",
      "display_name": "Python 3"
    },
    "language_info": {
      "name": "python"
    }
  },
  "cells": [
    {
      "cell_type": "markdown",
      "metadata": {
        "id": "view-in-github",
        "colab_type": "text"
      },
      "source": [
        "<a href=\"https://colab.research.google.com/github/p09323028/2020a_NTU_Econometrics_I/blob/main/Homework/PS1.ipynb\" target=\"_parent\"><img src=\"https://colab.research.google.com/assets/colab-badge.svg\" alt=\"Open In Colab\"/></a>"
      ]
    },
    {
      "cell_type": "markdown",
      "metadata": {
        "id": "8w_h7hn62fxD"
      },
      "source": [
        "# **Homework 1**\n",
        "Author: Jinze Wu\n",
        "\n",
        "Student Number: p09323028"
      ]
    },
    {
      "cell_type": "markdown",
      "metadata": {
        "id": "VOZT62OBzJuj"
      },
      "source": [
        "# **Excercise 4.2**\n",
        "A random sample of 100 20-year-old men is selected from a population and these men’s height and weight are recorded. A regression of weight on height yields\n",
        "$$Weight=-79.24 + 4.16 × Height, R^2=0.72, SER=12.6,$$\n",
        "where Weight is measured in pounds and Height is measured in inches.\n",
        "1. What is the regression’s weight prediction for someone who is 64 inches all? 68 inches tall? 72 inches tall?\n",
        "1. A man has a late growth spurt and grows 2 inches over the course of a year. What is the regression’s prediction for the increase in this man’s weight?\n",
        "1. Suppose that instead of measuring weight and height in pounds and inches, these variables are measured in centimeters and kilograms. What are the regression estimates from this new centimeter–kilogram regression? (Give all results, estimated coefficients, $R^2$, and $SER$.)\n",
        "\n",
        "---\n",
        "\n"
      ]
    },
    {
      "cell_type": "markdown",
      "metadata": {
        "id": "-1BqFmrs0sf1"
      },
      "source": [
        "## 4.2-1\n",
        "$\\widehat{Weight}|(Height = 64) = 187$\n",
        "\n",
        "$\\widehat{Weight}|(Height = 68) = 203.64$\n",
        "\n",
        "$\\widehat{Weight}|(Height = 72) = 220.28$"
      ]
    },
    {
      "cell_type": "markdown",
      "metadata": {
        "id": "MnOsndDv06Qe"
      },
      "source": [
        "## 4.2-2\n",
        "$4.16 \\times 2=8.32$"
      ]
    },
    {
      "cell_type": "markdown",
      "metadata": {
        "id": "J_Cksu-M0_SA"
      },
      "source": [
        "## 4.2-3\n",
        "令新迴歸式 $\\widehat{Weight}=\\widehat{\\alpha}_{0} + \\widehat{\\alpha}_{1} \\times Height$\n",
        "\n",
        "1 inch = 2.54 cm, 1 pound = 0.4536 kg\n",
        "\n",
        "$\\widehat{\\alpha}_{0} = -79.24 \\times 0.4536 = -35.9433$\n",
        "\n",
        "$\\widehat{\\alpha}_{1} = 4.16 \\times \\frac{0.4536}{2.54}  = 0.7429$\n",
        "\n",
        "$R^2$ 不受單位影響, $R^2 = 0.72$\n",
        "\n",
        "$SER = 12.6 \\times 0.4536 = 5.7154$"
      ]
    },
    {
      "cell_type": "markdown",
      "metadata": {
        "id": "LBLZXLEi1IO_"
      },
      "source": [
        "# **Excercise 4.4**\n",
        "Your class is asked to investigate the effect of average temperature on average weekly earnings ($AWE$, measured in dollars) across countries, using the following general regression approach: \n",
        "$$AWE = \\widehat{\\beta}_0 + \\widehat{\\beta}_1 × temperature$$\n",
        "One of your classmates, Rachel, is an American and decides to analyze the effect of temperature measured in Fahrenheit, while most of the other students analyze the effect of temperature measured in Celsius.\n",
        "$$X_F = 32 + \\frac{9}{5} × X_C$$\n",
        "If everything else is the same in Rachel’s analysis compared to the other students’ analysis, then how will the following quantities differ?\n",
        "1. $\\widehat{\\beta}_0$ (Hint: Review Key Concept 2.3)\n",
        "2. $\\widehat{\\beta}_1$\n",
        "3. $R^2$ (Hint: $R^2$ is equal to the square of the correlation coefficient, which can be obtained using Equation 2.26)\n",
        "\n",
        "---\n"
      ]
    },
    {
      "cell_type": "markdown",
      "metadata": {
        "id": "uzZQGo7R3yis"
      },
      "source": [
        "假設以Celsius迴歸式為\n",
        "$AWE = \\widehat{\\beta}^c_0 + \\widehat{\\beta}^c_1 × temperature_c$\n",
        "\n",
        "以Fahrenheit迴歸式為\n",
        "$AWE = \\widehat{\\beta}^F_0 + \\widehat{\\beta}^F_1 × temperature_F$"
      ]
    },
    {
      "cell_type": "markdown",
      "metadata": {
        "id": "suj1sQ8H4V7v"
      },
      "source": [
        "## 4.4-2\n",
        "$\\widehat{\\beta}^F_1 = \\frac{S_{XFY}}{S^2_{XF}} = \\frac{(9/5)S_{XcY}}{(9/5)^2S_{XcY}} = \\frac{5}{5}\\widehat{\\beta}^c_1$"
      ]
    },
    {
      "cell_type": "markdown",
      "metadata": {
        "id": "tuj5RpZT4jDV"
      },
      "source": [
        "## 4.4-1\n",
        "$\\widehat{\\beta}^F_0 = \\bar{Y} - \\widehat{\\beta}^F_1 \\bar{X}_F = \\bar{Y} - \\frac{5}{9} \\widehat{\\beta}^c_1 (32 + \\frac{5}{9} \\bar{X}_c) = (\\bar{Y} - \\widehat{\\beta}^c_1 \\bar{X}_c) - \\frac{160}{9}\\widehat{\\beta}^c_1 = \\widehat{\\beta}^c_0 - \\frac{160}{9} \\widehat{\\beta}^c_1$"
      ]
    },
    {
      "cell_type": "markdown",
      "metadata": {
        "id": "AMty3XSL6U8c"
      },
      "source": [
        "## 4.4-3\n",
        "$R^2$ 不受單位影響, 故兩者相同。"
      ]
    },
    {
      "cell_type": "markdown",
      "metadata": {
        "id": "J32yxyh-6lpe"
      },
      "source": [
        "# **Excercise 4.9**\n",
        "1. A linear regression yields $\\widehat{\\beta}_1 = 0$. Show that $R^2 = 0$.\n",
        "2. A linear regression yields $R^2 = 0$. Does this imply that $\\widehat{\\beta}_1 = 0$?\n",
        "\n",
        "---\n"
      ]
    },
    {
      "cell_type": "markdown",
      "metadata": {
        "id": "_SqOTy7v_MdK"
      },
      "source": [
        "## 4.9-1\n",
        "$\\widehat{\\beta}_1 = \\frac{\\sum(X_i - \\bar{X})((XY_i - \\bar{Y}))}{\\sum(X_i - \\bar{X})^2}$, $R^2 = \\frac{\\sum(X_i - \\bar{X})^2}{\\sum(Y_i - \\bar{Y})^2}$\n",
        "\n",
        "$\\sum(Y_i - \\bar{Y})^2 = \\sum(\\widehat{\\beta}_0 + \\widehat{\\beta}_1 X_i - \\widehat{\\beta}_0 - \\widehat{\\beta}_1 \\bar{X})^2 = \\sum(\\widehat{\\beta}_0 - \\widehat{\\beta}_0) = 0$\n",
        "\n",
        "故 $R^2 = 0$"
      ]
    },
    {
      "cell_type": "markdown",
      "metadata": {
        "id": "GCL5Apqn_Uz9"
      },
      "source": [
        "## 4.9-2\n",
        "$\\sum(Y_i - \\bar{Y})^2 = \\sum(\\widehat{\\beta}_0 + \\widehat{\\beta}_1 X_i - \\widehat{\\beta}_0 - \\widehat{\\beta}_1 \\bar{X})^2$\n",
        "1. $\\sum(X_i - \\bar{X})^2 \\neq 0$, $R^2 = 0$, 則 $\\widehat{\\beta}_1 = 0$\n",
        "2. $\\sum(X_i - \\bar{X})^2 = 0$, $R^2 = 0$, $\\widehat{\\beta}_1$ 無法定義。"
      ]
    },
    {
      "cell_type": "markdown",
      "metadata": {
        "id": "n1Q6VyDDC2rk"
      },
      "source": [
        "# **Excercise 4.12**\n",
        "1. Show that the regression $R^2$ in the regression of $Y$ on $X$ is the squared value of the sample correlation between $X$ and $Y$. That is, show that $R^2=r_{XY}^2$.\n",
        "2. Show that the $R^2$ from the regression of $Y$ on $X$ is the same as the $R^2$ from the regression of $X$ on $Y$.\n",
        "3. Show that $\\widehat{\\beta}_1 = r_{XY}(S_Y/S_X)$, where $r_{XY}$ is the sample correlation between $X$ and $Y$ and $S_X$ and $S_Y$ are the sample standard deviations of $X$ and $Y$.\n",
        "\n",
        "---\n"
      ]
    },
    {
      "cell_type": "markdown",
      "metadata": {
        "id": "en5pWt_CehgE"
      },
      "source": [
        "## 4.12-1\n",
        "$R^2 = \\frac{\\sum(\\widehat{Y}_i - \\bar{Y})^2}{\\sum(Y_i - \\bar{Y})^2} = \\widehat{\\beta}^2_1 \\frac{\\sum(\\widehat{X}_i - \\bar{X})^2}{\\sum(Y_i - \\bar{Y})^2} = \\frac{\\left[\\sum(Y_i - \\bar{Y})(X_i - \\bar{X})\\right]^2}{\\sum(X_i - \\bar{X})^2 \\sum(Y_i - \\bar{Y})^2} = r_{XY}^2$"
      ]
    },
    {
      "cell_type": "markdown",
      "metadata": {
        "id": "fxawVVYzgMrA"
      },
      "source": [
        "## 4.12-2\n",
        "由 4.12-1 知 $R^2 =  \\frac{\\left[\\sum(Y_i - \\bar{Y})(X_i - \\bar{X})\\right]^2}{\\sum(X_i - \\bar{X})^2 \\sum(Y_i - \\bar{Y})^2}$, 故 $R^2_{Y|X} = R^2_{X|Y}$"
      ]
    },
    {
      "cell_type": "markdown",
      "metadata": {
        "id": "LQLN5vwwgXec"
      },
      "source": [
        "## 4.12-3\n",
        "由 4.12-1 知 $\\widehat{\\beta}_1^2 = \\frac{S_X^2}{S_Y^2} = r_{XY}^2$, 故 $\\widehat{\\beta}_1 = r_{XY} \\frac{S_X}{S_Y}$"
      ]
    },
    {
      "cell_type": "markdown",
      "metadata": {
        "id": "tQGx9wJqg0qR"
      },
      "source": [
        "# **Excercise 5.4**\n",
        "Read the box “The Economic Value of a Year of Education: Homoskedasticity or Heteroskedasticity?” in Section 5.4. Use the regression reported in Equation (5.23) to answer the following. \n",
        "1. A randomly selected 30-year-old worker reports an education level of 16 years. What is the worker’s expected average hourly earnings?\n",
        "2. A high school graduate (12 years of education) is contemplating going to a community college for a 2-year degree. How much are this worker’s average hourly earnings expected to increase?\n",
        "3. A high school counselor tells a student that, on average, college graduates earn $10 per hour more than high school graduates. Is this statement consistent with the regression evidence? What range of values is consistent with the regression evidence?\n",
        "---\n"
      ]
    },
    {
      "cell_type": "markdown",
      "metadata": {
        "id": "vXPufkJ3ho81"
      },
      "source": [
        "$\\widehat{Earnings} = -12.12 + 2.37 \\times Years\\_Education$"
      ]
    },
    {
      "cell_type": "markdown",
      "metadata": {
        "id": "q-H4pEwUh-VL"
      },
      "source": [
        "## 5.4-1\n",
        "$-12.12 + 2.37 \\times 16 = 25.8$"
      ]
    },
    {
      "cell_type": "markdown",
      "metadata": {
        "id": "Yzqh_ThhiF4O"
      },
      "source": [
        "## 5.4-2\n",
        "Expected to increase $2.37 \\times 2 = 4.74$"
      ]
    },
    {
      "cell_type": "markdown",
      "metadata": {
        "id": "ibQ-0035iMlp"
      },
      "source": [
        "## 5.4-3\n",
        "$\\left\\{ \\begin{array}{ll}\n",
        "H_0: \\beta = 2.5 \\times 4 \\\\\n",
        "H_1: \\beta \\neq 10\n",
        "\\end{array} \\right.$\n",
        "\n",
        "$t = \\frac{2.37 - 2.5}{0.1} = -1.3$, $pvalue = 0.1937$\n",
        "\n",
        "Not reject $H_0$ at $5\\%$ siginificant level.\n",
        "\n",
        "$95\\%$ confidence for $\\beta_1$:\n",
        "\n",
        "$\\left[ 2.37 \\times 4 \\pm 1.96 \\times 4 \\times 0.1 \\right]$\n",
        "\n",
        "$\\left[ 8.70, 10.26 \\right]$"
      ]
    },
    {
      "cell_type": "markdown",
      "metadata": {
        "id": "-C1nP7qmkyYN"
      },
      "source": [
        "# **Excercise 5.10**\n",
        "Let $X_i$ denote a binary variable, and consider the regression $Y_i = \\beta_0 + \\beta_1 X_i + u_i$. Let $Y_0$ denote the sample mean for observations with $X = 0$, and let $\\bar{Y}_1$ denote the sample mean for observations with $X = 0$. Show that\n",
        "$\\widehat{\\beta}_0 = \\bar{Y}_0$, $\\widehat{\\beta}_0 + \\widehat{\\beta}_1 = \\bar{Y}_1$, and $\\widehat{\\beta}_1 = \\bar{Y}_1 - \\bar{Y}_0$.\n",
        "\n",
        "---\n",
        "\n"
      ]
    },
    {
      "cell_type": "markdown",
      "metadata": {
        "id": "0ZHkeoUfohmq"
      },
      "source": [
        "$ \\bar{Y} = \\widehat{\\beta}_0 + \\widehat{\\beta}_1 \\bar{X} $\n",
        "\n",
        "When $\\bar{X} = \\bar{X}_0 = 0$, $\\bar{Y}_0 = \\widehat{\\beta}_0$\n",
        "\n",
        "When $\\bar{X} = \\bar{X}_0 = 1$, $\\bar{Y}_1 = \\widehat{\\beta}_0 + \\widehat{\\beta}_1$\n",
        "\n",
        "$ \\Rightarrow \\widehat{\\beta}_1 = \\bar{Y}_1 - \\widehat{\\beta}_0 = \\bar{Y}_1 - \\bar{Y}_0$"
      ]
    },
    {
      "cell_type": "markdown",
      "metadata": {
        "id": "UGBq2MWToxh7"
      },
      "source": [
        "# **Excercise 5.14**\n",
        "Suppose $Y_i = \\beta X_i + u_i$, where $(u_i, X_i)$ satisfy the Gauss–Markov conditions given in Equation (5.31).\n",
        "1. Derive the least squares estimator of $\\beta$, and show that it is a linear function of $Y_1,...,Y_n$.\n",
        "2. Show that the estimator is conditionally unbiased.\n",
        "3. Derive the conditional variance of the estimator.\n",
        "4. Prove that the estimator is BLUE.\n",
        "---\n",
        "\n"
      ]
    },
    {
      "cell_type": "markdown",
      "metadata": {
        "id": "kAFCZhYzNguz"
      },
      "source": [
        "## 5.14-1\n",
        "Min $\\sum_i^n (Y_i - \\widehat{\\beta}X_i)^2$\n",
        "\n",
        "F.O.C.\n",
        "\n",
        "$2\\sum_i^n(Y_i - \\widehat{\\beta}X_i)(-X_i) = 0$\n",
        "\n",
        "$\\widehat{\\beta}_{OLS} = \\frac{\\sum{X_iY_i}}{\\sum{X_i}^2} = \\sum{\\alpha_i Y_i}$, where $\\alpha_i$ is linear."
      ]
    },
    {
      "cell_type": "markdown",
      "metadata": {
        "id": "8_PSRv_dOlJp"
      },
      "source": [
        "## 5.14-2\n",
        "$E(\\beta|X_i,...,X_n)$\n",
        "\n",
        "$ = \\frac{\\sum{X_iE(\\beta X_i+u_i|X_i,...,X_n)}}{\\sum{X_i^2}}$\n",
        "\n",
        "$= \\beta + \\frac{\\sum{X_i E(u_i|X_i,...,X_n)}}{\\sum{X_i^2}}$, where $E(u_i|X_i,...,X_n) = 0$\n",
        "\n",
        "$= \\beta$"
      ]
    },
    {
      "cell_type": "markdown",
      "metadata": {
        "id": "UAMAFHfRPi1L"
      },
      "source": [
        "## 5.14-3\n",
        "$Var(\\beta|X_i,...,X_n)$\n",
        "\n",
        "$ = \\frac{\\sum{X_i^2 Var(u_i|X_i,...,X_n)}}{\\left[ \\sum{X_i^2} \\right]^2}$\n",
        "\n",
        "$= \\frac{\\sigma^2}{\\sum{X_i^2}}$"
      ]
    },
    {
      "cell_type": "markdown",
      "metadata": {
        "id": "91k5hjqvQIRW"
      },
      "source": [
        "## 5.14-4\n",
        "Min $Var(\\widehat{\\beta}|X_i,...,X_n)=\\sum{\\alpha_i^2}\\sigma^2$\n",
        "\n",
        "s.t. $\\sum{\\alpha_i X_i} = 1$\n",
        "\n",
        "F.O.C.\n",
        "- $2\\alpha_i \\sigma^2 = \\lambda X_i$\n",
        "- $\\sum{\\alpha_i X_i} = 1$\n",
        "\n",
        "得 $\\alpha_i^* = \\frac{X_i}{\\sum{X_i^2}}$, 知 $\\widehat{\\beta}_{OLS}為BLUE。$"
      ]
    },
    {
      "cell_type": "markdown",
      "metadata": {
        "id": "6rrGcBSDRReR"
      },
      "source": [
        "# **E4.1**\n",
        "On the text website, **http://www.pearsonglobaleditions.com**, you will find the\n",
        "data file **Growth**, which contains data on average growth rates from 1960\n",
        "through 1995 for 65 countries, along with variables that are potentially related\n",
        "to growth.1 A detailed description is given in **Growth_Description**, also available\n",
        "on the website. In this exercise, you will investigate the relationship\n",
        "between growth and trade.\n",
        "1. Construct a scatterplot of average annual growth rate ($Growth$) on the\n",
        "average trade share ($TradeShare$). Does there appear to be a relationship\n",
        "between the variables?\n",
        "2. One country, Malta, has a trade share much larger than the other countries.\n",
        "Find Malta on the scatterplot. Does Malta look like an outlier?\n",
        "3. Using all observations, run a regression of $Growth$ on $TradeShare$. What\n",
        "is the estimated slope? What is the estimated intercept? Use the regression\n",
        "to predict the growth rate for a country with a trade share of 0.5 and\n",
        "for another with a trade share equal to 1.0.\n",
        "4. Estimate the same regression, excluding the data from Malta. Answer\n",
        "the same questions in (c).\n",
        "5. Plot the estimated regression functions from (c) and (d). Using the scatterplot\n",
        "in (a), explain why the regression function that includes Malta is\n",
        "steeper than the regression function that excludes Malta.\n",
        "6. Where is Malta? Why is the Malta trade share so large? Should Malta be\n",
        "included or excluded from the analysis?\n",
        "---\n",
        "\n"
      ]
    },
    {
      "cell_type": "markdown",
      "metadata": {
        "id": "3EMmAniYV1cX"
      },
      "source": [
        "下載資料"
      ]
    },
    {
      "cell_type": "code",
      "metadata": {
        "id": "z-rJIGI-RoLA"
      },
      "source": [
        "!gdown --id '19BX1Ksfn7gCJsQ4vjMbzgz3jj4_sEWq3' --output growth.xlsx"
      ],
      "execution_count": null,
      "outputs": []
    },
    {
      "cell_type": "markdown",
      "metadata": {
        "id": "ZpzwjMtEV392"
      },
      "source": [
        "引入套件"
      ]
    },
    {
      "cell_type": "code",
      "metadata": {
        "id": "jK09f8Y2SS5j"
      },
      "source": [
        "import numpy as np\n",
        "import pandas as pd\n",
        "import statsmodels.formula.api as smf\n",
        "import matplotlib.pyplot as plt"
      ],
      "execution_count": null,
      "outputs": []
    },
    {
      "cell_type": "markdown",
      "metadata": {
        "id": "gqZUyvk2V9EF"
      },
      "source": [
        "載入資料"
      ]
    },
    {
      "cell_type": "code",
      "metadata": {
        "id": "5cGxLNwkSnLJ"
      },
      "source": [
        "growth = pd.read_excel('growth.xlsx')\n",
        "growth"
      ],
      "execution_count": null,
      "outputs": []
    },
    {
      "cell_type": "markdown",
      "metadata": {
        "id": "wM_GyUaVTStp"
      },
      "source": [
        "## E4.1-1"
      ]
    },
    {
      "cell_type": "code",
      "metadata": {
        "colab": {
          "base_uri": "https://localhost:8080/",
          "height": 302
        },
        "id": "vi8THUt8SzL3",
        "outputId": "16df8bd1-e921-4df1-e42a-e9f2d45aaa96"
      },
      "source": [
        "plt.scatter(growth['tradeshare'], growth['growth'], alpha=0.5)\n",
        "plt.xlabel('Tradeshare', size=16)\n",
        "plt.ylabel('Growth', size=16)\n",
        "plt.title('Scatter Plot', size=16)\n",
        "plt.show()"
      ],
      "execution_count": null,
      "outputs": [
        {
          "output_type": "display_data",
          "data": {
            "image/png": "[encoded data removed]",
            "text/plain": [
              "<Figure size 432x288 with 1 Axes>"
            ]
          },
          "metadata": {
            "tags": [],
            "needs_background": "light"
          }
        }
      ]
    },
    {
      "cell_type": "markdown",
      "metadata": {
        "id": "EKMn5lYz-3S_"
      },
      "source": [
        "兩者似乎正相關。"
      ]
    },
    {
      "cell_type": "markdown",
      "metadata": {
        "id": "AMomCnhtTjXm"
      },
      "source": [
        "## E4.1-2"
      ]
    },
    {
      "cell_type": "code",
      "metadata": {
        "colab": {
          "base_uri": "https://localhost:8080/",
          "height": 302
        },
        "id": "orK29lvOTOHf",
        "outputId": "8bceb606-58e6-416a-a17d-d3a0a62cc144"
      },
      "source": [
        "df_malta = growth.query('country_name == \"Malta\"')\n",
        "\n",
        "plt.scatter(growth['tradeshare'], growth['growth'], alpha=0.5)\n",
        "plt.xlabel('Tradeshare', size=16)\n",
        "plt.ylabel('Growth', size=16)\n",
        "plt.title('Scatter Plot', size=16)\n",
        "plt.scatter(df_malta.tradeshare, df_malta.growth, color=\"red\")\n",
        "plt.show()"
      ],
      "execution_count": null,
      "outputs": [
        {
          "output_type": "display_data",
          "data": {
            "image/png": "[encoded data removed]",
            "text/plain": [
              "<Figure size 432x288 with 1 Axes>"
            ]
          },
          "metadata": {
            "tags": [],
            "needs_background": "light"
          }
        }
      ]
    },
    {
      "cell_type": "markdown",
      "metadata": {
        "id": "gHlo8Cpu-87E"
      },
      "source": [
        "Malta看起來像是離群值。"
      ]
    },
    {
      "cell_type": "markdown",
      "metadata": {
        "id": "c_CtYplsT02u"
      },
      "source": [
        "## E4.1-3"
      ]
    },
    {
      "cell_type": "code",
      "metadata": {
        "colab": {
          "base_uri": "https://localhost:8080/"
        },
        "id": "IU8v8twuUDiz",
        "outputId": "062b975a-9ea3-4eff-8dd0-3d06f8c8f92e"
      },
      "source": [
        "reg_3 = smf.ols(formula='growth~tradeshare', data=growth)\n",
        "result_3 = reg_3.fit(cov_type='HC1')\n",
        "print(result_3.summary())"
      ],
      "execution_count": null,
      "outputs": [
        {
          "output_type": "stream",
          "text": [
            "                            OLS Regression Results                            \n",
            "==============================================================================\n",
            "Dep. Variable:                 growth   R-squared:                       0.124\n",
            "Model:                            OLS   Adj. R-squared:                  0.110\n",
            "Method:                 Least Squares   F-statistic:                     12.09\n",
            "Date:                Wed, 24 Mar 2021   Prob (F-statistic):           0.000924\n",
            "Time:                        16:14:19   Log-Likelihood:                -129.06\n",
            "No. Observations:                  65   AIC:                             262.1\n",
            "Df Residuals:                      63   BIC:                             266.5\n",
            "Df Model:                           1                                         \n",
            "Covariance Type:                  HC1                                         \n",
            "==============================================================================\n",
            "                 coef    std err          z      P>|z|      [0.025      0.975]\n",
            "------------------------------------------------------------------------------\n",
            "Intercept      0.6403      0.459      1.394      0.163      -0.260       1.540\n",
            "tradeshare     2.3064      0.663      3.477      0.001       1.006       3.606\n",
            "==============================================================================\n",
            "Omnibus:                        3.236   Durbin-Watson:                   2.180\n",
            "Prob(Omnibus):                  0.198   Jarque-Bera (JB):                2.934\n",
            "Skew:                           0.136   Prob(JB):                        0.231\n",
            "Kurtosis:                       4.005   Cond. No.                         4.67\n",
            "==============================================================================\n",
            "\n",
            "Warnings:\n",
            "[1] Standard Errors are heteroscedasticity robust (HC1)\n"
          ],
          "name": "stdout"
        }
      ]
    },
    {
      "cell_type": "markdown",
      "metadata": {
        "id": "-MtqGf0M_JBi"
      },
      "source": [
        "迴歸式: $ \\widehat{growth} = 0.6403 + 2.3064 X$\n",
        "\n",
        "$ \\widehat{growth|}_{(X=0.5)} = 0.6403 + 2.3064 \\times 0.5 = 1.7935$\n",
        "\n",
        "$ \\widehat{growth|}_{(X=1)} = 0.6403 + 2.3064 \\times 1 = 2.9467$"
      ]
    },
    {
      "cell_type": "markdown",
      "metadata": {
        "id": "-sbZq4MxUXHF"
      },
      "source": [
        "## E4.1-4"
      ]
    },
    {
      "cell_type": "code",
      "metadata": {
        "colab": {
          "base_uri": "https://localhost:8080/"
        },
        "id": "LdgqNmu1Uoj5",
        "outputId": "8a272195-583b-4cf7-fd73-84335657fa1b"
      },
      "source": [
        "growth_nMalta = growth.query('country_name != \"Malta\"')\n",
        "\n",
        "reg_4 = smf.ols(formula='growth~tradeshare', data=growth_nMalta)\n",
        "result_4 = reg_4.fit(cov_type='HC1')\n",
        "print(result_4.summary())"
      ],
      "execution_count": null,
      "outputs": [
        {
          "output_type": "stream",
          "text": [
            "                            OLS Regression Results                            \n",
            "==============================================================================\n",
            "Dep. Variable:                 growth   R-squared:                       0.045\n",
            "Model:                            OLS   Adj. R-squared:                  0.029\n",
            "Method:                 Least Squares   F-statistic:                     3.771\n",
            "Date:                Wed, 24 Mar 2021   Prob (F-statistic):             0.0567\n",
            "Time:                        16:14:19   Log-Likelihood:                -127.04\n",
            "No. Observations:                  64   AIC:                             258.1\n",
            "Df Residuals:                      62   BIC:                             262.4\n",
            "Df Model:                           1                                         \n",
            "Covariance Type:                  HC1                                         \n",
            "==============================================================================\n",
            "                 coef    std err          z      P>|z|      [0.025      0.975]\n",
            "------------------------------------------------------------------------------\n",
            "Intercept      0.9574      0.536      1.786      0.074      -0.093       2.008\n",
            "tradeshare     1.6809      0.866      1.942      0.052      -0.016       3.377\n",
            "==============================================================================\n",
            "Omnibus:                        3.727   Durbin-Watson:                   2.204\n",
            "Prob(Omnibus):                  0.155   Jarque-Bera (JB):                3.709\n",
            "Skew:                           0.146   Prob(JB):                        0.157\n",
            "Kurtosis:                       4.142   Cond. No.                         5.77\n",
            "==============================================================================\n",
            "\n",
            "Warnings:\n",
            "[1] Standard Errors are heteroscedasticity robust (HC1)\n"
          ],
          "name": "stdout"
        }
      ]
    },
    {
      "cell_type": "markdown",
      "metadata": {
        "id": "NE1o2zyRAbJj"
      },
      "source": [
        "迴歸式: $ \\widehat{growth} = 0.9574 + 1.6809 X$\n",
        "\n",
        "$ \\widehat{growth|}_{(X=0.5)} = 0.9574 + 1.6809 \\times 0.5 = 1.9785$\n",
        "\n",
        "$ \\widehat{growth|}_{(X=1)} = 0.9574 + 1.6809 \\times 1 = 2.6383$"
      ]
    },
    {
      "cell_type": "markdown",
      "metadata": {
        "id": "LoTWTaTNVDSA"
      },
      "source": [
        "## E4.1-5"
      ]
    },
    {
      "cell_type": "code",
      "metadata": {
        "colab": {
          "base_uri": "https://localhost:8080/",
          "height": 302
        },
        "id": "jS4XkmLFVWjQ",
        "outputId": "52158293-6835-4382-b294-e028e007649a"
      },
      "source": [
        "a3, b3 = result_3.params[0], result_3.params[1]\n",
        "a4, b4 = result_4.params[0], result_4.params[1]\n",
        "\n",
        "plt.scatter(growth['tradeshare'], growth['growth'], alpha=0.5, label='Country')\n",
        "plt.xlabel('Tradeshare', size=16)\n",
        "plt.ylabel('Growth', size=16)\n",
        "plt.title('Scatter Plot', size=16)\n",
        "plt.plot(growth['tradeshare'], a3 + b3 * growth['tradeshare'], color='r', label='Regression(With outlier)')\n",
        "plt.plot(growth['tradeshare'], a4 + b4 * growth['tradeshare'], color='b', label='Regression(Without outlier)')\n",
        "plt.legend(loc='lower right')\n",
        "plt.show()"
      ],
      "execution_count": null,
      "outputs": [
        {
          "output_type": "display_data",
          "data": {
            "image/png": "[encoded data removed]",
            "text/plain": [
              "<Figure size 432x288 with 1 Axes>"
            ]
          },
          "metadata": {
            "tags": [],
            "needs_background": "light"
          }
        }
      ]
    },
    {
      "cell_type": "markdown",
      "metadata": {
        "id": "tiseoCJqAs1N"
      },
      "source": [
        "因 Malta 的 $tradeshare$ 與 $growth$ 皆高於平均不少, 故含有此筆資料的迴歸式斜率較陡。"
      ]
    },
    {
      "cell_type": "markdown",
      "metadata": {
        "id": "_eP_2ecWBDm9"
      },
      "source": [
        "## E4.1-6"
      ]
    },
    {
      "cell_type": "markdown",
      "metadata": {
        "id": "FH8R6Lv7BIXV"
      },
      "source": [
        "馬爾他(Malta)是地中海的一個島國,\n",
        "\n",
        "其主要經濟活動是旅遊業及國際貿易,\n",
        "\n",
        "故其 $tradeshare$ 相當高。\n",
        "\n",
        "由於馬爾他經濟活動較不同,\n",
        "\n",
        "且其餘散佈圖中,為顯見的離群值,\n",
        "\n",
        "故分析時, 建議排除。"
      ]
    },
    {
      "cell_type": "markdown",
      "metadata": {
        "id": "eh3jC618kXf-"
      },
      "source": [
        "# **E5.1**\n",
        "Use the data set **Earnings_and_Height** described in Empirical Exercise 4.2 to\n",
        "carry out the following exercises.\n",
        "1. Run a regression of $Earnings on Height$.\n",
        " - Is the estimated slope statistically significant?\n",
        " - Construct a 95% confidence interval for the slope coefficient.\n",
        "2. Repeat (a) for women.\n",
        "3. Repeat (a) for men.\n",
        "4. Test the null hypothesis that the effect of height on earnings is the same\n",
        "for men and women. (Hint: See Exercise 5.15.)\n",
        "5. One explanation for the effect of height on earnings is that some professions require strength, which is correlated with height. Does the effect of height on earnings disappear when the sample is restricted to occupations in which strength is unlikely to be important?\n",
        "---\n",
        "\n"
      ]
    },
    {
      "cell_type": "markdown",
      "metadata": {
        "id": "AxvnEGLgtI4n"
      },
      "source": [
        "下載資料"
      ]
    },
    {
      "cell_type": "code",
      "metadata": {
        "id": "2xrPbIawquz-"
      },
      "source": [
        "!gdown --id '1GBxKw-PZTgwaVwb83wru6IiP0BKPTgHu' --output earnings_height.xlsx"
      ],
      "execution_count": null,
      "outputs": []
    },
    {
      "cell_type": "markdown",
      "metadata": {
        "id": "We5Nx7_LtLNn"
      },
      "source": [
        "載入資料"
      ]
    },
    {
      "cell_type": "code",
      "metadata": {
        "id": "70oZyHpYtkNm"
      },
      "source": [
        "earnings = pd.read_excel('earnings_height.xlsx')"
      ],
      "execution_count": null,
      "outputs": []
    },
    {
      "cell_type": "code",
      "metadata": {
        "id": "3fDQe1kDuMAD"
      },
      "source": [
        "earnings"
      ],
      "execution_count": null,
      "outputs": []
    },
    {
      "cell_type": "markdown",
      "metadata": {
        "id": "yjEDnfjmkcJS"
      },
      "source": [
        "## E5.1-1"
      ]
    },
    {
      "cell_type": "code",
      "metadata": {
        "colab": {
          "base_uri": "https://localhost:8080/"
        },
        "id": "O8IzRknst_Vo",
        "outputId": "984d0e92-c835-44d8-94ec-f88250fd9edc"
      },
      "source": [
        "reg_1 = smf.ols(formula='earnings~height', data=earning)\n",
        "result_1 = reg_1.fit(cov_type='HC1')\n",
        "print(result_1.summary())"
      ],
      "execution_count": null,
      "outputs": [
        {
          "output_type": "stream",
          "text": [
            "                            OLS Regression Results                            \n",
            "==============================================================================\n",
            "Dep. Variable:               earnings   R-squared:                       0.011\n",
            "Model:                            OLS   Adj. R-squared:                  0.011\n",
            "Method:                 Least Squares   F-statistic:                     197.2\n",
            "Date:                Wed, 24 Mar 2021   Prob (F-statistic):           1.48e-44\n",
            "Time:                        16:14:23   Log-Likelihood:            -2.0755e+05\n",
            "No. Observations:               17870   AIC:                         4.151e+05\n",
            "Df Residuals:                   17868   BIC:                         4.151e+05\n",
            "Df Model:                           1                                         \n",
            "Covariance Type:                  HC1                                         \n",
            "==============================================================================\n",
            "                 coef    std err          z      P>|z|      [0.025      0.975]\n",
            "------------------------------------------------------------------------------\n",
            "Intercept   -512.7336   3379.864     -0.152      0.879   -7137.145    6111.678\n",
            "height       707.6716     50.395     14.042      0.000     608.899     806.444\n",
            "==============================================================================\n",
            "Omnibus:                   346151.826   Durbin-Watson:                   1.683\n",
            "Prob(Omnibus):                  0.000   Jarque-Bera (JB):             1827.913\n",
            "Skew:                           0.397   Prob(JB):                         0.00\n",
            "Kurtosis:                       1.649   Cond. No.                     1.13e+03\n",
            "==============================================================================\n",
            "\n",
            "Warnings:\n",
            "[1] Standard Errors are heteroscedasticity robust (HC1)\n",
            "[2] The condition number is large, 1.13e+03. This might indicate that there are\n",
            "strong multicollinearity or other numerical problems.\n"
          ],
          "name": "stdout"
        }
      ]
    },
    {
      "cell_type": "markdown",
      "metadata": {
        "id": "RXeuc78sqSeC"
      },
      "source": [
        "## E5.1-2"
      ]
    },
    {
      "cell_type": "code",
      "metadata": {
        "colab": {
          "base_uri": "https://localhost:8080/"
        },
        "id": "SUIBPdLwuxf5",
        "outputId": "006021b8-cf38-41d8-d6c7-74ae8c3ecfff"
      },
      "source": [
        "women = earnings.query('sex == 0')\n",
        "reg_2 = smf.ols(formula='earnings~height', data=women)\n",
        "result_2 = reg_2.fit(cov_type='HC1')\n",
        "print(result_2.summary())"
      ],
      "execution_count": null,
      "outputs": [
        {
          "output_type": "stream",
          "text": [
            "                            OLS Regression Results                            \n",
            "==============================================================================\n",
            "Dep. Variable:               earnings   R-squared:                       0.003\n",
            "Model:                            OLS   Adj. R-squared:                  0.003\n",
            "Method:                 Least Squares   F-statistic:                     27.44\n",
            "Date:                Wed, 24 Mar 2021   Prob (F-statistic):           1.65e-07\n",
            "Time:                        16:14:23   Log-Likelihood:            -1.1585e+05\n",
            "No. Observations:                9974   AIC:                         2.317e+05\n",
            "Df Residuals:                    9972   BIC:                         2.317e+05\n",
            "Df Model:                           1                                         \n",
            "Covariance Type:                  HC1                                         \n",
            "==============================================================================\n",
            "                 coef    std err          z      P>|z|      [0.025      0.975]\n",
            "------------------------------------------------------------------------------\n",
            "Intercept   1.265e+04   6299.151      2.008      0.045     304.748     2.5e+04\n",
            "height       511.2222     97.585      5.239      0.000     319.960     702.484\n",
            "==============================================================================\n",
            "Omnibus:                    32985.324   Durbin-Watson:                   1.703\n",
            "Prob(Omnibus):                  0.000   Jarque-Bera (JB):             1046.226\n",
            "Skew:                           0.458   Prob(JB):                    6.53e-228\n",
            "Kurtosis:                       1.704   Cond. No.                     1.54e+03\n",
            "==============================================================================\n",
            "\n",
            "Warnings:\n",
            "[1] Standard Errors are heteroscedasticity robust (HC1)\n",
            "[2] The condition number is large, 1.54e+03. This might indicate that there are\n",
            "strong multicollinearity or other numerical problems.\n"
          ],
          "name": "stdout"
        }
      ]
    },
    {
      "cell_type": "markdown",
      "metadata": {
        "id": "BBEb5ZorqTun"
      },
      "source": [
        "## E5.1-3"
      ]
    },
    {
      "cell_type": "code",
      "metadata": {
        "colab": {
          "base_uri": "https://localhost:8080/"
        },
        "id": "MQNNuwbivrBI",
        "outputId": "33525179-1c33-4c5d-dd42-3ac9ebcfd639"
      },
      "source": [
        "men = earnings.query('sex == 1')\n",
        "reg_3 = smf.ols(formula='earnings~height', data=men)\n",
        "result_3 = reg_3.fit(cov_type='HC1')\n",
        "print(result_3.summary())"
      ],
      "execution_count": null,
      "outputs": [
        {
          "output_type": "stream",
          "text": [
            "                            OLS Regression Results                            \n",
            "==============================================================================\n",
            "Dep. Variable:               earnings   R-squared:                       0.021\n",
            "Model:                            OLS   Adj. R-squared:                  0.021\n",
            "Method:                 Least Squares   F-statistic:                     174.8\n",
            "Date:                Wed, 24 Mar 2021   Prob (F-statistic):           1.77e-39\n",
            "Time:                        16:14:23   Log-Likelihood:                -91674.\n",
            "No. Observations:                7896   AIC:                         1.834e+05\n",
            "Df Residuals:                    7894   BIC:                         1.834e+05\n",
            "Df Model:                           1                                         \n",
            "Covariance Type:                  HC1                                         \n",
            "==============================================================================\n",
            "                 coef    std err          z      P>|z|      [0.025      0.975]\n",
            "------------------------------------------------------------------------------\n",
            "Intercept  -4.313e+04   6925.011     -6.228      0.000   -5.67e+04   -2.96e+04\n",
            "height      1306.8599     98.857     13.220      0.000    1113.104    1500.616\n",
            "==============================================================================\n",
            "Omnibus:                    72396.208   Durbin-Watson:                   1.667\n",
            "Prob(Omnibus):                  0.000   Jarque-Bera (JB):              782.879\n",
            "Skew:                           0.317   Prob(JB):                    1.00e-170\n",
            "Kurtosis:                       1.594   Cond. No.                     1.65e+03\n",
            "==============================================================================\n",
            "\n",
            "Warnings:\n",
            "[1] Standard Errors are heteroscedasticity robust (HC1)\n",
            "[2] The condition number is large, 1.65e+03. This might indicate that there are\n",
            "strong multicollinearity or other numerical problems.\n"
          ],
          "name": "stdout"
        }
      ]
    },
    {
      "cell_type": "markdown",
      "metadata": {
        "id": "E4Id-ejUqXMl"
      },
      "source": [
        "## E5.1-4"
      ]
    },
    {
      "cell_type": "code",
      "metadata": {
        "id": "CTB-DcV3zmmR"
      },
      "source": [
        "b2, b3 = result_2.params[1], result_3.params[1]\n",
        "s2, s3 = result_2.bse[1], result_3.bse[1] \n",
        "\n",
        "t_statistics = (b2 - b3) / ((s2**2 + s3**2))**0.5"
      ],
      "execution_count": null,
      "outputs": []
    },
    {
      "cell_type": "markdown",
      "metadata": {
        "id": "HW_XWez5B0uj"
      },
      "source": [
        "檢定統計量: $-5.7278$\n",
        "\n",
        "$Pvalue = 0.0000 < 1%$\n",
        "\n",
        "故兩者統計上顯著差異。"
      ]
    },
    {
      "cell_type": "markdown",
      "metadata": {
        "id": "n0wS2deGqY8g"
      },
      "source": [
        "## E5.1-5"
      ]
    },
    {
      "cell_type": "code",
      "metadata": {
        "colab": {
          "base_uri": "https://localhost:8080/"
        },
        "id": "eA4a39rp2jar",
        "outputId": "466c89b0-061a-40bb-dbc1-f04712dc25df"
      },
      "source": [
        "occupation = earnings.query('occupation == 1')\n",
        "reg_5 = smf.ols(formula='earnings~height', data=occupation)\n",
        "result_5 = reg_5.fit(cov_type='HC1')\n",
        "print(result_5.summary())"
      ],
      "execution_count": null,
      "outputs": [
        {
          "output_type": "stream",
          "text": [
            "                            OLS Regression Results                            \n",
            "==============================================================================\n",
            "Dep. Variable:               earnings   R-squared:                       0.005\n",
            "Model:                            OLS   Adj. R-squared:                  0.004\n",
            "Method:                 Least Squares   F-statistic:                     9.409\n",
            "Date:                Wed, 24 Mar 2021   Prob (F-statistic):            0.00219\n",
            "Time:                        16:14:23   Log-Likelihood:                -22089.\n",
            "No. Observations:                1906   AIC:                         4.418e+04\n",
            "Df Residuals:                    1904   BIC:                         4.419e+04\n",
            "Df Model:                           1                                         \n",
            "Covariance Type:                  HC1                                         \n",
            "==============================================================================\n",
            "                 coef    std err          z      P>|z|      [0.025      0.975]\n",
            "------------------------------------------------------------------------------\n",
            "Intercept   2.757e+04   1.03e+04      2.678      0.007    7391.456    4.77e+04\n",
            "height       469.4581    153.048      3.067      0.002     169.489     769.427\n",
            "==============================================================================\n",
            "Omnibus:                    10002.914   Durbin-Watson:                   1.989\n",
            "Prob(Omnibus):                  0.000   Jarque-Bera (JB):              224.494\n",
            "Skew:                          -0.254   Prob(JB):                     1.79e-49\n",
            "Kurtosis:                       1.397   Cond. No.                     1.17e+03\n",
            "==============================================================================\n",
            "\n",
            "Warnings:\n",
            "[1] Standard Errors are heteroscedasticity robust (HC1)\n",
            "[2] The condition number is large, 1.17e+03. This might indicate that there are\n",
            "strong multicollinearity or other numerical problems.\n"
          ],
          "name": "stdout"
        }
      ]
    },
    {
      "cell_type": "markdown",
      "metadata": {
        "id": "pLGWdAYB2wzX"
      },
      "source": [
        "將樣本限縮於 $occipation = 1$ (Exec / Manager) 後，\n",
        "\n",
        "$Height$ 效果下降, 但仍顯著。"
      ]
    }
  ]
}